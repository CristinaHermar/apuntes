{
 "cells": [
  {
   "cell_type": "markdown",
   "id": "a7f019d0",
   "metadata": {},
   "source": [
    "### XML"
   ]
  },
  {
   "cell_type": "code",
   "execution_count": null,
   "id": "fa53d37f",
   "metadata": {},
   "outputs": [],
   "source": [
    "<breakfast_menu>\n",
    "    <food>\n",
    "        <name>Belgian Waffles</name>\n",
    "        <price>$5.95</price>\n",
    "        <description>Two of our famous Belgian Waffles with plenty of real maple syrup</description>\n",
    "        <calories>650</calories>\n",
    "    </food>\n",
    "    <food>\n",
    "        <name>Strawberry Belgian Waffles</name>\n",
    "        <price>$7.95</price>\n",
    "        <description>Light Belgian waffles covered with strawberries and whipped cream</description>\n",
    "        <calories>900</calories>\n",
    "    </food>\n",
    "    <food>\n",
    "    <name>Berry-Berry Belgian Waffles</name>\n",
    "    <price>$8.95</price>\n",
    "    <description>Light Belgian waffles covered with an assortment of fresh berries and whipped cream</description>\n",
    "    <calories>900</calories>\n",
    "    </food>\n",
    "<food>\n",
    "<name>French Toast</name>\n",
    "<price>$4.50</price>\n",
    "<description>Thick slices made from our homemade sourdough bread</description>\n",
    "<calories>600</calories>\n",
    "</food>\n",
    "<food>\n",
    "<name>Homestyle Breakfast</name>\n",
    "<price>$6.95</price>\n",
    "<description>Two eggs, bacon or sausage, toast, and our ever-popular hash browns</description>\n",
    "<calories>950</calories>\n",
    "</food>\n",
    "</breakfast_menu>"
   ]
  },
  {
   "cell_type": "code",
   "execution_count": 2,
   "id": "04a26df6",
   "metadata": {},
   "outputs": [],
   "source": [
    "import re\n",
    "import requests \n",
    "import xml.etree.ElementTree as ET\n",
    "\n",
    "import pandas as pd\n",
    "from bs4 import BeautifulSoup"
   ]
  },
  {
   "cell_type": "code",
   "execution_count": 4,
   "id": "a7107b56",
   "metadata": {},
   "outputs": [
    {
     "data": {
      "text/plain": [
       "200"
      ]
     },
     "execution_count": 4,
     "metadata": {},
     "output_type": "execute_result"
    }
   ],
   "source": [
    "resp = requests.get('https://www.inegi.org.mx/rss/noticias/xmlfeeds?p=2,1')\n",
    "resp.status_code"
   ]
  },
  {
   "cell_type": "code",
   "execution_count": 5,
   "id": "9e967c33",
   "metadata": {},
   "outputs": [
    {
     "name": "stdout",
     "output_type": "stream",
     "text": [
      "b'<rss version=\"2.0\" encoding=\"UTF-8\"><channel><description>Canal de noticias del INEGI</description><link>https://www.inegi.org.mx</link><title>INEGI Noticias</title><item><title>Resultados de la Encuesta Nacional de Ocupaci\\xc3\\xb3n y Empleo. Nueva Edici\\xc3\\xb3n (ENOEN). &lt;div class=\"notranslate\" style=\"display:inline-block;\"&gt;Aguascalientes&lt;/div&gt;</title><link>http://www.inegi.org.mx/app/saladeprensa/noticia.html?id=6532</link><description>El 57.8% de la poblaci\\xc3\\xb3n de 15 a\\xc3\\xb1os y m\\xc3\\xa1s en Aguascalientes se encontraba disponible para producir bienes o servicios...</description><pubDate>Mon, 17 May 2021 00:00:00 GMT</pubDate></item><item><title>Resultados de la Encuesta Nacional de Ocupaci\\xc3\\xb3n y Empleo. Nueva Edici\\xc3\\xb3n (ENOEN)</title><link>http://www.inegi.org.mx/app/saladeprensa/noticia.html?id=6530</link><description>La tasa de desocupaci\\xc3\\xb3n aument\\xc3\\xb3 0.9 puntos porcentuales al pasar de 3.4 a 4.4% a nivel nacional....</description><pubDate>Mon, 17 May 2021 00:00:00 GMT</pubDate></item><item><title>Resultados del Registro Administrativo de la Industria Automotriz de Veh\\xc3\\xadculos Pesados correspondientes a abril de 2021</title><link>http://www.inegi.org.mx/app/saladeprensa/noticia.html?id=6527</link><description>En el mercado nacional se vendieron 2 553 unidades al menudeo y 2 301 unidades al mayoreo....</description><pubDate>Thu, 13 May 2021 00:00:00 GMT</pubDate></item><item><title>Indicadores Trimestrales de la Actividad Tur\\xc3\\xadstica</title><link>http://www.inegi.org.mx/app/saladeprensa/noticia.html?id=6526</link><description>El Indicador Trimestral del PIB Tur\\xc3\\xadstico registr\\xc3\\xb3 un aumento de 7.7% y el del Consumo Tur\\xc3\\xadstico Interior de 10.1% en t\\xc3\\xa9rminos reales....</description><pubDate>Thu, 13 May 2021 00:00:00 GMT</pubDate></item><item><title>Indicador Mensual de la Actividad Industrial</title><link>http://www.inegi.org.mx/app/saladeprensa/noticia.html?id=6525</link><description>El INEGI informa que el Indicador Mensual de la Actividad Industrial (IMAI) se increment\\xc3\\xb3 0.7% en t\\xc3\\xa9rminos reales....</description><pubDate>Wed, 12 May 2021 00:00:00 GMT</pubDate></item><item><title>Indicador Mensual del Consumo Privado en el Mercado Interior</title><link>http://www.inegi.org.mx/app/saladeprensa/noticia.html?id=6524</link><description>El Indicador Mensual del Consumo Privado en el Mercado Interior (IMCPMI) registr\\xc3\\xb3 una disminuci\\xc3\\xb3n en t\\xc3\\xa9rminos reales de 0.2%...</description><pubDate>Tue, 11 May 2021 00:00:00 GMT</pubDate></item><item><title>Indicador Mensual de la Inversi\\xc3\\xb3n Fija Bruta en M\\xc3\\xa9xico</title><link>http://www.inegi.org.mx/app/saladeprensa/noticia.html?id=6523</link><description>La Inversi\\xc3\\xb3n Fija Bruta registr\\xc3\\xb3 un incremento en t\\xc3\\xa9rminos reales de 2.4%....</description><pubDate>Tue, 11 May 2021 00:00:00 GMT</pubDate></item><item><title>Encuestas de Viajeros Internacionales</title><link>http://www.inegi.org.mx/app/saladeprensa/noticia.html?id=6522</link><description>Durante marzo de 2021 ingresaron al pa\\xc3\\xads 4,208,691 visitantes, de los cuales 2,284,080 fueron turistas internacionales....</description><pubDate>Mon, 10 May 2021 00:00:00 GMT</pubDate></item><item><title>Reporte del registro de la industria automotriz de veh\\xc3\\xadculos ligeros</title><link>http://www.inegi.org.mx/app/saladeprensa/noticia.html?id=6520</link><description>En el mercado nacional se vendieron 83 611 veh\\xc3\\xadculos ligeros durante abril....</description><pubDate>Fri, 07 May 2021 00:00:00 GMT</pubDate></item><item><title>Indicador de Confianza del Consumidor</title><link>http://www.inegi.org.mx/app/saladeprensa/noticia.html?id=6519</link><description>El Indicador de Confianza del Consumidor mostr\\xc3\\xb3 en abril de 2021 un aumento mensual de 1.6 puntos....</description><pubDate>Fri, 07 May 2021 00:00:00 GMT</pubDate></item><item><title>\\xc3\\x8dndice Nacional de Precios al Consumidor</title><link>http://www.inegi.org.mx/app/saladeprensa/noticia.html?id=6518</link><description>El \\xc3\\x8dndice Nacional de Precios al Consumidor (INPC) present\\xc3\\xb3 una inflaci\\xc3\\xb3n de 0.33 por ciento respecto al mes inmediato anterior....</description><pubDate>Fri, 07 May 2021 00:00:00 GMT</pubDate></item><item><title>\\xc3\\x8dndice Nacional de Precios Productor</title><link>http://www.inegi.org.mx/app/saladeprensa/noticia.html?id=6517</link><description>El \\xc3\\x8dndice Nacional de Precios Productor (INPP) Total, incluyendo petr\\xc3\\xb3leo, registr\\xc3\\xb3 un incremento de 0.22% frente al mes precedente....</description><pubDate>Fri, 07 May 2021 00:00:00 GMT</pubDate></item><item><title>Avance de resultados del Registro Administrativo de la Industria Automotriz de Veh\\xc3\\xadculos Ligeros (abril de 2021)</title><link>http://www.inegi.org.mx/app/saladeprensa/noticia.html?id=6485</link><description>En abril se vendieron al p\\xc3\\xbablico en el mercado interno 83 612 unidades....</description><pubDate>Tue, 04 May 2021 00:00:00 GMT</pubDate></item><item><title>Sistema de Indicadores C\\xc3\\xadclicos</title><link>http://www.inegi.org.mx/app/saladeprensa/noticia.html?id=6484</link><description>El Indicador Coincidente se localiz\\xc3\\xb3 por debajo de su tendencia de largo plazo al reportar un valor de 98.1 puntos....</description><pubDate>Tue, 04 May 2021 00:00:00 GMT</pubDate></item><item><title>Indicador de Pedidos Manufactureros</title><link>http://www.inegi.org.mx/app/saladeprensa/noticia.html?id=6483</link><description>En abril de 2021, el IPM se ubic\\xc3\\xb3 en 51.1 puntos, al registrar una disminuci\\xc3\\xb3n mensual de 1.07 puntos....</description><pubDate>Mon, 03 May 2021 00:00:00 GMT</pubDate></item><item><title>Indicadores de Confianza Empresarial</title><link>http://www.inegi.org.mx/app/saladeprensa/noticia.html?id=6482</link><description>A nivel de sector, el Indicador de Confianza Empresarial de las Manufacturas registr\\xc3\\xb3 un alza de 3 puntos....</description><pubDate>Mon, 03 May 2021 00:00:00 GMT</pubDate></item><item><title>Indicadores Agregados de Tendencia y Expectativas Empresariales</title><link>http://www.inegi.org.mx/app/saladeprensa/noticia.html?id=6481</link><description>El Indicador Agregado de Tendencia del sector Manufacturero se ubic\\xc3\\xb3 en 51.3 puntos....</description><pubDate>Mon, 03 May 2021 00:00:00 GMT</pubDate></item><item><title>Estimaci\\xc3\\xb3n Oportuna del Producto Interno Bruto en M\\xc3\\xa9xico</title><link>http://www.inegi.org.mx/app/saladeprensa/noticia.html?id=6480</link><description>El INEGI presenta los resultados de la Estimaci\\xc3\\xb3n Oportuna del Producto Interno Bruto PIB Trimestral, los cuales se\\xc3\\xb1alan que \\xc3\\xa9ste aument\\xc3\\xb3 0.4%....</description><pubDate>Fri, 30 Apr 2021 00:00:00 GMT</pubDate></item><item><title>Indicador Trimestral de la Actividad Econ\\xc3\\xb3mica Estatal. &lt;div class=\"notranslate\" style=\"display:inline-block;\"&gt;Baja California&lt;/div&gt;</title><link>http://www.inegi.org.mx/app/saladeprensa/noticia.html?id=6516</link><description>Para el cuarto trimestre de 2020, Baja California present\\xc3\\xb3 una variaci\\xc3\\xb3n anual en el total de su econom\\xc3\\xada de 3.7 por ciento....</description><pubDate>Thu, 29 Apr 2021 00:00:00 GMT</pubDate></item><item><title>Indicador Trimestral de la Actividad Econ\\xc3\\xb3mica Estatal. &lt;div class=\"notranslate\" style=\"display:inline-block;\"&gt;Baja California Sur&lt;/div&gt;</title><link>http://www.inegi.org.mx/app/saladeprensa/noticia.html?id=6515</link><description>Para el cuarto trimestre de 2020, Baja California Sur present\\xc3\\xb3 una variaci\\xc3\\xb3n anual en el total de su econom\\xc3\\xada de (-)15.3 por ciento....</description><pubDate>Thu, 29 Apr 2021 00:00:00 GMT</pubDate></item><item><title>Indicador Trimestral de la Actividad Econ\\xc3\\xb3mica Estatal. &lt;div class=\"notranslate\" style=\"display:inline-block;\"&gt;Campeche&lt;/div&gt;</title><link>http://www.inegi.org.mx/app/saladeprensa/noticia.html?id=6514</link><description>Para el cuarto trimestre de 2020, Campeche tuvo una variaci\\xc3\\xb3n anual de (-)7.4 por ciento....</description><pubDate>Thu, 29 Apr 2021 00:00:00 GMT</pubDate></item><item><title>Indicador Trimestral de la Actividad Econ\\xc3\\xb3mica Estatal. &lt;div class=\"notranslate\" style=\"display:inline-block;\"&gt;Ciudad de M\\xc3\\xa9xico&lt;/div&gt;</title><link>http://www.inegi.org.mx/app/saladeprensa/noticia.html?id=6513</link><description>As\\xc3\\xad, en el cuarto trimestre de 2020, la Ciudad de M\\xc3\\xa9xico present\\xc3\\xb3 un movimiento anual en el total de su econom\\xc3\\xada de (-)8.6 por ciento....</description><pubDate>Thu, 29 Apr 2021 00:00:00 GMT</pubDate></item><item><title>Indicador Trimestral de la Actividad Econ\\xc3\\xb3mica Estatal. &lt;div class=\"notranslate\" style=\"display:inline-block;\"&gt;Chihuahua&lt;/div&gt;</title><link>http://www.inegi.org.mx/app/saladeprensa/noticia.html?id=6512</link><description>Para el cuarto trimestre de 2020, Chihuahua present\\xc3\\xb3 una variaci\\xc3\\xb3n anual en el total de su econom\\xc3\\xada de (-)2 por ciento....</description><pubDate>Thu, 29 Apr 2021 00:00:00 GMT</pubDate></item><item><title>Indicador Trimestral de la Actividad Econ\\xc3\\xb3mica Estatal. &lt;div class=\"notranslate\" style=\"display:inline-block;\"&gt;Chiapas&lt;/div&gt;</title><link>http://www.inegi.org.mx/app/saladeprensa/noticia.html?id=6511</link><description>Para el cuarto trimestre de 2020, Chiapas present\\xc3\\xb3 una variaci\\xc3\\xb3n anual en el total de su econom\\xc3\\xada de (-)1.4 por ciento....</description><pubDate>Thu, 29 Apr 2021 00:00:00 GMT</pubDate></item><item><title>Indicador Trimestral de la Actividad Econ\\xc3\\xb3mica Estatal. &lt;div class=\"notranslate\" style=\"display:inline-block;\"&gt;Coahuila de Zaragoza&lt;/div&gt;</title><link>http://www.inegi.org.mx/app/saladeprensa/noticia.html?id=6510</link><description>Para el cuarto trimestre de 2020, Coahuila de Zaragoza present\\xc3\\xb3 una variaci\\xc3\\xb3n anual en el total de su econom\\xc3\\xada de (-)2.4 por ciento....</description><pubDate>Thu, 29 Apr 2021 00:00:00 GMT</pubDate></item><item><title>Indicador Trimestral de la Actividad Econ\\xc3\\xb3mica Estatal. &lt;div class=\"notranslate\" style=\"display:inline-block;\"&gt;Durango&lt;/div&gt;</title><link>http://www.inegi.org.mx/app/saladeprensa/noticia.html?id=6508</link><description>Para el cuarto trimestre de 2020, Durango present\\xc3\\xb3 una variaci\\xc3\\xb3n anual en el total de su econom\\xc3\\xada de (-)1.4 por ciento....</description><pubDate>Thu, 29 Apr 2021 00:00:00 GMT</pubDate></item><item><title>Indicador Trimestral de la Actividad Econ\\xc3\\xb3mica Estatal. &lt;div class=\"notranslate\" style=\"display:inline-block;\"&gt;M\\xc3\\xa9xico&lt;/div&gt;</title><link>http://www.inegi.org.mx/app/saladeprensa/noticia.html?id=6507</link><description>Para el cuarto trimestre de 2020, M\\xc3\\xa9xico present\\xc3\\xb3 un movimiento anual en el total de su econom\\xc3\\xada de (-)3 por ciento....</description><pubDate>Thu, 29 Apr 2021 00:00:00 GMT</pubDate></item><item><title>Indicador Trimestral de la Actividad Econ\\xc3\\xb3mica Estatal. &lt;div class=\"notranslate\" style=\"display:inline-block;\"&gt;Guerrero&lt;/div&gt;</title><link>http://www.inegi.org.mx/app/saladeprensa/noticia.html?id=6506</link><description>Para el cuarto trimestre de 2020, Guerrero present\\xc3\\xb3 una variaci\\xc3\\xb3n anual en el total de su econom\\xc3\\xada de (-)2.2 por ciento....</description><pubDate>Thu, 29 Apr 2021 00:00:00 GMT</pubDate></item><item><title>Indicador Trimestral de la Actividad Econ\\xc3\\xb3mica Estatal. &lt;div class=\"notranslate\" style=\"display:inline-block;\"&gt;Guanajuato&lt;/div&gt;</title><link>http://www.inegi.org.mx/app/saladeprensa/noticia.html?id=6505</link><description>Para el cuarto trimestre de 2020, Guanajuato present\\xc3\\xb3 un movimiento anual en el total de su econom\\xc3\\xada de (-)1.2 por ciento....</description><pubDate>Thu, 29 Apr 2021 00:00:00 GMT</pubDate></item><item><title>Indicador Trimestral de la Actividad Econ\\xc3\\xb3mica Estatal. &lt;div class=\"notranslate\" style=\"display:inline-block;\"&gt;Hidalgo&lt;/div&gt;</title><link>http://www.inegi.org.mx/app/saladeprensa/noticia.html?id=6504</link><description>Para el cuarto trimestre de 2020, Hidalgo present\\xc3\\xb3 una variaci\\xc3\\xb3n anual en el total de su econom\\xc3\\xada de (-)6.2 por ciento....</description><pubDate>Thu, 29 Apr 2021 00:00:00 GMT</pubDate></item><item><title>Indicador Trimestral de la Actividad Econ\\xc3\\xb3mica Estatal. &lt;div class=\"notranslate\" style=\"display:inline-block;\"&gt;Jalisco&lt;/div&gt;</title><link>http://www.inegi.org.mx/app/saladeprensa/noticia.html?id=6503</link><description>Para el cuarto trimestre de 2020, Jalisco present\\xc3\\xb3 una variaci\\xc3\\xb3n anual en el total de su econom\\xc3\\xada de   (-)2.1 por ciento....</description><pubDate>Thu, 29 Apr 2021 00:00:00 GMT</pubDate></item><item><title>Indicador Trimestral de la Actividad Econ\\xc3\\xb3mica Estatal. &lt;div class=\"notranslate\" style=\"display:inline-block;\"&gt;Michoac\\xc3\\xa1n de Ocampo&lt;/div&gt;</title><link>http://www.inegi.org.mx/app/saladeprensa/noticia.html?id=6502</link><description>Para el cuarto trimestre de 2020, Michoac\\xc3\\xa1n de Ocampo present\\xc3\\xb3 una variaci\\xc3\\xb3n anual en el total de su econom\\xc3\\xada de (-)4.3 por ciento....</description><pubDate>Thu, 29 Apr 2021 00:00:00 GMT</pubDate></item><item><title>Indicador Trimestral de la Actividad Econ\\xc3\\xb3mica Estatal. &lt;div class=\"notranslate\" style=\"display:inline-block;\"&gt;Morelos&lt;/div&gt;</title><link>http://www.inegi.org.mx/app/saladeprensa/noticia.html?id=6501</link><description>Para el cuarto trimestre de 2020, Morelos present\\xc3\\xb3 una variaci\\xc3\\xb3n anual en el total de su econom\\xc3\\xada de (-)7.1 por ciento....</description><pubDate>Thu, 29 Apr 2021 00:00:00 GMT</pubDate></item><item><title>Indicador Trimestral de la Actividad Econ\\xc3\\xb3mica Estatal. &lt;div class=\"notranslate\" style=\"display:inline-block;\"&gt;Nayarit&lt;/div&gt;</title><link>http://www.inegi.org.mx/app/saladeprensa/noticia.html?id=6500</link><description>Para el cuarto trimestre de 2020, Nayarit present\\xc3\\xb3 una variaci\\xc3\\xb3n anual en el total de su econom\\xc3\\xada de   (-)5.7 por ciento....</description><pubDate>Thu, 29 Apr 2021 00:00:00 GMT</pubDate></item><item><title>Indicador Trimestral de la Actividad Econ\\xc3\\xb3mica Estatal. &lt;div class=\"notranslate\" style=\"display:inline-block;\"&gt;Nuevo Le\\xc3\\xb3n&lt;/div&gt;</title><link>http://www.inegi.org.mx/app/saladeprensa/noticia.html?id=6499</link><description>Para el cuarto trimestre de 2020, Nuevo Le\\xc3\\xb3n present\\xc3\\xb3 una variaci\\xc3\\xb3n anual en el total de su econom\\xc3\\xada de (-)1.4 por ciento....</description><pubDate>Thu, 29 Apr 2021 00:00:00 GMT</pubDate></item><item><title>Indicador Trimestral de la Actividad Econ\\xc3\\xb3mica Estatal. &lt;div class=\"notranslate\" style=\"display:inline-block;\"&gt;Oaxaca&lt;/div&gt;</title><link>http://www.inegi.org.mx/app/saladeprensa/noticia.html?id=6498</link><description>Para el cuarto trimestre de 2020, Oaxaca present\\xc3\\xb3 una variaci\\xc3\\xb3n anual en el total de su econom\\xc3\\xada de 4.6 por ciento....</description><pubDate>Thu, 29 Apr 2021 00:00:00 GMT</pubDate></item><item><title>Indicador Trimestral de la Actividad Econ\\xc3\\xb3mica Estatal. &lt;div class=\"notranslate\" style=\"display:inline-block;\"&gt;Puebla&lt;/div&gt;</title><link>http://www.inegi.org.mx/app/saladeprensa/noticia.html?id=6497</link><description>Para el cuarto trimestre de 2020, Puebla present\\xc3\\xb3 una variaci\\xc3\\xb3n anual en el total de su econom\\xc3\\xada de      (-)4.8 por ciento....</description><pubDate>Thu, 29 Apr 2021 00:00:00 GMT</pubDate></item><item><title>Indicador Trimestral de la Actividad Econ\\xc3\\xb3mica Estatal. &lt;div class=\"notranslate\" style=\"display:inline-block;\"&gt;Quer\\xc3\\xa9taro&lt;/div&gt;</title><link>http://www.inegi.org.mx/app/saladeprensa/noticia.html?id=6496</link><description>Para el cuarto trimestre de 2020, Quer\\xc3\\xa9taro present\\xc3\\xb3 una variaci\\xc3\\xb3n anual en el total de su econom\\xc3\\xada de (-)2.5 por ciento....</description><pubDate>Thu, 29 Apr 2021 00:00:00 GMT</pubDate></item><item><title>Indicador Trimestral de la Actividad Econ\\xc3\\xb3mica Estatal. &lt;div class=\"notranslate\" style=\"display:inline-block;\"&gt;Quintana Roo&lt;/div&gt;</title><link>http://www.inegi.org.mx/app/saladeprensa/noticia.html?id=6495</link><description>Para el cuarto trimestre de 2020, Quintana Roo present\\xc3\\xb3 una variaci\\xc3\\xb3n anual en el total de su econom\\xc3\\xada de (-)20 por ciento....</description><pubDate>Thu, 29 Apr 2021 00:00:00 GMT</pubDate></item><item><title>Indicador Trimestral de la Actividad Econ\\xc3\\xb3mica Estatal. &lt;div class=\"notranslate\" style=\"display:inline-block;\"&gt;Sinaloa&lt;/div&gt;</title><link>http://www.inegi.org.mx/app/saladeprensa/noticia.html?id=6494</link><description>Para el cuarto trimestre de 2020, Sinaloa present\\xc3\\xb3 un movimiento anual en el total de su econom\\xc3\\xada de (-)3.4 por ciento....</description><pubDate>Thu, 29 Apr 2021 00:00:00 GMT</pubDate></item><item><title>Indicador Trimestral de la Actividad Econ\\xc3\\xb3mica Estatal. &lt;div class=\"notranslate\" style=\"display:inline-block;\"&gt;Sonora&lt;/div&gt;</title><link>http://www.inegi.org.mx/app/saladeprensa/noticia.html?id=6492</link><description>Para el cuarto trimestre de 2020, Sonora mostr\\xc3\\xb3 una variaci\\xc3\\xb3n a tasa anual en el total de su econom\\xc3\\xada de (-)1.1 por ciento....</description><pubDate>Thu, 29 Apr 2021 00:00:00 GMT</pubDate></item><item><title>Indicador Trimestral de la Actividad Econ\\xc3\\xb3mica Estatal. &lt;div class=\"notranslate\" style=\"display:inline-block;\"&gt;Tabasco&lt;/div&gt;</title><link>http://www.inegi.org.mx/app/saladeprensa/noticia.html?id=6491</link><description>Para el cuarto trimestre de 2020, Tabasco present\\xc3\\xb3 una variaci\\xc3\\xb3n anual en el total de su econom\\xc3\\xada de         1.8 por ciento....</description><pubDate>Thu, 29 Apr 2021 00:00:00 GMT</pubDate></item><item><title>Indicador Trimestral de la Actividad Econ\\xc3\\xb3mica Estatal. &lt;div class=\"notranslate\" style=\"display:inline-block;\"&gt;Tlaxcala&lt;/div&gt;</title><link>http://www.inegi.org.mx/app/saladeprensa/noticia.html?id=6490</link><description>Para el cuarto trimestre de 2020, Tlaxcala present\\xc3\\xb3 una variaci\\xc3\\xb3n anual en el total de su econom\\xc3\\xada de (-)7.4 por ciento....</description><pubDate>Thu, 29 Apr 2021 00:00:00 GMT</pubDate></item><item><title>Indicador Trimestral de la Actividad Econ\\xc3\\xb3mica Estatal. &lt;div class=\"notranslate\" style=\"display:inline-block;\"&gt;Tamaulipas&lt;/div&gt;</title><link>http://www.inegi.org.mx/app/saladeprensa/noticia.html?id=6489</link><description>Para el cuarto trimestre de 2020, Tamaulipas present\\xc3\\xb3 una variaci\\xc3\\xb3n anual en el total de su econom\\xc3\\xada de (-)6 por ciento....</description><pubDate>Thu, 29 Apr 2021 00:00:00 GMT</pubDate></item><item><title>Indicador Trimestral de la Actividad Econ\\xc3\\xb3mica Estatal. &lt;div class=\"notranslate\" style=\"display:inline-block;\"&gt;Veracruz de Ignacio de la Llave&lt;/div&gt;</title><link>http://www.inegi.org.mx/app/saladeprensa/noticia.html?id=6488</link><description>Para el cuarto trimestre de 2020, Veracruz de Ignacio de la Llave present\\xc3\\xb3 una variaci\\xc3\\xb3n anual en el total de su econom\\xc3\\xada de (-)6.3 por ciento....</description><pubDate>Thu, 29 Apr 2021 00:00:00 GMT</pubDate></item><item><title>Indicador Trimestral de la Actividad Econ\\xc3\\xb3mica Estatal. &lt;div class=\"notranslate\" style=\"display:inline-block;\"&gt;Yucat\\xc3\\xa1n&lt;/div&gt;</title><link>http://www.inegi.org.mx/app/saladeprensa/noticia.html?id=6487</link><description>Para el cuarto trimestre de 2020, Yucat\\xc3\\xa1n present\\xc3\\xb3 una variaci\\xc3\\xb3n anual en el total de su econom\\xc3\\xada de            (-)4.9 por ciento....</description><pubDate>Thu, 29 Apr 2021 00:00:00 GMT</pubDate></item><item><title>Indicador Trimestral de la Actividad Econ\\xc3\\xb3mica Estatal. &lt;div class=\"notranslate\" style=\"display:inline-block;\"&gt;Zacatecas&lt;/div&gt;</title><link>http://www.inegi.org.mx/app/saladeprensa/noticia.html?id=6486</link><description>En el cuarto trimestre de 2020 la variaci\\xc3\\xb3n anual del total de la econom\\xc3\\xada para el estado de Zacatecas fue de 1.9 por ciento....</description><pubDate>Thu, 29 Apr 2021 00:00:00 GMT</pubDate></item><item><title>Indicador Trimestral de la Actividad Econ\\xc3\\xb3mica Estatal. &lt;div class=\"notranslate\" style=\"display:inline-block;\"&gt;Aguascalientes&lt;/div&gt;</title><link>http://www.inegi.org.mx/app/saladeprensa/noticia.html?id=6477</link><description>En el cuarto trimestre de 2020, Aguascalientes present\\xc3\\xb3 un movimiento anual en el total de su econom\\xc3\\xada de 0.7 por ciento...</description><pubDate>Thu, 29 Apr 2021 00:00:00 GMT</pubDate></item><item><title>Indicador Trimestral de la Actividad Econ\\xc3\\xb3mica Estatal</title><link>http://www.inegi.org.mx/app/saladeprensa/noticia.html?id=6475</link><description>Durante el cuarto trimestre del a\\xc3\\xb1o pasado, pr\\xc3\\xa1cticamente todas las entidades federativas mostraron aumentos con cifras desestacionalizadas....</description><pubDate>Thu, 29 Apr 2021 00:00:00 GMT</pubDate></item><item><title>\\xc3\\x8dndices Globales de Personal y Remuneraciones de los Sectores Econ\\xc3\\xb3micos</title><link>http://www.inegi.org.mx/app/saladeprensa/noticia.html?id=6474</link><description>El IGPOSE registr\\xc3\\xb3 un nivel de 105.9 puntos con un incremento de 0.2% respecto al mes previo....</description><pubDate>Thu, 29 Apr 2021 00:00:00 GMT</pubDate></item><item><title>Informaci\\xc3\\xb3n oportuna sobre la Balanza Comercial de Mercanc\\xc3\\xadas de M\\xc3\\xa9xico</title><link>http://www.inegi.org.mx/app/saladeprensa/noticia.html?id=6472</link><description>La informaci\\xc3\\xb3n oportuna de comercio exterior de marzo de 2021 indica que se registr\\xc3\\xb3 un d\\xc3\\xa9ficit comercial de 3,004 millones de d\\xc3\\xb3lares....</description><pubDate>Tue, 27 Apr 2021 00:00:00 GMT</pubDate></item><item><title>El INEGI presenta resultados de la Desagregaci\\xc3\\xb3n Sectorial del Indicador Oportuno de la Actividad Econ\\xc3\\xb3mica</title><link>http://www.inegi.org.mx/app/saladeprensa/noticia.html?id=6471</link><description>Por primera vez, el INEGI presenta resultados de la Desagregaci\\xc3\\xb3n Sectorial del Indicador Oportuno de la Actividad Econ\\xc3\\xb3mica...</description><pubDate>Mon, 26 Apr 2021 00:00:00 GMT</pubDate></item><item><title>Por primera vez, el INEGI publica Matrices de Contabilidad Social de M\\xc3\\xa9xico</title><link>http://www.inegi.org.mx/app/saladeprensa/noticia.html?id=6470</link><description>La serie de Matrices de Contabilidad Social de M\\xc3\\xa9xico est\\xc3\\xa1n disponibles de 2012 a 2018...</description><pubDate>Mon, 26 Apr 2021 00:00:00 GMT</pubDate></item><item><title>Indicadores de Empresas Constructoras</title><link>http://www.inegi.org.mx/app/saladeprensa/noticia.html?id=6469</link><description>El valor de la producci\\xc3\\xb3n generado por las empresas constructoras creci\\xc3\\xb3 0.5% en t\\xc3\\xa9rminos reales....</description><pubDate>Mon, 26 Apr 2021 00:00:00 GMT</pubDate></item><item><title>Indicador Global de la Actividad Econ\\xc3\\xb3mica</title><link>http://www.inegi.org.mx/app/saladeprensa/noticia.html?id=6468</link><description>El Indicador Global de la Actividad Econ\\xc3\\xb3mica (IGAE) mostr\\xc3\\xb3 una disminuci\\xc3\\xb3n de 0.3% en t\\xc3\\xa9rminos reales....</description><pubDate>Mon, 26 Apr 2021 00:00:00 GMT</pubDate></item><item><title>Indicadores del Sector Servicios</title><link>http://www.inegi.org.mx/app/saladeprensa/noticia.html?id=6467</link><description>Los Ingresos Totales reales por Suministro de Bienes y Servicios de los Servicios Privados no Financieros aumentaron 2.6%....</description><pubDate>Fri, 23 Apr 2021 00:00:00 GMT</pubDate></item><item><title>Indicadores de Empresas Comerciales</title><link>http://www.inegi.org.mx/app/saladeprensa/noticia.html?id=6466</link><description>En las Empresas Comerciales al por Mayor los Ingresos reales por suministro de bienes y servicios aumentaron 1.3%....</description><pubDate>Fri, 23 Apr 2021 00:00:00 GMT</pubDate></item><item><title>La lectura en formato digital de libros, revistas y peri\\xc3\\xb3dicos registra los incrementos m\\xc3\\xa1s altos desde 2016: MOLEC 2021</title><link>http://www.inegi.org.mx/app/saladeprensa/noticia.html?id=6464</link><description>Entre 2016 y 2021, el porcentaje de poblaci\\xc3\\xb3n lectora de libros en formato digital pas\\xc3\\xb3 de 6.8 a 21.5%....</description><pubDate>Thu, 22 Apr 2021 00:00:00 GMT</pubDate></item><item><title>Resultados de la Encuesta Nacional de Ocupaci\\xc3\\xb3n y Empleo (Nueva Edici\\xc3\\xb3n) (ENOEN)</title><link>http://www.inegi.org.mx/app/saladeprensa/noticia.html?id=6463</link><description>La tasa de desocupaci\\xc3\\xb3n fue de 3.9%, un punto porcentual m\\xc3\\xa1s que en marzo del a\\xc3\\xb1o pasado....</description><pubDate>Thu, 22 Apr 2021 00:00:00 GMT</pubDate></item><item><title>\\xc3\\x8dndice Nacional de Precios al Consumidor</title><link>http://www.inegi.org.mx/app/saladeprensa/noticia.html?id=6462</link><description>El \\xc3\\x8dndice Nacional de Precios al Consumidor (INPC) registr\\xc3\\xb3 una inflaci\\xc3\\xb3n de 0.06 por ciento respecto a la quincena inmediata anterior....</description><pubDate>Thu, 22 Apr 2021 00:00:00 GMT</pubDate></item><item><title>El Comit\\xc3\\xa9 de Evaluaci\\xc3\\xb3n entreg\\xc3\\xb3 al C. Presidente de los Estados Unidos Mexicanos la lista de aspirantes para ocupar una vacante en el \\xc3\\xb3rgano de gobierno de la Comisi\\xc3\\xb3n Federal de Competencia Econ\\xc3\\xb3mica.</title><link>http://www.inegi.org.mx/app/saladeprensa/noticia.html?id=6461</link><description>La lista de aspirantes se integra por 5 personas que, cumpliendo todos los requisitos establecidos por el art\\xc3\\xadculo 28 de la Constituci\\xc3\\xb3n...</description><pubDate>Tue, 20 Apr 2021 00:00:00 GMT</pubDate></item><item><title>Indicadores del Sector Manufacturero</title><link>http://www.inegi.org.mx/app/saladeprensa/noticia.html?id=6460</link><description>Las horas trabajadas se incrementaron 0.4% a tasa mensual....</description><pubDate>Mon, 19 Apr 2021 00:00:00 GMT</pubDate></item><item><title>Indicador Oportuno de la Actividad Econ\\xc3\\xb3mica</title><link>http://www.inegi.org.mx/app/saladeprensa/noticia.html?id=6459</link><description>El IOAE estima anticipadamente una variaci\\xc3\\xb3n del IGAE para marzo de 2021 contra igual mes de 2020 de (-)2.1 por ciento....</description><pubDate>Mon, 19 Apr 2021 00:00:00 GMT</pubDate></item><item><title>Encuesta Nacional de Seguridad P\\xc3\\xbablica Urbana</title><link>http://www.inegi.org.mx/app/saladeprensa/noticia.html?id=6458</link><description>66.4% de la poblaci\\xc3\\xb3n de 18 a\\xc3\\xb1os y m\\xc3\\xa1s considera que vivir en su ciudad es inseguro....</description><pubDate>Mon, 19 Apr 2021 00:00:00 GMT</pubDate></item><item><title>Resultados del Registro Administrativo de la Industria Automotriz de Veh\\xc3\\xadculos Pesados correspondientes a marzo de 2021</title><link>http://www.inegi.org.mx/app/saladeprensa/noticia.html?id=6457</link><description>En el mercado nacional se vendieron 2 702 unidades al menudeo y 2 505 unidades al mayoreo....</description><pubDate>Tue, 13 Apr 2021 00:00:00 GMT</pubDate></item><item><title>Sesiona el Consejo Consultivo Nacional para conocer los resultados b\\xc3\\xa1sicos y complementarios del Censo 2020</title><link>http://www.inegi.org.mx/app/saladeprensa/noticia.html?id=6456</link><description>Se dieron a conocer las actualizaciones del Marco Geoestad\\xc3\\xadstico, insumo b\\xc3\\xa1sico para censos y encuestas institucionales\\xc2\\xa0...</description><pubDate>Mon, 12 Apr 2021 00:00:00 GMT</pubDate></item><item><title>Hoy presentaron examen de conocimientos las personas aspirantes a ocupar la vacante de comisionado en el \\xc3\\xb3rgano de gobierno de la Comisi\\xc3\\xb3n Federal de Competencia Econ\\xc3\\xb3mica</title><link>http://www.inegi.org.mx/app/saladeprensa/noticia.html?id=6455</link><description>El d\\xc3\\xada de hoy 33 personas aspirantes a ocupar la vacante en el \\xc3\\xb3rgano de gobierno de la COFECE acudieron a presentar su examen de conocimientos...</description><pubDate>Sat, 10 Apr 2021 00:00:00 GMT</pubDate></item><item><title>Fortalecen SEP e INEGI la oferta de informaci\\xc3\\xb3n de la estad\\xc3\\xadstica de educaci\\xc3\\xb3n</title><link>http://www.inegi.org.mx/app/saladeprensa/noticia.html?id=6453</link><description>Con la conformaci\\xc3\\xb3n de un grupo interinstitucional se profundizar\\xc3\\xa1 en el entendimiento y estudio del fen\\xc3\\xb3meno educativo en M\\xc3\\xa9xico....</description><pubDate>Fri, 09 Apr 2021 00:00:00 GMT</pubDate></item><item><title>Indicador Mensual de la Actividad Industrial</title><link>http://www.inegi.org.mx/app/saladeprensa/noticia.html?id=6452</link><description>El Indicador Mensual de la Actividad Industrial (IMAI) se increment\\xc3\\xb3 0.4% en t\\xc3\\xa9rminos reales....</description><pubDate>Fri, 09 Apr 2021 00:00:00 GMT</pubDate></item><item><title>Reporte del registro de la industria automotriz de veh\\xc3\\xadculos ligeros</title><link>http://www.inegi.org.mx/app/saladeprensa/noticia.html?id=6451</link><description>En el mercado nacional se vendieron 95 513 veh\\xc3\\xadculos ligeros durante marzo....</description><pubDate>Thu, 08 Apr 2021 00:00:00 GMT</pubDate></item><item><title>\\xc3\\x8dndice Nacional de Precios al Consumidor</title><link>http://www.inegi.org.mx/app/saladeprensa/noticia.html?id=6450</link><description>El \\xc3\\x8dndice Nacional de Precios al Consumidor (INPC) present\\xc3\\xb3 una inflaci\\xc3\\xb3n de 0.83 por ciento con relaci\\xc3\\xb3n al mes inmediato anterior....</description><pubDate>Thu, 08 Apr 2021 00:00:00 GMT</pubDate></item><item><title>\\xc3\\x8dndice Nacional de Precios Productor</title><link>http://www.inegi.org.mx/app/saladeprensa/noticia.html?id=6449</link><description>El \\xc3\\x8dndice Nacional de Precios Productor (INPP) Total, incluyendo petr\\xc3\\xb3leo, registr\\xc3\\xb3 un incremento de 1.58%....</description><pubDate>Thu, 08 Apr 2021 00:00:00 GMT</pubDate></item><item><title>El INEGI mejora la experiencia de los usuarios en la consulta de informaci\\xc3\\xb3n topogr\\xc3\\xa1fica</title><link>http://www.inegi.org.mx/app/saladeprensa/noticia.html?id=6448</link><description>Se redise\\xc3\\xb1aron las tiras marginales de 2 288 im\\xc3\\xa1genes cartogr\\xc3\\xa1ficas digitales, escala 1:50 000, serie III....</description><pubDate>Wed, 07 Apr 2021 00:00:00 GMT</pubDate></item><item><title>Indicador Mensual del Consumo Privado en el Mercado Interior</title><link>http://www.inegi.org.mx/app/saladeprensa/noticia.html?id=6446</link><description>El Indicador Mensual del Consumo Privado en el Mercado Interior (IMCPMI) registr\\xc3\\xb3 un aumento real de 1%....</description><pubDate>Wed, 07 Apr 2021 00:00:00 GMT</pubDate></item><item><title>Indicador Mensual de la Inversi\\xc3\\xb3n Fija Bruta en M\\xc3\\xa9xico</title><link>http://www.inegi.org.mx/app/saladeprensa/noticia.html?id=6445</link><description>La Inversi\\xc3\\xb3n Fija Bruta registr\\xc3\\xb3 un aumento en t\\xc3\\xa9rminos reales de 3.3%....</description><pubDate>Wed, 07 Apr 2021 00:00:00 GMT</pubDate></item><item><title>Avance de resultados del Registro Administrativo de la Industria Automotriz de Veh\\xc3\\xadculos Ligeros (marzo de 2021)</title><link>http://www.inegi.org.mx/app/saladeprensa/noticia.html?id=6444</link><description>En marzo se vendieron al p\\xc3\\xbablico en el mercado interno 95 487 unidades....</description><pubDate>Tue, 06 Apr 2021 00:00:00 GMT</pubDate></item><item><title>Indicador de Confianza del Consumidor</title><link>http://www.inegi.org.mx/app/saladeprensa/noticia.html?id=6443</link><description>El Indicador de Confianza del Consumidor present\\xc3\\xb3 un crecimiento mensual de 1.6 puntos....</description><pubDate>Tue, 06 Apr 2021 00:00:00 GMT</pubDate></item><item><title>Sistema de Indicadores C\\xc3\\xadclicos</title><link>http://www.inegi.org.mx/app/saladeprensa/noticia.html?id=6442</link><description>El Indicador Coincidente se encontr\\xc3\\xb3 por debajo de su tendencia de largo plazo al reportar un valor de 97.9 puntos....</description><pubDate>Tue, 06 Apr 2021 00:00:00 GMT</pubDate></item><item><title>Indicador de Pedidos Manufactureros</title><link>http://www.inegi.org.mx/app/saladeprensa/noticia.html?id=6440</link><description>El IPM report\\xc3\\xb3 un incremento mensual en t\\xc3\\xa9rminos desestacionalizados de 1.60 puntos, situ\\xc3\\xa1ndose en 51.7 puntos....</description><pubDate>Mon, 05 Apr 2021 00:00:00 GMT</pubDate></item><item><title>Indicadores de Confianza Empresarial</title><link>http://www.inegi.org.mx/app/saladeprensa/noticia.html?id=6439</link><description>A nivel de sector, el Indicador de Confianza Empresarial de las Manufacturas registr\\xc3\\xb3 un incremento de 1 punto....</description><pubDate>Mon, 05 Apr 2021 00:00:00 GMT</pubDate></item><item><title>Indicadores Agregados de Tendencia y Expectativas Empresariales</title><link>http://www.inegi.org.mx/app/saladeprensa/noticia.html?id=6438</link><description>El Indicador Agregado de Tendencia del sector Manufacturero se ubic\\xc3\\xb3 en 50.8 puntos....</description><pubDate>Mon, 05 Apr 2021 00:00:00 GMT</pubDate></item><item><title>\\xc3\\x8dndices Globales de Personal y Remuneraciones de los Sectores Econ\\xc3\\xb3micos</title><link>http://www.inegi.org.mx/app/saladeprensa/noticia.html?id=6436</link><description>En enero de 2021, con cifras desestacionalizadas, el IGPOSE registr\\xc3\\xb3 un nivel de 105.6 puntos con un incremento de 0.3% respecto al mes previo...</description><pubDate>Wed, 31 Mar 2021 00:00:00 GMT</pubDate></item><item><title>Informaci\\xc3\\xb3n oportuna sobre la Balanza Comercial de Mercanc\\xc3\\xadas de M\\xc3\\xa9xico</title><link>http://www.inegi.org.mx/app/saladeprensa/noticia.html?id=6434</link><description>La informaci\\xc3\\xb3n oportuna de comercio exterior de febrero de 2021 indica que se registr\\xc3\\xb3 un super\\xc3\\xa1vit comercial de 2,681 millones de d\\xc3\\xb3lares....</description><pubDate>Fri, 26 Mar 2021 00:00:00 GMT</pubDate></item><item><title>Indicadores del Sector Servicios</title><link>http://www.inegi.org.mx/app/saladeprensa/noticia.html?id=6433</link><description>Los Ingresos Totales reales por Suministro de Bienes y Servicios Privados no Financieros disminuyeron 6%....</description><pubDate>Thu, 25 Mar 2021 00:00:00 GMT</pubDate></item><item><title>Indicadores de Empresas Comerciales</title><link>http://www.inegi.org.mx/app/saladeprensa/noticia.html?id=6432</link><description>En las Empresas Comerciales al por Mayor los Ingresos reales por suministro de bienes y servicios presentaron un aumento de 0.9%....</description><pubDate>Thu, 25 Mar 2021 00:00:00 GMT</pubDate></item><item><title>Indicador Global de la Actividad Econ\\xc3\\xb3mica</title><link>http://www.inegi.org.mx/app/saladeprensa/noticia.html?id=6431</link><description>El Indicador Global de la Actividad Econ\\xc3\\xb3mica (IGAE) mostr\\xc3\\xb3 un aumento de 0.1% en t\\xc3\\xa9rminos reales....</description><pubDate>Thu, 25 Mar 2021 00:00:00 GMT</pubDate></item><item><title>Resultados de la Encuesta Nacional de Ocupaci\\xc3\\xb3n y Empleo (Nueva Edici\\xc3\\xb3n) (ENOEN)</title><link>http://www.inegi.org.mx/app/saladeprensa/noticia.html?id=6429</link><description>La tasa de desocupaci\\xc3\\xb3n fue de 4.4%, 0.8 puntos porcentuales m\\xc3\\xa1s que en febrero de 2020....</description><pubDate>Wed, 24 Mar 2021 00:00:00 GMT</pubDate></item><item><title>\\xc3\\x8dndice Nacional de Precios al Consumidor</title><link>http://www.inegi.org.mx/app/saladeprensa/noticia.html?id=6428</link><description>En la primera quincena de marzo de 2021 el \\xc3\\x8dndice Nacional de Precios al Consumidor (INPC) present\\xc3\\xb3 una inflaci\\xc3\\xb3n de 0.53 por ciento....</description><pubDate>Wed, 24 Mar 2021 00:00:00 GMT</pubDate></item><item><title>INEGI presenta resultados de la Encuesta para la Medici\\xc3\\xb3n del Impacto COVID-19 en la Educaci\\xc3\\xb3n (ECOVID-ED) 2020</title><link>http://www.inegi.org.mx/app/saladeprensa/noticia.html?id=6427</link><description>33.6 millones de personas entre los 3 y 29 a\\xc3\\xb1os estuvieron inscritas en el ciclo escolar 2019-2020 (62.0% del total)....</description><pubDate>Tue, 23 Mar 2021 00:00:00 GMT</pubDate></item><item><title>Indicadores de Empresas Constructoras</title><link>http://www.inegi.org.mx/app/saladeprensa/noticia.html?id=6426</link><description>El valor de la producci\\xc3\\xb3n generado por las empresas constructoras aument\\xc3\\xb3 0.6% en t\\xc3\\xa9rminos reales....</description><pubDate>Tue, 23 Mar 2021 00:00:00 GMT</pubDate></item><item><title>El INEGI presenta el segundo conjunto de resultados del Estudio sobre la Demograf\\xc3\\xada de los Negocios 2020</title><link>http://www.inegi.org.mx/app/saladeprensa/noticia.html?id=6425</link><description>De los 4.9 millones de establecimientos reportados por los Censos Econ\\xc3\\xb3micos 2019, el EDN 2020 estima que sobrevivieron 3.9 millones....</description><pubDate>Mon, 22 Mar 2021 00:00:00 GMT</pubDate></item><item><title>Indicadores del Sector Manufacturero</title><link>http://www.inegi.org.mx/app/saladeprensa/noticia.html?id=6424</link><description>El personal ocupado total del sector manufacturero registr\\xc3\\xb3 un incremento de 0.3%....</description><pubDate>Mon, 22 Mar 2021 00:00:00 GMT</pubDate></item><item><title>Resultados del cuarto Censo Nacional de Gobierno Federal 2020</title><link>http://www.inegi.org.mx/app/saladeprensa/noticia.html?id=6421</link><description>Al cierre de 2019, la Administraci\\xc3\\xb3n P\\xc3\\xbablica Federal cont\\xc3\\xb3 con 312 instituciones p\\xc3\\xbablicas....</description><pubDate>Thu, 18 Mar 2021 00:00:00 GMT</pubDate></item><item><title>Indicador Oportuno de la Actividad Econ\\xc3\\xb3mica</title><link>http://www.inegi.org.mx/app/saladeprensa/noticia.html?id=6420</link><description>El IOAE estima anticipadamente una variaci\\xc3\\xb3n del IGAE para febrero de 2021 contra igual mes de 2020 de (-)4 por ciento....</description><pubDate>Thu, 18 Mar 2021 00:00:00 GMT</pubDate></item><item><title>Indicador Mensual de la Actividad Industrial</title><link>http://www.inegi.org.mx/app/saladeprensa/noticia.html?id=6417</link><description>El Indicador Mensual de la Actividad Industrial (IMAI) se increment\\xc3\\xb3 0.2% en t\\xc3\\xa9rminos reales....</description><pubDate>Fri, 12 Mar 2021 00:00:00 GMT</pubDate></item><item><title>Indicadores de Productividad Laboral y del Costo Unitario de la Mano de Obra</title><link>http://www.inegi.org.mx/app/saladeprensa/noticia.html?id=6416</link><description>El \\xc3\\x8dndice Global de Productividad Laboral de la Econom\\xc3\\xada (IGPLE) con base en horas trabajadas descendi\\xc3\\xb3 (-)1.1%....</description><pubDate>Thu, 11 Mar 2021 00:00:00 GMT</pubDate></item><item><title>Conociendo la Industria de la Vivienda</title><link>http://www.inegi.org.mx/app/saladeprensa/noticia.html?id=6415</link><description>En 2019 la Industria de la vivienda gener\\xc3\\xb3 1,050 miles de millones de pesos constantes y 2.5 millones de puestos de trabajos....</description><pubDate>Tue, 09 Mar 2021 00:00:00 GMT</pubDate></item><item><title>Registro Administrativo de la Industria Automotriz de Veh\\xc3\\xadculos Pesados correspondiente a febrero de 2021</title><link>http://www.inegi.org.mx/app/saladeprensa/noticia.html?id=6413</link><description>En el mercado nacional se vendieron 2 353 unidades al menudeo y 1 880 unidades al mayoreo...</description><pubDate>Tue, 09 Mar 2021 00:00:00 GMT</pubDate></item><item><title>\\xc3\\x8dndice Nacional de Precios al Consumidor</title><link>http://www.inegi.org.mx/app/saladeprensa/noticia.html?id=6412</link><description>El \\xc3\\x8dndice Nacional de Precios al Consumidor (INPC) registr\\xc3\\xb3 una inflaci\\xc3\\xb3n de 0.63 por ciento respecto al mes inmediato anterior....</description><pubDate>Tue, 09 Mar 2021 00:00:00 GMT</pubDate></item><item><title>\\xc3\\x8dndice Nacional de Precios Productor</title><link>http://www.inegi.org.mx/app/saladeprensa/noticia.html?id=6411</link><description>El \\xc3\\x8dndice Nacional de Precios Productor (INPP) Total, incluyendo petr\\xc3\\xb3leo, registr\\xc3\\xb3 un incremento de 1.40%....</description><pubDate>Tue, 09 Mar 2021 00:00:00 GMT</pubDate></item></channel></rss>'\n"
     ]
    }
   ],
   "source": [
    "noticias_inegi = resp.content\n",
    "print(noticias_inegi)"
   ]
  },
  {
   "cell_type": "code",
   "execution_count": 6,
   "id": "a773c81b",
   "metadata": {},
   "outputs": [
    {
     "data": {
      "text/plain": [
       "bytes"
      ]
     },
     "execution_count": 6,
     "metadata": {},
     "output_type": "execute_result"
    }
   ],
   "source": [
    "type(noticias_inegi)"
   ]
  },
  {
   "cell_type": "code",
   "execution_count": 9,
   "id": "45c14349",
   "metadata": {},
   "outputs": [],
   "source": [
    "with open('data/noticias_inegi_20210517.xml', 'wb') as fw:\n",
    "    fw.write(noticias_inegi)"
   ]
  },
  {
   "cell_type": "code",
   "execution_count": 10,
   "id": "d14c49bc",
   "metadata": {},
   "outputs": [
    {
     "data": {
      "text/plain": [
       "<xml.etree.ElementTree.ElementTree at 0x18e548fa220>"
      ]
     },
     "execution_count": 10,
     "metadata": {},
     "output_type": "execute_result"
    }
   ],
   "source": [
    "tree = ET.parse('data/noticias_inegi_20210517.xml')\n",
    "tree"
   ]
  },
  {
   "cell_type": "code",
   "execution_count": 12,
   "id": "9ea3eae1",
   "metadata": {},
   "outputs": [
    {
     "data": {
      "text/plain": [
       "<Element 'rss' at 0x0000018E54AEC090>"
      ]
     },
     "execution_count": 12,
     "metadata": {},
     "output_type": "execute_result"
    }
   ],
   "source": [
    "tree = ET.fromstring(noticias_inegi)\n",
    "tree"
   ]
  },
  {
   "cell_type": "code",
   "execution_count": 13,
   "id": "77392ee8",
   "metadata": {},
   "outputs": [
    {
     "data": {
      "text/plain": [
       "'rss'"
      ]
     },
     "execution_count": 13,
     "metadata": {},
     "output_type": "execute_result"
    }
   ],
   "source": [
    "tree.tag"
   ]
  },
  {
   "cell_type": "code",
   "execution_count": 14,
   "id": "5066e345",
   "metadata": {},
   "outputs": [
    {
     "data": {
      "text/plain": [
       "{'version': '2.0', 'encoding': 'UTF-8'}"
      ]
     },
     "execution_count": 14,
     "metadata": {},
     "output_type": "execute_result"
    }
   ],
   "source": [
    "tree.attrib"
   ]
  },
  {
   "cell_type": "code",
   "execution_count": 21,
   "id": "7ffca1b4",
   "metadata": {},
   "outputs": [
    {
     "data": {
      "text/plain": [
       "<Element 'title' at 0x0000018E54AEC270>"
      ]
     },
     "execution_count": 21,
     "metadata": {},
     "output_type": "execute_result"
    }
   ],
   "source": [
    "tree[0][2]"
   ]
  },
  {
   "cell_type": "code",
   "execution_count": 18,
   "id": "92f89692",
   "metadata": {},
   "outputs": [
    {
     "data": {
      "text/plain": [
       "1"
      ]
     },
     "execution_count": 18,
     "metadata": {},
     "output_type": "execute_result"
    }
   ],
   "source": [
    "len(tree)"
   ]
  },
  {
   "cell_type": "code",
   "execution_count": 25,
   "id": "46005336",
   "metadata": {},
   "outputs": [
    {
     "name": "stdout",
     "output_type": "stream",
     "text": [
      "Resultados de la Encuesta Nacional de Ocupación y Empleo. Nueva Edición (ENOEN). <div class=\"notranslate\" style=\"display:inline-block;\">Aguascalientes</div>\n",
      "http://www.inegi.org.mx/app/saladeprensa/noticia.html?id=6532\n",
      "El 57.8% de la población de 15 años y más en Aguascalientes se encontraba disponible para producir bienes o servicios...\n",
      "Mon, 17 May 2021 00:00:00 GMT\n",
      "Resultados de la Encuesta Nacional de Ocupación y Empleo. Nueva Edición (ENOEN)\n",
      "http://www.inegi.org.mx/app/saladeprensa/noticia.html?id=6530\n",
      "La tasa de desocupación aumentó 0.9 puntos porcentuales al pasar de 3.4 a 4.4% a nivel nacional....\n",
      "Mon, 17 May 2021 00:00:00 GMT\n",
      "Resultados del Registro Administrativo de la Industria Automotriz de Vehículos Pesados correspondientes a abril de 2021\n",
      "http://www.inegi.org.mx/app/saladeprensa/noticia.html?id=6527\n",
      "En el mercado nacional se vendieron 2 553 unidades al menudeo y 2 301 unidades al mayoreo....\n",
      "Thu, 13 May 2021 00:00:00 GMT\n",
      "Indicadores Trimestrales de la Actividad Turística\n",
      "http://www.inegi.org.mx/app/saladeprensa/noticia.html?id=6526\n",
      "El Indicador Trimestral del PIB Turístico registró un aumento de 7.7% y el del Consumo Turístico Interior de 10.1% en términos reales....\n",
      "Thu, 13 May 2021 00:00:00 GMT\n",
      "Indicador Mensual de la Actividad Industrial\n",
      "http://www.inegi.org.mx/app/saladeprensa/noticia.html?id=6525\n",
      "El INEGI informa que el Indicador Mensual de la Actividad Industrial (IMAI) se incrementó 0.7% en términos reales....\n",
      "Wed, 12 May 2021 00:00:00 GMT\n",
      "Indicador Mensual del Consumo Privado en el Mercado Interior\n",
      "http://www.inegi.org.mx/app/saladeprensa/noticia.html?id=6524\n",
      "El Indicador Mensual del Consumo Privado en el Mercado Interior (IMCPMI) registró una disminución en términos reales de 0.2%...\n",
      "Tue, 11 May 2021 00:00:00 GMT\n",
      "Indicador Mensual de la Inversión Fija Bruta en México\n",
      "http://www.inegi.org.mx/app/saladeprensa/noticia.html?id=6523\n",
      "La Inversión Fija Bruta registró un incremento en términos reales de 2.4%....\n",
      "Tue, 11 May 2021 00:00:00 GMT\n",
      "Encuestas de Viajeros Internacionales\n",
      "http://www.inegi.org.mx/app/saladeprensa/noticia.html?id=6522\n",
      "Durante marzo de 2021 ingresaron al país 4,208,691 visitantes, de los cuales 2,284,080 fueron turistas internacionales....\n",
      "Mon, 10 May 2021 00:00:00 GMT\n",
      "Reporte del registro de la industria automotriz de vehículos ligeros\n",
      "http://www.inegi.org.mx/app/saladeprensa/noticia.html?id=6520\n",
      "En el mercado nacional se vendieron 83 611 vehículos ligeros durante abril....\n",
      "Fri, 07 May 2021 00:00:00 GMT\n",
      "Indicador de Confianza del Consumidor\n",
      "http://www.inegi.org.mx/app/saladeprensa/noticia.html?id=6519\n",
      "El Indicador de Confianza del Consumidor mostró en abril de 2021 un aumento mensual de 1.6 puntos....\n",
      "Fri, 07 May 2021 00:00:00 GMT\n",
      "Índice Nacional de Precios al Consumidor\n",
      "http://www.inegi.org.mx/app/saladeprensa/noticia.html?id=6518\n",
      "El Índice Nacional de Precios al Consumidor (INPC) presentó una inflación de 0.33 por ciento respecto al mes inmediato anterior....\n",
      "Fri, 07 May 2021 00:00:00 GMT\n",
      "Índice Nacional de Precios Productor\n",
      "http://www.inegi.org.mx/app/saladeprensa/noticia.html?id=6517\n",
      "El Índice Nacional de Precios Productor (INPP) Total, incluyendo petróleo, registró un incremento de 0.22% frente al mes precedente....\n",
      "Fri, 07 May 2021 00:00:00 GMT\n",
      "Avance de resultados del Registro Administrativo de la Industria Automotriz de Vehículos Ligeros (abril de 2021)\n",
      "http://www.inegi.org.mx/app/saladeprensa/noticia.html?id=6485\n",
      "En abril se vendieron al público en el mercado interno 83 612 unidades....\n",
      "Tue, 04 May 2021 00:00:00 GMT\n",
      "Sistema de Indicadores Cíclicos\n",
      "http://www.inegi.org.mx/app/saladeprensa/noticia.html?id=6484\n",
      "El Indicador Coincidente se localizó por debajo de su tendencia de largo plazo al reportar un valor de 98.1 puntos....\n",
      "Tue, 04 May 2021 00:00:00 GMT\n",
      "Indicador de Pedidos Manufactureros\n",
      "http://www.inegi.org.mx/app/saladeprensa/noticia.html?id=6483\n",
      "En abril de 2021, el IPM se ubicó en 51.1 puntos, al registrar una disminución mensual de 1.07 puntos....\n",
      "Mon, 03 May 2021 00:00:00 GMT\n",
      "Indicadores de Confianza Empresarial\n",
      "http://www.inegi.org.mx/app/saladeprensa/noticia.html?id=6482\n",
      "A nivel de sector, el Indicador de Confianza Empresarial de las Manufacturas registró un alza de 3 puntos....\n",
      "Mon, 03 May 2021 00:00:00 GMT\n",
      "Indicadores Agregados de Tendencia y Expectativas Empresariales\n",
      "http://www.inegi.org.mx/app/saladeprensa/noticia.html?id=6481\n",
      "El Indicador Agregado de Tendencia del sector Manufacturero se ubicó en 51.3 puntos....\n",
      "Mon, 03 May 2021 00:00:00 GMT\n",
      "Estimación Oportuna del Producto Interno Bruto en México\n",
      "http://www.inegi.org.mx/app/saladeprensa/noticia.html?id=6480\n",
      "El INEGI presenta los resultados de la Estimación Oportuna del Producto Interno Bruto PIB Trimestral, los cuales señalan que éste aumentó 0.4%....\n",
      "Fri, 30 Apr 2021 00:00:00 GMT\n",
      "Indicador Trimestral de la Actividad Económica Estatal. <div class=\"notranslate\" style=\"display:inline-block;\">Baja California</div>\n",
      "http://www.inegi.org.mx/app/saladeprensa/noticia.html?id=6516\n",
      "Para el cuarto trimestre de 2020, Baja California presentó una variación anual en el total de su economía de 3.7 por ciento....\n",
      "Thu, 29 Apr 2021 00:00:00 GMT\n",
      "Indicador Trimestral de la Actividad Económica Estatal. <div class=\"notranslate\" style=\"display:inline-block;\">Baja California Sur</div>\n",
      "http://www.inegi.org.mx/app/saladeprensa/noticia.html?id=6515\n",
      "Para el cuarto trimestre de 2020, Baja California Sur presentó una variación anual en el total de su economía de (-)15.3 por ciento....\n",
      "Thu, 29 Apr 2021 00:00:00 GMT\n",
      "Indicador Trimestral de la Actividad Económica Estatal. <div class=\"notranslate\" style=\"display:inline-block;\">Campeche</div>\n",
      "http://www.inegi.org.mx/app/saladeprensa/noticia.html?id=6514\n",
      "Para el cuarto trimestre de 2020, Campeche tuvo una variación anual de (-)7.4 por ciento....\n",
      "Thu, 29 Apr 2021 00:00:00 GMT\n",
      "Indicador Trimestral de la Actividad Económica Estatal. <div class=\"notranslate\" style=\"display:inline-block;\">Ciudad de México</div>\n",
      "http://www.inegi.org.mx/app/saladeprensa/noticia.html?id=6513\n",
      "Así, en el cuarto trimestre de 2020, la Ciudad de México presentó un movimiento anual en el total de su economía de (-)8.6 por ciento....\n",
      "Thu, 29 Apr 2021 00:00:00 GMT\n",
      "Indicador Trimestral de la Actividad Económica Estatal. <div class=\"notranslate\" style=\"display:inline-block;\">Chihuahua</div>\n",
      "http://www.inegi.org.mx/app/saladeprensa/noticia.html?id=6512\n",
      "Para el cuarto trimestre de 2020, Chihuahua presentó una variación anual en el total de su economía de (-)2 por ciento....\n",
      "Thu, 29 Apr 2021 00:00:00 GMT\n",
      "Indicador Trimestral de la Actividad Económica Estatal. <div class=\"notranslate\" style=\"display:inline-block;\">Chiapas</div>\n",
      "http://www.inegi.org.mx/app/saladeprensa/noticia.html?id=6511\n",
      "Para el cuarto trimestre de 2020, Chiapas presentó una variación anual en el total de su economía de (-)1.4 por ciento....\n",
      "Thu, 29 Apr 2021 00:00:00 GMT\n",
      "Indicador Trimestral de la Actividad Económica Estatal. <div class=\"notranslate\" style=\"display:inline-block;\">Coahuila de Zaragoza</div>\n",
      "http://www.inegi.org.mx/app/saladeprensa/noticia.html?id=6510\n",
      "Para el cuarto trimestre de 2020, Coahuila de Zaragoza presentó una variación anual en el total de su economía de (-)2.4 por ciento....\n",
      "Thu, 29 Apr 2021 00:00:00 GMT\n",
      "Indicador Trimestral de la Actividad Económica Estatal. <div class=\"notranslate\" style=\"display:inline-block;\">Durango</div>\n",
      "http://www.inegi.org.mx/app/saladeprensa/noticia.html?id=6508\n",
      "Para el cuarto trimestre de 2020, Durango presentó una variación anual en el total de su economía de (-)1.4 por ciento....\n",
      "Thu, 29 Apr 2021 00:00:00 GMT\n",
      "Indicador Trimestral de la Actividad Económica Estatal. <div class=\"notranslate\" style=\"display:inline-block;\">México</div>\n",
      "http://www.inegi.org.mx/app/saladeprensa/noticia.html?id=6507\n",
      "Para el cuarto trimestre de 2020, México presentó un movimiento anual en el total de su economía de (-)3 por ciento....\n",
      "Thu, 29 Apr 2021 00:00:00 GMT\n",
      "Indicador Trimestral de la Actividad Económica Estatal. <div class=\"notranslate\" style=\"display:inline-block;\">Guerrero</div>\n",
      "http://www.inegi.org.mx/app/saladeprensa/noticia.html?id=6506\n",
      "Para el cuarto trimestre de 2020, Guerrero presentó una variación anual en el total de su economía de (-)2.2 por ciento....\n",
      "Thu, 29 Apr 2021 00:00:00 GMT\n",
      "Indicador Trimestral de la Actividad Económica Estatal. <div class=\"notranslate\" style=\"display:inline-block;\">Guanajuato</div>\n",
      "http://www.inegi.org.mx/app/saladeprensa/noticia.html?id=6505\n",
      "Para el cuarto trimestre de 2020, Guanajuato presentó un movimiento anual en el total de su economía de (-)1.2 por ciento....\n",
      "Thu, 29 Apr 2021 00:00:00 GMT\n",
      "Indicador Trimestral de la Actividad Económica Estatal. <div class=\"notranslate\" style=\"display:inline-block;\">Hidalgo</div>\n",
      "http://www.inegi.org.mx/app/saladeprensa/noticia.html?id=6504\n",
      "Para el cuarto trimestre de 2020, Hidalgo presentó una variación anual en el total de su economía de (-)6.2 por ciento....\n",
      "Thu, 29 Apr 2021 00:00:00 GMT\n",
      "Indicador Trimestral de la Actividad Económica Estatal. <div class=\"notranslate\" style=\"display:inline-block;\">Jalisco</div>\n",
      "http://www.inegi.org.mx/app/saladeprensa/noticia.html?id=6503\n",
      "Para el cuarto trimestre de 2020, Jalisco presentó una variación anual en el total de su economía de   (-)2.1 por ciento....\n",
      "Thu, 29 Apr 2021 00:00:00 GMT\n",
      "Indicador Trimestral de la Actividad Económica Estatal. <div class=\"notranslate\" style=\"display:inline-block;\">Michoacán de Ocampo</div>\n",
      "http://www.inegi.org.mx/app/saladeprensa/noticia.html?id=6502\n",
      "Para el cuarto trimestre de 2020, Michoacán de Ocampo presentó una variación anual en el total de su economía de (-)4.3 por ciento....\n",
      "Thu, 29 Apr 2021 00:00:00 GMT\n",
      "Indicador Trimestral de la Actividad Económica Estatal. <div class=\"notranslate\" style=\"display:inline-block;\">Morelos</div>\n",
      "http://www.inegi.org.mx/app/saladeprensa/noticia.html?id=6501\n",
      "Para el cuarto trimestre de 2020, Morelos presentó una variación anual en el total de su economía de (-)7.1 por ciento....\n",
      "Thu, 29 Apr 2021 00:00:00 GMT\n",
      "Indicador Trimestral de la Actividad Económica Estatal. <div class=\"notranslate\" style=\"display:inline-block;\">Nayarit</div>\n",
      "http://www.inegi.org.mx/app/saladeprensa/noticia.html?id=6500\n",
      "Para el cuarto trimestre de 2020, Nayarit presentó una variación anual en el total de su economía de   (-)5.7 por ciento....\n",
      "Thu, 29 Apr 2021 00:00:00 GMT\n",
      "Indicador Trimestral de la Actividad Económica Estatal. <div class=\"notranslate\" style=\"display:inline-block;\">Nuevo León</div>\n",
      "http://www.inegi.org.mx/app/saladeprensa/noticia.html?id=6499\n",
      "Para el cuarto trimestre de 2020, Nuevo León presentó una variación anual en el total de su economía de (-)1.4 por ciento....\n",
      "Thu, 29 Apr 2021 00:00:00 GMT\n",
      "Indicador Trimestral de la Actividad Económica Estatal. <div class=\"notranslate\" style=\"display:inline-block;\">Oaxaca</div>\n",
      "http://www.inegi.org.mx/app/saladeprensa/noticia.html?id=6498\n",
      "Para el cuarto trimestre de 2020, Oaxaca presentó una variación anual en el total de su economía de 4.6 por ciento....\n",
      "Thu, 29 Apr 2021 00:00:00 GMT\n",
      "Indicador Trimestral de la Actividad Económica Estatal. <div class=\"notranslate\" style=\"display:inline-block;\">Puebla</div>\n",
      "http://www.inegi.org.mx/app/saladeprensa/noticia.html?id=6497\n",
      "Para el cuarto trimestre de 2020, Puebla presentó una variación anual en el total de su economía de      (-)4.8 por ciento....\n",
      "Thu, 29 Apr 2021 00:00:00 GMT\n",
      "Indicador Trimestral de la Actividad Económica Estatal. <div class=\"notranslate\" style=\"display:inline-block;\">Querétaro</div>\n",
      "http://www.inegi.org.mx/app/saladeprensa/noticia.html?id=6496\n",
      "Para el cuarto trimestre de 2020, Querétaro presentó una variación anual en el total de su economía de (-)2.5 por ciento....\n",
      "Thu, 29 Apr 2021 00:00:00 GMT\n",
      "Indicador Trimestral de la Actividad Económica Estatal. <div class=\"notranslate\" style=\"display:inline-block;\">Quintana Roo</div>\n",
      "http://www.inegi.org.mx/app/saladeprensa/noticia.html?id=6495\n",
      "Para el cuarto trimestre de 2020, Quintana Roo presentó una variación anual en el total de su economía de (-)20 por ciento....\n",
      "Thu, 29 Apr 2021 00:00:00 GMT\n",
      "Indicador Trimestral de la Actividad Económica Estatal. <div class=\"notranslate\" style=\"display:inline-block;\">Sinaloa</div>\n",
      "http://www.inegi.org.mx/app/saladeprensa/noticia.html?id=6494\n",
      "Para el cuarto trimestre de 2020, Sinaloa presentó un movimiento anual en el total de su economía de (-)3.4 por ciento....\n",
      "Thu, 29 Apr 2021 00:00:00 GMT\n",
      "Indicador Trimestral de la Actividad Económica Estatal. <div class=\"notranslate\" style=\"display:inline-block;\">Sonora</div>\n",
      "http://www.inegi.org.mx/app/saladeprensa/noticia.html?id=6492\n",
      "Para el cuarto trimestre de 2020, Sonora mostró una variación a tasa anual en el total de su economía de (-)1.1 por ciento....\n",
      "Thu, 29 Apr 2021 00:00:00 GMT\n",
      "Indicador Trimestral de la Actividad Económica Estatal. <div class=\"notranslate\" style=\"display:inline-block;\">Tabasco</div>\n",
      "http://www.inegi.org.mx/app/saladeprensa/noticia.html?id=6491\n",
      "Para el cuarto trimestre de 2020, Tabasco presentó una variación anual en el total de su economía de         1.8 por ciento....\n",
      "Thu, 29 Apr 2021 00:00:00 GMT\n",
      "Indicador Trimestral de la Actividad Económica Estatal. <div class=\"notranslate\" style=\"display:inline-block;\">Tlaxcala</div>\n",
      "http://www.inegi.org.mx/app/saladeprensa/noticia.html?id=6490\n",
      "Para el cuarto trimestre de 2020, Tlaxcala presentó una variación anual en el total de su economía de (-)7.4 por ciento....\n",
      "Thu, 29 Apr 2021 00:00:00 GMT\n",
      "Indicador Trimestral de la Actividad Económica Estatal. <div class=\"notranslate\" style=\"display:inline-block;\">Tamaulipas</div>\n",
      "http://www.inegi.org.mx/app/saladeprensa/noticia.html?id=6489\n",
      "Para el cuarto trimestre de 2020, Tamaulipas presentó una variación anual en el total de su economía de (-)6 por ciento....\n",
      "Thu, 29 Apr 2021 00:00:00 GMT\n",
      "Indicador Trimestral de la Actividad Económica Estatal. <div class=\"notranslate\" style=\"display:inline-block;\">Veracruz de Ignacio de la Llave</div>\n",
      "http://www.inegi.org.mx/app/saladeprensa/noticia.html?id=6488\n",
      "Para el cuarto trimestre de 2020, Veracruz de Ignacio de la Llave presentó una variación anual en el total de su economía de (-)6.3 por ciento....\n",
      "Thu, 29 Apr 2021 00:00:00 GMT\n",
      "Indicador Trimestral de la Actividad Económica Estatal. <div class=\"notranslate\" style=\"display:inline-block;\">Yucatán</div>\n",
      "http://www.inegi.org.mx/app/saladeprensa/noticia.html?id=6487\n",
      "Para el cuarto trimestre de 2020, Yucatán presentó una variación anual en el total de su economía de            (-)4.9 por ciento....\n",
      "Thu, 29 Apr 2021 00:00:00 GMT\n",
      "Indicador Trimestral de la Actividad Económica Estatal. <div class=\"notranslate\" style=\"display:inline-block;\">Zacatecas</div>\n",
      "http://www.inegi.org.mx/app/saladeprensa/noticia.html?id=6486\n",
      "En el cuarto trimestre de 2020 la variación anual del total de la economía para el estado de Zacatecas fue de 1.9 por ciento....\n",
      "Thu, 29 Apr 2021 00:00:00 GMT\n",
      "Indicador Trimestral de la Actividad Económica Estatal. <div class=\"notranslate\" style=\"display:inline-block;\">Aguascalientes</div>\n",
      "http://www.inegi.org.mx/app/saladeprensa/noticia.html?id=6477\n",
      "En el cuarto trimestre de 2020, Aguascalientes presentó un movimiento anual en el total de su economía de 0.7 por ciento...\n",
      "Thu, 29 Apr 2021 00:00:00 GMT\n",
      "Indicador Trimestral de la Actividad Económica Estatal\n",
      "http://www.inegi.org.mx/app/saladeprensa/noticia.html?id=6475\n",
      "Durante el cuarto trimestre del año pasado, prácticamente todas las entidades federativas mostraron aumentos con cifras desestacionalizadas....\n",
      "Thu, 29 Apr 2021 00:00:00 GMT\n",
      "Índices Globales de Personal y Remuneraciones de los Sectores Económicos\n",
      "http://www.inegi.org.mx/app/saladeprensa/noticia.html?id=6474\n",
      "El IGPOSE registró un nivel de 105.9 puntos con un incremento de 0.2% respecto al mes previo....\n",
      "Thu, 29 Apr 2021 00:00:00 GMT\n",
      "Información oportuna sobre la Balanza Comercial de Mercancías de México\n",
      "http://www.inegi.org.mx/app/saladeprensa/noticia.html?id=6472\n",
      "La información oportuna de comercio exterior de marzo de 2021 indica que se registró un déficit comercial de 3,004 millones de dólares....\n",
      "Tue, 27 Apr 2021 00:00:00 GMT\n",
      "El INEGI presenta resultados de la Desagregación Sectorial del Indicador Oportuno de la Actividad Económica\n",
      "http://www.inegi.org.mx/app/saladeprensa/noticia.html?id=6471\n",
      "Por primera vez, el INEGI presenta resultados de la Desagregación Sectorial del Indicador Oportuno de la Actividad Económica...\n",
      "Mon, 26 Apr 2021 00:00:00 GMT\n",
      "Por primera vez, el INEGI publica Matrices de Contabilidad Social de México\n",
      "http://www.inegi.org.mx/app/saladeprensa/noticia.html?id=6470\n",
      "La serie de Matrices de Contabilidad Social de México están disponibles de 2012 a 2018...\n",
      "Mon, 26 Apr 2021 00:00:00 GMT\n",
      "Indicadores de Empresas Constructoras\n",
      "http://www.inegi.org.mx/app/saladeprensa/noticia.html?id=6469\n",
      "El valor de la producción generado por las empresas constructoras creció 0.5% en términos reales....\n",
      "Mon, 26 Apr 2021 00:00:00 GMT\n",
      "Indicador Global de la Actividad Económica\n",
      "http://www.inegi.org.mx/app/saladeprensa/noticia.html?id=6468\n",
      "El Indicador Global de la Actividad Económica (IGAE) mostró una disminución de 0.3% en términos reales....\n",
      "Mon, 26 Apr 2021 00:00:00 GMT\n",
      "Indicadores del Sector Servicios\n",
      "http://www.inegi.org.mx/app/saladeprensa/noticia.html?id=6467\n",
      "Los Ingresos Totales reales por Suministro de Bienes y Servicios de los Servicios Privados no Financieros aumentaron 2.6%....\n",
      "Fri, 23 Apr 2021 00:00:00 GMT\n",
      "Indicadores de Empresas Comerciales\n",
      "http://www.inegi.org.mx/app/saladeprensa/noticia.html?id=6466\n",
      "En las Empresas Comerciales al por Mayor los Ingresos reales por suministro de bienes y servicios aumentaron 1.3%....\n",
      "Fri, 23 Apr 2021 00:00:00 GMT\n",
      "La lectura en formato digital de libros, revistas y periódicos registra los incrementos más altos desde 2016: MOLEC 2021\n",
      "http://www.inegi.org.mx/app/saladeprensa/noticia.html?id=6464\n",
      "Entre 2016 y 2021, el porcentaje de población lectora de libros en formato digital pasó de 6.8 a 21.5%....\n",
      "Thu, 22 Apr 2021 00:00:00 GMT\n",
      "Resultados de la Encuesta Nacional de Ocupación y Empleo (Nueva Edición) (ENOEN)\n",
      "http://www.inegi.org.mx/app/saladeprensa/noticia.html?id=6463\n",
      "La tasa de desocupación fue de 3.9%, un punto porcentual más que en marzo del año pasado....\n",
      "Thu, 22 Apr 2021 00:00:00 GMT\n",
      "Índice Nacional de Precios al Consumidor\n",
      "http://www.inegi.org.mx/app/saladeprensa/noticia.html?id=6462\n",
      "El Índice Nacional de Precios al Consumidor (INPC) registró una inflación de 0.06 por ciento respecto a la quincena inmediata anterior....\n",
      "Thu, 22 Apr 2021 00:00:00 GMT\n",
      "El Comité de Evaluación entregó al C. Presidente de los Estados Unidos Mexicanos la lista de aspirantes para ocupar una vacante en el órgano de gobierno de la Comisión Federal de Competencia Económica.\n",
      "http://www.inegi.org.mx/app/saladeprensa/noticia.html?id=6461\n",
      "La lista de aspirantes se integra por 5 personas que, cumpliendo todos los requisitos establecidos por el artículo 28 de la Constitución...\n",
      "Tue, 20 Apr 2021 00:00:00 GMT\n",
      "Indicadores del Sector Manufacturero\n",
      "http://www.inegi.org.mx/app/saladeprensa/noticia.html?id=6460\n",
      "Las horas trabajadas se incrementaron 0.4% a tasa mensual....\n",
      "Mon, 19 Apr 2021 00:00:00 GMT\n",
      "Indicador Oportuno de la Actividad Económica\n",
      "http://www.inegi.org.mx/app/saladeprensa/noticia.html?id=6459\n",
      "El IOAE estima anticipadamente una variación del IGAE para marzo de 2021 contra igual mes de 2020 de (-)2.1 por ciento....\n",
      "Mon, 19 Apr 2021 00:00:00 GMT\n",
      "Encuesta Nacional de Seguridad Pública Urbana\n",
      "http://www.inegi.org.mx/app/saladeprensa/noticia.html?id=6458\n",
      "66.4% de la población de 18 años y más considera que vivir en su ciudad es inseguro....\n",
      "Mon, 19 Apr 2021 00:00:00 GMT\n",
      "Resultados del Registro Administrativo de la Industria Automotriz de Vehículos Pesados correspondientes a marzo de 2021\n",
      "http://www.inegi.org.mx/app/saladeprensa/noticia.html?id=6457\n",
      "En el mercado nacional se vendieron 2 702 unidades al menudeo y 2 505 unidades al mayoreo....\n",
      "Tue, 13 Apr 2021 00:00:00 GMT\n",
      "Sesiona el Consejo Consultivo Nacional para conocer los resultados básicos y complementarios del Censo 2020\n",
      "http://www.inegi.org.mx/app/saladeprensa/noticia.html?id=6456\n",
      "Se dieron a conocer las actualizaciones del Marco Geoestadístico, insumo básico para censos y encuestas institucionales ...\n",
      "Mon, 12 Apr 2021 00:00:00 GMT\n",
      "Hoy presentaron examen de conocimientos las personas aspirantes a ocupar la vacante de comisionado en el órgano de gobierno de la Comisión Federal de Competencia Económica\n",
      "http://www.inegi.org.mx/app/saladeprensa/noticia.html?id=6455\n",
      "El día de hoy 33 personas aspirantes a ocupar la vacante en el órgano de gobierno de la COFECE acudieron a presentar su examen de conocimientos...\n",
      "Sat, 10 Apr 2021 00:00:00 GMT\n",
      "Fortalecen SEP e INEGI la oferta de información de la estadística de educación\n",
      "http://www.inegi.org.mx/app/saladeprensa/noticia.html?id=6453\n",
      "Con la conformación de un grupo interinstitucional se profundizará en el entendimiento y estudio del fenómeno educativo en México....\n",
      "Fri, 09 Apr 2021 00:00:00 GMT\n",
      "Indicador Mensual de la Actividad Industrial\n",
      "http://www.inegi.org.mx/app/saladeprensa/noticia.html?id=6452\n",
      "El Indicador Mensual de la Actividad Industrial (IMAI) se incrementó 0.4% en términos reales....\n",
      "Fri, 09 Apr 2021 00:00:00 GMT\n",
      "Reporte del registro de la industria automotriz de vehículos ligeros\n",
      "http://www.inegi.org.mx/app/saladeprensa/noticia.html?id=6451\n",
      "En el mercado nacional se vendieron 95 513 vehículos ligeros durante marzo....\n",
      "Thu, 08 Apr 2021 00:00:00 GMT\n",
      "Índice Nacional de Precios al Consumidor\n",
      "http://www.inegi.org.mx/app/saladeprensa/noticia.html?id=6450\n",
      "El Índice Nacional de Precios al Consumidor (INPC) presentó una inflación de 0.83 por ciento con relación al mes inmediato anterior....\n",
      "Thu, 08 Apr 2021 00:00:00 GMT\n",
      "Índice Nacional de Precios Productor\n",
      "http://www.inegi.org.mx/app/saladeprensa/noticia.html?id=6449\n",
      "El Índice Nacional de Precios Productor (INPP) Total, incluyendo petróleo, registró un incremento de 1.58%....\n",
      "Thu, 08 Apr 2021 00:00:00 GMT\n",
      "El INEGI mejora la experiencia de los usuarios en la consulta de información topográfica\n",
      "http://www.inegi.org.mx/app/saladeprensa/noticia.html?id=6448\n",
      "Se rediseñaron las tiras marginales de 2 288 imágenes cartográficas digitales, escala 1:50 000, serie III....\n",
      "Wed, 07 Apr 2021 00:00:00 GMT\n",
      "Indicador Mensual del Consumo Privado en el Mercado Interior\n",
      "http://www.inegi.org.mx/app/saladeprensa/noticia.html?id=6446\n",
      "El Indicador Mensual del Consumo Privado en el Mercado Interior (IMCPMI) registró un aumento real de 1%....\n",
      "Wed, 07 Apr 2021 00:00:00 GMT\n",
      "Indicador Mensual de la Inversión Fija Bruta en México\n",
      "http://www.inegi.org.mx/app/saladeprensa/noticia.html?id=6445\n",
      "La Inversión Fija Bruta registró un aumento en términos reales de 3.3%....\n",
      "Wed, 07 Apr 2021 00:00:00 GMT\n",
      "Avance de resultados del Registro Administrativo de la Industria Automotriz de Vehículos Ligeros (marzo de 2021)\n",
      "http://www.inegi.org.mx/app/saladeprensa/noticia.html?id=6444\n",
      "En marzo se vendieron al público en el mercado interno 95 487 unidades....\n",
      "Tue, 06 Apr 2021 00:00:00 GMT\n",
      "Indicador de Confianza del Consumidor\n",
      "http://www.inegi.org.mx/app/saladeprensa/noticia.html?id=6443\n",
      "El Indicador de Confianza del Consumidor presentó un crecimiento mensual de 1.6 puntos....\n",
      "Tue, 06 Apr 2021 00:00:00 GMT\n",
      "Sistema de Indicadores Cíclicos\n",
      "http://www.inegi.org.mx/app/saladeprensa/noticia.html?id=6442\n",
      "El Indicador Coincidente se encontró por debajo de su tendencia de largo plazo al reportar un valor de 97.9 puntos....\n",
      "Tue, 06 Apr 2021 00:00:00 GMT\n",
      "Indicador de Pedidos Manufactureros\n",
      "http://www.inegi.org.mx/app/saladeprensa/noticia.html?id=6440\n",
      "El IPM reportó un incremento mensual en términos desestacionalizados de 1.60 puntos, situándose en 51.7 puntos....\n",
      "Mon, 05 Apr 2021 00:00:00 GMT\n",
      "Indicadores de Confianza Empresarial\n",
      "http://www.inegi.org.mx/app/saladeprensa/noticia.html?id=6439\n",
      "A nivel de sector, el Indicador de Confianza Empresarial de las Manufacturas registró un incremento de 1 punto....\n",
      "Mon, 05 Apr 2021 00:00:00 GMT\n",
      "Indicadores Agregados de Tendencia y Expectativas Empresariales\n",
      "http://www.inegi.org.mx/app/saladeprensa/noticia.html?id=6438\n",
      "El Indicador Agregado de Tendencia del sector Manufacturero se ubicó en 50.8 puntos....\n",
      "Mon, 05 Apr 2021 00:00:00 GMT\n",
      "Índices Globales de Personal y Remuneraciones de los Sectores Económicos\n",
      "http://www.inegi.org.mx/app/saladeprensa/noticia.html?id=6436\n",
      "En enero de 2021, con cifras desestacionalizadas, el IGPOSE registró un nivel de 105.6 puntos con un incremento de 0.3% respecto al mes previo...\n",
      "Wed, 31 Mar 2021 00:00:00 GMT\n",
      "Información oportuna sobre la Balanza Comercial de Mercancías de México\n",
      "http://www.inegi.org.mx/app/saladeprensa/noticia.html?id=6434\n",
      "La información oportuna de comercio exterior de febrero de 2021 indica que se registró un superávit comercial de 2,681 millones de dólares....\n",
      "Fri, 26 Mar 2021 00:00:00 GMT\n",
      "Indicadores del Sector Servicios\n",
      "http://www.inegi.org.mx/app/saladeprensa/noticia.html?id=6433\n",
      "Los Ingresos Totales reales por Suministro de Bienes y Servicios Privados no Financieros disminuyeron 6%....\n",
      "Thu, 25 Mar 2021 00:00:00 GMT\n",
      "Indicadores de Empresas Comerciales\n",
      "http://www.inegi.org.mx/app/saladeprensa/noticia.html?id=6432\n",
      "En las Empresas Comerciales al por Mayor los Ingresos reales por suministro de bienes y servicios presentaron un aumento de 0.9%....\n",
      "Thu, 25 Mar 2021 00:00:00 GMT\n",
      "Indicador Global de la Actividad Económica\n",
      "http://www.inegi.org.mx/app/saladeprensa/noticia.html?id=6431\n",
      "El Indicador Global de la Actividad Económica (IGAE) mostró un aumento de 0.1% en términos reales....\n",
      "Thu, 25 Mar 2021 00:00:00 GMT\n",
      "Resultados de la Encuesta Nacional de Ocupación y Empleo (Nueva Edición) (ENOEN)\n",
      "http://www.inegi.org.mx/app/saladeprensa/noticia.html?id=6429\n",
      "La tasa de desocupación fue de 4.4%, 0.8 puntos porcentuales más que en febrero de 2020....\n",
      "Wed, 24 Mar 2021 00:00:00 GMT\n",
      "Índice Nacional de Precios al Consumidor\n",
      "http://www.inegi.org.mx/app/saladeprensa/noticia.html?id=6428\n",
      "En la primera quincena de marzo de 2021 el Índice Nacional de Precios al Consumidor (INPC) presentó una inflación de 0.53 por ciento....\n",
      "Wed, 24 Mar 2021 00:00:00 GMT\n",
      "INEGI presenta resultados de la Encuesta para la Medición del Impacto COVID-19 en la Educación (ECOVID-ED) 2020\n",
      "http://www.inegi.org.mx/app/saladeprensa/noticia.html?id=6427\n",
      "33.6 millones de personas entre los 3 y 29 años estuvieron inscritas en el ciclo escolar 2019-2020 (62.0% del total)....\n",
      "Tue, 23 Mar 2021 00:00:00 GMT\n",
      "Indicadores de Empresas Constructoras\n",
      "http://www.inegi.org.mx/app/saladeprensa/noticia.html?id=6426\n",
      "El valor de la producción generado por las empresas constructoras aumentó 0.6% en términos reales....\n",
      "Tue, 23 Mar 2021 00:00:00 GMT\n",
      "El INEGI presenta el segundo conjunto de resultados del Estudio sobre la Demografía de los Negocios 2020\n",
      "http://www.inegi.org.mx/app/saladeprensa/noticia.html?id=6425\n",
      "De los 4.9 millones de establecimientos reportados por los Censos Económicos 2019, el EDN 2020 estima que sobrevivieron 3.9 millones....\n",
      "Mon, 22 Mar 2021 00:00:00 GMT\n",
      "Indicadores del Sector Manufacturero\n",
      "http://www.inegi.org.mx/app/saladeprensa/noticia.html?id=6424\n",
      "El personal ocupado total del sector manufacturero registró un incremento de 0.3%....\n",
      "Mon, 22 Mar 2021 00:00:00 GMT\n",
      "Resultados del cuarto Censo Nacional de Gobierno Federal 2020\n",
      "http://www.inegi.org.mx/app/saladeprensa/noticia.html?id=6421\n",
      "Al cierre de 2019, la Administración Pública Federal contó con 312 instituciones públicas....\n",
      "Thu, 18 Mar 2021 00:00:00 GMT\n",
      "Indicador Oportuno de la Actividad Económica\n",
      "http://www.inegi.org.mx/app/saladeprensa/noticia.html?id=6420\n",
      "El IOAE estima anticipadamente una variación del IGAE para febrero de 2021 contra igual mes de 2020 de (-)4 por ciento....\n",
      "Thu, 18 Mar 2021 00:00:00 GMT\n",
      "Indicador Mensual de la Actividad Industrial\n",
      "http://www.inegi.org.mx/app/saladeprensa/noticia.html?id=6417\n",
      "El Indicador Mensual de la Actividad Industrial (IMAI) se incrementó 0.2% en términos reales....\n",
      "Fri, 12 Mar 2021 00:00:00 GMT\n",
      "Indicadores de Productividad Laboral y del Costo Unitario de la Mano de Obra\n",
      "http://www.inegi.org.mx/app/saladeprensa/noticia.html?id=6416\n",
      "El Índice Global de Productividad Laboral de la Economía (IGPLE) con base en horas trabajadas descendió (-)1.1%....\n",
      "Thu, 11 Mar 2021 00:00:00 GMT\n",
      "Conociendo la Industria de la Vivienda\n",
      "http://www.inegi.org.mx/app/saladeprensa/noticia.html?id=6415\n",
      "En 2019 la Industria de la vivienda generó 1,050 miles de millones de pesos constantes y 2.5 millones de puestos de trabajos....\n",
      "Tue, 09 Mar 2021 00:00:00 GMT\n",
      "Registro Administrativo de la Industria Automotriz de Vehículos Pesados correspondiente a febrero de 2021\n",
      "http://www.inegi.org.mx/app/saladeprensa/noticia.html?id=6413\n",
      "En el mercado nacional se vendieron 2 353 unidades al menudeo y 1 880 unidades al mayoreo...\n",
      "Tue, 09 Mar 2021 00:00:00 GMT\n",
      "Índice Nacional de Precios al Consumidor\n",
      "http://www.inegi.org.mx/app/saladeprensa/noticia.html?id=6412\n",
      "El Índice Nacional de Precios al Consumidor (INPC) registró una inflación de 0.63 por ciento respecto al mes inmediato anterior....\n",
      "Tue, 09 Mar 2021 00:00:00 GMT\n",
      "Índice Nacional de Precios Productor\n",
      "http://www.inegi.org.mx/app/saladeprensa/noticia.html?id=6411\n",
      "El Índice Nacional de Precios Productor (INPP) Total, incluyendo petróleo, registró un incremento de 1.40%....\n",
      "Tue, 09 Mar 2021 00:00:00 GMT\n"
     ]
    }
   ],
   "source": [
    "for elem in tree:\n",
    "    for subel in elem:\n",
    "        for subsubel in subel:\n",
    "            print(subsubel.text)\n",
    "        "
   ]
  },
  {
   "cell_type": "code",
   "execution_count": 26,
   "id": "f4b2d4f3",
   "metadata": {},
   "outputs": [
    {
     "data": {
      "text/plain": [
       "<xml.etree.ElementTree.ElementTree at 0x18e54a94730>"
      ]
     },
     "execution_count": 26,
     "metadata": {},
     "output_type": "execute_result"
    }
   ],
   "source": [
    "tree = ET.parse(\"data/noticias_inegi_20210517.xml\")\n",
    "tree"
   ]
  },
  {
   "cell_type": "code",
   "execution_count": 27,
   "id": "717cb091",
   "metadata": {},
   "outputs": [
    {
     "data": {
      "text/plain": [
       "<Element 'rss' at 0x0000018E548F8EF0>"
      ]
     },
     "execution_count": 27,
     "metadata": {},
     "output_type": "execute_result"
    }
   ],
   "source": [
    "root = tree.getroot()\n",
    "root"
   ]
  },
  {
   "cell_type": "code",
   "execution_count": 29,
   "id": "eca27286",
   "metadata": {
    "scrolled": true
   },
   "outputs": [],
   "source": [
    "# for child in root:\n",
    "#     for grandchild in child:\n",
    "#         print(grandchild.tag, grandchild.attrib)"
   ]
  },
  {
   "cell_type": "code",
   "execution_count": 31,
   "id": "520dbbd1",
   "metadata": {},
   "outputs": [],
   "source": [
    "elements = [el.tag for el in root.iter()]\n",
    "# elements"
   ]
  },
  {
   "cell_type": "code",
   "execution_count": 34,
   "id": "9d9d743a",
   "metadata": {},
   "outputs": [],
   "source": [
    "# for title in root.iter('title'):\n",
    "#     print(title.text)"
   ]
  },
  {
   "cell_type": "code",
   "execution_count": null,
   "id": "344b4693",
   "metadata": {},
   "outputs": [],
   "source": []
  }
 ],
 "metadata": {
  "kernelspec": {
   "display_name": "Python 3",
   "language": "python",
   "name": "python3"
  },
  "language_info": {
   "codemirror_mode": {
    "name": "ipython",
    "version": 3
   },
   "file_extension": ".py",
   "mimetype": "text/x-python",
   "name": "python",
   "nbconvert_exporter": "python",
   "pygments_lexer": "ipython3",
   "version": "3.9.4"
  }
 },
 "nbformat": 4,
 "nbformat_minor": 5
}
