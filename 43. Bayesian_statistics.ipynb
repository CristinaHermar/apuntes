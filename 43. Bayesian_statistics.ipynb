{
  "nbformat": 4,
  "nbformat_minor": 0,
  "metadata": {
    "colab": {
      "name": "Bayesian_statistics.ipynb",
      "provenance": [],
      "collapsed_sections": []
    },
    "kernelspec": {
      "name": "python3",
      "display_name": "Python 3"
    }
  },
  "cells": [
    {
      "cell_type": "markdown",
      "metadata": {
        "id": "gfPdATJtlQWq"
      },
      "source": [
        "### Conceptos básicos"
      ]
    },
    {
      "cell_type": "markdown",
      "metadata": {
        "id": "ZPvm7GdloTuE"
      },
      "source": [
        "La probabilidad de A dado B significa la probabiliad de que pase A una vez que ya sabemos que B pasó, se usa la notación\n",
        "$$P(A|B)=\\frac{P(A\\cap B)}{P(B)}$$\n",
        "Si despejamos podemos obtener $$P(A\\cap B)=P(A|B)P(B)$$\n",
        "$$P(B\\cap A)=P(B|A)P(A)$$\n",
        "Recordemos que dos eventos son independientes sii\n",
        "$$P(A|B)=P(A)$$\n",
        "Fijándonos en la ecuación de arriba eso resulta en \n",
        "$$P(A\\cap B)=P(A)P(B)$$\n",
        "El teorema de Bayes nos dice que \n",
        "$$P(A|B)=\\frac{P(B|A)P(A)}{P(B)}$$"
      ]
    },
    {
      "cell_type": "markdown",
      "metadata": {
        "id": "o3yRkLG7px47"
      },
      "source": [
        "Un caso particular de ese teorema es cuando $A=A_1$ pertenece a una partición y podemos hacer\n",
        "$$P(A_1|B)=\\frac{P(B|A_1)P(A_1)}{P(B|A_1)P(A_1)+\\cdots+P(B|A_n)P(A_n)}$$\n",
        "\n",
        "---"
      ]
    },
    {
      "cell_type": "markdown",
      "metadata": {
        "id": "ndAfo3qoZTLX"
      },
      "source": [
        "#### Ejemplo cajas de galletas\n",
        "\n",
        "---\n",
        "\n",
        "\n",
        "\n",
        "---\n",
        "\n",
        "\n",
        "\n",
        "---\n",
        "\n",
        "\n",
        "Caja 1= 10 galletas de chocolate \\\\\n",
        "Caja 2= 5 galletas de chocolate y 5 galletas de coco \\\\\n",
        "Vamos a tomar una galleta sin ver y queremos obtener lo siguiente."
      ]
    },
    {
      "cell_type": "markdown",
      "metadata": {
        "id": "WBmIEz5nkdLt"
      },
      "source": [
        "$P(Caja1 | Chocolate)$ \\\\\n",
        "La probabilidad que la galleta obtenida sea de la caja1 si sabemos que es de chocolate"
      ]
    },
    {
      "cell_type": "markdown",
      "metadata": {
        "id": "a7bSl0BtiY80"
      },
      "source": [
        "\n",
        "$P(Caja1 | Chocolate)=\\frac{P(Chocolate|Caja1)P(Caja1)}{P(Chocolate)}$ \\\\\n",
        "$P(Chocolate | Caja1)=1$ \\\\\n",
        "$ P(Chocolate|Caja2)=1/2$ \\\\\n",
        "La siguientes probas son 1/2 porque la galleta la tomamos de una caja sin ver \\\\\n",
        "$P(Caja1)=1/2$ \\\\\n",
        "$P(Caja2)=1/2$ \\\\\n",
        "$P(Chocolate)=P(Chocolate|Caja1)P(Caja1) + P(Chocolate|Caja2)P(Caja2)=1*1/2+1/2*1/2=3/4$\n"
      ]
    },
    {
      "cell_type": "markdown",
      "metadata": {
        "id": "iQO9r2t8lCNO"
      },
      "source": [
        "$P(Caja1 | Chocolate)=\\frac{1*1/2}{3/4}=4/6=2/3$\n",
        "\n",
        "---"
      ]
    },
    {
      "cell_type": "markdown",
      "metadata": {
        "id": "HjIV-jpQHWJ1"
      },
      "source": [
        "### Terminología Bayes\n",
        "$$P(A|B)=\\frac{P(B|A)P(A)}{P(B)}$$\n",
        "$P(A)$ priori. \\\\\n",
        "$P(B|A)$ likelihood. \\\\\n",
        "$P(B)$ marginal. \\\\\n",
        "$P(A|B)$ posteriori. \\\\"
      ]
    },
    {
      "cell_type": "code",
      "metadata": {
        "id": "szWOjcnd1_3n"
      },
      "source": [
        "import numpy as np"
      ],
      "execution_count": null,
      "outputs": []
    },
    {
      "cell_type": "code",
      "metadata": {
        "id": "GoHLRD2Zi_8p"
      },
      "source": [
        "priors = [1/2, 1/2]\n",
        "likelihoods = [1, 1/2]\n",
        "#np.multiply(priors, likelihoods) = [1/2, 1/4]\n",
        "def bayes(priors, likelihoods):\n",
        "\n",
        "  marginal = sum(np.multiply(priors, likelihoods))\n",
        "\n",
        "  num = np.multiply(priors, likelihoods)\n",
        "  posteriori = np.divide(num, marginal)\n",
        "  return posteriori"
      ],
      "execution_count": null,
      "outputs": []
    },
    {
      "cell_type": "code",
      "metadata": {
        "colab": {
          "base_uri": "https://localhost:8080/"
        },
        "id": "gc2lPStPkwmJ",
        "outputId": "cfe05ba7-9dd0-4b22-f5ea-d091f458aa7d"
      },
      "source": [
        "bayes(priors, likelihoods)"
      ],
      "execution_count": null,
      "outputs": [
        {
          "output_type": "execute_result",
          "data": {
            "text/plain": [
              "array([0.66666667, 0.33333333])"
            ]
          },
          "metadata": {
            "tags": []
          },
          "execution_count": 3
        }
      ]
    },
    {
      "cell_type": "markdown",
      "metadata": {
        "id": "FD1G1qz7YdLS"
      },
      "source": [
        "### Bayes en medicina\n",
        "Primero veamos terminología que no será de utilidad un poco más adelante"
      ]
    },
    {
      "cell_type": "markdown",
      "metadata": {
        "id": "jxeMq1WjqaGy"
      },
      "source": [
        "![Sensib/especif](https://pbs.twimg.com/media/EV-bnxjUwAcZW_B.jpg)"
      ]
    },
    {
      "cell_type": "markdown",
      "metadata": {
        "id": "bbGNvcwhmRmX"
      },
      "source": [
        "P(A | B) = 1 - P(A|not B) = 1 - (1-P(not A| not B)) = P(not A| not B)\n",
        "\n",
        "P(A)=P(A)P(A|B) + P(A)P(A|not B)=P(A)[P(A|B) + P(A|not B)]\n",
        "\n",
        "P(A) = P(A)[P(A|B) + P(A|not B)]"
      ]
    },
    {
      "cell_type": "markdown",
      "metadata": {
        "id": "7yuwrwb2mx2o"
      },
      "source": [
        ""
      ]
    },
    {
      "cell_type": "markdown",
      "metadata": {
        "id": "PQIkoTQrtJiA"
      },
      "source": [
        "Supongamos que tenemos una prueba que nos ayuda a identificar si una persona ha consumido o no alguna droga específica. \\\\\n",
        "Sabiendo lo de arriba vamos a crear una función que nos ayude a calcular la probabilidad de que una persona consumiera drogas, dado que la prueba sale positiva, elgunas probabilidades importantes son:\n",
        "\n",
        "---\n",
        "$P(usuario | positivo)=\\frac{P(positivo|usuario)P(usuario)}{P(postivo)}$ \\\\\n",
        "$P(positivo)$ = P(positivo | usuario)*P(usuario) + P(positivo | no\\; usuario)*P(no\\; usuario) \\\\\n",
        "$P(positivo | usuario)=$ Sensibilidad \\\\\n",
        "$P(positivo | no\\; usuario)=1-P(negativo | no\\;usuario)$ \\\\\n",
        "$P(negativo | no\\;usuario)$ =Especificidad \\\\\n",
        "$P(usuario)=$ Prevalencia\n"
      ]
    },
    {
      "cell_type": "code",
      "metadata": {
        "id": "rdm6BlUq2Ddk"
      },
      "source": [
        "def proba_usuario(flag = 0.5, sensibilidad = 0.99, especificidad = 0.99, preval = 0.01, verbose = False):\n",
        "\n",
        "  prob_usuario = preval\n",
        "  prob_no_usuario = 1 - preval\n",
        "\n",
        "  prob_positivo_usuario = sensibilidad\n",
        "  prob_negativo_no_usuario = especificidad\n",
        "  prob_negativo_usuario = 1 - sensibilidad\n",
        "  prob_positivo_no_usuario = 1 - especificidad\n",
        "\n",
        "  prob_positivo = prob_positivo_usuario*prob_usuario + prob_positivo_no_usuario*prob_no_usuario\n",
        "  num = prob_positivo_usuario*prob_usuario\n",
        "  proba_posteriori = num/prob_positivo\n",
        "\n",
        "  if verbose:\n",
        "    if proba_posteriori > flag:\n",
        "      print(\"Que paso ai sharli\")\n",
        "\n",
        "    else:\n",
        "      print(\"Ah pos nocierto que ingieres\")\n",
        "\n",
        "  return proba_posteriori"
      ],
      "execution_count": null,
      "outputs": []
    },
    {
      "cell_type": "code",
      "metadata": {
        "id": "JxqDOVCaq1A5"
      },
      "source": [
        "import matplotlib.pyplot as plt"
      ],
      "execution_count": null,
      "outputs": []
    },
    {
      "cell_type": "code",
      "metadata": {
        "colab": {
          "base_uri": "https://localhost:8080/"
        },
        "id": "lrHGd-dSuduc",
        "outputId": "49ff5da1-b2bd-4848-be34-4781e2938081"
      },
      "source": [
        "proba_usuario(sensibilidad = .95, especificidad = 0.95, preval = 0.01)"
      ],
      "execution_count": null,
      "outputs": [
        {
          "output_type": "execute_result",
          "data": {
            "text/plain": [
              "0.16101694915254225"
            ]
          },
          "metadata": {
            "tags": []
          },
          "execution_count": 23
        }
      ]
    },
    {
      "cell_type": "code",
      "metadata": {
        "colab": {
          "base_uri": "https://localhost:8080/",
          "height": 334
        },
        "id": "X-bVkJZluUWD",
        "outputId": "bd5677b3-0c0c-4a93-93c7-72900b6e5574"
      },
      "source": [
        "probabilidades = []\n",
        "prevalencias = []\n",
        "for preva in [i*.001 for i in range(1,201,2)]:\n",
        "    prevalencias.append(preva*100)\n",
        "    p=proba_usuario(sensibilidad = 0.95, especificidad = 0.95, preval = preva)\n",
        "    probabilidades.append(p)\n",
        "plt.figure(figsize=(10, 5),facecolor='w')\n",
        "plt.plot(prevalencias, probabilidades)\n",
        "plt.xlabel('Porcentaje de la población que es usuario')\n",
        "plt.ylabel('Probabilidad de usuario | prueba positiva')\n",
        "plt.show()"
      ],
      "execution_count": null,
      "outputs": [
        {
          "output_type": "display_data",
          "data": {
            "image/png": "[encoded data removed]",
            "text/plain": [
              "<Figure size 720x360 with 1 Axes>"
            ]
          },
          "metadata": {
            "tags": []
          }
        }
      ]
    },
    {
      "cell_type": "code",
      "metadata": {
        "colab": {
          "base_uri": "https://localhost:8080/",
          "height": 334
        },
        "id": "wR3eDoYiuUD1",
        "outputId": "c1cacf8f-c41d-4696-dac7-6c23c56e5609"
      },
      "source": [
        "probabilidades = []\n",
        "sensibilidades = []\n",
        "for sensib in [i*.001+0.95 for i in range(1,51,2)]:\n",
        "    sensibilidades.append(sensib*100)\n",
        "    p=proba_usuario(sensibilidad = sensib, especificidad = 0.95, preval = 0.01)\n",
        "    probabilidades.append(p)\n",
        "plt.figure(figsize=(10, 5),facecolor='w')\n",
        "plt.plot(sensibilidades, probabilidades)\n",
        "plt.xlabel('Sensibilidad')\n",
        "plt.ylabel('Probabilidad de usuario | prueba positiva')\n",
        "plt.show()"
      ],
      "execution_count": null,
      "outputs": [
        {
          "output_type": "display_data",
          "data": {
            "image/png": "[encoded data removed]",
            "text/plain": [
              "<Figure size 720x360 with 1 Axes>"
            ]
          },
          "metadata": {
            "tags": []
          }
        }
      ]
    },
    {
      "cell_type": "code",
      "metadata": {
        "colab": {
          "base_uri": "https://localhost:8080/",
          "height": 334
        },
        "id": "gxkTthBGx6OI",
        "outputId": "30e05867-e0e2-4b2c-a74d-ba242e4f0577"
      },
      "source": [
        "probabilidades = []\n",
        "especificidades = []\n",
        "for especif in [i*.001+0.95 for i in range(1,51,2)]:\n",
        "    especificidades.append(especif*100)\n",
        "    p=proba_usuario(sensibilidad = 0.95, especificidad = especif, preval = 0.01)\n",
        "    probabilidades.append(p)\n",
        "plt.figure(figsize=(10, 5),facecolor='w')\n",
        "plt.plot(especificidades, probabilidades)\n",
        "plt.xlabel('Especificidad')\n",
        "plt.ylabel('Probabilidad de usuario | prueba positiva')\n",
        "plt.show()"
      ],
      "execution_count": null,
      "outputs": [
        {
          "output_type": "display_data",
          "data": {
            "image/png": "[encoded data removed]",
            "text/plain": [
              "<Figure size 720x360 with 1 Axes>"
            ]
          },
          "metadata": {
            "tags": []
          }
        }
      ]
    },
    {
      "cell_type": "code",
      "metadata": {
        "colab": {
          "base_uri": "https://localhost:8080/"
        },
        "id": "YnMpT4euyXhn",
        "outputId": "a84165d8-5fa7-495c-ebe1-dfa954f60549"
      },
      "source": [
        "p = proba_usuario(sensibilidad=0.95, especificidad=0.95, preval=0.005, verbose=True)"
      ],
      "execution_count": null,
      "outputs": [
        {
          "output_type": "stream",
          "text": [
            "Ah pos nocierto que ingieres\n"
          ],
          "name": "stdout"
        }
      ]
    },
    {
      "cell_type": "code",
      "metadata": {
        "colab": {
          "base_uri": "https://localhost:8080/"
        },
        "id": "btOGxRfKzk-X",
        "outputId": "03020798-7dbe-48ff-fac4-09f4d9d5eaec"
      },
      "source": [
        "p"
      ],
      "execution_count": null,
      "outputs": [
        {
          "output_type": "execute_result",
          "data": {
            "text/plain": [
              "0.08715596330275223"
            ]
          },
          "metadata": {
            "tags": []
          },
          "execution_count": 34
        }
      ]
    },
    {
      "cell_type": "code",
      "metadata": {
        "colab": {
          "base_uri": "https://localhost:8080/"
        },
        "id": "WTPx7PtIzrrC",
        "outputId": "68994958-5c1c-48cf-e78a-2f7e00ec70b5"
      },
      "source": [
        "p1 = proba_usuario(sensibilidad=0.95, especificidad=0.95, preval=0.08715596330275223, verbose=True)"
      ],
      "execution_count": null,
      "outputs": [
        {
          "output_type": "stream",
          "text": [
            "Que paso ai sharli\n"
          ],
          "name": "stdout"
        }
      ]
    },
    {
      "cell_type": "code",
      "metadata": {
        "colab": {
          "base_uri": "https://localhost:8080/"
        },
        "id": "p9wkFPHD0D0V",
        "outputId": "a86d337d-315e-469c-d0f8-98d947eacb25"
      },
      "source": [
        "p1"
      ],
      "execution_count": null,
      "outputs": [
        {
          "output_type": "execute_result",
          "data": {
            "text/plain": [
              "0.6446428571428567"
            ]
          },
          "metadata": {
            "tags": []
          },
          "execution_count": 36
        }
      ]
    },
    {
      "cell_type": "markdown",
      "metadata": {
        "id": "cdKeWzJkSX7P"
      },
      "source": [
        "Estadística bayesiana en la vida real trata de estimar algún parámetro con una distribución conocida usando muestras observadas para actualizar la distribución de dicho parámetro"
      ]
    },
    {
      "cell_type": "markdown",
      "metadata": {
        "id": "BpLLgSPT4_mC"
      },
      "source": [
        "Suppose we have just launched an online store that sells fidget spinners, and we are trying to estimate what percentage of visitors to our online store will make a purchase.\n",
        "\n",
        "Prior to seeing any traffic or purchase data, we have no idea what to expect so we will start with the assumption that all percentages are equally likely. This is called a uniform prior because we can use a uniform distribution to represent the fact that every rate has an equal chance of being the actual rate of purchase. To set this up in Python, we are going to use Numpy to generate a uniform distribution from 100,000 random draws of numbers between 0 and 1."
      ]
    },
    {
      "cell_type": "markdown",
      "metadata": {
        "id": "o8Y2epc_7mzt"
      },
      "source": [
        "Un dia nos compraron de 10 personas de 50 que visitaron el sitio"
      ]
    },
    {
      "cell_type": "code",
      "metadata": {
        "id": "GChZxfBF3Cch"
      },
      "source": [
        "# Frecuentista\n",
        "# Informacion previa no es de ayuda\n",
        "# P = compraron/total = 10/50 = 0.2"
      ],
      "execution_count": null,
      "outputs": []
    },
    {
      "cell_type": "code",
      "metadata": {
        "id": "G8-y3xcL4UY6"
      },
      "source": [
        "import pandas as pd"
      ],
      "execution_count": null,
      "outputs": []
    },
    {
      "cell_type": "code",
      "metadata": {
        "id": "uhNaZlBf3A-r"
      },
      "source": [
        "#Bayesiana\n",
        "# Informaion previa si es de ayuda"
      ],
      "execution_count": null,
      "outputs": []
    },
    {
      "cell_type": "code",
      "metadata": {
        "id": "K5K-qhgq8Ks7"
      },
      "source": [
        "n_draws = 100000\n",
        "prior = pd.Series(np.random.uniform(0, 1, size=n_draws))"
      ],
      "execution_count": null,
      "outputs": []
    },
    {
      "cell_type": "code",
      "metadata": {
        "colab": {
          "base_uri": "https://localhost:8080/"
        },
        "id": "eFc9PAOD8pzo",
        "outputId": "4f67d5ef-83b4-4e44-ef7e-97dcd717bc35"
      },
      "source": [
        "prior.head()"
      ],
      "execution_count": null,
      "outputs": [
        {
          "output_type": "execute_result",
          "data": {
            "text/plain": [
              "0    0.083738\n",
              "1    0.173826\n",
              "2    0.080635\n",
              "3    0.087028\n",
              "4    0.375372\n",
              "dtype: float64"
            ]
          },
          "metadata": {
            "tags": []
          },
          "execution_count": 40
        }
      ]
    },
    {
      "cell_type": "code",
      "metadata": {
        "colab": {
          "base_uri": "https://localhost:8080/",
          "height": 282
        },
        "id": "MaQXH5D48myU",
        "outputId": "279075ed-4f05-4042-b87e-2e7b061d52c6"
      },
      "source": [
        "prior.hist()"
      ],
      "execution_count": null,
      "outputs": [
        {
          "output_type": "execute_result",
          "data": {
            "text/plain": [
              "<matplotlib.axes._subplots.AxesSubplot at 0x7fe9c5902b90>"
            ]
          },
          "metadata": {
            "tags": []
          },
          "execution_count": 39
        },
        {
          "output_type": "display_data",
          "data": {
            "image/png": "[encoded data removed]",
            "text/plain": [
              "<Figure size 432x288 with 1 Axes>"
            ]
          },
          "metadata": {
            "tags": [],
            "needs_background": "light"
          }
        }
      ]
    },
    {
      "cell_type": "code",
      "metadata": {
        "id": "R4FXDJQH81wy"
      },
      "source": [
        "def generative_model(param):\n",
        "\n",
        "  result = np.random.binomial(50, param)\n",
        "  return result"
      ],
      "execution_count": null,
      "outputs": []
    },
    {
      "cell_type": "code",
      "metadata": {
        "colab": {
          "base_uri": "https://localhost:8080/"
        },
        "id": "9CVURC3D9LNE",
        "outputId": "f5ca7026-8322-4433-bd13-4ad9097a4e8a"
      },
      "source": [
        "generative_model(0.13)"
      ],
      "execution_count": null,
      "outputs": [
        {
          "output_type": "execute_result",
          "data": {
            "text/plain": [
              "6"
            ]
          },
          "metadata": {
            "tags": []
          },
          "execution_count": 58
        }
      ]
    },
    {
      "cell_type": "code",
      "metadata": {
        "colab": {
          "base_uri": "https://localhost:8080/"
        },
        "id": "sNYeqZUq9lG_",
        "outputId": "393ecf3b-c2ad-49a6-b76d-da87a93091bb"
      },
      "source": [
        "prior[0]"
      ],
      "execution_count": null,
      "outputs": [
        {
          "output_type": "execute_result",
          "data": {
            "text/plain": [
              "0.08373834693095616"
            ]
          },
          "metadata": {
            "tags": []
          },
          "execution_count": 59
        }
      ]
    },
    {
      "cell_type": "code",
      "metadata": {
        "colab": {
          "base_uri": "https://localhost:8080/"
        },
        "id": "sdDMxsye9pED",
        "outputId": "742cfbde-d785-4ff4-9ce1-174e8b012528"
      },
      "source": [
        "generative_model(0.08373834693095616)"
      ],
      "execution_count": null,
      "outputs": [
        {
          "output_type": "execute_result",
          "data": {
            "text/plain": [
              "4"
            ]
          },
          "metadata": {
            "tags": []
          },
          "execution_count": 60
        }
      ]
    },
    {
      "cell_type": "code",
      "metadata": {
        "id": "rCQmL7i39rY8"
      },
      "source": [
        "compraron = list()\n",
        "for proba in prior:\n",
        "  compraron.append(generative_model(proba))"
      ],
      "execution_count": null,
      "outputs": []
    },
    {
      "cell_type": "code",
      "metadata": {
        "colab": {
          "base_uri": "https://localhost:8080/"
        },
        "id": "SihS3lxT94Qd",
        "outputId": "c3223b48-d1e8-4c25-d9f6-efabc635ab42"
      },
      "source": [
        "compraron[0]"
      ],
      "execution_count": null,
      "outputs": [
        {
          "output_type": "execute_result",
          "data": {
            "text/plain": [
              "3"
            ]
          },
          "metadata": {
            "tags": []
          },
          "execution_count": 64
        }
      ]
    },
    {
      "cell_type": "code",
      "metadata": {
        "colab": {
          "base_uri": "https://localhost:8080/"
        },
        "id": "5YTZrhts98Fo",
        "outputId": "a7e57d9e-400b-4aae-aef4-46631a1c7e22"
      },
      "source": [
        "prior[:10]"
      ],
      "execution_count": null,
      "outputs": [
        {
          "output_type": "execute_result",
          "data": {
            "text/plain": [
              "0    0.083738\n",
              "1    0.173826\n",
              "2    0.080635\n",
              "3    0.087028\n",
              "4    0.375372\n",
              "5    0.245479\n",
              "6    0.520652\n",
              "7    0.233758\n",
              "8    0.680334\n",
              "9    0.740522\n",
              "dtype: float64"
            ]
          },
          "metadata": {
            "tags": []
          },
          "execution_count": 65
        }
      ]
    },
    {
      "cell_type": "code",
      "metadata": {
        "colab": {
          "base_uri": "https://localhost:8080/"
        },
        "id": "toCUFlIx991n",
        "outputId": "6ffe9b5f-020e-4f3a-b98c-ae134361ef54"
      },
      "source": [
        "compraron[:10]"
      ],
      "execution_count": null,
      "outputs": [
        {
          "output_type": "execute_result",
          "data": {
            "text/plain": [
              "[3, 10, 4, 4, 19, 10, 19, 8, 30, 32]"
            ]
          },
          "metadata": {
            "tags": []
          },
          "execution_count": 66
        }
      ]
    },
    {
      "cell_type": "code",
      "metadata": {
        "id": "eCF9z2Jr-IYJ"
      },
      "source": [
        "posterior = prior[list(map(lambda x: x == 10, compraron))]"
      ],
      "execution_count": null,
      "outputs": []
    },
    {
      "cell_type": "code",
      "metadata": {
        "colab": {
          "base_uri": "https://localhost:8080/"
        },
        "id": "Lkcbzbfp-mk4",
        "outputId": "321b6fe9-c56b-4ec7-9db0-77b32eb8722a"
      },
      "source": [
        "prior.head()"
      ],
      "execution_count": null,
      "outputs": [
        {
          "output_type": "execute_result",
          "data": {
            "text/plain": [
              "0    0.083738\n",
              "1    0.173826\n",
              "2    0.080635\n",
              "3    0.087028\n",
              "4    0.375372\n",
              "dtype: float64"
            ]
          },
          "metadata": {
            "tags": []
          },
          "execution_count": 71
        }
      ]
    },
    {
      "cell_type": "code",
      "metadata": {
        "colab": {
          "base_uri": "https://localhost:8080/"
        },
        "id": "XqplItbZ-jJ8",
        "outputId": "5e3e6fb0-35b1-4635-c65f-ec6e54adf5fd"
      },
      "source": [
        "posterior"
      ],
      "execution_count": null,
      "outputs": [
        {
          "output_type": "execute_result",
          "data": {
            "text/plain": [
              "1        0.173826\n",
              "5        0.245479\n",
              "75       0.164702\n",
              "121      0.312129\n",
              "206      0.188905\n",
              "           ...   \n",
              "99810    0.262575\n",
              "99858    0.204810\n",
              "99889    0.146949\n",
              "99893    0.095659\n",
              "99971    0.138258\n",
              "Length: 1951, dtype: float64"
            ]
          },
          "metadata": {
            "tags": []
          },
          "execution_count": 70
        }
      ]
    },
    {
      "cell_type": "code",
      "metadata": {
        "colab": {
          "base_uri": "https://localhost:8080/",
          "height": 282
        },
        "id": "KAET6fW5-uz9",
        "outputId": "f46570ea-ae3b-4986-e4b3-b4fac8207e89"
      },
      "source": [
        "posterior.hist()"
      ],
      "execution_count": null,
      "outputs": [
        {
          "output_type": "execute_result",
          "data": {
            "text/plain": [
              "<matplotlib.axes._subplots.AxesSubplot at 0x7fe9c5f19090>"
            ]
          },
          "metadata": {
            "tags": []
          },
          "execution_count": 72
        },
        {
          "output_type": "display_data",
          "data": {
            "image/png": "[encoded data removed]",
            "text/plain": [
              "<Figure size 432x288 with 1 Axes>"
            ]
          },
          "metadata": {
            "tags": [],
            "needs_background": "light"
          }
        }
      ]
    },
    {
      "cell_type": "markdown",
      "metadata": {
        "id": "wyqk1eMJxcTV"
      },
      "source": [
        "Binomial(n,p) \\\\\n",
        "En este caso nuestro parámetro que estimaremos es p, ya depende del programmador saber qué siginifica, en caso de la binomial es la probabilidad de que un usuario compre."
      ]
    },
    {
      "cell_type": "markdown",
      "metadata": {
        "id": "aOi8D_9R_TiN"
      },
      "source": [
        "---\n",
        "\n",
        "Supongamos que abrimos una caseta en algún punto de la república y queremos modelar el número de automóviles que pasaran cada dia, sabemos que lo podemos modelar con una distribución $Poisson(\\lambda)$ (número de éxitos en un tiempo o distancia fijos). \\\\\n",
        " Si tuvieramos el valor de $\\lambda$ podríamos sacar muchas cosas entonces trataremos de estimarlo (recordemos que $\\lambda$ será el promedio de autómoviles que pasaran por hora en la caseta)"
      ]
    },
    {
      "cell_type": "code",
      "metadata": {
        "colab": {
          "base_uri": "https://localhost:8080/"
        },
        "id": "NDV59zbF_TrQ",
        "outputId": "1885307e-41d1-4852-95ac-d3c4b56ae8b8"
      },
      "source": [
        "from google.colab import drive\n",
        "drive.mount(\"/content/drive\")"
      ],
      "execution_count": null,
      "outputs": [
        {
          "output_type": "stream",
          "text": [
            "Mounted at /content/drive\n"
          ],
          "name": "stdout"
        }
      ]
    },
    {
      "cell_type": "code",
      "metadata": {
        "id": "F-3pMbsyADnJ"
      },
      "source": [
        "df = pd.read_csv('/content/drive/MyDrive/Ironhack/bayes/Casetas.csv')"
      ],
      "execution_count": null,
      "outputs": []
    },
    {
      "cell_type": "code",
      "metadata": {
        "colab": {
          "base_uri": "https://localhost:8080/",
          "height": 203
        },
        "id": "PWNjcKRwATHO",
        "outputId": "3d7783cf-e68e-44bf-aa44-d98818303330"
      },
      "source": [
        "df.head()"
      ],
      "execution_count": null,
      "outputs": [
        {
          "output_type": "execute_result",
          "data": {
            "text/html": [
              "<div>\n",
              "<style scoped>\n",
              "    .dataframe tbody tr th:only-of-type {\n",
              "        vertical-align: middle;\n",
              "    }\n",
              "\n",
              "    .dataframe tbody tr th {\n",
              "        vertical-align: top;\n",
              "    }\n",
              "\n",
              "    .dataframe thead th {\n",
              "        text-align: right;\n",
              "    }\n",
              "</style>\n",
              "<table border=\"1\" class=\"dataframe\">\n",
              "  <thead>\n",
              "    <tr style=\"text-align: right;\">\n",
              "      <th></th>\n",
              "      <th>caseta</th>\n",
              "      <th>vehiculo</th>\n",
              "      <th>fecha</th>\n",
              "    </tr>\n",
              "  </thead>\n",
              "  <tbody>\n",
              "    <tr>\n",
              "      <th>0</th>\n",
              "      <td>DB3</td>\n",
              "      <td>Auto</td>\n",
              "      <td>2018-03-17</td>\n",
              "    </tr>\n",
              "    <tr>\n",
              "      <th>1</th>\n",
              "      <td>PQ8</td>\n",
              "      <td>Auto</td>\n",
              "      <td>2019-11-22</td>\n",
              "    </tr>\n",
              "    <tr>\n",
              "      <th>2</th>\n",
              "      <td>UB7</td>\n",
              "      <td>Auto</td>\n",
              "      <td>2017-01-17</td>\n",
              "    </tr>\n",
              "    <tr>\n",
              "      <th>3</th>\n",
              "      <td>AA4</td>\n",
              "      <td>Auto</td>\n",
              "      <td>2017-03-30</td>\n",
              "    </tr>\n",
              "    <tr>\n",
              "      <th>4</th>\n",
              "      <td>TW3</td>\n",
              "      <td>Moto</td>\n",
              "      <td>2017-01-11</td>\n",
              "    </tr>\n",
              "  </tbody>\n",
              "</table>\n",
              "</div>"
            ],
            "text/plain": [
              "  caseta vehiculo      fecha\n",
              "0    DB3     Auto 2018-03-17\n",
              "1    PQ8     Auto 2019-11-22\n",
              "2    UB7     Auto 2017-01-17\n",
              "3    AA4     Auto 2017-03-30\n",
              "4    TW3     Moto 2017-01-11"
            ]
          },
          "metadata": {
            "tags": []
          },
          "execution_count": 168
        }
      ]
    },
    {
      "cell_type": "code",
      "metadata": {
        "colab": {
          "base_uri": "https://localhost:8080/"
        },
        "id": "otlLq-MwAWZr",
        "outputId": "dd146c87-8be3-4a7e-d122-3cfc21a1c664"
      },
      "source": [
        "df.info()"
      ],
      "execution_count": null,
      "outputs": [
        {
          "output_type": "stream",
          "text": [
            "<class 'pandas.core.frame.DataFrame'>\n",
            "RangeIndex: 1531110 entries, 0 to 1531109\n",
            "Data columns (total 3 columns):\n",
            " #   Column    Non-Null Count    Dtype \n",
            "---  ------    --------------    ----- \n",
            " 0   caseta    1531110 non-null  object\n",
            " 1   vehiculo  1531110 non-null  object\n",
            " 2   fecha     1531110 non-null  object\n",
            "dtypes: object(3)\n",
            "memory usage: 35.0+ MB\n"
          ],
          "name": "stdout"
        }
      ]
    },
    {
      "cell_type": "code",
      "metadata": {
        "colab": {
          "base_uri": "https://localhost:8080/"
        },
        "id": "O643vXHdAY4G",
        "outputId": "995a58ca-2122-4cd2-a50b-c11c2b9e8787"
      },
      "source": [
        "df.vehiculo.unique()"
      ],
      "execution_count": null,
      "outputs": [
        {
          "output_type": "execute_result",
          "data": {
            "text/plain": [
              "array(['Auto', 'Moto', '2/3/4', '5/6', 'ExCarga', 'ExLigero'],\n",
              "      dtype=object)"
            ]
          },
          "metadata": {
            "tags": []
          },
          "execution_count": 77
        }
      ]
    },
    {
      "cell_type": "code",
      "metadata": {
        "colab": {
          "base_uri": "https://localhost:8080/"
        },
        "id": "wY5pO8rLAicn",
        "outputId": "2611c758-a57b-41f0-d418-de6c016242d0"
      },
      "source": [
        "df.fecha.unique()"
      ],
      "execution_count": null,
      "outputs": [
        {
          "output_type": "execute_result",
          "data": {
            "text/plain": [
              "array(['2018-03-17', '2019-11-22', '2017-01-17', ..., '2019-09-30',\n",
              "       '2019-03-18', '2018-08-27'], dtype=object)"
            ]
          },
          "metadata": {
            "tags": []
          },
          "execution_count": 78
        }
      ]
    },
    {
      "cell_type": "code",
      "metadata": {
        "id": "k5X2Zvc0Asg8"
      },
      "source": [
        "df.fecha = df.fecha.astype(np.datetime64)"
      ],
      "execution_count": null,
      "outputs": []
    },
    {
      "cell_type": "code",
      "metadata": {
        "colab": {
          "base_uri": "https://localhost:8080/"
        },
        "id": "4yq6Xn1aBB8d",
        "outputId": "e7e5c7a7-b873-46a2-d4db-2151728b6673"
      },
      "source": [
        "df.info()"
      ],
      "execution_count": null,
      "outputs": [
        {
          "output_type": "stream",
          "text": [
            "<class 'pandas.core.frame.DataFrame'>\n",
            "RangeIndex: 1531110 entries, 0 to 1531109\n",
            "Data columns (total 3 columns):\n",
            " #   Column    Non-Null Count    Dtype         \n",
            "---  ------    --------------    -----         \n",
            " 0   caseta    1531110 non-null  object        \n",
            " 1   vehiculo  1531110 non-null  object        \n",
            " 2   fecha     1531110 non-null  datetime64[ns]\n",
            "dtypes: datetime64[ns](1), object(2)\n",
            "memory usage: 35.0+ MB\n"
          ],
          "name": "stdout"
        }
      ]
    },
    {
      "cell_type": "code",
      "metadata": {
        "colab": {
          "base_uri": "https://localhost:8080/"
        },
        "id": "IHEO-ImoBJ_B",
        "outputId": "29de047c-13ad-4519-898a-b57ae801c1ef"
      },
      "source": [
        "df.fecha.min()"
      ],
      "execution_count": null,
      "outputs": [
        {
          "output_type": "execute_result",
          "data": {
            "text/plain": [
              "Timestamp('2017-01-01 00:00:00')"
            ]
          },
          "metadata": {
            "tags": []
          },
          "execution_count": 84
        }
      ]
    },
    {
      "cell_type": "code",
      "metadata": {
        "colab": {
          "base_uri": "https://localhost:8080/"
        },
        "id": "pCOzCbEqBNLo",
        "outputId": "3dfb63f9-6f25-42dc-e323-b3664ee7b0d8"
      },
      "source": [
        "df.fecha.max()"
      ],
      "execution_count": null,
      "outputs": [
        {
          "output_type": "execute_result",
          "data": {
            "text/plain": [
              "Timestamp('2019-12-31 00:00:00')"
            ]
          },
          "metadata": {
            "tags": []
          },
          "execution_count": 85
        }
      ]
    },
    {
      "cell_type": "code",
      "metadata": {
        "colab": {
          "base_uri": "https://localhost:8080/",
          "height": 203
        },
        "id": "UzjGR4GRBOPf",
        "outputId": "8bcc7626-1922-4149-f208-05438c696277"
      },
      "source": [
        "df.head()"
      ],
      "execution_count": null,
      "outputs": [
        {
          "output_type": "execute_result",
          "data": {
            "text/html": [
              "<div>\n",
              "<style scoped>\n",
              "    .dataframe tbody tr th:only-of-type {\n",
              "        vertical-align: middle;\n",
              "    }\n",
              "\n",
              "    .dataframe tbody tr th {\n",
              "        vertical-align: top;\n",
              "    }\n",
              "\n",
              "    .dataframe thead th {\n",
              "        text-align: right;\n",
              "    }\n",
              "</style>\n",
              "<table border=\"1\" class=\"dataframe\">\n",
              "  <thead>\n",
              "    <tr style=\"text-align: right;\">\n",
              "      <th></th>\n",
              "      <th>caseta</th>\n",
              "      <th>vehiculo</th>\n",
              "      <th>fecha</th>\n",
              "    </tr>\n",
              "  </thead>\n",
              "  <tbody>\n",
              "    <tr>\n",
              "      <th>0</th>\n",
              "      <td>DB3</td>\n",
              "      <td>Auto</td>\n",
              "      <td>2018-03-17</td>\n",
              "    </tr>\n",
              "    <tr>\n",
              "      <th>1</th>\n",
              "      <td>PQ8</td>\n",
              "      <td>Auto</td>\n",
              "      <td>2019-11-22</td>\n",
              "    </tr>\n",
              "    <tr>\n",
              "      <th>2</th>\n",
              "      <td>UB7</td>\n",
              "      <td>Auto</td>\n",
              "      <td>2017-01-17</td>\n",
              "    </tr>\n",
              "    <tr>\n",
              "      <th>3</th>\n",
              "      <td>AA4</td>\n",
              "      <td>Auto</td>\n",
              "      <td>2017-03-30</td>\n",
              "    </tr>\n",
              "    <tr>\n",
              "      <th>4</th>\n",
              "      <td>TW3</td>\n",
              "      <td>Moto</td>\n",
              "      <td>2017-01-11</td>\n",
              "    </tr>\n",
              "  </tbody>\n",
              "</table>\n",
              "</div>"
            ],
            "text/plain": [
              "  caseta vehiculo      fecha\n",
              "0    DB3     Auto 2018-03-17\n",
              "1    PQ8     Auto 2019-11-22\n",
              "2    UB7     Auto 2017-01-17\n",
              "3    AA4     Auto 2017-03-30\n",
              "4    TW3     Moto 2017-01-11"
            ]
          },
          "metadata": {
            "tags": []
          },
          "execution_count": 86
        }
      ]
    },
    {
      "cell_type": "code",
      "metadata": {
        "id": "l3wMuBdxBRMK"
      },
      "source": [
        "df_ord = df.sort_values(['caseta','fecha'])"
      ],
      "execution_count": null,
      "outputs": []
    },
    {
      "cell_type": "code",
      "metadata": {
        "id": "OvusUtWfBfj0"
      },
      "source": [
        "#df_ord.head(20)"
      ],
      "execution_count": null,
      "outputs": []
    },
    {
      "cell_type": "code",
      "metadata": {
        "colab": {
          "base_uri": "https://localhost:8080/",
          "height": 282
        },
        "id": "t8CvK9SxB7Wb",
        "outputId": "12c90066-3ad6-489a-a710-787f34b9a0f3"
      },
      "source": [
        "df_ord.value_counts('fecha').hist()"
      ],
      "execution_count": null,
      "outputs": [
        {
          "output_type": "execute_result",
          "data": {
            "text/plain": [
              "<matplotlib.axes._subplots.AxesSubplot at 0x7fe9c5e0ab10>"
            ]
          },
          "metadata": {
            "tags": []
          },
          "execution_count": 93
        },
        {
          "output_type": "display_data",
          "data": {
            "image/png": "[encoded data removed]",
            "text/plain": [
              "<Figure size 432x288 with 1 Axes>"
            ]
          },
          "metadata": {
            "tags": [],
            "needs_background": "light"
          }
        }
      ]
    },
    {
      "cell_type": "code",
      "metadata": {
        "id": "dOFv7pXBBtGy"
      },
      "source": [
        "df_gb = df_ord.groupby(['caseta', 'fecha'], as_index=False).agg('count')"
      ],
      "execution_count": null,
      "outputs": []
    },
    {
      "cell_type": "code",
      "metadata": {
        "colab": {
          "base_uri": "https://localhost:8080/",
          "height": 203
        },
        "id": "jKtGeXgbC4z9",
        "outputId": "a7ba761a-b2ed-4b4e-eb0a-b63a72171dcd"
      },
      "source": [
        "df_gb.head(5)"
      ],
      "execution_count": null,
      "outputs": [
        {
          "output_type": "execute_result",
          "data": {
            "text/html": [
              "<div>\n",
              "<style scoped>\n",
              "    .dataframe tbody tr th:only-of-type {\n",
              "        vertical-align: middle;\n",
              "    }\n",
              "\n",
              "    .dataframe tbody tr th {\n",
              "        vertical-align: top;\n",
              "    }\n",
              "\n",
              "    .dataframe thead th {\n",
              "        text-align: right;\n",
              "    }\n",
              "</style>\n",
              "<table border=\"1\" class=\"dataframe\">\n",
              "  <thead>\n",
              "    <tr style=\"text-align: right;\">\n",
              "      <th></th>\n",
              "      <th>caseta</th>\n",
              "      <th>fecha</th>\n",
              "      <th>vehiculo</th>\n",
              "    </tr>\n",
              "  </thead>\n",
              "  <tbody>\n",
              "    <tr>\n",
              "      <th>0</th>\n",
              "      <td>AA2</td>\n",
              "      <td>2017-01-01</td>\n",
              "      <td>14</td>\n",
              "    </tr>\n",
              "    <tr>\n",
              "      <th>1</th>\n",
              "      <td>AA2</td>\n",
              "      <td>2017-01-02</td>\n",
              "      <td>7</td>\n",
              "    </tr>\n",
              "    <tr>\n",
              "      <th>2</th>\n",
              "      <td>AA2</td>\n",
              "      <td>2017-01-03</td>\n",
              "      <td>10</td>\n",
              "    </tr>\n",
              "    <tr>\n",
              "      <th>3</th>\n",
              "      <td>AA2</td>\n",
              "      <td>2017-01-04</td>\n",
              "      <td>14</td>\n",
              "    </tr>\n",
              "    <tr>\n",
              "      <th>4</th>\n",
              "      <td>AA2</td>\n",
              "      <td>2017-01-05</td>\n",
              "      <td>7</td>\n",
              "    </tr>\n",
              "  </tbody>\n",
              "</table>\n",
              "</div>"
            ],
            "text/plain": [
              "  caseta      fecha  vehiculo\n",
              "0    AA2 2017-01-01        14\n",
              "1    AA2 2017-01-02         7\n",
              "2    AA2 2017-01-03        10\n",
              "3    AA2 2017-01-04        14\n",
              "4    AA2 2017-01-05         7"
            ]
          },
          "metadata": {
            "tags": []
          },
          "execution_count": 104
        }
      ]
    },
    {
      "cell_type": "code",
      "metadata": {
        "colab": {
          "base_uri": "https://localhost:8080/",
          "height": 282
        },
        "id": "vGh-sCdkCTnu",
        "outputId": "08032b26-fcfb-4ea2-bc2b-6a350e12489b"
      },
      "source": [
        "df_gb.vehiculo.hist()"
      ],
      "execution_count": null,
      "outputs": [
        {
          "output_type": "execute_result",
          "data": {
            "text/plain": [
              "<matplotlib.axes._subplots.AxesSubplot at 0x7fe9c60c5810>"
            ]
          },
          "metadata": {
            "tags": []
          },
          "execution_count": 105
        },
        {
          "output_type": "display_data",
          "data": {
            "image/png": "[encoded data removed]",
            "text/plain": [
              "<Figure size 432x288 with 1 Axes>"
            ]
          },
          "metadata": {
            "tags": [],
            "needs_background": "light"
          }
        }
      ]
    },
    {
      "cell_type": "code",
      "metadata": {
        "colab": {
          "base_uri": "https://localhost:8080/",
          "height": 314
        },
        "id": "Vnh22kyDCelw",
        "outputId": "d8388c4e-f2ae-46dc-9c7f-430a3dbf8148"
      },
      "source": [
        "medias = df_gb.groupby('fecha').agg({'vehiculo':'mean'})\n",
        "medias.hist()"
      ],
      "execution_count": null,
      "outputs": [
        {
          "output_type": "execute_result",
          "data": {
            "text/plain": [
              "array([[<matplotlib.axes._subplots.AxesSubplot object at 0x7fe9c5458850>]],\n",
              "      dtype=object)"
            ]
          },
          "metadata": {
            "tags": []
          },
          "execution_count": 171
        },
        {
          "output_type": "display_data",
          "data": {
            "image/png": "[encoded data removed]",
            "text/plain": [
              "<Figure size 432x288 with 1 Axes>"
            ]
          },
          "metadata": {
            "tags": [],
            "needs_background": "light"
          }
        }
      ]
    },
    {
      "cell_type": "code",
      "metadata": {
        "colab": {
          "base_uri": "https://localhost:8080/",
          "height": 314
        },
        "id": "JJBQxl8PU2GR",
        "outputId": "a37bfdf2-6b8b-4783-8508-8aed5ead09b3"
      },
      "source": [
        "medias2 = df_gb.groupby('caseta').agg({'vehiculo':'mean'})\n",
        "medias2.hist()"
      ],
      "execution_count": null,
      "outputs": [
        {
          "output_type": "execute_result",
          "data": {
            "text/plain": [
              "array([[<matplotlib.axes._subplots.AxesSubplot object at 0x7fe9c4df61d0>]],\n",
              "      dtype=object)"
            ]
          },
          "metadata": {
            "tags": []
          },
          "execution_count": 172
        },
        {
          "output_type": "display_data",
          "data": {
            "image/png": "[encoded data removed]",
            "text/plain": [
              "<Figure size 432x288 with 1 Axes>"
            ]
          },
          "metadata": {
            "tags": [],
            "needs_background": "light"
          }
        }
      ]
    },
    {
      "cell_type": "code",
      "metadata": {
        "colab": {
          "base_uri": "https://localhost:8080/",
          "height": 234
        },
        "id": "BALKZE0GCwwL",
        "outputId": "e5337fde-3688-45f9-de4d-6a5f3fd692ee"
      },
      "source": [
        "medias.head()"
      ],
      "execution_count": null,
      "outputs": [
        {
          "output_type": "execute_result",
          "data": {
            "text/html": [
              "<div>\n",
              "<style scoped>\n",
              "    .dataframe tbody tr th:only-of-type {\n",
              "        vertical-align: middle;\n",
              "    }\n",
              "\n",
              "    .dataframe tbody tr th {\n",
              "        vertical-align: top;\n",
              "    }\n",
              "\n",
              "    .dataframe thead th {\n",
              "        text-align: right;\n",
              "    }\n",
              "</style>\n",
              "<table border=\"1\" class=\"dataframe\">\n",
              "  <thead>\n",
              "    <tr style=\"text-align: right;\">\n",
              "      <th></th>\n",
              "      <th>vehiculo</th>\n",
              "    </tr>\n",
              "    <tr>\n",
              "      <th>fecha</th>\n",
              "      <th></th>\n",
              "    </tr>\n",
              "  </thead>\n",
              "  <tbody>\n",
              "    <tr>\n",
              "      <th>2017-01-01</th>\n",
              "      <td>15.698925</td>\n",
              "    </tr>\n",
              "    <tr>\n",
              "      <th>2017-01-02</th>\n",
              "      <td>14.870968</td>\n",
              "    </tr>\n",
              "    <tr>\n",
              "      <th>2017-01-03</th>\n",
              "      <td>15.021505</td>\n",
              "    </tr>\n",
              "    <tr>\n",
              "      <th>2017-01-04</th>\n",
              "      <td>14.784946</td>\n",
              "    </tr>\n",
              "    <tr>\n",
              "      <th>2017-01-05</th>\n",
              "      <td>14.655914</td>\n",
              "    </tr>\n",
              "  </tbody>\n",
              "</table>\n",
              "</div>"
            ],
            "text/plain": [
              "             vehiculo\n",
              "fecha                \n",
              "2017-01-01  15.698925\n",
              "2017-01-02  14.870968\n",
              "2017-01-03  15.021505\n",
              "2017-01-04  14.784946\n",
              "2017-01-05  14.655914"
            ]
          },
          "metadata": {
            "tags": []
          },
          "execution_count": 109
        }
      ]
    },
    {
      "cell_type": "markdown",
      "metadata": {
        "id": "TQe2dD_PDqeL"
      },
      "source": [
        "Abrí la caseta y vi que pasaron 8 automoviles"
      ]
    },
    {
      "cell_type": "code",
      "metadata": {
        "colab": {
          "base_uri": "https://localhost:8080/"
        },
        "id": "WTRpuu9-FAD-",
        "outputId": "9a350c15-190e-4473-bde1-8e149812b394"
      },
      "source": [
        "medias.values"
      ],
      "execution_count": null,
      "outputs": [
        {
          "output_type": "execute_result",
          "data": {
            "text/plain": [
              "array([[15.69892473],\n",
              "       [14.87096774],\n",
              "       [15.02150538],\n",
              "       ...,\n",
              "       [15.47311828],\n",
              "       [14.92473118],\n",
              "       [14.82795699]])"
            ]
          },
          "metadata": {
            "tags": []
          },
          "execution_count": 138
        }
      ]
    },
    {
      "cell_type": "code",
      "metadata": {
        "id": "jkyDFglbEz4n"
      },
      "source": [
        "parametros = df_gb.vehiculo"
      ],
      "execution_count": null,
      "outputs": []
    },
    {
      "cell_type": "code",
      "metadata": {
        "colab": {
          "base_uri": "https://localhost:8080/"
        },
        "id": "Hb9tm6z-E-s0",
        "outputId": "9282d2f1-7ca2-4d66-d545-38181131bc1f"
      },
      "source": [
        "parametros.values"
      ],
      "execution_count": null,
      "outputs": [
        {
          "output_type": "execute_result",
          "data": {
            "text/plain": [
              "array([14,  7, 10, ..., 11, 14, 11])"
            ]
          },
          "metadata": {
            "tags": []
          },
          "execution_count": 210
        }
      ]
    },
    {
      "cell_type": "code",
      "metadata": {
        "id": "7WOHMBMYDb8a"
      },
      "source": [
        "def generative_model_poisson(param):\n",
        "\n",
        "  result = np.random.poisson(param)\n",
        "  return result"
      ],
      "execution_count": null,
      "outputs": []
    },
    {
      "cell_type": "code",
      "metadata": {
        "id": "NjOHMDYcEO4o"
      },
      "source": [
        "pasaron = list()\n",
        "for l in parametros:\n",
        "  pasaron.append(generative_model_poisson(l))"
      ],
      "execution_count": null,
      "outputs": []
    },
    {
      "cell_type": "code",
      "metadata": {
        "colab": {
          "base_uri": "https://localhost:8080/"
        },
        "id": "a74XVxuAErEj",
        "outputId": "fe2a03fc-3461-431a-9073-96c0bb17cc77"
      },
      "source": [
        "pasaron[:10]"
      ],
      "execution_count": null,
      "outputs": [
        {
          "output_type": "execute_result",
          "data": {
            "text/plain": [
              "[12, 9, 11, 15, 10, 9, 5, 13, 8, 14]"
            ]
          },
          "metadata": {
            "tags": []
          },
          "execution_count": 213
        }
      ]
    },
    {
      "cell_type": "code",
      "metadata": {
        "id": "UUlq0MFOEuHg"
      },
      "source": [
        "posterior = parametros[list(map(lambda x: x==8, pasaron))]"
      ],
      "execution_count": null,
      "outputs": []
    },
    {
      "cell_type": "code",
      "metadata": {
        "colab": {
          "base_uri": "https://localhost:8080/",
          "height": 314
        },
        "id": "g1fuhQqOFgk5",
        "outputId": "d697078f-5bcd-47ca-bd71-5f1b341a031f"
      },
      "source": [
        "df_gb.hist()"
      ],
      "execution_count": null,
      "outputs": [
        {
          "output_type": "execute_result",
          "data": {
            "text/plain": [
              "array([[<matplotlib.axes._subplots.AxesSubplot object at 0x7fe9c47a1e10>]],\n",
              "      dtype=object)"
            ]
          },
          "metadata": {
            "tags": []
          },
          "execution_count": 215
        },
        {
          "output_type": "display_data",
          "data": {
            "image/png": "[encoded data removed]",
            "text/plain": [
              "<Figure size 432x288 with 1 Axes>"
            ]
          },
          "metadata": {
            "tags": [],
            "needs_background": "light"
          }
        }
      ]
    },
    {
      "cell_type": "code",
      "metadata": {
        "colab": {
          "base_uri": "https://localhost:8080/",
          "height": 282
        },
        "id": "COzp5f2TFYCH",
        "outputId": "5d847f95-509a-4afd-fe42-41d084202d9c"
      },
      "source": [
        "posterior.hist()"
      ],
      "execution_count": null,
      "outputs": [
        {
          "output_type": "execute_result",
          "data": {
            "text/plain": [
              "<matplotlib.axes._subplots.AxesSubplot at 0x7fe9c4715b90>"
            ]
          },
          "metadata": {
            "tags": []
          },
          "execution_count": 216
        },
        {
          "output_type": "display_data",
          "data": {
            "image/png": "[encoded data removed]",
            "text/plain": [
              "<Figure size 432x288 with 1 Axes>"
            ]
          },
          "metadata": {
            "tags": [],
            "needs_background": "light"
          }
        }
      ]
    },
    {
      "cell_type": "code",
      "metadata": {
        "id": "nvjOBgjrXJDc"
      },
      "source": [
        "parametros2 = posterior.copy()\n",
        "pasaron = list()\n",
        "for l in parametros2:\n",
        "  pasaron.append(generative_model_poisson(l))\n",
        "posterior = parametros2[list(map(lambda x: x==8, pasaron))]"
      ],
      "execution_count": null,
      "outputs": []
    },
    {
      "cell_type": "code",
      "metadata": {
        "colab": {
          "base_uri": "https://localhost:8080/",
          "height": 314
        },
        "id": "giHc7TJkXrik",
        "outputId": "42653dd0-45ca-49fa-87f0-1fd335bd18c0"
      },
      "source": [
        "df_gb.hist()"
      ],
      "execution_count": null,
      "outputs": [
        {
          "output_type": "execute_result",
          "data": {
            "text/plain": [
              "array([[<matplotlib.axes._subplots.AxesSubplot object at 0x7fe9c44f1090>]],\n",
              "      dtype=object)"
            ]
          },
          "metadata": {
            "tags": []
          },
          "execution_count": 226
        },
        {
          "output_type": "display_data",
          "data": {
            "image/png": "[encoded data removed]",
            "text/plain": [
              "<Figure size 432x288 with 1 Axes>"
            ]
          },
          "metadata": {
            "tags": [],
            "needs_background": "light"
          }
        }
      ]
    },
    {
      "cell_type": "code",
      "metadata": {
        "colab": {
          "base_uri": "https://localhost:8080/",
          "height": 282
        },
        "id": "6dzuTFcFXmpn",
        "outputId": "7b9463ce-a724-4eac-d2b3-53ed0a0e8574"
      },
      "source": [
        "parametros2.hist()"
      ],
      "execution_count": null,
      "outputs": [
        {
          "output_type": "execute_result",
          "data": {
            "text/plain": [
              "<matplotlib.axes._subplots.AxesSubplot at 0x7fe9c4560510>"
            ]
          },
          "metadata": {
            "tags": []
          },
          "execution_count": 225
        },
        {
          "output_type": "display_data",
          "data": {
            "image/png": "[encoded data removed]",
            "text/plain": [
              "<Figure size 432x288 with 1 Axes>"
            ]
          },
          "metadata": {
            "tags": [],
            "needs_background": "light"
          }
        }
      ]
    },
    {
      "cell_type": "code",
      "metadata": {
        "colab": {
          "base_uri": "https://localhost:8080/",
          "height": 282
        },
        "id": "cPFSH1FvXkts",
        "outputId": "4a586d61-7952-4b00-992a-18047c53047d"
      },
      "source": [
        "posterior.hist()"
      ],
      "execution_count": null,
      "outputs": [
        {
          "output_type": "execute_result",
          "data": {
            "text/plain": [
              "<matplotlib.axes._subplots.AxesSubplot at 0x7fe9c4b24c50>"
            ]
          },
          "metadata": {
            "tags": []
          },
          "execution_count": 224
        },
        {
          "output_type": "display_data",
          "data": {
            "image/png": "[encoded data removed]",
            "text/plain": [
              "<Figure size 432x288 with 1 Axes>"
            ]
          },
          "metadata": {
            "tags": [],
            "needs_background": "light"
          }
        }
      ]
    },
    {
      "cell_type": "code",
      "metadata": {
        "colab": {
          "base_uri": "https://localhost:8080/"
        },
        "id": "JE7MndLuZVty",
        "outputId": "59d3ba8d-5d23-4f3c-c5ad-b1609028f399"
      },
      "source": [
        "posterior"
      ],
      "execution_count": null,
      "outputs": [
        {
          "output_type": "execute_result",
          "data": {
            "text/plain": [
              "64         8\n",
              "97        13\n",
              "156       11\n",
              "237       10\n",
              "272        9\n",
              "          ..\n",
              "100559    12\n",
              "100792    10\n",
              "101165     7\n",
              "101748     7\n",
              "101783     9\n",
              "Name: vehiculo, Length: 399, dtype: int64"
            ]
          },
          "metadata": {
            "tags": []
          },
          "execution_count": 228
        }
      ]
    },
    {
      "cell_type": "code",
      "metadata": {
        "colab": {
          "base_uri": "https://localhost:8080/"
        },
        "id": "LLxMmZY8W2D9",
        "outputId": "78882be6-0633-443f-ee2a-a4616e8053a1"
      },
      "source": [
        "posterior.describe()"
      ],
      "execution_count": null,
      "outputs": [
        {
          "output_type": "execute_result",
          "data": {
            "text/plain": [
              "count    399.000000\n",
              "mean       9.315789\n",
              "std        1.924590\n",
              "min        5.000000\n",
              "25%        8.000000\n",
              "50%        9.000000\n",
              "75%       10.000000\n",
              "max       16.000000\n",
              "Name: vehiculo, dtype: float64"
            ]
          },
          "metadata": {
            "tags": []
          },
          "execution_count": 227
        }
      ]
    },
    {
      "cell_type": "code",
      "metadata": {
        "colab": {
          "base_uri": "https://localhost:8080/"
        },
        "id": "8YaA_zk5Ynas",
        "outputId": "f45d5dce-8027-40bd-d06b-eb54667385e4"
      },
      "source": [
        "# Intervalo de confianza del 95% izquierda\n",
        "print(f'(-inf, {posterior.quantile(0.95)})')"
      ],
      "execution_count": null,
      "outputs": [
        {
          "output_type": "stream",
          "text": [
            "(-inf, 13.0)\n"
          ],
          "name": "stdout"
        }
      ]
    },
    {
      "cell_type": "code",
      "metadata": {
        "colab": {
          "base_uri": "https://localhost:8080/"
        },
        "id": "3Kg3aMMxZfO8",
        "outputId": "2a3d14a2-b266-4a63-9643-625aff713dfb"
      },
      "source": [
        "# Intervalo de confianza del 95% derecha\n",
        "print(f'({posterior.quantile(0.05)}, inf)')"
      ],
      "execution_count": null,
      "outputs": [
        {
          "output_type": "stream",
          "text": [
            "(6.0, inf)\n"
          ],
          "name": "stdout"
        }
      ]
    },
    {
      "cell_type": "code",
      "metadata": {
        "colab": {
          "base_uri": "https://localhost:8080/"
        },
        "id": "zTAS71c-ZsRL",
        "outputId": "c4beaeb6-ff30-4da8-e034-1172c5bba625"
      },
      "source": [
        "# Intervalo de confianza del 95% centro\n",
        "print(f'({posterior.quantile(0.025)}, {posterior.quantile(0.975)})')"
      ],
      "execution_count": null,
      "outputs": [
        {
          "output_type": "stream",
          "text": [
            "(6.0, 14.0)\n"
          ],
          "name": "stdout"
        }
      ]
    },
    {
      "cell_type": "code",
      "metadata": {
        "colab": {
          "base_uri": "https://localhost:8080/"
        },
        "id": "M-hW7ik9Z5Pc",
        "outputId": "12a0374c-7484-4f13-cb8c-57eba73f8e52"
      },
      "source": [
        "# Intervalo de confianza del 50% centro\n",
        "print(f'({posterior.quantile(0.25)}, {posterior.quantile(0.75)})')"
      ],
      "execution_count": null,
      "outputs": [
        {
          "output_type": "stream",
          "text": [
            "(8.0, 10.0)\n"
          ],
          "name": "stdout"
        }
      ]
    },
    {
      "cell_type": "code",
      "metadata": {
        "id": "7-tRS4x6aFit"
      },
      "source": [
        ""
      ],
      "execution_count": null,
      "outputs": []
    }
  ]
}