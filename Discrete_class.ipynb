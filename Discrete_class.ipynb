{
  "nbformat": 4,
  "nbformat_minor": 0,
  "metadata": {
    "colab": {
      "name": "Discrete_class.ipynb",
      "provenance": []
    },
    "kernelspec": {
      "name": "python3",
      "display_name": "Python 3"
    },
    "language_info": {
      "name": "python"
    }
  },
  "cells": [
    {
      "cell_type": "markdown",
      "metadata": {
        "id": "7GbQDxYAPHUO"
      },
      "source": [
        "\n",
        "# **Variable aleatoria**\n",
        "\n",
        "Asigna un valor numerico a cada posible resultado de un experimento aleatorio\n",
        "\n",
        "**Ejemplo**\n",
        "\n",
        "Si tenemos $S$={CC,SS,SC,CS} \n",
        "\n",
        "Nuestra variable aleatoria cuál es?\n",
        "\n",
        "\n",
        "*   CC, SS, SC ,CS\n",
        "*   $\\frac14$\n",
        "\n",
        "\n",
        "$X$ será nuestra variable aleatoria \\\\\n",
        "$x$ nuestros posibles valores \\\\\n",
        "\n",
        "Cual será  la probabilidad de tener CC dado S? \\\\\n",
        "$P_X(x) = P_X(CC)$ = 1/4\n"
      ]
    },
    {
      "cell_type": "markdown",
      "metadata": {
        "id": "109LuSYTPHQ5"
      },
      "source": [
        "# **Distribución de Probabilidad** \n",
        "Tiene la información acerca de la variable aleatoria y asigna una probabilidad de ocurrencia a cada uno de sus valores \\\\\n",
        "\n",
        "**Ejemplo** \\\\\n",
        "Tenemos un dado con 6 caras \\\\\n",
        "\n",
        "$S$ = {1,2,3,4,5,6} \\\\\n",
        "\n",
        "Cuál sería $P(X=x)$ \\\\\n",
        "\n",
        "$P_X(x) \\begin {cases}\n",
        "\\frac{1}{6} & \\text {si }  x  \\in S \\\\\n",
        "0 &  \\text{ en cualquier otro caso}\n",
        "\\end {cases}$\n",
        "\n",
        "$P_X(1)=\\frac{1}{6}$"
      ]
    },
    {
      "cell_type": "markdown",
      "metadata": {
        "id": "fYqxKBDaPHNr"
      },
      "source": [
        "\n",
        "\n",
        "---\n",
        "\n",
        "\n",
        "# **Funciones de probabililidad (Discreto)**\n",
        "\n",
        "*   **Función de probabilidad**\n",
        "\n",
        "Dada una variable aleatoria discreta, PDF es una función que describe las probabilidades de algún evento. \n",
        "\n",
        "Por ejemplo, siguiente el ejemplo del dado:\n",
        " >$P_X(x) =\n",
        " \\begin {cases}\n",
        "  \\frac 16 & cuando \\ x = 1 \\\\\n",
        " \\frac 16 & cuando \\ x = 2 \\\\\n",
        " \\frac 16 & cuando \\ x = 3 \\\\\n",
        " \\frac 16 & cuando \\ x = 4 \\\\\n",
        " \\frac 16 & cuando \\ x = 5 \\\\\n",
        " \\frac 16 & cuando \\ x = 6 \\\\\n",
        " \\end{cases}$\n",
        "\n",
        "\n",
        "*  **Función acumulativa de probabilidad**\n",
        "\n",
        "Dada una variable aleatioria $X$, $F_X$ es una función cumulativa de distribución que, evaluada en cierto punto $x$, da la probabilidad de que la variable aleatoria tome un valor igual o menos a $x : P_r[X<x]$\n",
        "Por ejemplo, represetando la función acumulado de un dado\n",
        "\n",
        " >$F_X(x) =\n",
        " \\begin {cases}\n",
        "  \\frac 16 & cuando \\ x = 1 \\\\\n",
        " \\frac 26 & cuando \\ x = 2 \\\\\n",
        " \\frac 36 & cuando \\ x = 3 \\\\\n",
        " \\frac 46 & cuando \\ x = 4 \\\\\n",
        " \\frac 56 & cuando \\ x = 5 \\\\\n",
        " \\frac 66 & cuando \\ x = 6 \\\\\n",
        " \\end{cases}$\n"
      ]
    },
    {
      "cell_type": "markdown",
      "metadata": {
        "id": "FCzF023uPHKw"
      },
      "source": [
        "\n",
        "\n",
        "---\n",
        "# **Bernoulli**\n",
        "\n",
        "Describe una variable aleatoria $X$ que tiene exactamente dos valores:\n",
        "\n",
        "*   Éxito --> 1\n",
        "*   Fracaso --> 0\n",
        "\n",
        "Depende de que elijas tu para convención de si es éxito o fracaso pero por lo general, tomando como ejemplo los \"volados\", la cara de la moneda es 1 y el sello es 0.\n",
        "\n",
        "Por ejemplo, si tenemos esto\n",
        ">S = {CCCCCSSSSC} (Espacio) \\\\\n",
        "$\\frac6{10}$ \\\\\n",
        ">Tenemos probabilidad de éxito (C) de .6 \\\\\n",
        "Y probabilidad de fracaso (s) de .4\n",
        "\n",
        "¿Cuál de estás sería una Bernoulli?\n",
        "\n",
        "\n",
        "1.   Clima de mañana\n",
        "2.   Número de preguntas acertadas en un examen de respuesta múltiple con 4 opciones \\\n",
        "Esta distribución se describe con un solo parámetro $p$, el cual representa la probabilidad de éxito $P_{X}$(1). \n",
        "\n",
        "Entonces, podríamos afirmar que $P_X(0)+P_X$(1) = 1 y por ende tener $P_X$(0) = 1 - $p$\n",
        "\n",
        "Entonces, una vez afirmado esto tenemos que:\n",
        "\n",
        "> $P_X(x) =\n",
        "  \\begin {cases}\n",
        "    p & \\  cuando \\ x = 1\\\\\n",
        "    1-p & \\ cuando \\ x=0\n",
        "  \\end{cases}$\n",
        "\n",
        "\n",
        "La **media** de una distribución Bernoulli es \n",
        "* $m$ = $p$\n",
        "\n",
        "La **varianza** es:\n",
        "* $v$ = $p$ - $p^2$\n",
        "\n",
        "También podemos considerar un experimento que tiene más de dos como Bernoulli si los agrupamos en categorías de “Éxito” o “Fracaso”. Por ejemplo:\n",
        " >$P_X(x) =\n",
        " \\begin {cases}\n",
        "  \\frac 18 & cuando \\ x = 1 --> (\\frac 4{32})\\\\\n",
        " \\frac 3{16} & cuando \\ x = 2, 3, 4 -->(\\frac 6{32})\\\\\n",
        " \\frac 5{32} & cuando \\ x = 5, 6 --> (\\frac 5{32})\n",
        " \\end{cases}$\n",
        "\n",
        " (recordar que las probabilidades deben sumar 1)\n",
        "\n",
        "**Ejemplo** \n",
        "\n",
        "Supongamos que para nuestro caso anterior queremos la probabilidad que nos salga un número impar $Y=1, Y=0$ para pares.\n",
        ">Entonces tendríamos:\n",
        "\n",
        ">$P_Y(1) = P_X(1)+ P_X(3)+ P_X(5) $\n",
        "\n",
        ">$p = P_Y(1) = \\frac18 + \\frac3{16} + \\frac5{32} = \\frac {15}{32}$\n",
        "\n",
        ">$m=\\frac {15}{32}$\n",
        "\n",
        ">$v = \\frac {15}{32} – \\frac {15}{32}^2 = .25$\n"
      ]
    },
    {
      "cell_type": "code",
      "metadata": {
        "id": "ZiyHRYNOZ_j3"
      },
      "source": [
        "from scipy.stats import bernoulli\n",
        "import matplotlib.pyplot as plt"
      ],
      "execution_count": null,
      "outputs": []
    },
    {
      "cell_type": "code",
      "metadata": {
        "colab": {
          "base_uri": "https://localhost:8080/"
        },
        "id": "ODnQMfzLaNKC",
        "outputId": "986d7cb0-bbbc-4903-a036-90c4f15bbbff"
      },
      "source": [
        "#Suponer que vamos a un casino y tenemos .2 de probabilidad de ganar el jackpot.\n",
        "# X = 1 va a ser cuando ganemos el jackpot\n",
        "# X = 0 va a ser si no ganamos el jackpot\n",
        "p = .2\n",
        "mean, var = bernoulli.stats(p, moments='mv')\n",
        "print(mean)\n",
        "print(var)"
      ],
      "execution_count": null,
      "outputs": [
        {
          "output_type": "stream",
          "text": [
            "0.2\n",
            "0.16000000000000003\n"
          ],
          "name": "stdout"
        }
      ]
    },
    {
      "cell_type": "code",
      "metadata": {
        "colab": {
          "base_uri": "https://localhost:8080/"
        },
        "id": "9Gveffjwa1ov",
        "outputId": "5a2c84c4-d8e9-4d74-ea2e-061d73c19895"
      },
      "source": [
        "bernoulli.mean(p)"
      ],
      "execution_count": null,
      "outputs": [
        {
          "output_type": "execute_result",
          "data": {
            "text/plain": [
              "0.2"
            ]
          },
          "metadata": {
            "tags": []
          },
          "execution_count": 3
        }
      ]
    },
    {
      "cell_type": "code",
      "metadata": {
        "colab": {
          "base_uri": "https://localhost:8080/"
        },
        "id": "S4QI1_wAa5lP",
        "outputId": "ee521786-5408-43ce-dcd0-9ad344a9e97b"
      },
      "source": [
        "bernoulli.var(p)"
      ],
      "execution_count": null,
      "outputs": [
        {
          "output_type": "execute_result",
          "data": {
            "text/plain": [
              "0.16000000000000003"
            ]
          },
          "metadata": {
            "tags": []
          },
          "execution_count": 4
        }
      ]
    },
    {
      "cell_type": "code",
      "metadata": {
        "colab": {
          "base_uri": "https://localhost:8080/"
        },
        "id": "SrYwhN4-a_cD",
        "outputId": "95206214-44dd-49d4-c615-34b1d75c695a"
      },
      "source": [
        "X = [1,0]\n",
        "p=.2\n",
        "bernoulli.pmf(X,p)"
      ],
      "execution_count": null,
      "outputs": [
        {
          "output_type": "execute_result",
          "data": {
            "text/plain": [
              "array([0.2, 0.8])"
            ]
          },
          "metadata": {
            "tags": []
          },
          "execution_count": 5
        }
      ]
    },
    {
      "cell_type": "code",
      "metadata": {
        "colab": {
          "base_uri": "https://localhost:8080/"
        },
        "id": "7nWOt42Fa_lu",
        "outputId": "279f7f71-497d-4522-8d80-4e53bc046db3"
      },
      "source": [
        "bernoulli.cdf(X,p)"
      ],
      "execution_count": null,
      "outputs": [
        {
          "output_type": "execute_result",
          "data": {
            "text/plain": [
              "array([1. , 0.8])"
            ]
          },
          "metadata": {
            "tags": []
          },
          "execution_count": 6
        }
      ]
    },
    {
      "cell_type": "code",
      "metadata": {
        "colab": {
          "base_uri": "https://localhost:8080/",
          "height": 282
        },
        "id": "mABtn9xqa_rO",
        "outputId": "e8c9a012-b28f-414e-a2cb-b56144e63a3c"
      },
      "source": [
        "plt.bar(X, bernoulli.pmf(X,p), width = .1, color =['r','b'])\n"
      ],
      "execution_count": null,
      "outputs": [
        {
          "output_type": "execute_result",
          "data": {
            "text/plain": [
              "<BarContainer object of 2 artists>"
            ]
          },
          "metadata": {
            "tags": []
          },
          "execution_count": 7
        },
        {
          "output_type": "display_data",
          "data": {
            "image/png": "[encoded data removed]",
            "text/plain": [
              "<Figure size 432x288 with 1 Axes>"
            ]
          },
          "metadata": {
            "tags": [],
            "needs_background": "light"
          }
        }
      ]
    },
    {
      "cell_type": "code",
      "metadata": {
        "colab": {
          "base_uri": "https://localhost:8080/"
        },
        "id": "zOwgayJja_vi",
        "outputId": "75c4c31d-5ace-4739-9f2c-23233c8df8f4"
      },
      "source": [
        "bernoulli.rvs(p, size=100)"
      ],
      "execution_count": null,
      "outputs": [
        {
          "output_type": "execute_result",
          "data": {
            "text/plain": [
              "array([1, 0, 0, 0, 0, 0, 0, 0, 0, 0, 1, 0, 0, 0, 0, 0, 1, 0, 0, 0, 1, 0,\n",
              "       0, 0, 0, 1, 0, 1, 0, 0, 1, 0, 0, 0, 0, 0, 0, 1, 0, 0, 0, 0, 0, 0,\n",
              "       0, 0, 0, 0, 0, 0, 0, 0, 0, 0, 0, 0, 0, 0, 0, 0, 0, 0, 0, 0, 0, 1,\n",
              "       0, 1, 1, 0, 0, 1, 0, 0, 0, 1, 0, 0, 1, 0, 0, 1, 0, 1, 1, 0, 0, 0,\n",
              "       1, 1, 0, 0, 0, 0, 0, 0, 0, 0, 0, 0])"
            ]
          },
          "metadata": {
            "tags": []
          },
          "execution_count": 8
        }
      ]
    },
    {
      "cell_type": "markdown",
      "metadata": {
        "id": "yJ8zd_KpPHHt"
      },
      "source": [
        "# **Binomial**\n",
        "\n",
        "Es un caso de *Bernoulli*, el cual describe una secuencia de experimentos *Bernoulli*. Cada experimento tiene la misma probabilidad de éxito y los resultados de uno no afectan a alguno de los siguientes.\n",
        "\n",
        "La Distribución Binomial de $X$ , los números de éxito están representados por dos parámetros:\n",
        "\n",
        ">\t$n$ que representa el numero de experimentos\n",
        "\n",
        ">\t$p$ que representa la probabilidad de cada experimento\n",
        "\n",
        "La probabilidad de exactamente $k$ éxitos en $n$ experimentos esta dada por la siguiente pdf\n",
        "\n",
        "\n",
        ">$P_X(k) =\n",
        "\\begin {cases} (\\!\n",
        "\\begin{array}{c}\n",
        "n \\\\\n",
        "k\n",
        "\\end{array}\n",
        ") \\ p^k (1-p)^{(n-k)} \\text { para $k$ de 0 hasta $n$} \n",
        "\\end {cases}$ \n",
        "\n",
        "> $p^k (1-p)^{n-k} \\text{ da la probabilidad de $k$ éxitos y $n-k$ fracasos}$\n",
        "\n",
        ">$(\\!\n",
        "\\begin{array}{c}\n",
        "n \\\\\n",
        "k\n",
        "\\end{array}\n",
        ")$ cuenta el número de manera que $k$ éxitos pueden suceder en $n$ intentos.\n",
        "\n",
        "La **media** de una Binomial es:\n",
        ">$np$\n",
        "\n",
        "La **varianza** de una Binomial es:\n",
        ">$n(p-p^2)$\n",
        "\n",
        "**Ejemplo**\n",
        "\n",
        "Si una moneda se avienta 10 veces, cual es la probabilidad de que un número par de Caras aparezca?\n",
        "\n",
        "Supongamos que X es el numero de Caras, entonces, lo que nos pide encontrar es lo siguiente:\n",
        "\n",
        "$P_X(0) + P_X(2) + P_X(4) + P_X(6) + P_X(8) + P_X(10)$\n",
        "\n",
        "Recordemos que los volados son una *distribución Bernoulli*, $X$ entonces sigue la distribución Binomial.\n",
        "\n",
        "Como la moneda no esta cargada, $p=\\frac12$ y hay $n$ = 10 intentos. Entonces la función de probabilidad de $X$ queda así:\n",
        "\n",
        "> $P_X(k) = \n",
        "(\\begin{array} {c}\n",
        "10 \\\\\n",
        "k\n",
        "\\end {array})\n",
        "(.5)^k(1-.5)^{10-k}\n",
        "$\n",
        "\n",
        "Escribiendo uno para visualizar:\n",
        "$ \n",
        "(\\begin{array} {c}\n",
        "10 \\\\\n",
        "0\n",
        "\\end {array})\n",
        "(.5)^0(1-.5)^{10-0}\n",
        "$\n",
        "\n",
        "$ \n",
        "(\\begin{array} {c}\n",
        "10 \\\\\n",
        "2\n",
        "\\end {array})\n",
        "(.5)^2(1-.5)^{10-2}\n",
        "$\n",
        "\n",
        "Entonces la suma sería así:\n",
        "\n",
        "> $\\sum_{i=0}^5 P_X(2i) = \n",
        "\\sum_{i=0}^5 \n",
        "(\\begin{array}{c}\n",
        "10\\\\\n",
        "2i\n",
        "\\end{array})\n",
        "(.5)^{2i} (1-.5)^{10-2i}\n",
        "$\n",
        "\n",
        "\n",
        "> NOTA: Recordando la formula de la combinatoria:\n",
        "$\\frac {n!}{x!(n-x)!}$\n",
        "\n",
        "Si desarrollamos la sumat obtenemos que la probailidad de encontrar un número par en 10 volados es $\\frac 12$"
      ]
    },
    {
      "cell_type": "code",
      "metadata": {
        "id": "JaZ-K7Rrkb6D"
      },
      "source": [
        "import numpy as np"
      ],
      "execution_count": null,
      "outputs": []
    },
    {
      "cell_type": "code",
      "metadata": {
        "colab": {
          "base_uri": "https://localhost:8080/"
        },
        "id": "DEnAdGaSkcPH",
        "outputId": "8980a63a-482a-4d5d-c94c-cf65e392568a"
      },
      "source": [
        "# Suponer que queremos obtener cuantas veces tendremos un 6 si tiramos el dado 10 veces.\n",
        "# Queremos saber si tendre un numero mayor igual a 2 si tiramos el dado 10 veces\n",
        "n=10\n",
        "p=5/6\n",
        "size = 50\n",
        "binomial = np.random.binomial(n,p,size)\n",
        "binomial"
      ],
      "execution_count": null,
      "outputs": [
        {
          "output_type": "execute_result",
          "data": {
            "text/plain": [
              "array([ 8, 10,  8,  7,  6,  9,  8,  7,  6,  6,  9,  9, 10,  9, 10,  7,  7,\n",
              "        8, 10,  9, 10,  8,  7,  7,  9,  7, 10,  8,  6,  8,  7, 10,  6,  8,\n",
              "        8,  9, 10, 10,  9,  9,  9,  8,  9,  6,  7,  9,  9,  9,  8,  6])"
            ]
          },
          "metadata": {
            "tags": []
          },
          "execution_count": 10
        }
      ]
    },
    {
      "cell_type": "markdown",
      "metadata": {
        "id": "75jAAtNqPHE5"
      },
      "source": [
        "# **Poisson**\n",
        "\n",
        "Representa el numero de eventos que ocurren sobre un periodo de tiempo en especifico. \n",
        "Para poder usar esta distribución, las siguientes condiciones se deberán de cumplir:\n",
        "\n",
        "* Un evento ocurre o no ocurre, no hay medios eventos\n",
        "* El numero promedio de eventos considerados por un periodo de tiempo dado es conocido\n",
        "* Un evento debe tener la misma probabilidad de ocurrir en cualquier momento de nuestro periodo definido\n",
        "* Cada eventos es independiente, es decir, si ocurre un evento no afecta la probabilidad the otro evento de ocurrir\n",
        "\n",
        "Estas condiciones no necesariamente se deberán cumplir en su totalidad pero entre más de ellas cumplamos, Poisson nos pemite modelar de una mejor manera la situación.\n",
        "\n",
        "La función de probabilidad de Poisson esta dada por un solo parametro $\\lambda$. Este valor representa lo siguiente:\n",
        "* El **promedio** de número de eventos en un periodo de tiempo dado\n",
        "* La **varianza** para el numero de eventos en un periodo de tiempo dado\n",
        "\n",
        ">$P_X(k) = \n",
        "\\begin{cases}\n",
        "\\frac {\\lambda^k e^{-\\lambda}}{k!}\n",
        "\\end{cases}\n",
        "$\n",
        "\n",
        "Donde: \n",
        "* $P_X(k)$ describre la probabilidad de observar $k$ eventos en el periodo de tiempo dado\n",
        "* $\\lambda$ es el numero promedio de eventos que pueden ocurrir en ese mismo momento\n",
        "\n",
        "**Ejemplo**\n",
        "\n",
        "Si una persona recibe 10 cheques en su casa por semana, cual es la probabilildad que en una semana dada esta persona reciba exactamente esos 10 cheques?\n",
        "\n",
        "Solución:\n",
        "Para empezar, analicemos si cumple con las condiciones:\n",
        "* El evento de recibir una carta puede o no ocurrir\n",
        "* Conocemos el número promedio de eventos considerados\n",
        "* La probabilildad de recibir un cheque es la misma en toda la semana (sin fines de semana)\n",
        "* Cada cheque es independiente de otro\n",
        "\n",
        "Como el número de cheques sigue una Poisson, podemos aplicar la siguiente formula:\n",
        "> $\\lambda$ = 10\n",
        "\n",
        "> $P_X(10)= \\frac {10^{10}e^{-10}}{10!}$  = .13\n",
        "\n",
        ">Promedio = $\\lambda$ = 10\n",
        "\n",
        ">Desviación estándar = $\\sqrt10 $ = 3.16\n",
        "\n"
      ]
    },
    {
      "cell_type": "code",
      "metadata": {
        "id": "o5INdTW9oSmG"
      },
      "source": [
        "import pandas as pd1"
      ],
      "execution_count": null,
      "outputs": []
    },
    {
      "cell_type": "code",
      "metadata": {
        "colab": {
          "base_uri": "https://localhost:8080/"
        },
        "id": "MdLlAYpToWxv",
        "outputId": "ffe9c061-4808-495e-89f5-e4106f005fd2"
      },
      "source": [
        "from google.colab import drive\n",
        "drive.mount('/content/drive')"
      ],
      "execution_count": null,
      "outputs": [
        {
          "output_type": "stream",
          "text": [
            "Drive already mounted at /content/drive; to attempt to forcibly remount, call drive.mount(\"/content/drive\", force_remount=True).\n"
          ],
          "name": "stdout"
        }
      ]
    },
    {
      "cell_type": "code",
      "metadata": {
        "colab": {
          "base_uri": "https://localhost:8080/",
          "height": 173
        },
        "id": "7HBUWzXcoiv-",
        "outputId": "50bc3e90-9d06-42ec-b1ed-ee9638e24645"
      },
      "source": [
        "fifa_resultados = pd1.read_csv('/content/drive/MyDrive/Databases/Week 12/fifa_results.csv')\n",
        "fifa_resultados.head(4)"
      ],
      "execution_count": null,
      "outputs": [
        {
          "output_type": "execute_result",
          "data": {
            "text/html": [
              "<div>\n",
              "<style scoped>\n",
              "    .dataframe tbody tr th:only-of-type {\n",
              "        vertical-align: middle;\n",
              "    }\n",
              "\n",
              "    .dataframe tbody tr th {\n",
              "        vertical-align: top;\n",
              "    }\n",
              "\n",
              "    .dataframe thead th {\n",
              "        text-align: right;\n",
              "    }\n",
              "</style>\n",
              "<table border=\"1\" class=\"dataframe\">\n",
              "  <thead>\n",
              "    <tr style=\"text-align: right;\">\n",
              "      <th></th>\n",
              "      <th>date</th>\n",
              "      <th>home_team</th>\n",
              "      <th>away_team</th>\n",
              "      <th>home_score</th>\n",
              "      <th>away_score</th>\n",
              "      <th>tournament</th>\n",
              "      <th>city</th>\n",
              "      <th>country</th>\n",
              "      <th>neutral</th>\n",
              "    </tr>\n",
              "  </thead>\n",
              "  <tbody>\n",
              "    <tr>\n",
              "      <th>0</th>\n",
              "      <td>1872-11-30</td>\n",
              "      <td>Scotland</td>\n",
              "      <td>England</td>\n",
              "      <td>0</td>\n",
              "      <td>0</td>\n",
              "      <td>Friendly</td>\n",
              "      <td>Glasgow</td>\n",
              "      <td>Scotland</td>\n",
              "      <td>False</td>\n",
              "    </tr>\n",
              "    <tr>\n",
              "      <th>1</th>\n",
              "      <td>1873-03-08</td>\n",
              "      <td>England</td>\n",
              "      <td>Scotland</td>\n",
              "      <td>4</td>\n",
              "      <td>2</td>\n",
              "      <td>Friendly</td>\n",
              "      <td>London</td>\n",
              "      <td>England</td>\n",
              "      <td>False</td>\n",
              "    </tr>\n",
              "    <tr>\n",
              "      <th>2</th>\n",
              "      <td>1874-03-07</td>\n",
              "      <td>Scotland</td>\n",
              "      <td>England</td>\n",
              "      <td>2</td>\n",
              "      <td>1</td>\n",
              "      <td>Friendly</td>\n",
              "      <td>Glasgow</td>\n",
              "      <td>Scotland</td>\n",
              "      <td>False</td>\n",
              "    </tr>\n",
              "    <tr>\n",
              "      <th>3</th>\n",
              "      <td>1875-03-06</td>\n",
              "      <td>England</td>\n",
              "      <td>Scotland</td>\n",
              "      <td>2</td>\n",
              "      <td>2</td>\n",
              "      <td>Friendly</td>\n",
              "      <td>London</td>\n",
              "      <td>England</td>\n",
              "      <td>False</td>\n",
              "    </tr>\n",
              "  </tbody>\n",
              "</table>\n",
              "</div>"
            ],
            "text/plain": [
              "         date home_team away_team  ...     city   country neutral\n",
              "0  1872-11-30  Scotland   England  ...  Glasgow  Scotland   False\n",
              "1  1873-03-08   England  Scotland  ...   London   England   False\n",
              "2  1874-03-07  Scotland   England  ...  Glasgow  Scotland   False\n",
              "3  1875-03-06   England  Scotland  ...   London   England   False\n",
              "\n",
              "[4 rows x 9 columns]"
            ]
          },
          "metadata": {
            "tags": []
          },
          "execution_count": 13
        }
      ]
    },
    {
      "cell_type": "code",
      "metadata": {
        "id": "7FMtQ3ltpLk8"
      },
      "source": [
        "fifa_resultados['total_score'] = fifa_resultados['home_score'] + fifa_resultados['away_score']"
      ],
      "execution_count": null,
      "outputs": []
    },
    {
      "cell_type": "code",
      "metadata": {
        "colab": {
          "base_uri": "https://localhost:8080/",
          "height": 142
        },
        "id": "e494b6AppZ4w",
        "outputId": "652c8e32-2a52-4d94-c45f-1334a0c8a1bb"
      },
      "source": [
        "fifa_resultados.head(3)"
      ],
      "execution_count": null,
      "outputs": [
        {
          "output_type": "execute_result",
          "data": {
            "text/html": [
              "<div>\n",
              "<style scoped>\n",
              "    .dataframe tbody tr th:only-of-type {\n",
              "        vertical-align: middle;\n",
              "    }\n",
              "\n",
              "    .dataframe tbody tr th {\n",
              "        vertical-align: top;\n",
              "    }\n",
              "\n",
              "    .dataframe thead th {\n",
              "        text-align: right;\n",
              "    }\n",
              "</style>\n",
              "<table border=\"1\" class=\"dataframe\">\n",
              "  <thead>\n",
              "    <tr style=\"text-align: right;\">\n",
              "      <th></th>\n",
              "      <th>date</th>\n",
              "      <th>home_team</th>\n",
              "      <th>away_team</th>\n",
              "      <th>home_score</th>\n",
              "      <th>away_score</th>\n",
              "      <th>tournament</th>\n",
              "      <th>city</th>\n",
              "      <th>country</th>\n",
              "      <th>neutral</th>\n",
              "      <th>total_score</th>\n",
              "    </tr>\n",
              "  </thead>\n",
              "  <tbody>\n",
              "    <tr>\n",
              "      <th>0</th>\n",
              "      <td>1872-11-30</td>\n",
              "      <td>Scotland</td>\n",
              "      <td>England</td>\n",
              "      <td>0</td>\n",
              "      <td>0</td>\n",
              "      <td>Friendly</td>\n",
              "      <td>Glasgow</td>\n",
              "      <td>Scotland</td>\n",
              "      <td>False</td>\n",
              "      <td>0</td>\n",
              "    </tr>\n",
              "    <tr>\n",
              "      <th>1</th>\n",
              "      <td>1873-03-08</td>\n",
              "      <td>England</td>\n",
              "      <td>Scotland</td>\n",
              "      <td>4</td>\n",
              "      <td>2</td>\n",
              "      <td>Friendly</td>\n",
              "      <td>London</td>\n",
              "      <td>England</td>\n",
              "      <td>False</td>\n",
              "      <td>6</td>\n",
              "    </tr>\n",
              "    <tr>\n",
              "      <th>2</th>\n",
              "      <td>1874-03-07</td>\n",
              "      <td>Scotland</td>\n",
              "      <td>England</td>\n",
              "      <td>2</td>\n",
              "      <td>1</td>\n",
              "      <td>Friendly</td>\n",
              "      <td>Glasgow</td>\n",
              "      <td>Scotland</td>\n",
              "      <td>False</td>\n",
              "      <td>3</td>\n",
              "    </tr>\n",
              "  </tbody>\n",
              "</table>\n",
              "</div>"
            ],
            "text/plain": [
              "         date home_team away_team  ...   country  neutral total_score\n",
              "0  1872-11-30  Scotland   England  ...  Scotland    False           0\n",
              "1  1873-03-08   England  Scotland  ...   England    False           6\n",
              "2  1874-03-07  Scotland   England  ...  Scotland    False           3\n",
              "\n",
              "[3 rows x 10 columns]"
            ]
          },
          "metadata": {
            "tags": []
          },
          "execution_count": 16
        }
      ]
    },
    {
      "cell_type": "code",
      "metadata": {
        "id": "097hwRC9pgJi"
      },
      "source": [
        "from scipy.stats import poisson"
      ],
      "execution_count": null,
      "outputs": []
    },
    {
      "cell_type": "code",
      "metadata": {
        "colab": {
          "base_uri": "https://localhost:8080/"
        },
        "id": "W9uY8ufTpke-",
        "outputId": "d0df5af1-ea4b-4f7d-aa13-8023d9922ab5"
      },
      "source": [
        "m = round(fifa_resultados.total_score.mean(),0)\n",
        "m"
      ],
      "execution_count": null,
      "outputs": [
        {
          "output_type": "execute_result",
          "data": {
            "text/plain": [
              "3.0"
            ]
          },
          "metadata": {
            "tags": []
          },
          "execution_count": 34
        }
      ]
    },
    {
      "cell_type": "code",
      "metadata": {
        "colab": {
          "base_uri": "https://localhost:8080/"
        },
        "id": "gdL8pCBYpxXC",
        "outputId": "0329dcb1-4876-4065-ef23-be5215067e01"
      },
      "source": [
        "# QUe probabilidad hay de marcar exactamente 5 goles en alguna temporada futura\n",
        "poisson.pmf(20,m)"
      ],
      "execution_count": null,
      "outputs": [
        {
          "output_type": "execute_result",
          "data": {
            "text/plain": [
              "7.135378768777153e-11"
            ]
          },
          "metadata": {
            "tags": []
          },
          "execution_count": 39
        }
      ]
    },
    {
      "cell_type": "code",
      "metadata": {
        "colab": {
          "base_uri": "https://localhost:8080/"
        },
        "id": "371vSDClqCfK",
        "outputId": "44c88dbd-c811-4f5a-e8e3-4182cd93e31c"
      },
      "source": [
        "mean, var = poisson.stats(m, moments='mv')\n",
        "print(mean)\n",
        "print(var)"
      ],
      "execution_count": null,
      "outputs": [
        {
          "output_type": "stream",
          "text": [
            "3.0\n",
            "3.0\n"
          ],
          "name": "stdout"
        }
      ]
    },
    {
      "cell_type": "code",
      "metadata": {
        "colab": {
          "base_uri": "https://localhost:8080/",
          "height": 282
        },
        "id": "5I6GircyqZ4j",
        "outputId": "bf776dc0-876a-4c05-cae5-400f8ef41c86"
      },
      "source": [
        "x = np.arange(0,10)\n",
        "fig, ax = plt.subplots(1,1)\n",
        "ax.plot(x,poisson.pmf(x,m),'o',ms=8)\n",
        "ax.vlines(x,0,poisson.pmf(x,m), color='b',lw=5, alpha=.2)\n"
      ],
      "execution_count": null,
      "outputs": [
        {
          "output_type": "execute_result",
          "data": {
            "text/plain": [
              "<matplotlib.collections.LineCollection at 0x7f687e6cfc50>"
            ]
          },
          "metadata": {
            "tags": []
          },
          "execution_count": 42
        },
        {
          "output_type": "display_data",
          "data": {
            "image/png": "[encoded data removed]",
            "text/plain": [
              "<Figure size 432x288 with 1 Axes>"
            ]
          },
          "metadata": {
            "tags": [],
            "needs_background": "light"
          }
        }
      ]
    }
  ]
}