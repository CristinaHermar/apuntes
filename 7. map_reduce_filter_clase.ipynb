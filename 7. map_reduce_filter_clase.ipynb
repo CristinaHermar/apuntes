{
 "cells": [
  {
   "cell_type": "markdown",
   "metadata": {},
   "source": [
    "# MAP\n",
    "Iterador cuyo objetivo es aplicar una función a una estructura de datos (secuencia, lista)"
   ]
  },
  {
   "cell_type": "code",
   "execution_count": 2,
   "metadata": {},
   "outputs": [
    {
     "name": "stdout",
     "output_type": "stream",
     "text": [
      "<map object at 0x7fdda7418460>\n"
     ]
    }
   ],
   "source": [
    "#Recibe una función y una secuenta (estructura de dato) y \n",
    "#le aplica la función a cada elemento\n",
    "txt = ['Las funciones lambda son funciones anonimas',\n",
    "       'es decir, no tienen un nombre.',\n",
    "       'Funciones son objetos en Python.']\n",
    "\n",
    "anonimato = map(lambda s:(True,s) if 'anonimas' in s else (False,s),txt)\n",
    "print(anonimato)"
   ]
  },
  {
   "cell_type": "code",
   "execution_count": 3,
   "metadata": {},
   "outputs": [
    {
     "name": "stdout",
     "output_type": "stream",
     "text": [
      "[(True, 'Las funciones lambda son funciones anonimas'), (False, 'es decir, no tienen un nombre.'), (False, 'Funciones son objetos en Python.')]\n"
     ]
    }
   ],
   "source": [
    "print(list(anonimato))"
   ]
  },
  {
   "cell_type": "code",
   "execution_count": 4,
   "metadata": {},
   "outputs": [
    {
     "name": "stdout",
     "output_type": "stream",
     "text": [
      "[['Las', 'funciones', 'lambda', 'son', 'funciones', 'anonimas'], ['es', 'decir,', 'no', 'tienen', 'un', 'nombre.'], ['Funciones', 'son', 'objetos', 'en', 'Python.']]\n"
     ]
    }
   ],
   "source": [
    "#La función es lambda\n",
    "slicing = map(lambda s:s.split(),txt)\n",
    "print(list(slicing))"
   ]
  },
  {
   "cell_type": "code",
   "execution_count": 5,
   "metadata": {},
   "outputs": [
    {
     "name": "stdout",
     "output_type": "stream",
     "text": [
      "[['Las', 'funciones', 'lambda', 'son', 'funciones', 'anonimas'], ['es', 'decir,', 'no', 'tienen', 'un', 'nombre.'], ['Funciones', 'son', 'objetos', 'en', 'Python.']]\n"
     ]
    }
   ],
   "source": [
    "#Pasamos la función a nuestro map\n",
    "print(list(map(str.split,txt)))"
   ]
  },
  {
   "cell_type": "code",
   "execution_count": 6,
   "metadata": {},
   "outputs": [
    {
     "data": {
      "text/plain": [
       "['El', 'perrito', 'de', 'Zahid']"
      ]
     },
     "execution_count": 6,
     "metadata": {},
     "output_type": "execute_result"
    }
   ],
   "source": [
    "str.split('El perrito de Zahid')"
   ]
  },
  {
   "cell_type": "code",
   "execution_count": 7,
   "metadata": {},
   "outputs": [
    {
     "data": {
      "text/plain": [
       "['Las funciones lambda son funciones anonimas',\n",
       " 'es decir, no tienen un nombre.',\n",
       " 'Funciones son objetos en Python.']"
      ]
     },
     "execution_count": 7,
     "metadata": {},
     "output_type": "execute_result"
    }
   ],
   "source": [
    "txt"
   ]
  },
  {
   "cell_type": "code",
   "execution_count": 8,
   "metadata": {},
   "outputs": [
    {
     "name": "stdout",
     "output_type": "stream",
     "text": [
      "['Las funciones lambda son funciones anonimas', 'Es decir, no tienen un nombre.', 'Funciones son objetos en Python.']\n"
     ]
    }
   ],
   "source": [
    "upper = map(lambda s:s[0].upper() + s[1:],txt)\n",
    "print(list(upper))"
   ]
  },
  {
   "cell_type": "code",
   "execution_count": 14,
   "metadata": {},
   "outputs": [],
   "source": [
    "def square(num):\n",
    "    return num**2"
   ]
  },
  {
   "cell_type": "code",
   "execution_count": 15,
   "metadata": {},
   "outputs": [
    {
     "name": "stdout",
     "output_type": "stream",
     "text": [
      "[1, 4, 9, 16, 25]\n"
     ]
    }
   ],
   "source": [
    "num=[1,2,3,4,5]\n",
    "cuadrado=list(map(square,num))\n",
    "print(cuadrado)"
   ]
  },
  {
   "cell_type": "code",
   "execution_count": 16,
   "metadata": {},
   "outputs": [
    {
     "name": "stdout",
     "output_type": "stream",
     "text": [
      "1\n",
      "4\n",
      "9\n",
      "16\n",
      "25\n"
     ]
    }
   ],
   "source": [
    "for i in map(square,num):\n",
    "    print(i)"
   ]
  },
  {
   "cell_type": "code",
   "execution_count": 24,
   "metadata": {},
   "outputs": [],
   "source": [
    "def par_char(frase_toro):\n",
    "    if len(frase_toro)%2 == 0:\n",
    "        return \"PAR\"\n",
    "    else:\n",
    "        return \"No Par\""
   ]
  },
  {
   "cell_type": "code",
   "execution_count": 19,
   "metadata": {},
   "outputs": [
    {
     "data": {
      "text/plain": [
       "14"
      ]
     },
     "execution_count": 19,
     "metadata": {},
     "output_type": "execute_result"
    }
   ],
   "source": [
    "len(\"Soy ironhacker\")"
   ]
  },
  {
   "cell_type": "code",
   "execution_count": 25,
   "metadata": {},
   "outputs": [
    {
     "name": "stdout",
     "output_type": "stream",
     "text": [
      "['No Par', 'PAR', 'PAR']\n"
     ]
    }
   ],
   "source": [
    "string_pares = list(map(par_char,txt))\n",
    "print(string_pares)"
   ]
  },
  {
   "cell_type": "code",
   "execution_count": 21,
   "metadata": {},
   "outputs": [
    {
     "data": {
      "text/plain": [
       "['Las funciones lambda son funciones anonimas',\n",
       " 'es decir, no tienen un nombre.',\n",
       " 'Funciones son objetos en Python.']"
      ]
     },
     "execution_count": 21,
     "metadata": {},
     "output_type": "execute_result"
    }
   ],
   "source": [
    "txt"
   ]
  },
  {
   "cell_type": "code",
   "execution_count": 9,
   "metadata": {},
   "outputs": [],
   "source": [
    "def multiplica(num):\n",
    "    return lambda x:x*num"
   ]
  },
  {
   "cell_type": "code",
   "execution_count": 12,
   "metadata": {},
   "outputs": [
    {
     "data": {
      "text/plain": [
       "[200, 300, 400, 500]"
      ]
     },
     "execution_count": 12,
     "metadata": {},
     "output_type": "execute_result"
    }
   ],
   "source": [
    "lista=[20,30,40,50]\n",
    "por10=multiplica(10)\n",
    "list(map(por10,lista))"
   ]
  },
  {
   "cell_type": "code",
   "execution_count": 13,
   "metadata": {},
   "outputs": [],
   "source": [
    "def multiplica_varios(elem1,elem2,elem3):\n",
    "    return elem1*elem2*elem3"
   ]
  },
  {
   "cell_type": "code",
   "execution_count": 14,
   "metadata": {},
   "outputs": [
    {
     "name": "stdout",
     "output_type": "stream",
     "text": [
      "[1000, 3150, 7200, 13750]\n"
     ]
    }
   ],
   "source": [
    "lista1=[25,35,45,55]\n",
    "lista2=[20,30,40,50]\n",
    "lista3=[2,3,4,5]\n",
    "\n",
    "resultado = list(map(multiplica_varios,lista1,lista2,lista3))\n",
    "print(resultado)"
   ]
  },
  {
   "cell_type": "code",
   "execution_count": 31,
   "metadata": {},
   "outputs": [
    {
     "name": "stdout",
     "output_type": "stream",
     "text": [
      "[1000, 3150, 7200, 13750]\n"
     ]
    }
   ],
   "source": [
    "lista_01=[25,35,45,55]\n",
    "set1=(20,30,40,50)\n",
    "lista_02=[2,3,4,5]\n",
    "\n",
    "resultado = list(map(multiplica_varios,lista_01,set1,lista_02))\n",
    "print(resultado)"
   ]
  },
  {
   "cell_type": "code",
   "execution_count": 34,
   "metadata": {},
   "outputs": [
    {
     "data": {
      "text/plain": [
       "[('Alemania', 84.2),\n",
       " ('Mexico', 82.4),\n",
       " ('Japon', 104.0),\n",
       " ('Korea', 62.6),\n",
       " ('España', 89.6),\n",
       " ('Argentina', 51.8)]"
      ]
     },
     "execution_count": 34,
     "metadata": {},
     "output_type": "execute_result"
    }
   ],
   "source": [
    "temps = [(\"Alemania\", 29), ('Mexico', 28), \n",
    "         ('Japon', 40), ('Korea', 17),\n",
    "         ('España', 32), ('Argentina', 11)\n",
    "         ]\n",
    "#Queremos convertir a Fahrenheit\n",
    "fahrenheit = lambda t: (t[0],(9/5)*t[1]+32)\n",
    "list(map(fahrenheit,temps))"
   ]
  },
  {
   "cell_type": "markdown",
   "metadata": {},
   "source": [
    "# Filter\n",
    "\n",
    "Igual que map, recibe una función, itera y su objetivo es filtrar lo que le pases\n"
   ]
  },
  {
   "cell_type": "code",
   "execution_count": 35,
   "metadata": {},
   "outputs": [],
   "source": [
    "def revisamo_par(num):\n",
    "    return num%2 == 0"
   ]
  },
  {
   "cell_type": "code",
   "execution_count": 36,
   "metadata": {},
   "outputs": [],
   "source": [
    "nums = [1,54,643,212,665,7753]"
   ]
  },
  {
   "cell_type": "code",
   "execution_count": 38,
   "metadata": {},
   "outputs": [
    {
     "data": {
      "text/plain": [
       "[54, 212]"
      ]
     },
     "execution_count": 38,
     "metadata": {},
     "output_type": "execute_result"
    }
   ],
   "source": [
    "list(filter(revisamo_par,nums))"
   ]
  },
  {
   "cell_type": "code",
   "execution_count": 39,
   "metadata": {},
   "outputs": [
    {
     "data": {
      "text/plain": [
       "<filter at 0x18ffdfd93d0>"
      ]
     },
     "execution_count": 39,
     "metadata": {},
     "output_type": "execute_result"
    }
   ],
   "source": [
    "filter(revisamo_par,nums)"
   ]
  },
  {
   "cell_type": "code",
   "execution_count": 40,
   "metadata": {},
   "outputs": [],
   "source": [
    "from statistics import mean, median, mode\n",
    "from random import choice"
   ]
  },
  {
   "cell_type": "code",
   "execution_count": 41,
   "metadata": {},
   "outputs": [],
   "source": [
    "#definidmos flotantes\n",
    "flotantes = [1.3,6.5,4.3,12.5]\n",
    "#GEneramos datos, elegira de flotantes 50 numeros aleatorios\n",
    "data = [choice(flotantes) for i in range(50)]"
   ]
  },
  {
   "cell_type": "code",
   "execution_count": 42,
   "metadata": {},
   "outputs": [],
   "source": [
    "avg = mean(data)\n",
    "mdn = median(data)\n",
    "mda = mode(data)"
   ]
  },
  {
   "cell_type": "code",
   "execution_count": 44,
   "metadata": {},
   "outputs": [
    {
     "data": {
      "text/plain": [
       "50"
      ]
     },
     "execution_count": 44,
     "metadata": {},
     "output_type": "execute_result"
    }
   ],
   "source": [
    "len(data)"
   ]
  },
  {
   "cell_type": "code",
   "execution_count": 46,
   "metadata": {},
   "outputs": [
    {
     "name": "stdout",
     "output_type": "stream",
     "text": [
      "6.104\n",
      "6.5\n",
      "6.5\n"
     ]
    }
   ],
   "source": [
    "print(avg)\n",
    "print(mdn)\n",
    "print(mda)"
   ]
  },
  {
   "cell_type": "code",
   "execution_count": 45,
   "metadata": {},
   "outputs": [
    {
     "data": {
      "text/plain": [
       "[6.5,\n",
       " 12.5,\n",
       " 12.5,\n",
       " 6.5,\n",
       " 12.5,\n",
       " 12.5,\n",
       " 6.5,\n",
       " 6.5,\n",
       " 12.5,\n",
       " 6.5,\n",
       " 6.5,\n",
       " 6.5,\n",
       " 6.5,\n",
       " 6.5,\n",
       " 6.5,\n",
       " 12.5,\n",
       " 12.5,\n",
       " 6.5,\n",
       " 12.5,\n",
       " 12.5,\n",
       " 6.5,\n",
       " 12.5,\n",
       " 6.5,\n",
       " 6.5,\n",
       " 12.5,\n",
       " 12.5]"
      ]
     },
     "execution_count": 45,
     "metadata": {},
     "output_type": "execute_result"
    }
   ],
   "source": [
    "list(filter(lambda x: x>avg,data))"
   ]
  },
  {
   "cell_type": "code",
   "execution_count": 47,
   "metadata": {},
   "outputs": [
    {
     "data": {
      "text/plain": [
       "[12.5, 12.5, 12.5, 12.5, 12.5, 12.5, 12.5, 12.5, 12.5, 12.5, 12.5, 12.5]"
      ]
     },
     "execution_count": 47,
     "metadata": {},
     "output_type": "execute_result"
    }
   ],
   "source": [
    "list(filter(lambda x: x>mda,data))"
   ]
  },
  {
   "cell_type": "code",
   "execution_count": 49,
   "metadata": {},
   "outputs": [
    {
     "data": {
      "text/plain": [
       "['ferrari', 'mercedez', 'audi']"
      ]
     },
     "execution_count": 49,
     "metadata": {},
     "output_type": "execute_result"
    }
   ],
   "source": [
    "vacios = [\"\",\"ferrari\",\"\",\"mercedez\",\"audi\"]\n",
    "list(filter(None,vacios))"
   ]
  },
  {
   "cell_type": "code",
   "execution_count": 51,
   "metadata": {},
   "outputs": [
    {
     "data": {
      "text/plain": [
       "[532341, 33, 12]"
      ]
     },
     "execution_count": 51,
     "metadata": {},
     "output_type": "execute_result"
    }
   ],
   "source": [
    "numeros_2 = [443,532341,33,12,1,5423]\n",
    "list(filter(lambda x: x%2==0 or x%3==0,numeros_2))"
   ]
  },
  {
   "cell_type": "markdown",
   "metadata": {},
   "source": [
    "# Reduce\n",
    "Agregará todos los elementos de una secuencia aplicandoles una función. Opera con 2 elementos al mismo tiempo y regresa 1"
   ]
  },
  {
   "cell_type": "code",
   "execution_count": 52,
   "metadata": {},
   "outputs": [
    {
     "data": {
      "text/plain": [
       "[0, 1, 2, 3, 4, 5, 6, 7, 8, 9]"
      ]
     },
     "execution_count": 52,
     "metadata": {},
     "output_type": "execute_result"
    }
   ],
   "source": [
    "numeros = list(range(10))\n",
    "numeros"
   ]
  },
  {
   "cell_type": "code",
   "execution_count": 54,
   "metadata": {},
   "outputs": [
    {
     "name": "stdout",
     "output_type": "stream",
     "text": [
      "1\n",
      "-1\n",
      "2\n",
      "-3\n",
      "3\n",
      "-6\n",
      "4\n",
      "-10\n",
      "5\n",
      "-15\n",
      "6\n",
      "-21\n",
      "7\n",
      "-28\n",
      "8\n",
      "-36\n",
      "9\n",
      "-45\n"
     ]
    }
   ],
   "source": [
    "x = numeros[0]\n",
    "for i in numeros[1:]:\n",
    "    x = x-i\n",
    "    print(i)\n",
    "    print(x)\n",
    "    "
   ]
  },
  {
   "cell_type": "code",
   "execution_count": 57,
   "metadata": {},
   "outputs": [
    {
     "data": {
      "text/plain": [
       "-45"
      ]
     },
     "execution_count": 57,
     "metadata": {},
     "output_type": "execute_result"
    }
   ],
   "source": [
    "from functools import reduce\n",
    "reduce(lambda x,y:x-y,numeros)"
   ]
  },
  {
   "cell_type": "code",
   "execution_count": 58,
   "metadata": {},
   "outputs": [
    {
     "name": "stdout",
     "output_type": "stream",
     "text": [
      "10000\n"
     ]
    }
   ],
   "source": [
    "diez = [10,10,10,10]\n",
    "a = 1\n",
    "\n",
    "for i in diez:\n",
    "    a = i*a\n",
    "print(a)"
   ]
  },
  {
   "cell_type": "code",
   "execution_count": 59,
   "metadata": {},
   "outputs": [
    {
     "data": {
      "text/plain": [
       "10000"
      ]
     },
     "execution_count": 59,
     "metadata": {},
     "output_type": "execute_result"
    }
   ],
   "source": [
    "reduce(lambda x,y : x*y,diez)"
   ]
  },
  {
   "cell_type": "code",
   "execution_count": 60,
   "metadata": {},
   "outputs": [
    {
     "data": {
      "text/plain": [
       "15"
      ]
     },
     "execution_count": 60,
     "metadata": {},
     "output_type": "execute_result"
    }
   ],
   "source": [
    "reduce(lambda x,y : x+y,[1,2,3,4,5])"
   ]
  },
  {
   "cell_type": "code",
   "execution_count": 61,
   "metadata": {},
   "outputs": [],
   "source": [
    "#5! = 5*4*3*2*1\n",
    "def factorial(num):\n",
    "    return reduce(lambda x,y:x*y,[i for i in range(1,num+1)])"
   ]
  },
  {
   "cell_type": "code",
   "execution_count": 62,
   "metadata": {},
   "outputs": [
    {
     "data": {
      "text/plain": [
       "120"
      ]
     },
     "execution_count": 62,
     "metadata": {},
     "output_type": "execute_result"
    }
   ],
   "source": [
    "factorial(5)"
   ]
  },
  {
   "cell_type": "code",
   "execution_count": 65,
   "metadata": {},
   "outputs": [
    {
     "name": "stdout",
     "output_type": "stream",
     "text": [
      "Ironhackers loves math loves data loves learning\n"
     ]
    }
   ],
   "source": [
    "ultimo = reduce(lambda x,y : x+\" loves \"+y,['math','data','learning'],\"Ironhackers\")\n",
    "print(ultimo)"
   ]
  },
  {
   "cell_type": "markdown",
   "metadata": {},
   "source": [
    "x=\"Ironhackers, y=” math: return \"Ironhacker loves math“ \\\\\n",
    "x=\"Ironhackers loves math, y=data: return ”Ironhacker loves math loves data\" \\\\\n",
    "x=”Ironhacker loves math loves data“, y=”learning” : return ”Ironhacker loves math loves data loves learning"
   ]
  }
 ],
 "metadata": {
  "kernelspec": {
   "display_name": "Python 3",
   "language": "python",
   "name": "python3"
  },
  "language_info": {
   "codemirror_mode": {
    "name": "ipython",
    "version": 3
   },
   "file_extension": ".py",
   "mimetype": "text/x-python",
   "name": "python",
   "nbconvert_exporter": "python",
   "pygments_lexer": "ipython3",
   "version": "3.8.5"
  }
 },
 "nbformat": 4,
 "nbformat_minor": 4
}
