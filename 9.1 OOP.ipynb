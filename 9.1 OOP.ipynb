{
 "cells": [
  {
   "cell_type": "code",
   "execution_count": 1,
   "id": "photographic-contrast",
   "metadata": {},
   "outputs": [],
   "source": [
    "class Animal:\n",
    "    color = \"rojo\"\n",
    "    \n",
    "    def imprimir_color(color):\n",
    "        print(color)"
   ]
  },
  {
   "cell_type": "code",
   "execution_count": 2,
   "id": "equivalent-community",
   "metadata": {},
   "outputs": [
    {
     "data": {
      "text/plain": [
       "'rojo'"
      ]
     },
     "execution_count": 2,
     "metadata": {},
     "output_type": "execute_result"
    }
   ],
   "source": [
    "Animal.color"
   ]
  },
  {
   "cell_type": "code",
   "execution_count": 3,
   "id": "built-lingerie",
   "metadata": {},
   "outputs": [
    {
     "name": "stdout",
     "output_type": "stream",
     "text": [
      "rojo\n"
     ]
    }
   ],
   "source": [
    "Animal.imprimir_color(\"rojo\")"
   ]
  },
  {
   "cell_type": "code",
   "execution_count": 4,
   "id": "cheap-buying",
   "metadata": {},
   "outputs": [
    {
     "data": {
      "text/plain": [
       "type"
      ]
     },
     "execution_count": 4,
     "metadata": {},
     "output_type": "execute_result"
    }
   ],
   "source": [
    "type(str)"
   ]
  },
  {
   "cell_type": "code",
   "execution_count": 5,
   "id": "empty-costa",
   "metadata": {},
   "outputs": [],
   "source": [
    "a = \"det\""
   ]
  },
  {
   "cell_type": "code",
   "execution_count": 6,
   "id": "accessible-ecology",
   "metadata": {},
   "outputs": [
    {
     "data": {
      "text/plain": [
       "str"
      ]
     },
     "execution_count": 6,
     "metadata": {},
     "output_type": "execute_result"
    }
   ],
   "source": [
    "type(a)"
   ]
  },
  {
   "cell_type": "code",
   "execution_count": 28,
   "id": "toxic-radius",
   "metadata": {},
   "outputs": [],
   "source": [
    "class Animal:\n",
    "    color = \"rojo\"\n",
    "    \n",
    "    def imprimir_color():\n",
    "        print(\"Esta clase hace lo siguiete\")\n",
    "    \n",
    "    def __init__(self, tamano):\n",
    "        self.tamano = tamano\n",
    "        \n",
    "    def imprimir_tamano(self):\n",
    "        print(self.tamano)"
   ]
  },
  {
   "cell_type": "code",
   "execution_count": 30,
   "id": "ranking-termination",
   "metadata": {},
   "outputs": [],
   "source": [
    "def imprimir_color():\n",
    "    print(\"azul\")"
   ]
  },
  {
   "cell_type": "code",
   "execution_count": 31,
   "id": "formed-share",
   "metadata": {},
   "outputs": [
    {
     "name": "stdout",
     "output_type": "stream",
     "text": [
      "azul\n"
     ]
    }
   ],
   "source": [
    "imprimir_color()"
   ]
  },
  {
   "cell_type": "code",
   "execution_count": 32,
   "id": "british-grounds",
   "metadata": {},
   "outputs": [
    {
     "name": "stdout",
     "output_type": "stream",
     "text": [
      "Esta clase hace lo siguiete\n"
     ]
    }
   ],
   "source": [
    "Animal.imprimir_color()"
   ]
  },
  {
   "cell_type": "code",
   "execution_count": 9,
   "id": "bacterial-impossible",
   "metadata": {},
   "outputs": [],
   "source": [
    "cardenal = Animal(10)"
   ]
  },
  {
   "cell_type": "code",
   "execution_count": 10,
   "id": "alternate-community",
   "metadata": {},
   "outputs": [
    {
     "name": "stdout",
     "output_type": "stream",
     "text": [
      "10\n"
     ]
    }
   ],
   "source": [
    "cardenal.imprimir_tamano()"
   ]
  },
  {
   "cell_type": "code",
   "execution_count": 13,
   "id": "desperate-dayton",
   "metadata": {},
   "outputs": [
    {
     "name": "stdout",
     "output_type": "stream",
     "text": [
      "10\n"
     ]
    }
   ],
   "source": [
    "Animal.imprimir_tamano(cardenal)"
   ]
  },
  {
   "cell_type": "code",
   "execution_count": 25,
   "id": "environmental-homeless",
   "metadata": {},
   "outputs": [
    {
     "name": "stdout",
     "output_type": "stream",
     "text": [
      "<__main__.Animal object at 0x00000146A306BF10>\n"
     ]
    }
   ],
   "source": [
    "cardenal.imprimir_color()"
   ]
  },
  {
   "cell_type": "code",
   "execution_count": 26,
   "id": "capable-relief",
   "metadata": {},
   "outputs": [
    {
     "name": "stdout",
     "output_type": "stream",
     "text": [
      "<__main__.Animal object at 0x00000146A306BF10>\n"
     ]
    }
   ],
   "source": [
    "print(cardenal)"
   ]
  },
  {
   "cell_type": "code",
   "execution_count": 14,
   "id": "irish-glory",
   "metadata": {},
   "outputs": [],
   "source": [
    "a = \"Hola como le va\""
   ]
  },
  {
   "cell_type": "code",
   "execution_count": 15,
   "id": "noted-spirituality",
   "metadata": {},
   "outputs": [
    {
     "data": {
      "text/plain": [
       "'HOLA COMO LE VA'"
      ]
     },
     "execution_count": 15,
     "metadata": {},
     "output_type": "execute_result"
    }
   ],
   "source": [
    "a.upper()"
   ]
  },
  {
   "cell_type": "code",
   "execution_count": 16,
   "id": "double-columbia",
   "metadata": {},
   "outputs": [
    {
     "data": {
      "text/plain": [
       "str"
      ]
     },
     "execution_count": 16,
     "metadata": {},
     "output_type": "execute_result"
    }
   ],
   "source": [
    "type(a)"
   ]
  },
  {
   "cell_type": "code",
   "execution_count": 17,
   "id": "included-keeping",
   "metadata": {},
   "outputs": [
    {
     "data": {
      "text/plain": [
       "'HOLA COMO LE VA'"
      ]
     },
     "execution_count": 17,
     "metadata": {},
     "output_type": "execute_result"
    }
   ],
   "source": [
    "str.upper(a)"
   ]
  },
  {
   "cell_type": "code",
   "execution_count": 18,
   "id": "scenic-excuse",
   "metadata": {},
   "outputs": [
    {
     "data": {
      "text/plain": [
       "<method 'capitalize' of 'str' objects>"
      ]
     },
     "execution_count": 18,
     "metadata": {},
     "output_type": "execute_result"
    }
   ],
   "source": [
    "str.capitalize"
   ]
  },
  {
   "cell_type": "code",
   "execution_count": 19,
   "id": "alleged-gossip",
   "metadata": {},
   "outputs": [
    {
     "data": {
      "text/plain": [
       "<method 'lower' of 'str' objects>"
      ]
     },
     "execution_count": 19,
     "metadata": {},
     "output_type": "execute_result"
    }
   ],
   "source": [
    "str.lower"
   ]
  },
  {
   "cell_type": "code",
   "execution_count": 20,
   "id": "corresponding-going",
   "metadata": {},
   "outputs": [
    {
     "ename": "NameError",
     "evalue": "name 'string' is not defined",
     "output_type": "error",
     "traceback": [
      "\u001b[1;31m---------------------------------------------------------------------------\u001b[0m",
      "\u001b[1;31mNameError\u001b[0m                                 Traceback (most recent call last)",
      "\u001b[1;32m<ipython-input-20-77335ebd80d9>\u001b[0m in \u001b[0;36m<module>\u001b[1;34m\u001b[0m\n\u001b[1;32m----> 1\u001b[1;33m \u001b[0mstring\u001b[0m\u001b[1;33m.\u001b[0m\u001b[0mlower\u001b[0m\u001b[1;33m(\u001b[0m\u001b[1;33m)\u001b[0m\u001b[1;33m\u001b[0m\u001b[1;33m\u001b[0m\u001b[0m\n\u001b[0m",
      "\u001b[1;31mNameError\u001b[0m: name 'string' is not defined"
     ]
    }
   ],
   "source": [
    "string.lower()"
   ]
  },
  {
   "cell_type": "code",
   "execution_count": 22,
   "id": "stylish-preview",
   "metadata": {},
   "outputs": [
    {
     "ename": "NameError",
     "evalue": "name 'string' is not defined",
     "output_type": "error",
     "traceback": [
      "\u001b[1;31m---------------------------------------------------------------------------\u001b[0m",
      "\u001b[1;31mNameError\u001b[0m                                 Traceback (most recent call last)",
      "\u001b[1;32m<ipython-input-22-6a33e7aa89d6>\u001b[0m in \u001b[0;36m<module>\u001b[1;34m\u001b[0m\n\u001b[1;32m----> 1\u001b[1;33m \u001b[0mstring\u001b[0m\u001b[1;33m.\u001b[0m\u001b[0mcapitalize\u001b[0m\u001b[1;33m(\u001b[0m\u001b[1;33m)\u001b[0m\u001b[1;33m\u001b[0m\u001b[1;33m\u001b[0m\u001b[0m\n\u001b[0m",
      "\u001b[1;31mNameError\u001b[0m: name 'string' is not defined"
     ]
    }
   ],
   "source": [
    "string.capitalize()"
   ]
  },
  {
   "cell_type": "code",
   "execution_count": 33,
   "id": "general-ferry",
   "metadata": {},
   "outputs": [],
   "source": [
    "#instanciar\n",
    "# objeto = Clase()"
   ]
  },
  {
   "cell_type": "code",
   "execution_count": 42,
   "id": "august-belfast",
   "metadata": {},
   "outputs": [],
   "source": [
    "def saludar():\n",
    "    return \"hola\"\n",
    "    \n",
    "def despedir():\n",
    "    return \"adios\""
   ]
  },
  {
   "cell_type": "code",
   "execution_count": 43,
   "id": "sorted-captain",
   "metadata": {},
   "outputs": [
    {
     "data": {
      "text/plain": [
       "'hola'"
      ]
     },
     "execution_count": 43,
     "metadata": {},
     "output_type": "execute_result"
    }
   ],
   "source": [
    "saludar()"
   ]
  },
  {
   "cell_type": "code",
   "execution_count": 44,
   "id": "stock-blade",
   "metadata": {},
   "outputs": [
    {
     "data": {
      "text/plain": [
       "'adios'"
      ]
     },
     "execution_count": 44,
     "metadata": {},
     "output_type": "execute_result"
    }
   ],
   "source": [
    "despedir()"
   ]
  },
  {
   "cell_type": "code",
   "execution_count": 45,
   "id": "dressed-coast",
   "metadata": {},
   "outputs": [],
   "source": [
    "def mayus(variable):\n",
    "    return variable.upper()"
   ]
  },
  {
   "cell_type": "code",
   "execution_count": 46,
   "id": "operating-illustration",
   "metadata": {},
   "outputs": [
    {
     "data": {
      "text/plain": [
       "'DF'"
      ]
     },
     "execution_count": 46,
     "metadata": {},
     "output_type": "execute_result"
    }
   ],
   "source": [
    "mayus(\"df\")"
   ]
  },
  {
   "cell_type": "code",
   "execution_count": 47,
   "id": "rubber-surveillance",
   "metadata": {},
   "outputs": [
    {
     "data": {
      "text/plain": [
       "'HOLA'"
      ]
     },
     "execution_count": 47,
     "metadata": {},
     "output_type": "execute_result"
    }
   ],
   "source": [
    "mayus(saludar())"
   ]
  },
  {
   "cell_type": "code",
   "execution_count": 49,
   "id": "former-republic",
   "metadata": {},
   "outputs": [],
   "source": [
    "def upper_decorator(function):\n",
    "    val = function()\n",
    "    val_up = val.upper()\n",
    "    return val_up"
   ]
  },
  {
   "cell_type": "code",
   "execution_count": 50,
   "id": "affecting-dimension",
   "metadata": {},
   "outputs": [
    {
     "data": {
      "text/plain": [
       "'HOLA'"
      ]
     },
     "execution_count": 50,
     "metadata": {},
     "output_type": "execute_result"
    }
   ],
   "source": [
    "upper_decorator(saludar)"
   ]
  },
  {
   "cell_type": "code",
   "execution_count": 51,
   "id": "extended-apparel",
   "metadata": {},
   "outputs": [
    {
     "data": {
      "text/plain": [
       "'ADIOS'"
      ]
     },
     "execution_count": 51,
     "metadata": {},
     "output_type": "execute_result"
    }
   ],
   "source": [
    "upper_decorator(despedir)"
   ]
  },
  {
   "cell_type": "code",
   "execution_count": 56,
   "id": "square-stations",
   "metadata": {},
   "outputs": [],
   "source": [
    "def expl():\n",
    "    return \"explicacion\""
   ]
  },
  {
   "cell_type": "code",
   "execution_count": 57,
   "id": "little-dutch",
   "metadata": {},
   "outputs": [
    {
     "data": {
      "text/plain": [
       "'EXPLICACION'"
      ]
     },
     "execution_count": 57,
     "metadata": {},
     "output_type": "execute_result"
    }
   ],
   "source": [
    "upper_decorator(expl)"
   ]
  },
  {
   "cell_type": "code",
   "execution_count": 63,
   "id": "secret-destination",
   "metadata": {},
   "outputs": [],
   "source": [
    "def upper_decorator(function):\n",
    "    def wrapper():\n",
    "        val = function()\n",
    "        val_up = val.upper()\n",
    "        return val_up\n",
    "    return wrapper"
   ]
  },
  {
   "cell_type": "code",
   "execution_count": 64,
   "id": "alone-upgrade",
   "metadata": {},
   "outputs": [],
   "source": [
    "decorate = upper_decorator(saludar)"
   ]
  },
  {
   "cell_type": "code",
   "execution_count": 66,
   "id": "interpreted-member",
   "metadata": {},
   "outputs": [
    {
     "data": {
      "text/plain": [
       "'HOLA'"
      ]
     },
     "execution_count": 66,
     "metadata": {},
     "output_type": "execute_result"
    }
   ],
   "source": [
    "decorate()"
   ]
  },
  {
   "cell_type": "code",
   "execution_count": 74,
   "id": "radio-cliff",
   "metadata": {},
   "outputs": [],
   "source": [
    "@upper_decorator\n",
    "def saludar():\n",
    "    return \"hola\"\n",
    "\n",
    "@upper_decorator   \n",
    "def despedir():\n",
    "    return \"adios\"\n",
    "\n",
    "@upper_decorator\n",
    "def expl():\n",
    "    return \"explicacion\""
   ]
  },
  {
   "cell_type": "code",
   "execution_count": 68,
   "id": "descending-rebate",
   "metadata": {},
   "outputs": [
    {
     "data": {
      "text/plain": [
       "'HOLA'"
      ]
     },
     "execution_count": 68,
     "metadata": {},
     "output_type": "execute_result"
    }
   ],
   "source": [
    "saludar()"
   ]
  },
  {
   "cell_type": "code",
   "execution_count": 71,
   "id": "competitive-catalog",
   "metadata": {},
   "outputs": [
    {
     "data": {
      "text/plain": [
       "'ADIOS'"
      ]
     },
     "execution_count": 71,
     "metadata": {},
     "output_type": "execute_result"
    }
   ],
   "source": [
    "despedir()"
   ]
  },
  {
   "cell_type": "code",
   "execution_count": 72,
   "id": "heard-finding",
   "metadata": {},
   "outputs": [
    {
     "data": {
      "text/plain": [
       "'EXPLICACION'"
      ]
     },
     "execution_count": 72,
     "metadata": {},
     "output_type": "execute_result"
    }
   ],
   "source": [
    "expl()"
   ]
  },
  {
   "cell_type": "code",
   "execution_count": null,
   "id": "simplified-determination",
   "metadata": {},
   "outputs": [],
   "source": [
    "@app"
   ]
  },
  {
   "cell_type": "code",
   "execution_count": 97,
   "id": "tutorial-memorial",
   "metadata": {},
   "outputs": [],
   "source": [
    "class Animal:\n",
    "    color = \"rojo\"\n",
    "    \n",
    "    def imprimir_desc():\n",
    "        print(\"Esta clase hace lo siguiete\")\n",
    "        \n",
    "    @staticmethod\n",
    "    def imprimir_color():\n",
    "        print(\"rojo\")\n",
    "\n",
    "    def __init__(self, tamano):\n",
    "        self.tamano = tamano\n",
    "        \n",
    "    def imprimir_tamano(self):\n",
    "        print(self.tamano)"
   ]
  },
  {
   "cell_type": "code",
   "execution_count": 98,
   "id": "determined-processor",
   "metadata": {},
   "outputs": [],
   "source": [
    "perro = Animal(15)"
   ]
  },
  {
   "cell_type": "code",
   "execution_count": 101,
   "id": "international-documentary",
   "metadata": {},
   "outputs": [
    {
     "ename": "TypeError",
     "evalue": "imprimir_desc() takes 0 positional arguments but 1 was given",
     "output_type": "error",
     "traceback": [
      "\u001b[1;31m---------------------------------------------------------------------------\u001b[0m",
      "\u001b[1;31mTypeError\u001b[0m                                 Traceback (most recent call last)",
      "\u001b[1;32m<ipython-input-101-fb9975553bc6>\u001b[0m in \u001b[0;36m<module>\u001b[1;34m\u001b[0m\n\u001b[1;32m----> 1\u001b[1;33m \u001b[0mperro\u001b[0m\u001b[1;33m.\u001b[0m\u001b[0mimprimir_desc\u001b[0m\u001b[1;33m(\u001b[0m\u001b[1;33m)\u001b[0m\u001b[1;33m\u001b[0m\u001b[1;33m\u001b[0m\u001b[0m\n\u001b[0m",
      "\u001b[1;31mTypeError\u001b[0m: imprimir_desc() takes 0 positional arguments but 1 was given"
     ]
    }
   ],
   "source": [
    "perro.imprimir_desc()"
   ]
  },
  {
   "cell_type": "code",
   "execution_count": 102,
   "id": "biological-separate",
   "metadata": {},
   "outputs": [
    {
     "name": "stdout",
     "output_type": "stream",
     "text": [
      "Esta clase hace lo siguiete\n"
     ]
    }
   ],
   "source": [
    "Animal.imprimir_desc()"
   ]
  },
  {
   "cell_type": "code",
   "execution_count": 99,
   "id": "buried-asthma",
   "metadata": {},
   "outputs": [
    {
     "name": "stdout",
     "output_type": "stream",
     "text": [
      "rojo\n"
     ]
    }
   ],
   "source": [
    "#Animal.imprimir_color(perro)\n",
    "perro.imprimir_color()"
   ]
  },
  {
   "cell_type": "code",
   "execution_count": 100,
   "id": "favorite-collective",
   "metadata": {},
   "outputs": [
    {
     "name": "stdout",
     "output_type": "stream",
     "text": [
      "rojo\n"
     ]
    }
   ],
   "source": [
    "Animal.imprimir_color()"
   ]
  },
  {
   "cell_type": "code",
   "execution_count": 107,
   "id": "coupled-render",
   "metadata": {},
   "outputs": [
    {
     "ename": "TypeError",
     "evalue": "imprimir_tamano() missing 1 required positional argument: 'self'",
     "output_type": "error",
     "traceback": [
      "\u001b[1;31m---------------------------------------------------------------------------\u001b[0m",
      "\u001b[1;31mTypeError\u001b[0m                                 Traceback (most recent call last)",
      "\u001b[1;32m<ipython-input-107-1cf26e95321d>\u001b[0m in \u001b[0;36m<module>\u001b[1;34m\u001b[0m\n\u001b[0;32m      1\u001b[0m \u001b[1;31m#Animal.imprimir_tamano(perro)\u001b[0m\u001b[1;33m\u001b[0m\u001b[1;33m\u001b[0m\u001b[1;33m\u001b[0m\u001b[0m\n\u001b[1;32m----> 2\u001b[1;33m \u001b[0mAnimal\u001b[0m\u001b[1;33m.\u001b[0m\u001b[0mimprimir_tamano\u001b[0m\u001b[1;33m(\u001b[0m\u001b[1;33m)\u001b[0m\u001b[1;33m\u001b[0m\u001b[1;33m\u001b[0m\u001b[0m\n\u001b[0m",
      "\u001b[1;31mTypeError\u001b[0m: imprimir_tamano() missing 1 required positional argument: 'self'"
     ]
    }
   ],
   "source": [
    "#Animal.imprimir_tamano(perro)\n",
    "Animal.imprimir_tamano()"
   ]
  },
  {
   "cell_type": "code",
   "execution_count": 106,
   "id": "initial-obligation",
   "metadata": {},
   "outputs": [
    {
     "name": "stdout",
     "output_type": "stream",
     "text": [
      "15\n"
     ]
    }
   ],
   "source": [
    "perro.imprimir_tamano()"
   ]
  },
  {
   "cell_type": "code",
   "execution_count": 142,
   "id": "unauthorized-boards",
   "metadata": {},
   "outputs": [],
   "source": [
    "class Animal:\n",
    "    color = \"rojo\"\n",
    "    \n",
    "    def imprimir_desc():\n",
    "        print(\"Esta clase hace lo siguiete\")\n",
    "        \n",
    "    @staticmethod\n",
    "    def imprimir_color():\n",
    "        print(\"rojo\")\n",
    "\n",
    "    def __init__(self, tamano, velocidad, palabra_rara, edad, dueno):\n",
    "        self.velocidad = velocidad\n",
    "        self.tamano = tamano\n",
    "        self.dueno = dueno\n",
    "        self.edad = edad\n",
    "        \n",
    "    def imprimir_tamano(self):\n",
    "        print(self.tamano)\n",
    "    \n",
    "    @classmethod\n",
    "    def imprimir_clase(cls):\n",
    "        print(cls.color)\n",
    "        \n",
    "    @classmethod\n",
    "    def crear_lista(cls, lista):\n",
    "        return cls(*lista)\n",
    "        "
   ]
  },
  {
   "cell_type": "code",
   "execution_count": 129,
   "id": "continental-realtor",
   "metadata": {},
   "outputs": [
    {
     "ename": "TypeError",
     "evalue": "__init__() missing 3 required positional arguments: 'palabra_rara', 'edad', and 'dueno'",
     "output_type": "error",
     "traceback": [
      "\u001b[1;31m---------------------------------------------------------------------------\u001b[0m",
      "\u001b[1;31mTypeError\u001b[0m                                 Traceback (most recent call last)",
      "\u001b[1;32m<ipython-input-129-5e694c9cddec>\u001b[0m in \u001b[0;36m<module>\u001b[1;34m\u001b[0m\n\u001b[1;32m----> 1\u001b[1;33m \u001b[0mperro\u001b[0m \u001b[1;33m=\u001b[0m \u001b[0mAnimal\u001b[0m\u001b[1;33m(\u001b[0m\u001b[1;34m\"grande\"\u001b[0m\u001b[1;33m,\u001b[0m \u001b[1;36m20\u001b[0m\u001b[1;33m)\u001b[0m\u001b[1;33m\u001b[0m\u001b[1;33m\u001b[0m\u001b[0m\n\u001b[0m",
      "\u001b[1;31mTypeError\u001b[0m: __init__() missing 3 required positional arguments: 'palabra_rara', 'edad', and 'dueno'"
     ]
    }
   ],
   "source": [
    "perro = Animal(\"grande\", 20)"
   ]
  },
  {
   "cell_type": "code",
   "execution_count": 114,
   "id": "alpine-relations",
   "metadata": {},
   "outputs": [
    {
     "data": {
      "text/plain": [
       "{'velocidad': 20, 'tamano': 'grande'}"
      ]
     },
     "execution_count": 114,
     "metadata": {},
     "output_type": "execute_result"
    }
   ],
   "source": [
    "perro.__dict__"
   ]
  },
  {
   "cell_type": "code",
   "execution_count": 109,
   "id": "indonesian-confidentiality",
   "metadata": {},
   "outputs": [
    {
     "name": "stdout",
     "output_type": "stream",
     "text": [
      "rojo\n"
     ]
    }
   ],
   "source": [
    "Animal.imprimir_clase()"
   ]
  },
  {
   "cell_type": "code",
   "execution_count": 110,
   "id": "egyptian-candy",
   "metadata": {},
   "outputs": [
    {
     "name": "stdout",
     "output_type": "stream",
     "text": [
      "rojo\n"
     ]
    }
   ],
   "source": [
    "print(Animal.color)"
   ]
  },
  {
   "cell_type": "code",
   "execution_count": 115,
   "id": "possible-colon",
   "metadata": {},
   "outputs": [],
   "source": [
    "lista = [\"grande\", 20]"
   ]
  },
  {
   "cell_type": "code",
   "execution_count": 139,
   "id": "breathing-slovenia",
   "metadata": {},
   "outputs": [],
   "source": [
    "perro = Animal(*lista)"
   ]
  },
  {
   "cell_type": "code",
   "execution_count": 132,
   "id": "above-trash",
   "metadata": {},
   "outputs": [],
   "source": [
    "lista = [\"grande\", 20, \"rec\", 23, \"Zahid\"]"
   ]
  },
  {
   "cell_type": "code",
   "execution_count": 143,
   "id": "connected-lawyer",
   "metadata": {},
   "outputs": [],
   "source": [
    "perro = Animal.crear_lista(lista)"
   ]
  },
  {
   "cell_type": "markdown",
   "id": "dried-skirt",
   "metadata": {},
   "source": [
    "    @classmethod\n",
    "    def crear_lista(cls, lista):\n",
    "        return cls(lista[0], lista[1], lista[2], lista[3], lista[4])"
   ]
  },
  {
   "cell_type": "markdown",
   "id": "protected-gather",
   "metadata": {},
   "source": [
    "Animal(\"grande\", 20, \"rec\", 23, \"Zahid\")"
   ]
  },
  {
   "cell_type": "code",
   "execution_count": null,
   "id": "cloudy-contents",
   "metadata": {},
   "outputs": [],
   "source": [
    "perro = Animal(\"grande\", 20, \"rec\", 23, \"Zahid\")"
   ]
  },
  {
   "cell_type": "code",
   "execution_count": 135,
   "id": "backed-capability",
   "metadata": {},
   "outputs": [
    {
     "data": {
      "text/plain": [
       "{'velocidad': 20, 'tamano': 'grande', 'dueno': 'Zahid', 'edad': 23}"
      ]
     },
     "execution_count": 135,
     "metadata": {},
     "output_type": "execute_result"
    }
   ],
   "source": [
    "perro.__dict__"
   ]
  },
  {
   "cell_type": "code",
   "execution_count": null,
   "id": "wireless-income",
   "metadata": {},
   "outputs": [],
   "source": []
  },
  {
   "cell_type": "code",
   "execution_count": null,
   "id": "ceramic-valuation",
   "metadata": {},
   "outputs": [],
   "source": []
  },
  {
   "cell_type": "code",
   "execution_count": 168,
   "id": "authorized-overhead",
   "metadata": {},
   "outputs": [],
   "source": [
    "class Animal:\n",
    "    \n",
    "    def __init__(self, nombre, tamano):\n",
    "        self.nombre = nombre\n",
    "        self.tamano = tamano\n",
    "        \n",
    "    def ruido(self):\n",
    "        print(\"chuchu\")\n",
    "        \n",
    "    def brincar(self):\n",
    "        print(\"El animal brincó\")"
   ]
  },
  {
   "cell_type": "code",
   "execution_count": 158,
   "id": "experienced-checklist",
   "metadata": {},
   "outputs": [],
   "source": [
    "animal1 = Animal(\"rocho\", 10)"
   ]
  },
  {
   "cell_type": "code",
   "execution_count": 159,
   "id": "ongoing-observation",
   "metadata": {},
   "outputs": [
    {
     "data": {
      "text/plain": [
       "{'nombre': 'rocho', 'tamano': 10}"
      ]
     },
     "execution_count": 159,
     "metadata": {},
     "output_type": "execute_result"
    }
   ],
   "source": [
    "animal1.__dict__"
   ]
  },
  {
   "cell_type": "code",
   "execution_count": 160,
   "id": "moving-monthly",
   "metadata": {},
   "outputs": [
    {
     "name": "stdout",
     "output_type": "stream",
     "text": [
      "chuchu\n"
     ]
    }
   ],
   "source": [
    "animal1.ruido()"
   ]
  },
  {
   "cell_type": "code",
   "execution_count": 176,
   "id": "meaningful-recall",
   "metadata": {},
   "outputs": [],
   "source": [
    "class Perro(Animal):\n",
    "    \n",
    "    def __init__(self, raza, velocidad):\n",
    "        self.raza = raza\n",
    "        self.velocidad = velocidad\n",
    "        \n",
    "    def ruido(self):\n",
    "        print(\"woof\")\n",
    "        \n",
    "class Gato(Animal):\n",
    "    \n",
    "    def __init__(self, color, sigilo):\n",
    "        self.color = color\n",
    "        self.sigilo = sigilo\n",
    "    \n",
    "    def ruido(self):\n",
    "        print(\"meow\")"
   ]
  },
  {
   "cell_type": "code",
   "execution_count": 177,
   "id": "promotional-barcelona",
   "metadata": {},
   "outputs": [],
   "source": [
    "firu = Perro(\"chihuahua\", 100)"
   ]
  },
  {
   "cell_type": "code",
   "execution_count": 178,
   "id": "national-netherlands",
   "metadata": {},
   "outputs": [
    {
     "data": {
      "text/plain": [
       "{'raza': 'chihuahua', 'velocidad': 100}"
      ]
     },
     "execution_count": 178,
     "metadata": {},
     "output_type": "execute_result"
    }
   ],
   "source": [
    "firu.__dict__"
   ]
  },
  {
   "cell_type": "code",
   "execution_count": 179,
   "id": "oriental-cosmetic",
   "metadata": {},
   "outputs": [
    {
     "name": "stdout",
     "output_type": "stream",
     "text": [
      "woof\n"
     ]
    }
   ],
   "source": [
    "firu.ruido()"
   ]
  },
  {
   "cell_type": "code",
   "execution_count": 180,
   "id": "raising-plate",
   "metadata": {},
   "outputs": [],
   "source": [
    "misi = Gato(\"Negro\", 50)"
   ]
  },
  {
   "cell_type": "code",
   "execution_count": 181,
   "id": "neural-vegetable",
   "metadata": {},
   "outputs": [
    {
     "name": "stdout",
     "output_type": "stream",
     "text": [
      "meow\n"
     ]
    }
   ],
   "source": [
    "misi.ruido()"
   ]
  },
  {
   "cell_type": "code",
   "execution_count": 184,
   "id": "dental-danger",
   "metadata": {},
   "outputs": [
    {
     "name": "stdout",
     "output_type": "stream",
     "text": [
      "El animal brincó\n"
     ]
    }
   ],
   "source": [
    "firu.brincar()"
   ]
  },
  {
   "cell_type": "code",
   "execution_count": 185,
   "id": "exempt-turner",
   "metadata": {},
   "outputs": [
    {
     "name": "stdout",
     "output_type": "stream",
     "text": [
      "El animal brincó\n"
     ]
    }
   ],
   "source": [
    "misi.brincar()"
   ]
  },
  {
   "cell_type": "code",
   "execution_count": 186,
   "id": "surgical-migration",
   "metadata": {},
   "outputs": [
    {
     "name": "stdout",
     "output_type": "stream",
     "text": [
      "yei\n"
     ]
    }
   ],
   "source": [
    "if 3 in [4,1,5,3]:\n",
    "    print(\"yei\")"
   ]
  },
  {
   "cell_type": "code",
   "execution_count": 188,
   "id": "alone-recipient",
   "metadata": {},
   "outputs": [
    {
     "data": {
      "text/plain": [
       "True"
      ]
     },
     "execution_count": 188,
     "metadata": {},
     "output_type": "execute_result"
    }
   ],
   "source": [
    "isinstance(firu, Perro)"
   ]
  },
  {
   "cell_type": "code",
   "execution_count": 189,
   "id": "turkish-style",
   "metadata": {},
   "outputs": [
    {
     "data": {
      "text/plain": [
       "False"
      ]
     },
     "execution_count": 189,
     "metadata": {},
     "output_type": "execute_result"
    }
   ],
   "source": [
    "isinstance(misi, Perro)"
   ]
  },
  {
   "cell_type": "code",
   "execution_count": 190,
   "id": "southeast-partnership",
   "metadata": {},
   "outputs": [
    {
     "data": {
      "text/plain": [
       "True"
      ]
     },
     "execution_count": 190,
     "metadata": {},
     "output_type": "execute_result"
    }
   ],
   "source": [
    "isinstance(firu, Animal)"
   ]
  },
  {
   "cell_type": "code",
   "execution_count": 193,
   "id": "acting-outline",
   "metadata": {},
   "outputs": [
    {
     "data": {
      "text/plain": [
       "True"
      ]
     },
     "execution_count": 193,
     "metadata": {},
     "output_type": "execute_result"
    }
   ],
   "source": [
    "issubclass(Perro, Animal)"
   ]
  },
  {
   "cell_type": "code",
   "execution_count": 194,
   "id": "quick-transaction",
   "metadata": {},
   "outputs": [
    {
     "data": {
      "text/plain": [
       "False"
      ]
     },
     "execution_count": 194,
     "metadata": {},
     "output_type": "execute_result"
    }
   ],
   "source": [
    "issubclass(Animal, Perro)"
   ]
  },
  {
   "cell_type": "code",
   "execution_count": 195,
   "id": "royal-appliance",
   "metadata": {},
   "outputs": [
    {
     "data": {
      "text/plain": [
       "False"
      ]
     },
     "execution_count": 195,
     "metadata": {},
     "output_type": "execute_result"
    }
   ],
   "source": [
    "issubclass(Perro, Gato)"
   ]
  },
  {
   "cell_type": "code",
   "execution_count": 196,
   "id": "empty-publication",
   "metadata": {},
   "outputs": [
    {
     "data": {
      "text/plain": [
       "True"
      ]
     },
     "execution_count": 196,
     "metadata": {},
     "output_type": "execute_result"
    }
   ],
   "source": [
    "issubclass(Perro, Perro)"
   ]
  },
  {
   "cell_type": "code",
   "execution_count": 197,
   "id": "theoretical-prophet",
   "metadata": {},
   "outputs": [],
   "source": [
    "def espadre(class1, class2):\n",
    "    return issubclass(class2, class1)"
   ]
  },
  {
   "cell_type": "code",
   "execution_count": 198,
   "id": "adequate-empire",
   "metadata": {},
   "outputs": [
    {
     "data": {
      "text/plain": [
       "True"
      ]
     },
     "execution_count": 198,
     "metadata": {},
     "output_type": "execute_result"
    }
   ],
   "source": [
    "espadre(Animal, Perro)"
   ]
  },
  {
   "cell_type": "code",
   "execution_count": 221,
   "id": "automotive-monroe",
   "metadata": {},
   "outputs": [],
   "source": [
    "class Animaltrenol:\n",
    "    \n",
    "    def __init__(self, nombre, tamano, peso):\n",
    "        self.nombre = nombre\n",
    "        self.tamano = tamano\n",
    "        self.peso = peso\n",
    "        \n",
    "    def ruido(self):\n",
    "        print(\"chuchu\")\n",
    "        \n",
    "    def brincar(self):\n",
    "        print(\"El animal brincó\")\n",
    "        \n",
    "class Perro(Animaltrenol):\n",
    "    \n",
    "    def __init__(self, raza, velocidad, nombre, tamano, peso):\n",
    "        self.raza = raza\n",
    "        self.velocidad = velocidad\n",
    "        super().__init__(nombre, tamano, peso)\n",
    "        \n",
    "    def ruido(self):\n",
    "        print(\"woof\")\n",
    "        \n",
    "class Gato(Animal):\n",
    "    \n",
    "    def __init__(self, color, sigilo):\n",
    "        self.color = color\n",
    "        self.sigilo = sigilo\n",
    "    \n",
    "    def ruido(self):\n",
    "        print(\"meow\")"
   ]
  },
  {
   "cell_type": "code",
   "execution_count": 222,
   "id": "enabling-original",
   "metadata": {},
   "outputs": [],
   "source": [
    "firu = Perro(\"Chihuahua\", 100, \"firu\", 1, 1)"
   ]
  },
  {
   "cell_type": "code",
   "execution_count": 202,
   "id": "flexible-examination",
   "metadata": {},
   "outputs": [
    {
     "data": {
      "text/plain": [
       "{'raza': 'Chihuahua', 'velocidad': 100, 'nombre': 'firu', 'tamano': 1}"
      ]
     },
     "execution_count": 202,
     "metadata": {},
     "output_type": "execute_result"
    }
   ],
   "source": [
    "firu.__dict__"
   ]
  },
  {
   "cell_type": "code",
   "execution_count": 250,
   "id": "printable-fluid",
   "metadata": {},
   "outputs": [],
   "source": [
    "class A:\n",
    "    label=\"A\"\n",
    "    \n",
    "class B:\n",
    "    label=\"B\"\n",
    "    \n",
    "class C(A):\n",
    "    pass\n",
    "    \n",
    "class D(A):\n",
    "    label=\"D\"\n",
    "    \n",
    "class E(C, D):\n",
    "    pass"
   ]
  },
  {
   "cell_type": "code",
   "execution_count": 251,
   "id": "continent-blair",
   "metadata": {},
   "outputs": [],
   "source": [
    "a = A()"
   ]
  },
  {
   "cell_type": "code",
   "execution_count": 252,
   "id": "absent-rider",
   "metadata": {},
   "outputs": [
    {
     "data": {
      "text/plain": [
       "'A'"
      ]
     },
     "execution_count": 252,
     "metadata": {},
     "output_type": "execute_result"
    }
   ],
   "source": [
    "a.label"
   ]
  },
  {
   "cell_type": "code",
   "execution_count": 253,
   "id": "declared-parts",
   "metadata": {},
   "outputs": [
    {
     "data": {
      "text/plain": [
       "'B'"
      ]
     },
     "execution_count": 253,
     "metadata": {},
     "output_type": "execute_result"
    }
   ],
   "source": [
    "b = B()\n",
    "b.label"
   ]
  },
  {
   "cell_type": "code",
   "execution_count": 254,
   "id": "entertaining-analyst",
   "metadata": {},
   "outputs": [
    {
     "data": {
      "text/plain": [
       "'A'"
      ]
     },
     "execution_count": 254,
     "metadata": {},
     "output_type": "execute_result"
    }
   ],
   "source": [
    "c = C()\n",
    "c.label"
   ]
  },
  {
   "cell_type": "code",
   "execution_count": 255,
   "id": "eleven-withdrawal",
   "metadata": {},
   "outputs": [],
   "source": [
    "e = E()"
   ]
  },
  {
   "cell_type": "code",
   "execution_count": 256,
   "id": "cloudy-pencil",
   "metadata": {},
   "outputs": [
    {
     "data": {
      "text/plain": [
       "'D'"
      ]
     },
     "execution_count": 256,
     "metadata": {},
     "output_type": "execute_result"
    }
   ],
   "source": [
    "e.label"
   ]
  },
  {
   "cell_type": "code",
   "execution_count": 257,
   "id": "protected-complement",
   "metadata": {},
   "outputs": [
    {
     "name": "stdout",
     "output_type": "stream",
     "text": [
      "[<class '__main__.E'>, <class '__main__.C'>, <class '__main__.D'>, <class '__main__.A'>, <class 'object'>]\n"
     ]
    }
   ],
   "source": [
    "print(e.__class__.mro())"
   ]
  },
  {
   "cell_type": "code",
   "execution_count": 249,
   "id": "ethical-orlando",
   "metadata": {},
   "outputs": [
    {
     "data": {
      "text/plain": [
       "[__main__.E, __main__.C, __main__.A, __main__.D, __main__.B, object]"
      ]
     },
     "execution_count": 249,
     "metadata": {},
     "output_type": "execute_result"
    }
   ],
   "source": [
    "e.__class__.mro()"
   ]
  },
  {
   "cell_type": "code",
   "execution_count": 261,
   "id": "convenient-draft",
   "metadata": {},
   "outputs": [],
   "source": [
    "class Animaltrenol:\n",
    "    \n",
    "    def __init__(self, nombre, tamano, peso):\n",
    "        self.nombre = nombre\n",
    "        self.tamano = tamano\n",
    "        self.peso = peso\n",
    "        \n",
    "    def ruido(self):\n",
    "        print(\"chuchu\")\n",
    "        \n",
    "    def brincar(self):\n",
    "        print(\"El animal brincó\")\n",
    "        \n",
    "class Perro(Animaltrenol):\n",
    "    \n",
    "    def __init__(self, raza, velocidad, nombre, tamano, peso):\n",
    "        self.raza = raza\n",
    "        self.velocidad = velocidad\n",
    "        super().__init__(nombre, tamano, peso)\n",
    "        \n",
    "    def ruido(self):\n",
    "        print(\"woof\")\n",
    "        \n",
    "class Gato(Animaltrenol):\n",
    "    \n",
    "    def __init__(self, color, sigilo, nombre, tamano, peso):\n",
    "        self.color = color\n",
    "        self.sigilo = sigilo\n",
    "        super().__init__(nombre, tamano, peso)\n",
    "    \n",
    "    def ruido(self):\n",
    "        print(\"meow\")"
   ]
  },
  {
   "cell_type": "code",
   "execution_count": 262,
   "id": "wired-lunch",
   "metadata": {},
   "outputs": [],
   "source": [
    "firu = Perro(\"Chihuahua\", 100, \"firu\", 1, 1)"
   ]
  },
  {
   "cell_type": "code",
   "execution_count": 263,
   "id": "american-karma",
   "metadata": {},
   "outputs": [],
   "source": [
    "misi = Gato(\"Negro\", 50, \"misi\", 3, 1)"
   ]
  },
  {
   "cell_type": "code",
   "execution_count": 264,
   "id": "completed-public",
   "metadata": {},
   "outputs": [],
   "source": [
    "animales = [firu, misi]"
   ]
  },
  {
   "cell_type": "code",
   "execution_count": 267,
   "id": "sharing-domestic",
   "metadata": {},
   "outputs": [
    {
     "name": "stdout",
     "output_type": "stream",
     "text": [
      "woof\n",
      "meow\n"
     ]
    }
   ],
   "source": [
    "for animal in animales:\n",
    "    animal.ruido()"
   ]
  },
  {
   "cell_type": "code",
   "execution_count": 275,
   "id": "educated-tablet",
   "metadata": {},
   "outputs": [],
   "source": [
    "class Book():\n",
    "    def __init__(self, title, autor, paginas):\n",
    "        self.title = title\n",
    "        self.autor = autor\n",
    "        self.paginas = paginas\n",
    "        \n",
    "    def __str__(self):\n",
    "        return f\"Titulo {self.title}\""
   ]
  },
  {
   "cell_type": "code",
   "execution_count": 276,
   "id": "pursuant-communist",
   "metadata": {},
   "outputs": [],
   "source": [
    "libro = Book(\"LOTR\", \"T\", 1099)"
   ]
  },
  {
   "cell_type": "code",
   "execution_count": 279,
   "id": "spectacular-thunder",
   "metadata": {},
   "outputs": [],
   "source": [
    "libro.paginas = 92"
   ]
  },
  {
   "cell_type": "code",
   "execution_count": 280,
   "id": "usual-grave",
   "metadata": {},
   "outputs": [
    {
     "data": {
      "text/plain": [
       "{'title': 'LOTR', 'autor': 'T', 'paginas': 92}"
      ]
     },
     "execution_count": 280,
     "metadata": {},
     "output_type": "execute_result"
    }
   ],
   "source": [
    "libro.__dict__"
   ]
  },
  {
   "cell_type": "code",
   "execution_count": 277,
   "id": "equivalent-breathing",
   "metadata": {},
   "outputs": [
    {
     "data": {
      "text/plain": [
       "'Titulo LOTR'"
      ]
     },
     "execution_count": 277,
     "metadata": {},
     "output_type": "execute_result"
    }
   ],
   "source": [
    "str(libro)"
   ]
  },
  {
   "cell_type": "code",
   "execution_count": 278,
   "id": "alternative-apache",
   "metadata": {},
   "outputs": [
    {
     "name": "stdout",
     "output_type": "stream",
     "text": [
      "Titulo LOTR\n"
     ]
    }
   ],
   "source": [
    "print(libro)"
   ]
  },
  {
   "cell_type": "code",
   "execution_count": 273,
   "id": "adequate-mobile",
   "metadata": {},
   "outputs": [
    {
     "ename": "TypeError",
     "evalue": "object of type 'Book' has no len()",
     "output_type": "error",
     "traceback": [
      "\u001b[1;31m---------------------------------------------------------------------------\u001b[0m",
      "\u001b[1;31mTypeError\u001b[0m                                 Traceback (most recent call last)",
      "\u001b[1;32m<ipython-input-273-fa042b58f37f>\u001b[0m in \u001b[0;36m<module>\u001b[1;34m\u001b[0m\n\u001b[1;32m----> 1\u001b[1;33m \u001b[0mlen\u001b[0m\u001b[1;33m(\u001b[0m\u001b[0mlibro\u001b[0m\u001b[1;33m)\u001b[0m\u001b[1;33m\u001b[0m\u001b[1;33m\u001b[0m\u001b[0m\n\u001b[0m",
      "\u001b[1;31mTypeError\u001b[0m: object of type 'Book' has no len()"
     ]
    }
   ],
   "source": [
    "len(libro)"
   ]
  },
  {
   "cell_type": "markdown",
   "id": "prospective-friendly",
   "metadata": {},
   "source": [
    "### Quien sabe sabe"
   ]
  },
  {
   "cell_type": "code",
   "execution_count": 319,
   "id": "executed-network",
   "metadata": {},
   "outputs": [
    {
     "name": "stdout",
     "output_type": "stream",
     "text": [
      "[14, 10, 24, 152]\n"
     ]
    }
   ],
   "source": [
    "l = [7, 5, 12, 76]\n",
    "f = lambda x: x * 2 #define the lambda expression\n",
    "g = lambda x: x + 2\n",
    "b = []\n",
    "def modify_list(lst, fudduLambda):\n",
    "    for x in lst:\n",
    "        b.append(fudduLambda(x))\n",
    "\n",
    "        \n",
    "#Call modify_list(##,##)\n",
    "modify_list(l,f)\n",
    "#print b\n",
    "print(b)"
   ]
  },
  {
   "cell_type": "code",
   "execution_count": 311,
   "id": "australian-inclusion",
   "metadata": {},
   "outputs": [
    {
     "name": "stdout",
     "output_type": "stream",
     "text": [
      "[21, 15, 36, 228, 21, 15, 36, 228, 21, 15, 36, 228, 21, 15, 36, 228, 21, 15, 36, 228, 21, 15, 36, 228, 21, 15, 36, 228, 21, 15, 36, 228, 21, 15, 36, 228, 21, 15, 36, 228, 21, 15, 36, 228, 21, 15, 36, 228, 21, 15, 36, 228, 21, 15, 36, 228, 21, 15, 36, 228, 21, 15, 36, 228]\n"
     ]
    }
   ],
   "source": [
    "modify_list(l,f)\n",
    "#print b\n",
    "print(b)"
   ]
  },
  {
   "cell_type": "code",
   "execution_count": 320,
   "id": "broken-carolina",
   "metadata": {},
   "outputs": [],
   "source": [
    "modulo = lambda x, y: 0 if x == 0 else 1 if x % y == 0 else 0\n",
    "def divisor(y):\n",
    "    # Your code here:\n",
    "        return lambda b: modulo(b,y)"
   ]
  },
  {
   "cell_type": "code",
   "execution_count": 321,
   "id": "basic-stylus",
   "metadata": {},
   "outputs": [],
   "source": [
    "divisor5 = lambda b: 0 if 5 == 0 else 1 if b % 5 == 0 else 0"
   ]
  },
  {
   "cell_type": "code",
   "execution_count": 322,
   "id": "higher-edinburgh",
   "metadata": {},
   "outputs": [
    {
     "data": {
      "text/plain": [
       "[('Political Science', 'Essay'),\n",
       " ('Computer Science', 'Homework'),\n",
       " ('Engineering', 'Lab'),\n",
       " ('Mathematics', 'Module')]"
      ]
     },
     "execution_count": 322,
     "metadata": {},
     "output_type": "execute_result"
    }
   ],
   "source": [
    "list1 = ['Engineering', 'Computer Science', 'Political Science', 'Mathematics']\n",
    "list2 = ['Lab', 'Homework', 'Essay', 'Module']\n",
    "\n",
    "# Your code here:\n",
    "zip_list = zip (list1, list2)\n",
    "zip_order = sorted(zip_list, key=lambda x: x[1][0])\n",
    "list(zip_order)"
   ]
  },
  {
   "cell_type": "code",
   "execution_count": 329,
   "id": "geological-tunisia",
   "metadata": {},
   "outputs": [],
   "source": [
    "primer = lambda x: x[1]"
   ]
  },
  {
   "cell_type": "code",
   "execution_count": 330,
   "id": "completed-electricity",
   "metadata": {},
   "outputs": [
    {
     "data": {
      "text/plain": [
       "'Essay'"
      ]
     },
     "execution_count": 330,
     "metadata": {},
     "output_type": "execute_result"
    }
   ],
   "source": [
    "primer(('Political Science', 'Essay'))"
   ]
  },
  {
   "cell_type": "code",
   "execution_count": 331,
   "id": "going-rainbow",
   "metadata": {},
   "outputs": [
    {
     "data": {
      "text/plain": [
       "[('Toyota', 1995), ('Honda', 1997), ('Audi', 2001), ('BMW', 2005)]"
      ]
     },
     "execution_count": 331,
     "metadata": {},
     "output_type": "execute_result"
    }
   ],
   "source": [
    "d = {'Honda': 1997, 'Toyota': 1995, 'Audi': 2001, 'BMW': 2005}\n",
    "\n",
    "# Your code here:\n",
    "dict_order = sorted(list(d.items()), key=lambda x: x[1])\n",
    "dict_order"
   ]
  }
 ],
 "metadata": {
  "kernelspec": {
   "display_name": "Python 3",
   "language": "python",
   "name": "python3"
  },
  "language_info": {
   "codemirror_mode": {
    "name": "ipython",
    "version": 3
   },
   "file_extension": ".py",
   "mimetype": "text/x-python",
   "name": "python",
   "nbconvert_exporter": "python",
   "pygments_lexer": "ipython3",
   "version": "3.8.5"
  }
 },
 "nbformat": 4,
 "nbformat_minor": 5
}
