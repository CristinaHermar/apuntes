{
 "cells": [
  {
   "cell_type": "code",
   "execution_count": 1,
   "metadata": {},
   "outputs": [],
   "source": [
    "import re"
   ]
  },
  {
   "cell_type": "code",
   "execution_count": 2,
   "metadata": {},
   "outputs": [],
   "source": [
    "text = \"\\\n",
    "Mochila    1.051    48.25\\\n",
    "Playera     1.024   180.54\\\n",
    "Reloj    0.524    47.20\\\n",
    "Gorra    0.251    27.14\\\n",
    "Bufanda    0.508    41.05\\\n",
    "Bufandita$$    1.348    00.05\""
   ]
  },
  {
   "cell_type": "code",
   "execution_count": 4,
   "metadata": {},
   "outputs": [
    {
     "name": "stdout",
     "output_type": "stream",
     "text": [
      "['M', 'o', 'c', 'h', 'i', 'l', 'a', 'P', 'l', 'a', 'y', 'e', 'r', 'a', 'R', 'e', 'l', 'o', 'j', 'G', 'o', 'r', 'r', 'a', 'B', 'u', 'f', 'a', 'n', 'd', 'a', 'B', 'u', 'f', 'a', 'n', 'd', 'i', 't', 'a']\n"
     ]
    }
   ],
   "source": [
    "#permite encontrar todo lo que cumpla el patron\n",
    "words_pattern = '[a-zA-Z]'\n",
    "print(re.findall(words_pattern,text))"
   ]
  },
  {
   "cell_type": "code",
   "execution_count": 9,
   "metadata": {},
   "outputs": [
    {
     "name": "stdout",
     "output_type": "stream",
     "text": [
      "['Mochila', 'Playera', 'Reloj', 'Gorra', 'Bufanda', 'Bufandita']\n"
     ]
    }
   ],
   "source": [
    "#Usando flags de re\n",
    "print(re.findall('[a-z]+',text,flags=re.IGNORECASE))"
   ]
  },
  {
   "cell_type": "code",
   "execution_count": 15,
   "metadata": {},
   "outputs": [
    {
     "name": "stdout",
     "output_type": "stream",
     "text": [
      "['Bufanda', 'Bufandita']\n"
     ]
    }
   ],
   "source": [
    "print(re.findall('buf[a-z]+',text,flags=re.IGNORECASE))"
   ]
  },
  {
   "cell_type": "code",
   "execution_count": 11,
   "metadata": {},
   "outputs": [
    {
     "name": "stdout",
     "output_type": "stream",
     "text": [
      "['Buf', 'Buf']\n"
     ]
    }
   ],
   "source": [
    "print(re.findall('buf',text,flags=re.IGNORECASE))"
   ]
  },
  {
   "cell_type": "code",
   "execution_count": 18,
   "metadata": {},
   "outputs": [
    {
     "data": {
      "text/plain": [
       "'Mochila    1.051    48.25Playera     1.024   180.54Reloj    0.524    47.20Gorra    0.251    27.14Bufanda    0.508    41.05Bufandita    1.348    00.05'"
      ]
     },
     "execution_count": 18,
     "metadata": {},
     "output_type": "execute_result"
    }
   ],
   "source": [
    "#Sustituir\n",
    "re.sub(\"[$]\",\"\",text)"
   ]
  },
  {
   "cell_type": "code",
   "execution_count": 19,
   "metadata": {},
   "outputs": [],
   "source": [
    "poem = \"Once upon a midnight s, while I pondereeeeed, weak and weary\" \\\n",
    "       \"Nameless here for evermore.\"\\\n",
    "       \"Pondered as my dear \"\\\n",
    "       \"Once upon a time\"\n"
   ]
  },
  {
   "cell_type": "code",
   "execution_count": 25,
   "metadata": {},
   "outputs": [
    {
     "data": {
      "text/plain": [
       "'Once upon a midnight s, while I pondereeeeed, weak and wearyNameless here for evermore.Pondered as my dear Once upon a time'"
      ]
     },
     "execution_count": 25,
     "metadata": {},
     "output_type": "execute_result"
    }
   ],
   "source": [
    "poem"
   ]
  },
  {
   "cell_type": "code",
   "execution_count": 22,
   "metadata": {},
   "outputs": [
    {
     "name": "stdout",
     "output_type": "stream",
     "text": [
      "<re.Match object; span=(102, 106), match='dear'>\n"
     ]
    }
   ],
   "source": [
    "#Existe o no existe tu patron\n",
    "print(re.search('dear',poem))"
   ]
  },
  {
   "cell_type": "code",
   "execution_count": 24,
   "metadata": {},
   "outputs": [
    {
     "name": "stdout",
     "output_type": "stream",
     "text": [
      "['a time']\n"
     ]
    }
   ],
   "source": [
    "#\\w encuentra cualquier tipo word/caracter\n",
    "# con el más\n",
    "# $Lo que hace es buscar ese texto pero que este al final\n",
    "print(re.findall('\\w+ time$',poem))"
   ]
  },
  {
   "cell_type": "code",
   "execution_count": 27,
   "metadata": {},
   "outputs": [],
   "source": [
    "poem_2 ='Mexico MEXICO MeXiCO ah AH'"
   ]
  },
  {
   "cell_type": "code",
   "execution_count": 28,
   "metadata": {},
   "outputs": [
    {
     "name": "stdout",
     "output_type": "stream",
     "text": [
      "['Mexico', 'MEXICO', 'MeXiCO', 'ah', 'AH']\n"
     ]
    }
   ],
   "source": [
    "# caracter | es \"O\"\n",
    "print(re.findall('Mexico|ah',poem_2,flags=re.IGNORECASE))"
   ]
  },
  {
   "cell_type": "code",
   "execution_count": 29,
   "metadata": {},
   "outputs": [
    {
     "name": "stdout",
     "output_type": "stream",
     "text": [
      "['Mexico']\n"
     ]
    }
   ],
   "source": [
    "#^ traer el resultado que inicie con ese patro\n",
    "print(re.findall(\"^Mexico\",poem_2))"
   ]
  },
  {
   "cell_type": "code",
   "execution_count": 31,
   "metadata": {
    "scrolled": true
   },
   "outputs": [
    {
     "name": "stdout",
     "output_type": "stream",
     "text": [
      "['O', 'n', 'c', ' ', 'p', 'n', ' ', ' ', 'm', 'd', 'n', 'g', 'h', 't', ' ', 's', ',', ' ', 'w', 'h', 'l', ' ', 'I', ' ', 'p', 'n', 'd', 'r', 'd', ',', ' ', 'w', 'k', ' ', 'n', 'd', ' ', 'w', 'r', 'y', 'N', 'm', 'l', 's', 's', ' ', 'h', 'r', ' ', 'f', 'r', ' ', 'v', 'r', 'm', 'r', '.', 'P', 'n', 'd', 'r', 'd', ' ', 's', ' ', 'm', 'y', ' ', 'd', 'r', ' ', 'O', 'n', 'c', ' ', 'p', 'n', ' ', ' ', 't', 'm']\n"
     ]
    }
   ],
   "source": [
    "# ^ dentro de corchetes es negacion\n",
    "print(re.findall(\"[^aeiou]\",poem))"
   ]
  },
  {
   "cell_type": "code",
   "execution_count": 32,
   "metadata": {},
   "outputs": [
    {
     "data": {
      "text/plain": [
       "'Once upon a midnight s, while I pondereeeeed, weak and wearyNameless here for evermore.Pondered as my dear Once upon a time'"
      ]
     },
     "execution_count": 32,
     "metadata": {},
     "output_type": "execute_result"
    }
   ],
   "source": [
    "poem"
   ]
  },
  {
   "cell_type": "code",
   "execution_count": 39,
   "metadata": {},
   "outputs": [
    {
     "name": "stdout",
     "output_type": "stream",
     "text": [
      "['pondereeeeed']\n"
     ]
    }
   ],
   "source": [
    "#trae\n",
    "print(re.findall(\"pondere{3,}\\w\",poem,flags=re.IGNORECASE))"
   ]
  },
  {
   "cell_type": "code",
   "execution_count": 41,
   "metadata": {},
   "outputs": [
    {
     "name": "stdout",
     "output_type": "stream",
     "text": [
      "     I have a tendency.\n",
      "to    leave    trailing\n",
      "spaces.       \n"
     ]
    }
   ],
   "source": [
    "espacios = \"\"\"     I have a tendency.\n",
    "to    leave    trailing\n",
    "spaces.       \"\"\"\n",
    "print(espacios)"
   ]
  },
  {
   "cell_type": "code",
   "execution_count": 49,
   "metadata": {},
   "outputs": [
    {
     "name": "stdout",
     "output_type": "stream",
     "text": [
      " I have a tendency.\n",
      "to leave trailing\n",
      "spaces. \n"
     ]
    }
   ],
   "source": [
    "#\\s encuentra espacios\n",
    "print(re.sub('\\s{2,}',' ',espacios))"
   ]
  },
  {
   "cell_type": "code",
   "execution_count": 53,
   "metadata": {},
   "outputs": [
    {
     "name": "stdout",
     "output_type": "stream",
     "text": [
      "I have a tendency.\n",
      "to    leave    trailing\n",
      "spaces.\n"
     ]
    }
   ],
   "source": [
    "print(espacios.strip())\n"
   ]
  },
  {
   "cell_type": "code",
   "execution_count": 69,
   "metadata": {},
   "outputs": [
    {
     "name": "stdout",
     "output_type": "stream",
     "text": [
      "['Ironhacer Mx']\n",
      "['Ingles moderno']\n"
     ]
    }
   ],
   "source": [
    "listas = [\"Ironhacker Mx\", \"Ingles moderno\", \"Trabajo Solo\"]\n",
    "\n",
    "for element in listas:\n",
    "    z= re.findall(\"(?:I\\w+)\\W(?:m\\w+)\",element,flags=re.IGNORECASE)\n",
    "    if z:\n",
    "        print(z)"
   ]
  },
  {
   "cell_type": "code",
   "execution_count": 73,
   "metadata": {},
   "outputs": [
    {
     "name": "stdout",
     "output_type": "stream",
     "text": [
      "Deberas\"invertir en estudio\" en \"invertir en estudio es para toda la vida\"-> Buena decision!\n",
      "Deberas\"invertir en auto\" en \"invertir en estudio es para toda la vida\"-> Piensalo de nuevo\n"
     ]
    }
   ],
   "source": [
    "patterns = ['invertir en estudio', 'invertir en auto']\n",
    "text = 'invertir en estudio es para toda la vida'\n",
    "for pattern in patterns:\n",
    "    print('Deberas\"%s\" en \"%s\"->'%(pattern,text),end=' ')\n",
    "    if re.search(pattern,text):\n",
    "        print('Buena decision!')\n",
    "    else:\n",
    "        print('Piensalo de nuevo')"
   ]
  },
  {
   "cell_type": "code",
   "execution_count": 76,
   "metadata": {},
   "outputs": [
    {
     "name": "stdout",
     "output_type": "stream",
     "text": [
      "['16', '3']\n"
     ]
    }
   ],
   "source": [
    "# Encontrar digitos\n",
    "frase = \"Somos 16 alumnos y 3 teachers\"\n",
    "resultado = re.findall('\\d+',frase)\n",
    "print(str(resultado))"
   ]
  },
  {
   "cell_type": "code",
   "execution_count": 81,
   "metadata": {},
   "outputs": [
    {
     "name": "stdout",
     "output_type": "stream",
     "text": [
      "user1@ironhack.com\n",
      "user2@hotmail.com\n",
      "users@yahoo.com\n"
     ]
    }
   ],
   "source": [
    "abc = 'user1@ironhack.com, user2@hotmail.com, users@yahoo.com'\n",
    "correo = re.findall('[\\w]+@[\\w\\.]+',abc)\n",
    "for mail in correo:\n",
    "    print(mail)"
   ]
  },
  {
   "cell_type": "code",
   "execution_count": 85,
   "metadata": {},
   "outputs": [
    {
     "name": "stdout",
     "output_type": "stream",
     "text": [
      "['puppy', 'puppy']\n"
     ]
    }
   ],
   "source": [
    "text = \"The puppy saw all the rest of the puppies playing and wanted to join them. I saw this and wanted a puppy of my own!\"\n",
    "print(re.findall(r'\\bpuppy\\b',text))"
   ]
  }
 ],
 "metadata": {
  "kernelspec": {
   "display_name": "Python 3",
   "language": "python",
   "name": "python3"
  },
  "language_info": {
   "codemirror_mode": {
    "name": "ipython",
    "version": 3
   },
   "file_extension": ".py",
   "mimetype": "text/x-python",
   "name": "python",
   "nbconvert_exporter": "python",
   "pygments_lexer": "ipython3",
   "version": "3.8.8"
  }
 },
 "nbformat": 4,
 "nbformat_minor": 4
}
