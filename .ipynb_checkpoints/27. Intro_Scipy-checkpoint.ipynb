{
 "cells": [
  {
   "cell_type": "code",
   "execution_count": 11,
   "metadata": {
    "id": "Kh7-jNHuO6KJ"
   },
   "outputs": [],
   "source": [
    "import numpy as np\n",
    "import math\n",
    "import pandas as pd"
   ]
  },
  {
   "cell_type": "markdown",
   "metadata": {},
   "source": [
    "*El None es la ausencia de cualquier tipo de objeto, mientras que el nan es \"not a number\""
   ]
  },
  {
   "cell_type": "code",
   "execution_count": null,
   "metadata": {
    "id": "4a2SWSukPeyT"
   },
   "outputs": [],
   "source": [
    "None"
   ]
  },
  {
   "cell_type": "code",
   "execution_count": null,
   "metadata": {
    "colab": {
     "base_uri": "https://localhost:8080/"
    },
    "id": "6RYldKmePi5V",
    "outputId": "fa150415-a3e9-4ee3-fb58-7c4613b16065"
   },
   "outputs": [
    {
     "data": {
      "text/plain": [
       "nan"
      ]
     },
     "execution_count": 3,
     "metadata": {
      "tags": []
     },
     "output_type": "execute_result"
    }
   ],
   "source": [
    "np.nan"
   ]
  },
  {
   "cell_type": "code",
   "execution_count": null,
   "metadata": {
    "colab": {
     "base_uri": "https://localhost:8080/"
    },
    "id": "9KdU9b88Pj3z",
    "outputId": "23478094-4c22-4f7f-ba97-26203c1169e1"
   },
   "outputs": [
    {
     "data": {
      "text/plain": [
       "True"
      ]
     },
     "execution_count": 52,
     "metadata": {
      "tags": []
     },
     "output_type": "execute_result"
    }
   ],
   "source": [
    "pd.isnull(np.datetime64('NaT'))"
   ]
  },
  {
   "cell_type": "code",
   "execution_count": null,
   "metadata": {
    "id": "yMfucPcQPxgo"
   },
   "outputs": [],
   "source": [
    "a = np.nan\n",
    "b = np.nan"
   ]
  },
  {
   "cell_type": "code",
   "execution_count": null,
   "metadata": {
    "colab": {
     "base_uri": "https://localhost:8080/"
    },
    "id": "9wKL_NK2P9Ox",
    "outputId": "c3d06bc3-7cec-42ad-8782-6871c41a7d9f"
   },
   "outputs": [
    {
     "data": {
      "text/plain": [
       "False"
      ]
     },
     "execution_count": 7,
     "metadata": {
      "tags": []
     },
     "output_type": "execute_result"
    }
   ],
   "source": [
    "a == b"
   ]
  },
  {
   "cell_type": "code",
   "execution_count": null,
   "metadata": {
    "colab": {
     "base_uri": "https://localhost:8080/"
    },
    "id": "48XLUb9ZQBlt",
    "outputId": "f0355aeb-77f3-4d19-d704-1afc0dafba69"
   },
   "outputs": [
    {
     "data": {
      "text/plain": [
       "False"
      ]
     },
     "execution_count": 8,
     "metadata": {
      "tags": []
     },
     "output_type": "execute_result"
    }
   ],
   "source": [
    "np.nan == np.nan"
   ]
  },
  {
   "cell_type": "markdown",
   "metadata": {},
   "source": [
    "Es false porque es como si tuvieras un grupo de gente y conoces a tus amigos y familiares, y hay un grupo de desconocidos, pero si tengo dos desconocidos no quiere decir que son el mismo desconocido, son dos diferentes aunque pertenecen a la categoria de desconocidos\n",
    "\n"
   ]
  },
  {
   "cell_type": "markdown",
   "metadata": {},
   "source": [
    "Por otro lado en Python es lo mismo decir is null que is nan, existe esta diferencia porque pandas son funciones que vienen de R y en R sí hay diferencia de estos, pero en realidad en python no hay. "
   ]
  },
  {
   "cell_type": "code",
   "execution_count": null,
   "metadata": {
    "colab": {
     "base_uri": "https://localhost:8080/"
    },
    "id": "d2b1QZL6QDYO",
    "outputId": "471df3a6-c130-4173-9667-5fa4a133ea97"
   },
   "outputs": [
    {
     "data": {
      "text/plain": [
       "True"
      ]
     },
     "execution_count": 9,
     "metadata": {
      "tags": []
     },
     "output_type": "execute_result"
    }
   ],
   "source": [
    "a is b #los nan se guardan en la misma dirección de memoria, aquí está marcando que es el mismo \n",
    "#tipo de dato, pero no que sean el mismo contenido por eso arriba marca false. "
   ]
  },
  {
   "cell_type": "code",
   "execution_count": null,
   "metadata": {
    "colab": {
     "base_uri": "https://localhost:8080/"
    },
    "id": "5Kw1vg_iQOyy",
    "outputId": "c294cf4a-f2bc-42c7-d44f-f584a6a47d1f"
   },
   "outputs": [
    {
     "name": "stdout",
     "output_type": "stream",
     "text": [
      "140117508444816 140117508444816\n"
     ]
    }
   ],
   "source": [
    "print(id(a), id(b)) #marca que están guardados en el misma dirección de memoria, \n",
    "#aunque no tengan el mismo contenido"
   ]
  },
  {
   "cell_type": "code",
   "execution_count": null,
   "metadata": {
    "colab": {
     "base_uri": "https://localhost:8080/"
    },
    "id": "l0mjtHoqQogp",
    "outputId": "1a787113-ebf1-4df0-ad23-55ba10ddd887"
   },
   "outputs": [
    {
     "data": {
      "text/plain": [
       "float"
      ]
     },
     "execution_count": 11,
     "metadata": {
      "tags": []
     },
     "output_type": "execute_result"
    }
   ],
   "source": [
    "type(a) #en general los considera como float a los nan"
   ]
  },
  {
   "cell_type": "code",
   "execution_count": null,
   "metadata": {
    "colab": {
     "base_uri": "https://localhost:8080/"
    },
    "id": "YpU8d8kWQ46Y",
    "outputId": "6334965b-2919-43f2-b20c-1f3c50862859"
   },
   "outputs": [
    {
     "data": {
      "text/plain": [
       "nan"
      ]
     },
     "execution_count": 14,
     "metadata": {
      "tags": []
     },
     "output_type": "execute_result"
    }
   ],
   "source": [
    "a + 3"
   ]
  },
  {
   "cell_type": "code",
   "execution_count": null,
   "metadata": {
    "colab": {
     "base_uri": "https://localhost:8080/",
     "height": 162
    },
    "id": "x8PfCFOiRDJS",
    "outputId": "df221689-23d7-4d9f-a623-31a257d77c64"
   },
   "outputs": [
    {
     "ename": "TypeError",
     "evalue": "ignored",
     "output_type": "error",
     "traceback": [
      "\u001b[0;31m---------------------------------------------------------------------------\u001b[0m",
      "\u001b[0;31mTypeError\u001b[0m                                 Traceback (most recent call last)",
      "\u001b[0;32m<ipython-input-15-c7924c9acb50>\u001b[0m in \u001b[0;36m<module>\u001b[0;34m()\u001b[0m\n\u001b[0;32m----> 1\u001b[0;31m \u001b[0ma\u001b[0m \u001b[0;34m+\u001b[0m \u001b[0;34m\"d\"\u001b[0m\u001b[0;34m\u001b[0m\u001b[0;34m\u001b[0m\u001b[0m\n\u001b[0m",
      "\u001b[0;31mTypeError\u001b[0m: unsupported operand type(s) for +: 'float' and 'str'"
     ]
    }
   ],
   "source": [
    "a + \"d\""
   ]
  },
  {
   "cell_type": "code",
   "execution_count": null,
   "metadata": {
    "colab": {
     "base_uri": "https://localhost:8080/"
    },
    "id": "1beBlQfvRG4e",
    "outputId": "a6c5a425-6f12-4552-da1b-52f28db23e42"
   },
   "outputs": [
    {
     "name": "stdout",
     "output_type": "stream",
     "text": [
      "False\n",
      "140117804954608 140117804954608\n"
     ]
    }
   ],
   "source": [
    "c = math.nan\n",
    "d = math.nan\n",
    "print(c == d)\n",
    "print(id(c), id(d))"
   ]
  },
  {
   "cell_type": "code",
   "execution_count": null,
   "metadata": {
    "colab": {
     "base_uri": "https://localhost:8080/"
    },
    "id": "No0YjvXZRVMy",
    "outputId": "6c39a678-3da9-49fc-9b67-54af9e2977a4"
   },
   "outputs": [
    {
     "data": {
      "text/plain": [
       "False"
      ]
     },
     "execution_count": 17,
     "metadata": {
      "tags": []
     },
     "output_type": "execute_result"
    }
   ],
   "source": [
    "id(c) == id(a)"
   ]
  },
  {
   "cell_type": "code",
   "execution_count": null,
   "metadata": {
    "colab": {
     "base_uri": "https://localhost:8080/"
    },
    "id": "RXpSpJ8FRbkF",
    "outputId": "4337bbab-1ad1-47b4-cb88-b7cfde72d0dc"
   },
   "outputs": [
    {
     "data": {
      "text/plain": [
       "False"
      ]
     },
     "execution_count": 18,
     "metadata": {
      "tags": []
     },
     "output_type": "execute_result"
    }
   ],
   "source": [
    "c is a"
   ]
  },
  {
   "cell_type": "code",
   "execution_count": null,
   "metadata": {
    "id": "aUR7nua7RioO"
   },
   "outputs": [],
   "source": [
    "e = float('nan')"
   ]
  },
  {
   "cell_type": "code",
   "execution_count": null,
   "metadata": {
    "colab": {
     "base_uri": "https://localhost:8080/"
    },
    "id": "84UCMbs8RwER",
    "outputId": "de4e2a10-93e1-4a99-b864-caa552981712"
   },
   "outputs": [
    {
     "name": "stdout",
     "output_type": "stream",
     "text": [
      "True True True\n"
     ]
    }
   ],
   "source": [
    "print(pd.isnull(a), pd.isnull(c), pd.isnull(e))"
   ]
  },
  {
   "cell_type": "code",
   "execution_count": null,
   "metadata": {
    "id": "LH63KRTcSAgJ"
   },
   "outputs": [],
   "source": [
    "def llenar_lista_con_2(lista = None, numero = 0):\n",
    "  if lista == None:\n",
    "    lista = []\n",
    "  print(id(lista), id(numero))\n",
    "  lista.append(2)\n",
    "  numero += 2\n",
    "  print(id(lista), id(numero))\n",
    "  print(lista, numero)"
   ]
  },
  {
   "cell_type": "code",
   "execution_count": null,
   "metadata": {
    "colab": {
     "base_uri": "https://localhost:8080/"
    },
    "id": "saSiE_2ZShoU",
    "outputId": "1b135aec-3953-489d-cd42-22beb9f9e16c"
   },
   "outputs": [
    {
     "name": "stdout",
     "output_type": "stream",
     "text": [
      "140117106328352 94055496968672\n",
      "140117106328352 94055496968736\n",
      "[2] 2\n"
     ]
    }
   ],
   "source": [
    "llenar_lista_con_2()"
   ]
  },
  {
   "cell_type": "code",
   "execution_count": null,
   "metadata": {
    "id": "clwtSWHNSqmH"
   },
   "outputs": [],
   "source": [
    "import statistics\n",
    "import scipy\n",
    "import scipy.stats as stats #aquí sólo estamos cargando el submódulo, aunque es redundante con\n",
    "#el de arriba era sólo para mostrar lo del submódulo"
   ]
  },
  {
   "cell_type": "code",
   "execution_count": null,
   "metadata": {
    "colab": {
     "base_uri": "https://localhost:8080/"
    },
    "id": "mLXmJL5fTuNO",
    "outputId": "fc2e6c52-cfaf-42ff-c5c2-b2b6167e9feb",
    "scrolled": true
   },
   "outputs": [
    {
     "name": "stderr",
     "output_type": "stream",
     "text": [
      "/usr/local/lib/python3.7/dist-packages/ipykernel_launcher.py:1: DeprecationWarning: scipy.arctan is deprecated and will be removed in SciPy 2.0.0, use numpy.arctan instead\n",
      "  \"\"\"Entry point for launching an IPython kernel.\n"
     ]
    },
    {
     "data": {
      "text/plain": [
       "1.545160918273219"
      ]
     },
     "execution_count": 41,
     "metadata": {
      "tags": []
     },
     "output_type": "execute_result"
    }
   ],
   "source": [
    "scipy.arctan(39)"
   ]
  },
  {
   "cell_type": "code",
   "execution_count": 4,
   "metadata": {
    "id": "wE06vSJhUG67"
   },
   "outputs": [],
   "source": [
    "x = [1,2,3,4,5,6]\n",
    "x_nan = [1,2,3,np.nan,5,6]"
   ]
  },
  {
   "cell_type": "code",
   "execution_count": 15,
   "metadata": {},
   "outputs": [
    {
     "name": "stdout",
     "output_type": "stream",
     "text": [
      "<class 'int'>\n",
      "<class 'float'>\n"
     ]
    }
   ],
   "source": [
    "print(type(x[1])) #esta es una lista que contiene puros int\n",
    "print(type(x_nan[3])) #hasta ahora es una lista que contiene ints y nan que es float"
   ]
  },
  {
   "cell_type": "code",
   "execution_count": 16,
   "metadata": {
    "id": "s0C4DuSsUzBJ"
   },
   "outputs": [],
   "source": [
    "arr = np.array(x)\n",
    "arr_nan = np.array(x_nan)"
   ]
  },
  {
   "cell_type": "code",
   "execution_count": 19,
   "metadata": {},
   "outputs": [
    {
     "data": {
      "text/plain": [
       "numpy.float64"
      ]
     },
     "execution_count": 19,
     "metadata": {},
     "output_type": "execute_result"
    }
   ],
   "source": [
    "type(arr_nan[1]) #ahora sí ya es float porque lo hicimos arreglo y los arreglos tienen que ser\n",
    "#todos del mismo tipo de dato y tenemos un nan que es float"
   ]
  },
  {
   "cell_type": "code",
   "execution_count": 20,
   "metadata": {},
   "outputs": [
    {
     "data": {
      "text/plain": [
       "numpy.int32"
      ]
     },
     "execution_count": 20,
     "metadata": {},
     "output_type": "execute_result"
    }
   ],
   "source": [
    "type(arr[1]) #en este caso se mantienen en int porque no hay nada que lo cambie. "
   ]
  },
  {
   "cell_type": "code",
   "execution_count": null,
   "metadata": {},
   "outputs": [],
   "source": [
    "# Serie es una matriz unidimensional capaz de contener datos de cualquier tipo (entero, cadena, float). \n",
    "# Las etiquetas se denominan colectivamente índice."
   ]
  },
  {
   "cell_type": "code",
   "execution_count": null,
   "metadata": {
    "id": "bRAc3CJYU5Ml"
   },
   "outputs": [],
   "source": [
    "ser = pd.Series(x)\n",
    "ser_nan = pd.Series(x_nan)"
   ]
  },
  {
   "cell_type": "code",
   "execution_count": null,
   "metadata": {
    "colab": {
     "base_uri": "https://localhost:8080/"
    },
    "id": "Grd-m9UfVCB6",
    "outputId": "43f8832f-f70d-47d4-986f-9d0a50e122ff"
   },
   "outputs": [
    {
     "data": {
      "text/plain": [
       "0    1.0\n",
       "1    2.0\n",
       "2    3.0\n",
       "3    NaN\n",
       "4    5.0\n",
       "5    6.0\n",
       "dtype: float64"
      ]
     },
     "execution_count": 51,
     "metadata": {
      "tags": []
     },
     "output_type": "execute_result"
    }
   ],
   "source": [
    "ser_nan"
   ]
  },
  {
   "cell_type": "code",
   "execution_count": null,
   "metadata": {
    "id": "4zrzFE7YVCua"
   },
   "outputs": [],
   "source": [
    "todos = {'lista': x, 'lista_nan': x_nan, 'array': arr, 'array_nan': arr_nan,\n",
    "         'serie': ser, 'serie_nan': ser_nan}"
   ]
  },
  {
   "cell_type": "code",
   "execution_count": null,
   "metadata": {
    "colab": {
     "base_uri": "https://localhost:8080/"
    },
    "id": "AFr72w3KVjaD",
    "outputId": "f1c0b3e3-13bc-4e73-914d-3719bd692c8a"
   },
   "outputs": [
    {
     "name": "stdout",
     "output_type": "stream",
     "text": [
      "lista\n",
      "[1, 2, 3, 4, 5, 6]\n",
      "lista_nan\n",
      "[1, 2, 3, nan, 5, 6]\n",
      "array\n",
      "[1 2 3 4 5 6]\n",
      "array_nan\n",
      "[ 1.  2.  3. nan  5.  6.]\n",
      "serie\n",
      "0    1\n",
      "1    2\n",
      "2    3\n",
      "3    4\n",
      "4    5\n",
      "5    6\n",
      "dtype: int64\n",
      "serie_nan\n",
      "0    1.0\n",
      "1    2.0\n",
      "2    3.0\n",
      "3    NaN\n",
      "4    5.0\n",
      "5    6.0\n",
      "dtype: float64\n"
     ]
    }
   ],
   "source": [
    "for key, val in todos.items(): #le tenemos que poner items porque si no entiende que sólo debe traer\n",
    "    #la llave, no capta la otra parte del diccionario, \n",
    "    #esto pasa cuando hacemo sun for en un diccionario\n",
    "  print(key)\n",
    "  print(val)"
   ]
  },
  {
   "cell_type": "code",
   "execution_count": null,
   "metadata": {
    "colab": {
     "base_uri": "https://localhost:8080/"
    },
    "id": "4Pcv2N0AVsu0",
    "outputId": "d6d4b3d4-41a6-48cc-9535-4284c9dfa8b6"
   },
   "outputs": [
    {
     "name": "stdout",
     "output_type": "stream",
     "text": [
      "lista\n",
      "3.5\n",
      "lista_nan\n",
      "nan\n",
      "array\n",
      "3.5\n",
      "array_nan\n",
      "nan\n",
      "serie\n",
      "3.5\n",
      "serie_nan\n",
      "nan\n"
     ]
    }
   ],
   "source": [
    "for key, val in todos.items():\n",
    "  print(key)\n",
    "  print(sum(val)/len(val)) \n",
    "#el nan es tan fuerte que se come a los demás números, es como si fuera un infnito, 1 más infinito\n",
    "#es infinito, así lo mismo con los nan"
   ]
  },
  {
   "cell_type": "code",
   "execution_count": null,
   "metadata": {
    "colab": {
     "base_uri": "https://localhost:8080/"
    },
    "id": "-YIB2FjDWMb3",
    "outputId": "8eecb54e-509d-46cc-f657-beaa5291eae8"
   },
   "outputs": [
    {
     "name": "stdout",
     "output_type": "stream",
     "text": [
      "lista\n",
      "3.5\n",
      "lista_nan\n",
      "nan\n",
      "array\n",
      "3\n",
      "array_nan\n",
      "nan\n",
      "serie\n",
      "3.5\n",
      "serie_nan\n",
      "nan\n"
     ]
    }
   ],
   "source": [
    "# statistics trims ints in arrays >> con el módulo de statistics, si la lista o el arreglo contiene\n",
    "#enteros, entonces regresará un medio también\n",
    "for key, val in todos.items():\n",
    "  print(key)\n",
    "  print(statistics.mean(val))"
   ]
  },
  {
   "cell_type": "code",
   "execution_count": null,
   "metadata": {
    "colab": {
     "base_uri": "https://localhost:8080/"
    },
    "id": "lxeByupJW09J",
    "outputId": "af1ab119-d542-488c-e900-5acc9ade4428"
   },
   "outputs": [
    {
     "data": {
      "text/plain": [
       "3"
      ]
     },
     "execution_count": 63,
     "metadata": {
      "tags": []
     },
     "output_type": "execute_result"
    }
   ],
   "source": [
    "int(sum(arr)/len(arr))"
   ]
  },
  {
   "cell_type": "code",
   "execution_count": null,
   "metadata": {
    "colab": {
     "base_uri": "https://localhost:8080/",
     "height": 162
    },
    "id": "DSHnDx2rXDdt",
    "outputId": "12028d57-415f-41df-cea0-1601c42feb95"
   },
   "outputs": [
    {
     "ename": "AttributeError",
     "evalue": "ignored",
     "output_type": "error",
     "traceback": [
      "\u001b[0;31m---------------------------------------------------------------------------\u001b[0m",
      "\u001b[0;31mAttributeError\u001b[0m                            Traceback (most recent call last)",
      "\u001b[0;32m<ipython-input-65-5876887ce364>\u001b[0m in \u001b[0;36m<module>\u001b[0;34m()\u001b[0m\n\u001b[0;32m----> 1\u001b[0;31m \u001b[0mstatistics\u001b[0m\u001b[0;34m.\u001b[0m\u001b[0mfmean\u001b[0m\u001b[0;34m(\u001b[0m\u001b[0marr\u001b[0m\u001b[0;34m)\u001b[0m\u001b[0;34m\u001b[0m\u001b[0;34m\u001b[0m\u001b[0m\n\u001b[0m",
      "\u001b[0;31mAttributeError\u001b[0m: module 'statistics' has no attribute 'fmean'"
     ]
    }
   ],
   "source": [
    "statistics.fmean(arr) #con fmean sí regresa en flotantes, esto viene en la nueva versión. \n",
    "#en este caso no sale nada porque arr no existe. "
   ]
  },
  {
   "cell_type": "code",
   "execution_count": null,
   "metadata": {
    "colab": {
     "base_uri": "https://localhost:8080/"
    },
    "id": "1ID5o-E-XRxL",
    "outputId": "b90639e1-081e-4012-fa49-ac32899cf45c"
   },
   "outputs": [
    {
     "name": "stdout",
     "output_type": "stream",
     "text": [
      "lista\n",
      "3.5\n",
      "lista_nan\n",
      "nan\n",
      "array\n",
      "3.5\n",
      "array_nan\n",
      "nan\n",
      "serie\n",
      "3.5\n",
      "serie_nan\n",
      "3.4\n"
     ]
    }
   ],
   "source": [
    "for key, val in todos.items():\n",
    "  print(key)\n",
    "  print(np.mean(val))"
   ]
  },
  {
   "cell_type": "code",
   "execution_count": null,
   "metadata": {
    "colab": {
     "base_uri": "https://localhost:8080/"
    },
    "id": "FHlQvmxqXmrE",
    "outputId": "c268c514-23a1-43e6-aa39-08e6d06d979c"
   },
   "outputs": [
    {
     "data": {
      "text/plain": [
       "0    1.0\n",
       "1    2.0\n",
       "2    3.0\n",
       "3    NaN\n",
       "4    5.0\n",
       "5    6.0\n",
       "dtype: float64"
      ]
     },
     "execution_count": 67,
     "metadata": {
      "tags": []
     },
     "output_type": "execute_result"
    }
   ],
   "source": [
    "ser_nan"
   ]
  },
  {
   "cell_type": "code",
   "execution_count": null,
   "metadata": {
    "colab": {
     "base_uri": "https://localhost:8080/"
    },
    "id": "dhZyhEE1X0rJ",
    "outputId": "eceb95d5-fc20-4be3-c2d5-a790e05f80eb"
   },
   "outputs": [
    {
     "data": {
      "text/plain": [
       "3.4"
      ]
     },
     "execution_count": 71,
     "metadata": {
      "tags": []
     },
     "output_type": "execute_result"
    }
   ],
   "source": [
    "(1+2+3+5+6)/5 #numpy ignora los nan para sacar el promedio, pero lo divide sólo en el no. de los que \n",
    "#tomó en cuenta. "
   ]
  },
  {
   "cell_type": "code",
   "execution_count": null,
   "metadata": {
    "colab": {
     "base_uri": "https://localhost:8080/"
    },
    "id": "ocZ_V3QOX7HR",
    "outputId": "0d704dde-8ea6-4b6f-ae4c-bc8ff18f3388"
   },
   "outputs": [
    {
     "data": {
      "text/plain": [
       "3.5"
      ]
     },
     "execution_count": 69,
     "metadata": {
      "tags": []
     },
     "output_type": "execute_result"
    }
   ],
   "source": [
    "(1+2+3+4+5+6)/6"
   ]
  },
  {
   "cell_type": "code",
   "execution_count": null,
   "metadata": {
    "colab": {
     "base_uri": "https://localhost:8080/"
    },
    "id": "tdprSKRrX-mK",
    "outputId": "7784b3c6-86f7-47c4-ff96-7d999b8355ca"
   },
   "outputs": [
    {
     "name": "stdout",
     "output_type": "stream",
     "text": [
      "lista\n",
      "3.5\n",
      "lista_nan\n",
      "nan\n",
      "array\n",
      "3.5\n",
      "array_nan\n",
      "nan\n",
      "serie\n",
      "3.5\n",
      "serie_nan\n",
      "3.4\n"
     ]
    },
    {
     "name": "stderr",
     "output_type": "stream",
     "text": [
      "/usr/local/lib/python3.7/dist-packages/ipykernel_launcher.py:3: DeprecationWarning: scipy.mean is deprecated and will be removed in SciPy 2.0.0, use numpy.mean instead\n",
      "  This is separate from the ipykernel package so we can avoid doing imports until\n"
     ]
    }
   ],
   "source": [
    "for key, val in todos.items():\n",
    "  print(key)\n",
    "  print(scipy.mean(val))"
   ]
  },
  {
   "cell_type": "code",
   "execution_count": null,
   "metadata": {
    "colab": {
     "base_uri": "https://localhost:8080/"
    },
    "id": "XvYG_CUeYRXR",
    "outputId": "e030009a-d47d-4fd7-ba59-066f68b453fe"
   },
   "outputs": [
    {
     "name": "stdout",
     "output_type": "stream",
     "text": [
      "lista\n",
      "3.5\n",
      "lista_nan\n",
      "3.4\n",
      "array\n",
      "3.5\n",
      "array_nan\n",
      "3.4\n",
      "serie\n",
      "3.5\n",
      "serie_nan\n",
      "3.4\n"
     ]
    }
   ],
   "source": [
    "for key, val in todos.items():\n",
    "  print(key)\n",
    "  print(np.nanmean(val)) #con nanmean le decimos que en esa función considere que puede recibir \n",
    "    #nulos y que los ignore, por elimina los nan y divide entre el no. de registros que sumó. "
   ]
  },
  {
   "cell_type": "code",
   "execution_count": null,
   "metadata": {
    "colab": {
     "base_uri": "https://localhost:8080/"
    },
    "id": "sjlYl9sdYlR0",
    "outputId": "c52603dc-2762-4f4b-a6cc-6e3c59d38a71"
   },
   "outputs": [
    {
     "data": {
      "text/plain": [
       "3.5"
      ]
     },
     "execution_count": 78,
     "metadata": {
      "tags": []
     },
     "output_type": "execute_result"
    }
   ],
   "source": [
    "ser.mean(skipna=False) #con esto le indicamos que no queremos que se los salte, aquí no tenemos nan"
   ]
  },
  {
   "cell_type": "code",
   "execution_count": null,
   "metadata": {
    "colab": {
     "base_uri": "https://localhost:8080/"
    },
    "id": "tEdUa8lVYubM",
    "outputId": "f14bb004-f171-4c19-ada4-3fbcd6757a0f"
   },
   "outputs": [
    {
     "data": {
      "text/plain": [
       "nan"
      ]
     },
     "execution_count": 76,
     "metadata": {
      "tags": []
     },
     "output_type": "execute_result"
    }
   ],
   "source": [
    "ser_nan.mean(skipna=False) #con esto le indicamos que no queremos que se los salte, aquí tenemos nan\n",
    "#pero el nan se come a los demás. "
   ]
  },
  {
   "cell_type": "code",
   "execution_count": null,
   "metadata": {
    "colab": {
     "base_uri": "https://localhost:8080/"
    },
    "id": "ka4TcWH6ZBXu",
    "outputId": "bca64e88-806f-4044-829d-1c97e19bea24"
   },
   "outputs": [
    {
     "data": {
      "text/plain": [
       "0    1.0\n",
       "1    2.0\n",
       "2    3.0\n",
       "3    NaN\n",
       "4    5.0\n",
       "5    6.0\n",
       "dtype: float64"
      ]
     },
     "execution_count": 77,
     "metadata": {
      "tags": []
     },
     "output_type": "execute_result"
    }
   ],
   "source": [
    "ser_nan"
   ]
  },
  {
   "cell_type": "code",
   "execution_count": null,
   "metadata": {
    "colab": {
     "base_uri": "https://localhost:8080/"
    },
    "id": "7HW730-bZWus",
    "outputId": "4e8810c7-1e33-4ca5-ccba-dab45f060a05"
   },
   "outputs": [
    {
     "data": {
      "text/plain": [
       "nan"
      ]
     },
     "execution_count": 79,
     "metadata": {
      "tags": []
     },
     "output_type": "execute_result"
    }
   ],
   "source": [
    "pd.Series([np.nan, np.nan]).mean()"
   ]
  },
  {
   "cell_type": "code",
   "execution_count": null,
   "metadata": {
    "colab": {
     "base_uri": "https://localhost:8080/"
    },
    "id": "6-tQamaKaR6R",
    "outputId": "84bf0e34-8791-4198-da70-fe55365785a1"
   },
   "outputs": [
    {
     "name": "stdout",
     "output_type": "stream",
     "text": [
      "3\n"
     ]
    }
   ],
   "source": [
    "n = 3\n",
    "if n%2!=0: #si es diferente de 0 es impar \n",
    "  print(n)"
   ]
  },
  {
   "cell_type": "code",
   "execution_count": null,
   "metadata": {
    "colab": {
     "base_uri": "https://localhost:8080/"
    },
    "id": "pjxXJ4KvaUeP",
    "outputId": "00ad1d8f-c686-4dc4-cc98-c1de5cda1b27"
   },
   "outputs": [
    {
     "data": {
      "text/plain": [
       "1"
      ]
     },
     "execution_count": 87,
     "metadata": {
      "tags": []
     },
     "output_type": "execute_result"
    }
   ],
   "source": [
    "if n%2"
   ]
  },
  {
   "cell_type": "code",
   "execution_count": null,
   "metadata": {
    "colab": {
     "base_uri": "https://localhost:8080/"
    },
    "id": "8UqBgZshaWzb",
    "outputId": "291fabaf-f244-4a49-fb97-fddd9714804c"
   },
   "outputs": [
    {
     "name": "stdout",
     "output_type": "stream",
     "text": [
      "0  [] False\n"
     ]
    }
   ],
   "source": [
    "print(int(),\n",
    "str(),\n",
    "list(),\n",
    "bool())"
   ]
  },
  {
   "cell_type": "code",
   "execution_count": null,
   "metadata": {
    "id": "ogsBrklcZpZw"
   },
   "outputs": [],
   "source": [
    "def mediana_python(objeto):\n",
    "  n = len(objeto)\n",
    "\n",
    "  if n%2 != 0:#en caso de que sea impar\n",
    "    mediana = sorted(objeto)[int((n-1)*0.5)] #esto nos da el índice del elemento de enmedio\n",
    "    #hay que ponerlo en entero porque los índices obvio son enteros.\n",
    "    #lo dividimos entre 0.5 para sacar el de en medio\n",
    "\n",
    "  else: #en caso de que sea par\n",
    "    ob_ord = sorted(objeto)\n",
    "    ind = int(n*0.5) #no hay que restarle uno, porque ya es par #lo dividimos entre 0.5 para sacar el de en medio\n",
    "\n",
    "    mediana = (ob_ord[ind] + ob_ord[ind-1])/2\n",
    "\n",
    "  return mediana"
   ]
  },
  {
   "cell_type": "markdown",
   "metadata": {},
   "source": [
    "*SciPy se alimenta de Numpy\n",
    "*Skip es con pandas\n",
    "*"
   ]
  },
  {
   "cell_type": "code",
   "execution_count": null,
   "metadata": {
    "colab": {
     "base_uri": "https://localhost:8080/"
    },
    "id": "lW29n-EnaeTC",
    "outputId": "2ec95952-53eb-4e31-976f-21bc0fcabae3"
   },
   "outputs": [
    {
     "name": "stdout",
     "output_type": "stream",
     "text": [
      "lista\n",
      "3.5\n",
      "lista_nan\n",
      "nan\n",
      "array\n",
      "3.5\n",
      "array_nan\n",
      "nan\n",
      "serie\n",
      "3.5\n",
      "serie_nan\n",
      "nan\n"
     ]
    }
   ],
   "source": [
    "for key, val in todos.items():\n",
    "  print(key)\n",
    "  print(mediana_python(val))"
   ]
  },
  {
   "cell_type": "code",
   "execution_count": null,
   "metadata": {
    "colab": {
     "base_uri": "https://localhost:8080/"
    },
    "id": "vSfRm6m4fGK5",
    "outputId": "3fdd23fd-636e-4bc9-d677-66a7e2fed0c2"
   },
   "outputs": [
    {
     "data": {
      "text/plain": [
       "2.5"
      ]
     },
     "execution_count": 91,
     "metadata": {
      "tags": []
     },
     "output_type": "execute_result"
    }
   ],
   "source": [
    "mediana_python([1,np.nan,2,3,4,5])"
   ]
  },
  {
   "cell_type": "code",
   "execution_count": null,
   "metadata": {
    "colab": {
     "base_uri": "https://localhost:8080/"
    },
    "id": "FpeAooypfUoo",
    "outputId": "eca14a36-f257-4698-b73a-46ac94a6b07a"
   },
   "outputs": [
    {
     "data": {
      "text/plain": [
       "[1, 2, 5, 5, 6, nan, 5, 6]"
      ]
     },
     "execution_count": 100,
     "metadata": {
      "tags": []
     },
     "output_type": "execute_result"
    }
   ],
   "source": [
    "sorted([1,5,2,6,np.nan,5,5,6])"
   ]
  },
  {
   "cell_type": "code",
   "execution_count": null,
   "metadata": {
    "colab": {
     "base_uri": "https://localhost:8080/"
    },
    "id": "ygbXWOKYfZlB",
    "outputId": "a85af62b-47bd-4f85-dcf9-565cc63f016b"
   },
   "outputs": [
    {
     "data": {
      "text/plain": [
       "[1, 2, 3, nan, 5, 6]"
      ]
     },
     "execution_count": 97,
     "metadata": {
      "tags": []
     },
     "output_type": "execute_result"
    }
   ],
   "source": [
    "sorted(x_nan)"
   ]
  },
  {
   "cell_type": "code",
   "execution_count": null,
   "metadata": {
    "colab": {
     "base_uri": "https://localhost:8080/"
    },
    "id": "HX72NKDmfmJX",
    "outputId": "5e60d398-ae58-4d54-f875-ec05088c61e4"
   },
   "outputs": [
    {
     "name": "stdout",
     "output_type": "stream",
     "text": [
      "lista\n",
      "3.5\n",
      "lista_nan\n",
      "nan\n",
      "array\n",
      "3.5\n",
      "array_nan\n",
      "nan\n",
      "serie\n",
      "3.5\n",
      "serie_nan\n",
      "nan\n"
     ]
    }
   ],
   "source": [
    "for key, val in todos.items():\n",
    "  print(key)\n",
    "  print(statistics.median(val))"
   ]
  },
  {
   "cell_type": "code",
   "execution_count": null,
   "metadata": {
    "colab": {
     "base_uri": "https://localhost:8080/"
    },
    "id": "pe0hgwPEgLDX",
    "outputId": "6cf2d1d5-d2e3-4060-efb0-56a6e2886212"
   },
   "outputs": [
    {
     "name": "stdout",
     "output_type": "stream",
     "text": [
      "lista\n",
      "3.5\n",
      "lista_nan\n",
      "nan\n",
      "array\n",
      "3.5\n",
      "array_nan\n",
      "nan\n",
      "serie\n",
      "3.5\n",
      "serie_nan\n",
      "nan\n"
     ]
    }
   ],
   "source": [
    "for key, val in todos.items():\n",
    "  print(key)\n",
    "  print(np.median(val))"
   ]
  },
  {
   "cell_type": "code",
   "execution_count": null,
   "metadata": {
    "colab": {
     "base_uri": "https://localhost:8080/"
    },
    "id": "umZpu4JUgfrD",
    "outputId": "d03c78b0-6c03-4705-fa96-f211f023c905"
   },
   "outputs": [
    {
     "data": {
      "text/plain": [
       "nan"
      ]
     },
     "execution_count": 103,
     "metadata": {
      "tags": []
     },
     "output_type": "execute_result"
    }
   ],
   "source": [
    "np.median([1,np.nan,2,3,4,5])"
   ]
  },
  {
   "cell_type": "code",
   "execution_count": null,
   "metadata": {
    "colab": {
     "base_uri": "https://localhost:8080/"
    },
    "id": "pSTO_oZmgjWq",
    "outputId": "2e030242-e97d-46ad-9aa9-cccabd0705f8"
   },
   "outputs": [
    {
     "name": "stdout",
     "output_type": "stream",
     "text": [
      "lista\n",
      "3.5\n",
      "lista_nan\n",
      "3.0\n",
      "array\n",
      "3.5\n",
      "array_nan\n",
      "3.0\n",
      "serie\n",
      "3.5\n",
      "serie_nan\n",
      "3.0\n"
     ]
    }
   ],
   "source": [
    "for key, val in todos.items():\n",
    "  print(key)\n",
    "  print(np.nanmedian(val))"
   ]
  },
  {
   "cell_type": "code",
   "execution_count": null,
   "metadata": {
    "colab": {
     "base_uri": "https://localhost:8080/"
    },
    "id": "PM6W5ErzguFq",
    "outputId": "250b5854-cf29-41a7-8539-93516180a739"
   },
   "outputs": [
    {
     "data": {
      "text/plain": [
       "3.5"
      ]
     },
     "execution_count": 105,
     "metadata": {
      "tags": []
     },
     "output_type": "execute_result"
    }
   ],
   "source": [
    "ser.median()"
   ]
  },
  {
   "cell_type": "code",
   "execution_count": null,
   "metadata": {
    "colab": {
     "base_uri": "https://localhost:8080/"
    },
    "id": "uchjWcv9g2EK",
    "outputId": "4c31ddf4-b5e8-4b34-b5ce-3a8712a2c4f9"
   },
   "outputs": [
    {
     "data": {
      "text/plain": [
       "nan"
      ]
     },
     "execution_count": 108,
     "metadata": {
      "tags": []
     },
     "output_type": "execute_result"
    }
   ],
   "source": [
    "ser_nan.median(skipna=False)"
   ]
  },
  {
   "cell_type": "code",
   "execution_count": null,
   "metadata": {
    "id": "48onlbNlg4Yd"
   },
   "outputs": [],
   "source": [
    "u = [1,2,3,1,6,1,7,1,54]\n",
    "v = [1,2,1,2,1,2,6,2,1,87,432]"
   ]
  },
  {
   "cell_type": "code",
   "execution_count": null,
   "metadata": {
    "colab": {
     "base_uri": "https://localhost:8080/"
    },
    "id": "XSDX9lfIhK0D",
    "outputId": "a4c81ab9-92dc-402b-cf8a-a9812effa5fd"
   },
   "outputs": [
    {
     "data": {
      "text/plain": [
       "[(4, 1), (1, 2), (1, 3), (1, 6), (1, 7), (1, 54)]"
      ]
     },
     "execution_count": 113,
     "metadata": {
      "tags": []
     },
     "output_type": "execute_result"
    }
   ],
   "source": [
    "[(u.count(elemento), elemento) for elemento in set(u)]"
   ]
  },
  {
   "cell_type": "code",
   "execution_count": null,
   "metadata": {
    "colab": {
     "base_uri": "https://localhost:8080/"
    },
    "id": "e2oFE1NChRYJ",
    "outputId": "43e24f92-aba5-4976-fa65-56ff3e19b55c"
   },
   "outputs": [
    {
     "data": {
      "text/plain": [
       "(4, 1)"
      ]
     },
     "execution_count": 114,
     "metadata": {
      "tags": []
     },
     "output_type": "execute_result"
    }
   ],
   "source": [
    "max([(u.count(elemento), elemento) for elemento in set(u)])"
   ]
  },
  {
   "cell_type": "code",
   "execution_count": null,
   "metadata": {
    "colab": {
     "base_uri": "https://localhost:8080/"
    },
    "id": "-UR7WJhThr7I",
    "outputId": "3d491efe-c0da-443f-8414-db852dea3275"
   },
   "outputs": [
    {
     "data": {
      "text/plain": [
       "[(4, 1), (4, 2), (1, 6), (1, 432), (1, 87)]"
      ]
     },
     "execution_count": 115,
     "metadata": {
      "tags": []
     },
     "output_type": "execute_result"
    }
   ],
   "source": [
    "[(v.count(elemento), elemento) for elemento in set(v)]"
   ]
  },
  {
   "cell_type": "code",
   "execution_count": null,
   "metadata": {
    "colab": {
     "base_uri": "https://localhost:8080/"
    },
    "id": "q7YL4ZOPhv2w",
    "outputId": "921fc45e-7074-4379-8939-25062ff58bbf"
   },
   "outputs": [
    {
     "data": {
      "text/plain": [
       "(4, 2)"
      ]
     },
     "execution_count": 117,
     "metadata": {
      "tags": []
     },
     "output_type": "execute_result"
    }
   ],
   "source": [
    "max([(v.count(elemento), elemento) for elemento in set(v)])"
   ]
  },
  {
   "cell_type": "code",
   "execution_count": null,
   "metadata": {
    "colab": {
     "base_uri": "https://localhost:8080/"
    },
    "id": "jZUqyyHoh28o",
    "outputId": "a45d2abf-f425-4478-ee27-20f9c21c608f"
   },
   "outputs": [
    {
     "data": {
      "text/plain": [
       "1"
      ]
     },
     "execution_count": 118,
     "metadata": {
      "tags": []
     },
     "output_type": "execute_result"
    }
   ],
   "source": [
    "statistics.mode(u)"
   ]
  },
  {
   "cell_type": "code",
   "execution_count": null,
   "metadata": {
    "colab": {
     "base_uri": "https://localhost:8080/",
     "height": 287
    },
    "id": "ORntjYMciOMJ",
    "outputId": "6d8f817a-cd2b-4962-e115-36089a37e25a"
   },
   "outputs": [
    {
     "ename": "StatisticsError",
     "evalue": "ignored",
     "output_type": "error",
     "traceback": [
      "\u001b[0;31m---------------------------------------------------------------------------\u001b[0m",
      "\u001b[0;31mStatisticsError\u001b[0m                           Traceback (most recent call last)",
      "\u001b[0;32m<ipython-input-119-79b787b1f72b>\u001b[0m in \u001b[0;36m<module>\u001b[0;34m()\u001b[0m\n\u001b[0;32m----> 1\u001b[0;31m \u001b[0mstatistics\u001b[0m\u001b[0;34m.\u001b[0m\u001b[0mmode\u001b[0m\u001b[0;34m(\u001b[0m\u001b[0mv\u001b[0m\u001b[0;34m)\u001b[0m\u001b[0;34m\u001b[0m\u001b[0;34m\u001b[0m\u001b[0m\n\u001b[0m",
      "\u001b[0;32m/usr/lib/python3.7/statistics.py\u001b[0m in \u001b[0;36mmode\u001b[0;34m(data)\u001b[0m\n\u001b[1;32m    504\u001b[0m     \u001b[0;32melif\u001b[0m \u001b[0mtable\u001b[0m\u001b[0;34m:\u001b[0m\u001b[0;34m\u001b[0m\u001b[0;34m\u001b[0m\u001b[0m\n\u001b[1;32m    505\u001b[0m         raise StatisticsError(\n\u001b[0;32m--> 506\u001b[0;31m                 \u001b[0;34m'no unique mode; found %d equally common values'\u001b[0m \u001b[0;34m%\u001b[0m \u001b[0mlen\u001b[0m\u001b[0;34m(\u001b[0m\u001b[0mtable\u001b[0m\u001b[0;34m)\u001b[0m\u001b[0;34m\u001b[0m\u001b[0;34m\u001b[0m\u001b[0m\n\u001b[0m\u001b[1;32m    507\u001b[0m                 )\n\u001b[1;32m    508\u001b[0m     \u001b[0;32melse\u001b[0m\u001b[0;34m:\u001b[0m\u001b[0;34m\u001b[0m\u001b[0;34m\u001b[0m\u001b[0m\n",
      "\u001b[0;31mStatisticsError\u001b[0m: no unique mode; found 2 equally common values"
     ]
    }
   ],
   "source": [
    "statistics.mode(v)"
   ]
  },
  {
   "cell_type": "code",
   "execution_count": null,
   "metadata": {
    "colab": {
     "base_uri": "https://localhost:8080/"
    },
    "id": "yjxYgWWpidT_",
    "outputId": "5dc5afce-0104-49c2-b60a-74848eb3014d"
   },
   "outputs": [
    {
     "data": {
      "text/plain": [
       "ModeResult(mode=array([1]), count=array([4]))"
      ]
     },
     "execution_count": 120,
     "metadata": {
      "tags": []
     },
     "output_type": "execute_result"
    }
   ],
   "source": [
    "scipy.stats.mode(u)"
   ]
  },
  {
   "cell_type": "code",
   "execution_count": null,
   "metadata": {
    "colab": {
     "base_uri": "https://localhost:8080/"
    },
    "id": "to5bv8uripBV",
    "outputId": "abad9133-488e-4214-be7a-9629e7ac7400"
   },
   "outputs": [
    {
     "data": {
      "text/plain": [
       "ModeResult(mode=array([1]), count=array([4]))"
      ]
     },
     "execution_count": 121,
     "metadata": {
      "tags": []
     },
     "output_type": "execute_result"
    }
   ],
   "source": [
    "scipy.stats.mode(v)"
   ]
  },
  {
   "cell_type": "code",
   "execution_count": null,
   "metadata": {
    "id": "sgJ64xHfirPJ"
   },
   "outputs": [],
   "source": [
    "j = [2, np.nan, np.nan]\n",
    "j2 = [1,1,np.nan]"
   ]
  },
  {
   "cell_type": "code",
   "execution_count": null,
   "metadata": {
    "colab": {
     "base_uri": "https://localhost:8080/"
    },
    "id": "s9b08IFui2iA",
    "outputId": "fa421f94-ee48-4bf2-9684-2a7a000c49b5"
   },
   "outputs": [
    {
     "data": {
      "text/plain": [
       "(2, nan)"
      ]
     },
     "execution_count": 127,
     "metadata": {
      "tags": []
     },
     "output_type": "execute_result"
    }
   ],
   "source": [
    "max([(j.count(elemento), elemento) for elemento in set(j)])"
   ]
  },
  {
   "cell_type": "code",
   "execution_count": null,
   "metadata": {
    "colab": {
     "base_uri": "https://localhost:8080/"
    },
    "id": "Dh3jUpERi7Hk",
    "outputId": "f65eb7ae-4a3e-4174-b483-b0fae68f523c"
   },
   "outputs": [
    {
     "data": {
      "text/plain": [
       "(2, 1)"
      ]
     },
     "execution_count": 129,
     "metadata": {
      "tags": []
     },
     "output_type": "execute_result"
    }
   ],
   "source": [
    "max([(j2.count(elemento), elemento) for elemento in set(j2)])"
   ]
  },
  {
   "cell_type": "code",
   "execution_count": null,
   "metadata": {
    "colab": {
     "base_uri": "https://localhost:8080/"
    },
    "id": "pOe6ZFOjjEd1",
    "outputId": "730f309a-ec1c-43d9-e83e-99c0a29767cf"
   },
   "outputs": [
    {
     "data": {
      "text/plain": [
       "nan"
      ]
     },
     "execution_count": 130,
     "metadata": {
      "tags": []
     },
     "output_type": "execute_result"
    }
   ],
   "source": [
    "statistics.mode(j)"
   ]
  },
  {
   "cell_type": "code",
   "execution_count": null,
   "metadata": {
    "colab": {
     "base_uri": "https://localhost:8080/"
    },
    "id": "289ZoEPGjG3K",
    "outputId": "d53d87ad-40ca-4d90-cb7c-88132e9a8469"
   },
   "outputs": [
    {
     "data": {
      "text/plain": [
       "1"
      ]
     },
     "execution_count": 131,
     "metadata": {
      "tags": []
     },
     "output_type": "execute_result"
    }
   ],
   "source": [
    "statistics.mode(j2)"
   ]
  },
  {
   "cell_type": "code",
   "execution_count": null,
   "metadata": {
    "colab": {
     "base_uri": "https://localhost:8080/"
    },
    "id": "W_yRHzB-jH9R",
    "outputId": "8a9c44f7-0fb9-4a68-b6f9-b0b1dd9e52b4"
   },
   "outputs": [
    {
     "data": {
      "text/plain": [
       "ModeResult(mode=array([2.]), count=array([1]))"
      ]
     },
     "execution_count": 132,
     "metadata": {
      "tags": []
     },
     "output_type": "execute_result"
    }
   ],
   "source": [
    "scipy.stats.mode(j)"
   ]
  },
  {
   "cell_type": "code",
   "execution_count": null,
   "metadata": {
    "colab": {
     "base_uri": "https://localhost:8080/"
    },
    "id": "hmTYRrP3jOAm",
    "outputId": "9aedf464-18c4-45bc-b8f0-046365e59bfa"
   },
   "outputs": [
    {
     "data": {
      "text/plain": [
       "ModeResult(mode=array([1.]), count=array([2]))"
      ]
     },
     "execution_count": 134,
     "metadata": {
      "tags": []
     },
     "output_type": "execute_result"
    }
   ],
   "source": [
    "scipy.stats.mode(j2)"
   ]
  },
  {
   "cell_type": "code",
   "execution_count": null,
   "metadata": {
    "id": "91DuCbHljPpS"
   },
   "outputs": [],
   "source": [
    "u,v,j,j1 = pd.Series(u),pd.Series(v),pd.Series(j),pd.Series(j2)"
   ]
  },
  {
   "cell_type": "code",
   "execution_count": null,
   "metadata": {
    "colab": {
     "base_uri": "https://localhost:8080/"
    },
    "id": "Q2iHYVmYjnmh",
    "outputId": "6b2a9ac7-bf8b-4e86-974e-9f73967c2bb2"
   },
   "outputs": [
    {
     "data": {
      "text/plain": [
       "0    1\n",
       "dtype: int64"
      ]
     },
     "execution_count": 137,
     "metadata": {
      "tags": []
     },
     "output_type": "execute_result"
    }
   ],
   "source": [
    "u.mode()"
   ]
  },
  {
   "cell_type": "code",
   "execution_count": null,
   "metadata": {
    "colab": {
     "base_uri": "https://localhost:8080/"
    },
    "id": "eOfrJW1Rjqnp",
    "outputId": "c831df83-43b0-426d-c454-6ecac4182fa2"
   },
   "outputs": [
    {
     "data": {
      "text/plain": [
       "0    1\n",
       "1    2\n",
       "dtype: int64"
      ]
     },
     "execution_count": 145,
     "metadata": {
      "tags": []
     },
     "output_type": "execute_result"
    }
   ],
   "source": [
    "v.mode()"
   ]
  },
  {
   "cell_type": "code",
   "execution_count": null,
   "metadata": {
    "colab": {
     "base_uri": "https://localhost:8080/"
    },
    "id": "l7p4lTOpkpSb",
    "outputId": "2d8ea651-8496-4bd5-c955-d92ab9035199"
   },
   "outputs": [
    {
     "data": {
      "text/plain": [
       "0       1\n",
       "1       2\n",
       "2       1\n",
       "3       2\n",
       "4       1\n",
       "5       2\n",
       "6       6\n",
       "7       2\n",
       "8       1\n",
       "9      87\n",
       "10    432\n",
       "dtype: int64"
      ]
     },
     "execution_count": 143,
     "metadata": {
      "tags": []
     },
     "output_type": "execute_result"
    }
   ],
   "source": [
    "v"
   ]
  },
  {
   "cell_type": "code",
   "execution_count": null,
   "metadata": {
    "colab": {
     "base_uri": "https://localhost:8080/"
    },
    "id": "NB7UTN3hjv-w",
    "outputId": "b82be2cd-e99d-441c-f0bc-c216decafaee"
   },
   "outputs": [
    {
     "data": {
      "text/plain": [
       "0   NaN\n",
       "dtype: float64"
      ]
     },
     "execution_count": 141,
     "metadata": {
      "tags": []
     },
     "output_type": "execute_result"
    }
   ],
   "source": [
    "j.mode(dropna=False)"
   ]
  },
  {
   "cell_type": "code",
   "execution_count": null,
   "metadata": {
    "colab": {
     "base_uri": "https://localhost:8080/"
    },
    "id": "1WTZliJsj0qO",
    "outputId": "150a0f61-7d24-47fb-dcc1-53946b5339fb"
   },
   "outputs": [
    {
     "data": {
      "text/plain": [
       "0    1.0\n",
       "dtype: float64"
      ]
     },
     "execution_count": 142,
     "metadata": {
      "tags": []
     },
     "output_type": "execute_result"
    }
   ],
   "source": [
    "j1.mode(dropna=False)"
   ]
  },
  {
   "cell_type": "code",
   "execution_count": null,
   "metadata": {
    "id": "6y7d4lG-j3OY"
   },
   "outputs": [],
   "source": [
    "# Special trae funciones especiales como combinaciones, permutaciones y exponenciales\n",
    "#scipy.special"
   ]
  },
  {
   "cell_type": "code",
   "execution_count": 2,
   "metadata": {
    "id": "9ZeHslYYlHQ-"
   },
   "outputs": [],
   "source": [
    "from scipy import stats"
   ]
  },
  {
   "cell_type": "code",
   "execution_count": null,
   "metadata": {
    "id": "hNqjfQpClYCc"
   },
   "outputs": [],
   "source": [
    "#import scipy.stats \n",
    "#es mejor hacer esto por si tienes algo que se llame igual\n",
    "\n",
    "#from scipy import stats\n",
    "# aunque de este modo puede ser por simplicidad"
   ]
  },
  {
   "cell_type": "code",
   "execution_count": 6,
   "metadata": {
    "id": "6AH1ORwjlxk_"
   },
   "outputs": [],
   "source": [
    "x = [1,2,3,4,5]"
   ]
  },
  {
   "cell_type": "code",
   "execution_count": 7,
   "metadata": {
    "colab": {
     "base_uri": "https://localhost:8080/"
    },
    "id": "RlMg0x9Hl05_",
    "outputId": "7a81fed5-30ee-491c-800c-005eaf42be48"
   },
   "outputs": [
    {
     "data": {
      "text/plain": [
       "DescribeResult(nobs=5, minmax=(1, 5), mean=3.0, variance=2.5, skewness=0.0, kurtosis=-1.3)"
      ]
     },
     "execution_count": 7,
     "metadata": {},
     "output_type": "execute_result"
    }
   ],
   "source": [
    "stats.describe(x)"
   ]
  },
  {
   "cell_type": "code",
   "execution_count": 12,
   "metadata": {
    "id": "gYRxYodymCNS"
   },
   "outputs": [],
   "source": [
    "normal = stats.norm() \n",
    "#esto me regresa una variable aleatoria"
   ]
  },
  {
   "cell_type": "code",
   "execution_count": 13,
   "metadata": {
    "id": "nmWMoh_km3pO"
   },
   "outputs": [],
   "source": [
    "import matplotlib.pyplot as plt\n"
   ]
  },
  {
   "cell_type": "code",
   "execution_count": 14,
   "metadata": {
    "id": "ImY_M_linABV"
   },
   "outputs": [],
   "source": [
    "x = np.arange(-3, 3.1, 0.1) #estamos tomando valores \n",
    "#q van de -3 a 3, y van aumentando en .1"
   ]
  },
  {
   "cell_type": "code",
   "execution_count": 15,
   "metadata": {
    "colab": {
     "base_uri": "https://localhost:8080/"
    },
    "id": "OfqW3PI9nE_Y",
    "outputId": "5464314a-a8b9-4301-b20e-89d230458e70"
   },
   "outputs": [
    {
     "data": {
      "text/plain": [
       "array([-3.00000000e+00, -2.90000000e+00, -2.80000000e+00, -2.70000000e+00,\n",
       "       -2.60000000e+00, -2.50000000e+00, -2.40000000e+00, -2.30000000e+00,\n",
       "       -2.20000000e+00, -2.10000000e+00, -2.00000000e+00, -1.90000000e+00,\n",
       "       -1.80000000e+00, -1.70000000e+00, -1.60000000e+00, -1.50000000e+00,\n",
       "       -1.40000000e+00, -1.30000000e+00, -1.20000000e+00, -1.10000000e+00,\n",
       "       -1.00000000e+00, -9.00000000e-01, -8.00000000e-01, -7.00000000e-01,\n",
       "       -6.00000000e-01, -5.00000000e-01, -4.00000000e-01, -3.00000000e-01,\n",
       "       -2.00000000e-01, -1.00000000e-01,  2.66453526e-15,  1.00000000e-01,\n",
       "        2.00000000e-01,  3.00000000e-01,  4.00000000e-01,  5.00000000e-01,\n",
       "        6.00000000e-01,  7.00000000e-01,  8.00000000e-01,  9.00000000e-01,\n",
       "        1.00000000e+00,  1.10000000e+00,  1.20000000e+00,  1.30000000e+00,\n",
       "        1.40000000e+00,  1.50000000e+00,  1.60000000e+00,  1.70000000e+00,\n",
       "        1.80000000e+00,  1.90000000e+00,  2.00000000e+00,  2.10000000e+00,\n",
       "        2.20000000e+00,  2.30000000e+00,  2.40000000e+00,  2.50000000e+00,\n",
       "        2.60000000e+00,  2.70000000e+00,  2.80000000e+00,  2.90000000e+00,\n",
       "        3.00000000e+00])"
      ]
     },
     "execution_count": 15,
     "metadata": {},
     "output_type": "execute_result"
    }
   ],
   "source": [
    "x"
   ]
  },
  {
   "cell_type": "code",
   "execution_count": 16,
   "metadata": {
    "colab": {
     "base_uri": "https://localhost:8080/",
     "height": 265
    },
    "id": "Og6WdB46nFXn",
    "outputId": "fed59acd-48a1-4468-85cd-813b87161889"
   },
   "outputs": [
    {
     "data": {
      "image/png": "[encoded data removed]",
      "text/plain": [
       "<Figure size 432x288 with 1 Axes>"
      ]
     },
     "metadata": {
      "needs_background": "light"
     },
     "output_type": "display_data"
    }
   ],
   "source": [
    "plt.plot(x, normal.pdf(x))\n",
    "plt.show()"
   ]
  },
  {
   "cell_type": "code",
   "execution_count": null,
   "metadata": {
    "colab": {
     "base_uri": "https://localhost:8080/"
    },
    "id": "7OZqsLurnRPn",
    "outputId": "785bc411-1965-4554-b295-c7a6fcd5ee81"
   },
   "outputs": [
    {
     "data": {
      "text/plain": [
       "0.0"
      ]
     },
     "execution_count": 163,
     "metadata": {
      "tags": []
     },
     "output_type": "execute_result"
    }
   ],
   "source": [
    "normal.expect() #esperanza "
   ]
  },
  {
   "cell_type": "code",
   "execution_count": 1,
   "metadata": {
    "colab": {
     "base_uri": "https://localhost:8080/"
    },
    "id": "ZlFf_k4Fn7bY",
    "outputId": "bdcc89de-4d3f-40c4-b092-f137d5bc53ff"
   },
   "outputs": [
    {
     "ename": "NameError",
     "evalue": "name 'normal' is not defined",
     "output_type": "error",
     "traceback": [
      "\u001b[1;31m---------------------------------------------------------------------------\u001b[0m",
      "\u001b[1;31mNameError\u001b[0m                                 Traceback (most recent call last)",
      "\u001b[1;32m<ipython-input-1-f35a12e3f6c1>\u001b[0m in \u001b[0;36m<module>\u001b[1;34m\u001b[0m\n\u001b[1;32m----> 1\u001b[1;33m \u001b[0mnormal\u001b[0m\u001b[1;33m.\u001b[0m\u001b[0minterval\u001b[0m\u001b[1;33m(\u001b[0m\u001b[1;36m0.95\u001b[0m\u001b[1;33m)\u001b[0m\u001b[1;33m\u001b[0m\u001b[1;33m\u001b[0m\u001b[0m\n\u001b[0m\u001b[0;32m      2\u001b[0m \u001b[1;31m#un intervalo de confianza es https://www.youtube.com/watch?v=nNZH9FXnjvM\u001b[0m\u001b[1;33m\u001b[0m\u001b[1;33m\u001b[0m\u001b[1;33m\u001b[0m\u001b[0m\n",
      "\u001b[1;31mNameError\u001b[0m: name 'normal' is not defined"
     ]
    }
   ],
   "source": [
    "normal.interval(0.95) \n",
    "#un intervalo de confianza es https://www.youtube.com/watch?v=nNZH9FXnjvM\n",
    "#"
   ]
  },
  {
   "cell_type": "code",
   "execution_count": null,
   "metadata": {
    "id": "1CWeItedofQy"
   },
   "outputs": [],
   "source": [
    "# Funcion de densidad pmf\n",
    "# Funcion de densidad acumulada >> probabilidad de que si tomo un valor cdf \n",
    "# sea menor igual que mil, por decir algo, \n",
    "#La función de densidad nos da qué forma tiene \n",
    "#https://www.youtube.com/watch?v=YXLVjCKVP7U\n"
   ]
  },
  {
   "cell_type": "code",
   "execution_count": null,
   "metadata": {
    "colab": {
     "base_uri": "https://localhost:8080/"
    },
    "id": "oH_ntUaPpkG6",
    "outputId": "9cdb2a87-9956-4806-facc-441eb5a2215d"
   },
   "outputs": [
    {
     "data": {
      "text/plain": [
       "0.3989422804014327"
      ]
     },
     "execution_count": 165,
     "metadata": {
      "tags": []
     },
     "output_type": "execute_result"
    }
   ],
   "source": [
    "normal.pdf(0)"
   ]
  },
  {
   "cell_type": "code",
   "execution_count": null,
   "metadata": {
    "colab": {
     "base_uri": "https://localhost:8080/"
    },
    "id": "KmjpcdqIplAW",
    "outputId": "1072163c-335d-4a9a-8306-29b07fbcc224"
   },
   "outputs": [
    {
     "data": {
      "text/plain": [
       "0.8413447460685429"
      ]
     },
     "execution_count": 167,
     "metadata": {
      "tags": []
     },
     "output_type": "execute_result"
    }
   ],
   "source": [
    "normal.cdf(1) # cumulative density function"
   ]
  },
  {
   "cell_type": "code",
   "execution_count": null,
   "metadata": {
    "colab": {
     "base_uri": "https://localhost:8080/",
     "height": 283
    },
    "id": "zT8YjNTcqd6w",
    "outputId": "c837be56-5de2-404e-8bbf-c8252864573d"
   },
   "outputs": [
    {
     "data": {
      "text/plain": [
       "[<matplotlib.lines.Line2D at 0x7f6f7efdc390>]"
      ]
     },
     "execution_count": 168,
     "metadata": {
      "tags": []
     },
     "output_type": "execute_result"
    },
    {
     "data": {
      "image/png": "[encoded data removed]",
      "text/plain": [
       "<Figure size 432x288 with 1 Axes>"
      ]
     },
     "metadata": {
      "needs_background": "light",
      "tags": []
     },
     "output_type": "display_data"
    }
   ],
   "source": [
    "plt.plot(x, normal.cdf(x))"
   ]
  },
  {
   "cell_type": "code",
   "execution_count": null,
   "metadata": {
    "colab": {
     "base_uri": "https://localhost:8080/"
    },
    "id": "dYklsfwMqncC",
    "outputId": "ca13ea62-39a9-498c-ee18-ab4f33c3ccc6"
   },
   "outputs": [
    {
     "data": {
      "text/plain": [
       "0.8413447460685429"
      ]
     },
     "execution_count": 172,
     "metadata": {
      "tags": []
     },
     "output_type": "execute_result"
    }
   ],
   "source": [
    "normal.cdf(-1)"
   ]
  },
  {
   "cell_type": "code",
   "execution_count": null,
   "metadata": {
    "colab": {
     "base_uri": "https://localhost:8080/",
     "height": 265
    },
    "id": "3zIifvAGqtsP",
    "outputId": "cf9a656a-e072-4a4b-9e57-168e0a5bd757"
   },
   "outputs": [
    {
     "data": {
      "image/png": "[encoded data removed]",
      "text/plain": [
       "<Figure size 432x288 with 1 Axes>"
      ]
     },
     "metadata": {
      "needs_background": "light",
      "tags": []
     },
     "output_type": "display_data"
    }
   ],
   "source": [
    "plt.plot(x, normal.pdf(x))\n",
    "plt.scatter(normal.interval(0.95), (0,0), marker='|', s=10000, c='r')\n",
    "plt.show()"
   ]
  },
  {
   "cell_type": "code",
   "execution_count": null,
   "metadata": {
    "colab": {
     "base_uri": "https://localhost:8080/"
    },
    "id": "J6UkGE1SrEvZ",
    "outputId": "201b0702-2884-4049-c462-9de25d395427"
   },
   "outputs": [
    {
     "data": {
      "text/plain": [
       "array([ 0.49671415, -0.1382643 ,  0.64768854,  1.52302986, -0.23415337,\n",
       "       -0.23413696,  1.57921282,  0.76743473, -0.46947439,  0.54256004,\n",
       "       -0.46341769, -0.46572975,  0.24196227, -1.91328024, -1.72491783,\n",
       "       -0.56228753, -1.01283112,  0.31424733, -0.90802408])"
      ]
     },
     "execution_count": 178,
     "metadata": {
      "tags": []
     },
     "output_type": "execute_result"
    }
   ],
   "source": [
    "normal.rvs(19, random_state=42) #esto es una muestra de la distribución de arriba "
   ]
  },
  {
   "cell_type": "code",
   "execution_count": null,
   "metadata": {
    "id": "1IJk7FYRr-lJ"
   },
   "outputs": [],
   "source": [
    "binom = stats.binom(10, 0.5) #10 intentos y 0.5 de probabilidad en cada "
   ]
  },
  {
   "cell_type": "code",
   "execution_count": null,
   "metadata": {
    "colab": {
     "base_uri": "https://localhost:8080/"
    },
    "id": "MiG-moEBvO8w",
    "outputId": "539dacd2-bbae-4ae7-cc4d-7e2efaf6600b"
   },
   "outputs": [
    {
     "data": {
      "text/plain": [
       "5.000000000000005"
      ]
     },
     "execution_count": 180,
     "metadata": {
      "tags": []
     },
     "output_type": "execute_result"
    }
   ],
   "source": [
    "binom.expect()"
   ]
  },
  {
   "cell_type": "code",
   "execution_count": null,
   "metadata": {
    "colab": {
     "base_uri": "https://localhost:8080/"
    },
    "id": "ijqpl6hrvUcD",
    "outputId": "cc6c5f09-4bce-4ee2-bd56-a409f0a22285"
   },
   "outputs": [
    {
     "data": {
      "text/plain": [
       "(2.0, 8.0)"
      ]
     },
     "execution_count": 181,
     "metadata": {
      "tags": []
     },
     "output_type": "execute_result"
    }
   ],
   "source": [
    "binom.interval(0.95)"
   ]
  },
  {
   "cell_type": "code",
   "execution_count": null,
   "metadata": {
    "colab": {
     "base_uri": "https://localhost:8080/"
    },
    "id": "Js1OwaMewmch",
    "outputId": "ca7f05ec-f170-48af-c427-6d1d9881edd4"
   },
   "outputs": [
    {
     "data": {
      "text/plain": [
       "0.3989422804014327"
      ]
     },
     "execution_count": 187,
     "metadata": {
      "tags": []
     },
     "output_type": "execute_result"
    }
   ],
   "source": [
    "# No es la probabilidad de sacar 0 (pdf), sólo marca cómo es la curva\n",
    "#función de densidad de probabilidad\n",
    "normal.pdf(0)"
   ]
  },
  {
   "cell_type": "code",
   "execution_count": null,
   "metadata": {
    "colab": {
     "base_uri": "https://localhost:8080/"
    },
    "id": "f1UURuKnveVd",
    "outputId": "948bc06d-0871-42a3-f45e-72e38dea4f2c"
   },
   "outputs": [
    {
     "data": {
      "text/plain": [
       "0.24609375000000025"
      ]
     },
     "execution_count": 182,
     "metadata": {
      "tags": []
     },
     "output_type": "execute_result"
    }
   ],
   "source": [
    "# La probabilidad de sacar 5 aguilas (pmf) probability mass function\n",
    "# https://web.stanford.edu/class/archive/cs/cs109/cs109.1192/handouts/pythonForProbability.html\n",
    "binom.pmf(5)"
   ]
  },
  {
   "cell_type": "code",
   "execution_count": null,
   "metadata": {
    "colab": {
     "base_uri": "https://localhost:8080/",
     "height": 283
    },
    "id": "BO-iJgyvwFZR",
    "outputId": "7cd8b66a-cf76-46fd-c51b-b50a48ae7906"
   },
   "outputs": [
    {
     "data": {
      "text/plain": [
       "<matplotlib.collections.PathCollection at 0x7f6f7ee21110>"
      ]
     },
     "execution_count": 184,
     "metadata": {
      "tags": []
     },
     "output_type": "execute_result"
    },
    {
     "data": {
      "image/png": "[encoded data removed]",
      "text/plain": [
       "<Figure size 432x288 with 1 Axes>"
      ]
     },
     "metadata": {
      "needs_background": "light",
      "tags": []
     },
     "output_type": "display_data"
    }
   ],
   "source": [
    "x = np.arange(0, 11, 1)\n",
    "plt.scatter(x, binom.pmf(x))"
   ]
  },
  {
   "cell_type": "code",
   "execution_count": null,
   "metadata": {
    "colab": {
     "base_uri": "https://localhost:8080/"
    },
    "id": "2qQmJBJ_wMHF",
    "outputId": "787d5924-8786-4b25-f394-6052d19648c9"
   },
   "outputs": [
    {
     "data": {
      "text/plain": [
       "0.6230468749999999"
      ]
     },
     "execution_count": 186,
     "metadata": {
      "tags": []
     },
     "output_type": "execute_result"
    }
   ],
   "source": [
    "binom.cdf(5) #Probabilidad de sacar por lo menos 5 águilas"
   ]
  },
  {
   "cell_type": "code",
   "execution_count": null,
   "metadata": {
    "colab": {
     "base_uri": "https://localhost:8080/"
    },
    "id": "751IP5HYwc7o",
    "outputId": "7ed6b9c7-945d-4f99-fc09-0f61a8a26b86"
   },
   "outputs": [
    {
     "data": {
      "text/plain": [
       "array([8, 4, 3, 8, 6, 5, 6, 4, 6, 7])"
      ]
     },
     "execution_count": 188,
     "metadata": {
      "tags": []
     },
     "output_type": "execute_result"
    }
   ],
   "source": [
    "binom.rvs(10)"
   ]
  },
  {
   "cell_type": "markdown",
   "metadata": {},
   "source": [
    "* La probabilidad en variables aleatorias continuas es una curva porque es un intervalo\n",
    "* La probabilidad en variables aleatorias discretas es con puntos específivos porque ahí sí podemos llegar al valor concreto."
   ]
  },
  {
   "cell_type": "markdown",
   "metadata": {
    "id": "y0xUQeA0xVD_"
   },
   "source": [
    "# Linalg\n",
    "Módulo de álgebra lineal\n",
    "Qué es álgebra lineal: https://www.youtube.com/playlist?list=PLIb_io8a5NB2DddFf-PwvZDCOUNT1GZoA #retomar esto"
   ]
  },
  {
   "cell_type": "code",
   "execution_count": null,
   "metadata": {
    "id": "88sykitwxQzS"
   },
   "outputs": [],
   "source": [
    "from scipy import linalg"
   ]
  },
  {
   "cell_type": "code",
   "execution_count": null,
   "metadata": {
    "id": "Sp5BbmQbxu6i"
   },
   "outputs": [],
   "source": [
    "matriz = np.array([[1,3,2],[1,5,1],[1,3,5]])"
   ]
  },
  {
   "cell_type": "code",
   "execution_count": null,
   "metadata": {
    "colab": {
     "base_uri": "https://localhost:8080/"
    },
    "id": "m4X-rM8IyAVo",
    "outputId": "0d0714f5-27ac-4f22-eb0d-8527b522440e"
   },
   "outputs": [
    {
     "data": {
      "text/plain": [
       "array([[1, 3, 2],\n",
       "       [1, 5, 1],\n",
       "       [1, 3, 5]])"
      ]
     },
     "execution_count": 193,
     "metadata": {
      "tags": []
     },
     "output_type": "execute_result"
    }
   ],
   "source": [
    "matriz"
   ]
  },
  {
   "cell_type": "code",
   "execution_count": null,
   "metadata": {
    "colab": {
     "base_uri": "https://localhost:8080/"
    },
    "id": "ZcZohnJZx3Tl",
    "outputId": "15ef4049-8e70-4f3d-c525-f2375fcc1c71"
   },
   "outputs": [
    {
     "data": {
      "text/plain": [
       "array([[ 3.66666667, -1.5       , -1.16666667],\n",
       "       [-0.66666667,  0.5       ,  0.16666667],\n",
       "       [-0.33333333,  0.        ,  0.33333333]])"
      ]
     },
     "execution_count": 195,
     "metadata": {
      "tags": []
     },
     "output_type": "execute_result"
    }
   ],
   "source": [
    "# matriz * inversa = identidad (0's y 1's)\n",
    "inv = linalg.inv(matriz)\n",
    "inv"
   ]
  },
  {
   "cell_type": "code",
   "execution_count": null,
   "metadata": {
    "colab": {
     "base_uri": "https://localhost:8080/"
    },
    "id": "qjqq8fEbyDQ7",
    "outputId": "8ed6c204-15f5-4650-a3be-36d076eac3fd"
   },
   "outputs": [
    {
     "data": {
      "text/plain": [
       "array([[ 1.00000000e+00,  0.00000000e+00,  1.11022302e-16],\n",
       "       [ 5.55111512e-17,  1.00000000e+00,  5.55111512e-17],\n",
       "       [-5.55111512e-17,  0.00000000e+00,  1.00000000e+00]])"
      ]
     },
     "execution_count": 197,
     "metadata": {
      "tags": []
     },
     "output_type": "execute_result"
    }
   ],
   "source": [
    "np.dot(matriz, inv)"
   ]
  },
  {
   "cell_type": "code",
   "execution_count": null,
   "metadata": {
    "colab": {
     "base_uri": "https://localhost:8080/"
    },
    "id": "Uwn9qPxRyO0v",
    "outputId": "ae6a6a9a-d10c-48e3-c206-08d0fb5ab33a"
   },
   "outputs": [
    {
     "data": {
      "text/plain": [
       "array([[1, 3, 2],\n",
       "       [1, 5, 1]])"
      ]
     },
     "execution_count": 198,
     "metadata": {
      "tags": []
     },
     "output_type": "execute_result"
    }
   ],
   "source": [
    "np.array([[1,3,2],[1,5,1]])"
   ]
  },
  {
   "cell_type": "code",
   "execution_count": null,
   "metadata": {
    "colab": {
     "base_uri": "https://localhost:8080/",
     "height": 287
    },
    "id": "i0prkS4Oy5Tm",
    "outputId": "34375524-fc75-4eb5-db16-df13f0d31527"
   },
   "outputs": [
    {
     "ename": "ValueError",
     "evalue": "ignored",
     "output_type": "error",
     "traceback": [
      "\u001b[0;31m---------------------------------------------------------------------------\u001b[0m",
      "\u001b[0;31mValueError\u001b[0m                                Traceback (most recent call last)",
      "\u001b[0;32m<ipython-input-200-aa4e17c42fc9>\u001b[0m in \u001b[0;36m<module>\u001b[0;34m()\u001b[0m\n\u001b[0;32m----> 1\u001b[0;31m \u001b[0mlinalg\u001b[0m\u001b[0;34m.\u001b[0m\u001b[0minv\u001b[0m\u001b[0;34m(\u001b[0m\u001b[0mnp\u001b[0m\u001b[0;34m.\u001b[0m\u001b[0marray\u001b[0m\u001b[0;34m(\u001b[0m\u001b[0;34m[\u001b[0m\u001b[0;34m[\u001b[0m\u001b[0;36m1\u001b[0m\u001b[0;34m,\u001b[0m\u001b[0;36m3\u001b[0m\u001b[0;34m,\u001b[0m\u001b[0;36m2\u001b[0m\u001b[0;34m]\u001b[0m\u001b[0;34m,\u001b[0m\u001b[0;34m[\u001b[0m\u001b[0;36m1\u001b[0m\u001b[0;34m,\u001b[0m\u001b[0;36m5\u001b[0m\u001b[0;34m,\u001b[0m\u001b[0;36m1\u001b[0m\u001b[0;34m]\u001b[0m\u001b[0;34m]\u001b[0m\u001b[0;34m)\u001b[0m\u001b[0;34m)\u001b[0m\u001b[0;34m\u001b[0m\u001b[0;34m\u001b[0m\u001b[0m\n\u001b[0m",
      "\u001b[0;32m/usr/local/lib/python3.7/dist-packages/scipy/linalg/basic.py\u001b[0m in \u001b[0;36minv\u001b[0;34m(a, overwrite_a, check_finite)\u001b[0m\n\u001b[1;32m    950\u001b[0m     \u001b[0ma1\u001b[0m \u001b[0;34m=\u001b[0m \u001b[0m_asarray_validated\u001b[0m\u001b[0;34m(\u001b[0m\u001b[0ma\u001b[0m\u001b[0;34m,\u001b[0m \u001b[0mcheck_finite\u001b[0m\u001b[0;34m=\u001b[0m\u001b[0mcheck_finite\u001b[0m\u001b[0;34m)\u001b[0m\u001b[0;34m\u001b[0m\u001b[0;34m\u001b[0m\u001b[0m\n\u001b[1;32m    951\u001b[0m     \u001b[0;32mif\u001b[0m \u001b[0mlen\u001b[0m\u001b[0;34m(\u001b[0m\u001b[0ma1\u001b[0m\u001b[0;34m.\u001b[0m\u001b[0mshape\u001b[0m\u001b[0;34m)\u001b[0m \u001b[0;34m!=\u001b[0m \u001b[0;36m2\u001b[0m \u001b[0;32mor\u001b[0m \u001b[0ma1\u001b[0m\u001b[0;34m.\u001b[0m\u001b[0mshape\u001b[0m\u001b[0;34m[\u001b[0m\u001b[0;36m0\u001b[0m\u001b[0;34m]\u001b[0m \u001b[0;34m!=\u001b[0m \u001b[0ma1\u001b[0m\u001b[0;34m.\u001b[0m\u001b[0mshape\u001b[0m\u001b[0;34m[\u001b[0m\u001b[0;36m1\u001b[0m\u001b[0;34m]\u001b[0m\u001b[0;34m:\u001b[0m\u001b[0;34m\u001b[0m\u001b[0;34m\u001b[0m\u001b[0m\n\u001b[0;32m--> 952\u001b[0;31m         \u001b[0;32mraise\u001b[0m \u001b[0mValueError\u001b[0m\u001b[0;34m(\u001b[0m\u001b[0;34m'expected square matrix'\u001b[0m\u001b[0;34m)\u001b[0m\u001b[0;34m\u001b[0m\u001b[0;34m\u001b[0m\u001b[0m\n\u001b[0m\u001b[1;32m    953\u001b[0m     \u001b[0moverwrite_a\u001b[0m \u001b[0;34m=\u001b[0m \u001b[0moverwrite_a\u001b[0m \u001b[0;32mor\u001b[0m \u001b[0m_datacopied\u001b[0m\u001b[0;34m(\u001b[0m\u001b[0ma1\u001b[0m\u001b[0;34m,\u001b[0m \u001b[0ma\u001b[0m\u001b[0;34m)\u001b[0m\u001b[0;34m\u001b[0m\u001b[0;34m\u001b[0m\u001b[0m\n\u001b[1;32m    954\u001b[0m     \u001b[0;31m# XXX: I found no advantage or disadvantage of using finv.\u001b[0m\u001b[0;34m\u001b[0m\u001b[0;34m\u001b[0m\u001b[0;34m\u001b[0m\u001b[0m\n",
      "\u001b[0;31mValueError\u001b[0m: expected square matrix"
     ]
    }
   ],
   "source": [
    "linalg.inv(np.array([[1,3,2],[1,5,1]]))"
   ]
  },
  {
   "cell_type": "markdown",
   "metadata": {
    "id": "CJD5CDNjzGkD"
   },
   "source": [
    "4x + 5y = 2 \\\\\n",
    "3x + 2y = 3"
   ]
  },
  {
   "cell_type": "code",
   "execution_count": null,
   "metadata": {
    "id": "1YE_hZc3y-CP"
   },
   "outputs": [],
   "source": [
    "var = [[4,5],[3,2]]\n",
    "\n",
    "resp = [2,3]"
   ]
  },
  {
   "cell_type": "code",
   "execution_count": null,
   "metadata": {
    "colab": {
     "base_uri": "https://localhost:8080/"
    },
    "id": "zmIgoziWzdAm",
    "outputId": "684e9fdf-86c6-417a-edf1-5ff9579dec2b"
   },
   "outputs": [
    {
     "data": {
      "text/plain": [
       "array([[4, 5],\n",
       "       [3, 2]])"
      ]
     },
     "execution_count": 208,
     "metadata": {
      "tags": []
     },
     "output_type": "execute_result"
    }
   ],
   "source": [
    "np.array(var)"
   ]
  },
  {
   "cell_type": "code",
   "execution_count": null,
   "metadata": {
    "colab": {
     "base_uri": "https://localhost:8080/"
    },
    "id": "g8va401vzeCX",
    "outputId": "c7485d44-b934-45d0-ca8b-8ba02a23d578"
   },
   "outputs": [
    {
     "data": {
      "text/plain": [
       "array([ 1.57142857, -0.85714286])"
      ]
     },
     "execution_count": 209,
     "metadata": {
      "tags": []
     },
     "output_type": "execute_result"
    }
   ],
   "source": [
    "linalg.solve(var, resp)"
   ]
  },
  {
   "cell_type": "markdown",
   "metadata": {
    "id": "zGuQKTfY0JEu"
   },
   "source": [
    "# Interpol\n",
    "* Obtención de nuevos puntos partiendo del conocimiento de un conjunto de puntos (wikipedia)\n",
    "* Recordar prework de tempraturas. La interpolación es una herramienta que nos ayuda a llenar los elementos faltantes según un comportamiento que tenemos en el resto de los valores"
   ]
  },
  {
   "cell_type": "code",
   "execution_count": null,
   "metadata": {
    "id": "5wfxY5r40f6q"
   },
   "outputs": [],
   "source": [
    "from scipy.interpolate import interp1d"
   ]
  },
  {
   "cell_type": "code",
   "execution_count": null,
   "metadata": {
    "colab": {
     "base_uri": "https://localhost:8080/"
    },
    "id": "YmD-6B2iz3QM",
    "outputId": "49a7d045-f01c-4b52-8e97-3084d9ceb054"
   },
   "outputs": [
    {
     "data": {
      "text/plain": [
       "array([ 0,  1,  2,  3,  4,  5,  6,  7,  8,  9, 10])"
      ]
     },
     "execution_count": 211,
     "metadata": {
      "tags": []
     },
     "output_type": "execute_result"
    }
   ],
   "source": [
    "x = np.arange(0,11,1)\n",
    "x"
   ]
  },
  {
   "cell_type": "code",
   "execution_count": null,
   "metadata": {
    "colab": {
     "base_uri": "https://localhost:8080/"
    },
    "id": "MMWnAgVV0N8k",
    "outputId": "0ea7101c-5a58-415f-b381-c26ccfc8abfd"
   },
   "outputs": [
    {
     "data": {
      "text/plain": [
       "array([ 1.        ,  0.54030231, -0.41614684, -0.9899925 , -0.65364362,\n",
       "        0.28366219,  0.96017029,  0.75390225, -0.14550003, -0.91113026,\n",
       "       -0.83907153])"
      ]
     },
     "execution_count": 214,
     "metadata": {
      "tags": []
     },
     "output_type": "execute_result"
    }
   ],
   "source": [
    "y = np.cos(x)\n",
    "y"
   ]
  },
  {
   "cell_type": "code",
   "execution_count": null,
   "metadata": {
    "colab": {
     "base_uri": "https://localhost:8080/",
     "height": 283
    },
    "id": "7yTKTaYB0m_c",
    "outputId": "53f26f91-aa59-461b-ce96-9e25007c1b36"
   },
   "outputs": [
    {
     "data": {
      "text/plain": [
       "<matplotlib.collections.PathCollection at 0x7f6f7ecd14d0>"
      ]
     },
     "execution_count": 215,
     "metadata": {
      "tags": []
     },
     "output_type": "execute_result"
    },
    {
     "data": {
      "image/png": "[encoded data removed]",
      "text/plain": [
       "<Figure size 432x288 with 1 Axes>"
      ]
     },
     "metadata": {
      "needs_background": "light",
      "tags": []
     },
     "output_type": "display_data"
    }
   ],
   "source": [
    "plt.scatter(x,y)"
   ]
  },
  {
   "cell_type": "code",
   "execution_count": null,
   "metadata": {
    "colab": {
     "base_uri": "https://localhost:8080/",
     "height": 283
    },
    "id": "pSJ5SU9Y0piw",
    "outputId": "31b3da3f-f905-49ee-e9d9-8d5627218e3b"
   },
   "outputs": [
    {
     "data": {
      "text/plain": [
       "[<matplotlib.lines.Line2D at 0x7f6f7ec4fc10>]"
      ]
     },
     "execution_count": 216,
     "metadata": {
      "tags": []
     },
     "output_type": "execute_result"
    },
    {
     "data": {
      "image/png": "[encoded data removed]",
      "text/plain": [
       "<Figure size 432x288 with 1 Axes>"
      ]
     },
     "metadata": {
      "needs_background": "light",
      "tags": []
     },
     "output_type": "display_data"
    }
   ],
   "source": [
    "plt.plot(x,y)"
   ]
  },
  {
   "cell_type": "code",
   "execution_count": null,
   "metadata": {
    "id": "l7Deeye90yJs"
   },
   "outputs": [],
   "source": [
    "f = interp1d(x, y, kind='linear', fill_value='extrapolate')"
   ]
  },
  {
   "cell_type": "code",
   "execution_count": null,
   "metadata": {
    "id": "L4lujWXr1XLZ"
   },
   "outputs": [],
   "source": [
    "x_new = np.arange(0,14.25, 0.25)"
   ]
  },
  {
   "cell_type": "code",
   "execution_count": null,
   "metadata": {
    "colab": {
     "base_uri": "https://localhost:8080/",
     "height": 283
    },
    "id": "opWW5hg_1Z4G",
    "outputId": "d11aa8a8-d9eb-42ca-d56d-3ea76d1e42b3"
   },
   "outputs": [
    {
     "data": {
      "text/plain": [
       "<matplotlib.collections.PathCollection at 0x7f6f7eeca290>"
      ]
     },
     "execution_count": 219,
     "metadata": {
      "tags": []
     },
     "output_type": "execute_result"
    },
    {
     "data": {
      "image/png": "[encoded data removed]",
      "text/plain": [
       "<Figure size 432x288 with 1 Axes>"
      ]
     },
     "metadata": {
      "needs_background": "light",
      "tags": []
     },
     "output_type": "display_data"
    }
   ],
   "source": [
    "plt.scatter(x_new, f(x_new))"
   ]
  },
  {
   "cell_type": "code",
   "execution_count": null,
   "metadata": {
    "id": "YNcP_b1j1miV"
   },
   "outputs": [],
   "source": [
    "f = interp1d(x, y, kind='quadratic', fill_value='extrapolate')"
   ]
  },
  {
   "cell_type": "code",
   "execution_count": null,
   "metadata": {
    "colab": {
     "base_uri": "https://localhost:8080/",
     "height": 283
    },
    "id": "Ld1TanIV1y6E",
    "outputId": "f0ee2a7b-a5fd-4d9a-ed1e-c5db8e4a9d10"
   },
   "outputs": [
    {
     "data": {
      "text/plain": [
       "<matplotlib.collections.PathCollection at 0x7f6f7f02d310>"
      ]
     },
     "execution_count": 225,
     "metadata": {
      "tags": []
     },
     "output_type": "execute_result"
    },
    {
     "data": {
      "image/png": "[encoded data removed]",
      "text/plain": [
       "<Figure size 432x288 with 1 Axes>"
      ]
     },
     "metadata": {
      "needs_background": "light",
      "tags": []
     },
     "output_type": "display_data"
    }
   ],
   "source": [
    "plt.scatter(x_new, f(x_new))"
   ]
  },
  {
   "cell_type": "code",
   "execution_count": null,
   "metadata": {
    "id": "1qnZc9h87uWN"
   },
   "outputs": [],
   "source": [
    "# oddsratio, pvalue"
   ]
  }
 ],
 "metadata": {
  "colab": {
   "name": "Intro_Scipy.ipynb",
   "provenance": []
  },
  "kernelspec": {
   "display_name": "Python 3",
   "language": "python",
   "name": "python3"
  },
  "language_info": {
   "codemirror_mode": {
    "name": "ipython",
    "version": 3
   },
   "file_extension": ".py",
   "mimetype": "text/x-python",
   "name": "python",
   "nbconvert_exporter": "python",
   "pygments_lexer": "ipython3",
   "version": "3.8.8"
  }
 },
 "nbformat": 4,
 "nbformat_minor": 1
}
