{
  "nbformat": 4,
  "nbformat_minor": 0,
  "metadata": {
    "colab": {
      "name": "Folium.ipynb",
      "provenance": []
    },
    "kernelspec": {
      "name": "python3",
      "display_name": "Python 3"
    },
    "language_info": {
      "name": "python"
    }
  },
  "cells": [
    {
      "cell_type": "code",
      "metadata": {
        "colab": {
          "base_uri": "https://localhost:8080/"
        },
        "id": "a1HjJZPz8tJ5",
        "outputId": "c1b5b7aa-e09e-466c-e5b4-fe6bc5a54694"
      },
      "source": [
        "!pip install geocoder"
      ],
      "execution_count": null,
      "outputs": [
        {
          "output_type": "stream",
          "text": [
            "Collecting geocoder\n",
            "\u001b[?25l  Downloading https://files.pythonhosted.org/packages/4f/6b/13166c909ad2f2d76b929a4227c952630ebaf0d729f6317eb09cbceccbab/geocoder-1.38.1-py2.py3-none-any.whl (98kB)\n",
            "\r\u001b[K     |███▎                            | 10kB 14.3MB/s eta 0:00:01\r\u001b[K     |██████▋                         | 20kB 20.4MB/s eta 0:00:01\r\u001b[K     |██████████                      | 30kB 23.1MB/s eta 0:00:01\r\u001b[K     |█████████████▎                  | 40kB 25.3MB/s eta 0:00:01\r\u001b[K     |████████████████▋               | 51kB 26.6MB/s eta 0:00:01\r\u001b[K     |████████████████████            | 61kB 28.2MB/s eta 0:00:01\r\u001b[K     |███████████████████████▎        | 71kB 25.3MB/s eta 0:00:01\r\u001b[K     |██████████████████████████▋     | 81kB 26.2MB/s eta 0:00:01\r\u001b[K     |██████████████████████████████  | 92kB 26.6MB/s eta 0:00:01\r\u001b[K     |████████████████████████████████| 102kB 9.8MB/s \n",
            "\u001b[?25hRequirement already satisfied: future in /usr/local/lib/python3.7/dist-packages (from geocoder) (0.16.0)\n",
            "Collecting ratelim\n",
            "  Downloading https://files.pythonhosted.org/packages/f2/98/7e6d147fd16a10a5f821db6e25f192265d6ecca3d82957a4fdd592cad49c/ratelim-0.1.6-py2.py3-none-any.whl\n",
            "Requirement already satisfied: six in /usr/local/lib/python3.7/dist-packages (from geocoder) (1.15.0)\n",
            "Requirement already satisfied: click in /usr/local/lib/python3.7/dist-packages (from geocoder) (7.1.2)\n",
            "Requirement already satisfied: requests in /usr/local/lib/python3.7/dist-packages (from geocoder) (2.23.0)\n",
            "Requirement already satisfied: decorator in /usr/local/lib/python3.7/dist-packages (from ratelim->geocoder) (4.4.2)\n",
            "Requirement already satisfied: chardet<4,>=3.0.2 in /usr/local/lib/python3.7/dist-packages (from requests->geocoder) (3.0.4)\n",
            "Requirement already satisfied: certifi>=2017.4.17 in /usr/local/lib/python3.7/dist-packages (from requests->geocoder) (2020.12.5)\n",
            "Requirement already satisfied: urllib3!=1.25.0,!=1.25.1,<1.26,>=1.21.1 in /usr/local/lib/python3.7/dist-packages (from requests->geocoder) (1.24.3)\n",
            "Requirement already satisfied: idna<3,>=2.5 in /usr/local/lib/python3.7/dist-packages (from requests->geocoder) (2.10)\n",
            "Installing collected packages: ratelim, geocoder\n",
            "Successfully installed geocoder-1.38.1 ratelim-0.1.6\n"
          ],
          "name": "stdout"
        }
      ]
    },
    {
      "cell_type": "code",
      "metadata": {
        "id": "IvewZ_Ja93oa"
      },
      "source": [
        "#importar librerías\n",
        "import folium\n",
        "from folium import plugins\n",
        "import ipywidgets\n",
        "import geocoder\n",
        "import numpy as np\n",
        "import pandas as pd\n",
        "from vega_datasets import data as vds\n",
        "from branca.element import Figure"
      ],
      "execution_count": null,
      "outputs": []
    },
    {
      "cell_type": "code",
      "metadata": {
        "id": "xXvhhH7W-Wbg"
      },
      "source": [
        "folium.Map?"
      ],
      "execution_count": null,
      "outputs": []
    },
    {
      "cell_type": "code",
      "metadata": {
        "id": "N2MjTWRb-kVR"
      },
      "source": [
        "folium.Map()"
      ],
      "execution_count": null,
      "outputs": []
    },
    {
      "cell_type": "code",
      "metadata": {
        "id": "ZbXVE29Z-vJ7"
      },
      "source": [
        "mapa_1 = folium.Map(\n",
        "    location = [19.43598338801147, -99.1410585972054],\n",
        "    zoom_start=50,\n",
        "    width=500,\n",
        "    height = 500\n",
        ")\n",
        "mapa_1"
      ],
      "execution_count": null,
      "outputs": []
    },
    {
      "cell_type": "code",
      "metadata": {
        "id": "fO1mwFjd_pBz"
      },
      "source": [
        "from branca.element import Figure\n",
        "fig = Figure(width=500, height=500)\n",
        "fig.add_child(mapa_1)\n",
        "fig"
      ],
      "execution_count": null,
      "outputs": []
    },
    {
      "cell_type": "code",
      "metadata": {
        "id": "cAShKfVoADi1"
      },
      "source": [
        "mapa_1.save(\"bellas_artes.html\")"
      ],
      "execution_count": null,
      "outputs": []
    },
    {
      "cell_type": "code",
      "metadata": {
        "id": "p3E2gd19AUUe"
      },
      "source": [
        "mapa_con_mini = folium.Map(location = [19.43598338801147, -99.1410585972054], zoom_start = 50)\n",
        "minimapa= plugins.MiniMap(toggle_display= True)\n",
        "mapa_con_mini.add_child(minimapa)"
      ],
      "execution_count": null,
      "outputs": []
    },
    {
      "cell_type": "code",
      "metadata": {
        "id": "oQpFBAdHCItl"
      },
      "source": [
        "dir = geocoder.osm(\"Playa Paraiso, Tulum\")\n",
        "LatLong = [dir.lat,dir.lng]\n",
        "mapa_marcador = folium.Map(location=LatLong, zoom_start=15,height=500,width=500)\n",
        "folium.Marker(LatLong, popup= \"Quiero Playaaaaaaaaa\", tooltip=\"Da Click\").add_to(mapa_marcador)\n",
        "mapa_marcador"
      ],
      "execution_count": null,
      "outputs": []
    },
    {
      "cell_type": "code",
      "metadata": {
        "colab": {
          "base_uri": "https://localhost:8080/",
          "height": 200
        },
        "id": "vSKjBZDnD-6N",
        "outputId": "faf78e4b-4ecf-4196-ddb2-239033366658"
      },
      "source": [
        "# from vega_datasets import data as vds\n",
        "df_aeropuerto = vds.airports()\n",
        "df_aeropuerto.head(5)"
      ],
      "execution_count": null,
      "outputs": [
        {
          "output_type": "execute_result",
          "data": {
            "text/html": [
              "<div>\n",
              "<style scoped>\n",
              "    .dataframe tbody tr th:only-of-type {\n",
              "        vertical-align: middle;\n",
              "    }\n",
              "\n",
              "    .dataframe tbody tr th {\n",
              "        vertical-align: top;\n",
              "    }\n",
              "\n",
              "    .dataframe thead th {\n",
              "        text-align: right;\n",
              "    }\n",
              "</style>\n",
              "<table border=\"1\" class=\"dataframe\">\n",
              "  <thead>\n",
              "    <tr style=\"text-align: right;\">\n",
              "      <th></th>\n",
              "      <th>iata</th>\n",
              "      <th>name</th>\n",
              "      <th>city</th>\n",
              "      <th>state</th>\n",
              "      <th>country</th>\n",
              "      <th>latitude</th>\n",
              "      <th>longitude</th>\n",
              "    </tr>\n",
              "  </thead>\n",
              "  <tbody>\n",
              "    <tr>\n",
              "      <th>0</th>\n",
              "      <td>00M</td>\n",
              "      <td>Thigpen</td>\n",
              "      <td>Bay Springs</td>\n",
              "      <td>MS</td>\n",
              "      <td>USA</td>\n",
              "      <td>31.953765</td>\n",
              "      <td>-89.234505</td>\n",
              "    </tr>\n",
              "    <tr>\n",
              "      <th>1</th>\n",
              "      <td>00R</td>\n",
              "      <td>Livingston Municipal</td>\n",
              "      <td>Livingston</td>\n",
              "      <td>TX</td>\n",
              "      <td>USA</td>\n",
              "      <td>30.685861</td>\n",
              "      <td>-95.017928</td>\n",
              "    </tr>\n",
              "    <tr>\n",
              "      <th>2</th>\n",
              "      <td>00V</td>\n",
              "      <td>Meadow Lake</td>\n",
              "      <td>Colorado Springs</td>\n",
              "      <td>CO</td>\n",
              "      <td>USA</td>\n",
              "      <td>38.945749</td>\n",
              "      <td>-104.569893</td>\n",
              "    </tr>\n",
              "    <tr>\n",
              "      <th>3</th>\n",
              "      <td>01G</td>\n",
              "      <td>Perry-Warsaw</td>\n",
              "      <td>Perry</td>\n",
              "      <td>NY</td>\n",
              "      <td>USA</td>\n",
              "      <td>42.741347</td>\n",
              "      <td>-78.052081</td>\n",
              "    </tr>\n",
              "    <tr>\n",
              "      <th>4</th>\n",
              "      <td>01J</td>\n",
              "      <td>Hilliard Airpark</td>\n",
              "      <td>Hilliard</td>\n",
              "      <td>FL</td>\n",
              "      <td>USA</td>\n",
              "      <td>30.688012</td>\n",
              "      <td>-81.905944</td>\n",
              "    </tr>\n",
              "  </tbody>\n",
              "</table>\n",
              "</div>"
            ],
            "text/plain": [
              "  iata                  name              city  ... country   latitude   longitude\n",
              "0  00M               Thigpen       Bay Springs  ...     USA  31.953765  -89.234505\n",
              "1  00R  Livingston Municipal        Livingston  ...     USA  30.685861  -95.017928\n",
              "2  00V           Meadow Lake  Colorado Springs  ...     USA  38.945749 -104.569893\n",
              "3  01G          Perry-Warsaw             Perry  ...     USA  42.741347  -78.052081\n",
              "4  01J      Hilliard Airpark          Hilliard  ...     USA  30.688012  -81.905944\n",
              "\n",
              "[5 rows x 7 columns]"
            ]
          },
          "metadata": {
            "tags": []
          },
          "execution_count": 23
        }
      ]
    },
    {
      "cell_type": "code",
      "metadata": {
        "id": "B09FoTGaFLqz"
      },
      "source": [
        "for indice, fila in df_aeropuerto[:10].iterrows():\n",
        "  print(fila)"
      ],
      "execution_count": null,
      "outputs": []
    },
    {
      "cell_type": "code",
      "metadata": {
        "id": "zKmLftinEhu6"
      },
      "source": [
        "mapa_aeropuerto = folium.Map(location=[31,-89],zoom_start=3)\n",
        "for indice, fila in df_aeropuerto[:10].iterrows():\n",
        "  folium.Marker(\n",
        "  location = [fila.loc['latitude'],fila.loc['longitude']],\n",
        "  popup = f\"{fila.loc['name']}{fila.loc['city']}{fila.loc['state']}\",\n",
        "  tooltip = \"Más info aquí\"\n",
        "  ).add_to(mapa_aeropuerto)\n",
        "\n",
        "mapa_aeropuerto"
      ],
      "execution_count": null,
      "outputs": []
    },
    {
      "cell_type": "code",
      "metadata": {
        "id": "8y6SnkC_Gb8r"
      },
      "source": [
        "mapa_aeropuerto_apply = folium.Map(location=[80,-89],zoom_start=4, height=500, width=500)\n",
        "df_aeropuerto[:20].apply(lambda row:folium.Marker(\n",
        "    location=[row['latitude'],row['longitude']],\n",
        "    popup= row['name']).add_to(mapa_aeropuerto_apply),axis=1)\n",
        "mapa_aeropuerto_apply"
      ],
      "execution_count": null,
      "outputs": []
    },
    {
      "cell_type": "code",
      "metadata": {
        "id": "IxU7fpRvLzIm"
      },
      "source": [
        "mapa_iconos = folium.Map(location=[30,-80],zoom_start=4,height=500, width=500)\n",
        "folium.Marker(location=[30,-80], popup='Hola',\n",
        "              icon=folium.Icon(color='green', icon=\"bicycle\",prefix='fa')\n",
        "              ).add_to(mapa_iconos)\n",
        "mapa_iconos              "
      ],
      "execution_count": null,
      "outputs": []
    },
    {
      "cell_type": "code",
      "metadata": {
        "colab": {
          "base_uri": "https://localhost:8080/",
          "height": 200
        },
        "id": "uJbecoVtNYpi",
        "outputId": "1296e0a9-afa5-4e4d-a039-52747e2879f7"
      },
      "source": [
        "df = df_aeropuerto.sample(5)\n",
        "df = df[['city','latitude','longitude']]\n",
        "df['icono']=['bicycle','car','bus','truck','motorcycle']\n",
        "df.head()"
      ],
      "execution_count": null,
      "outputs": [
        {
          "output_type": "execute_result",
          "data": {
            "text/html": [
              "<div>\n",
              "<style scoped>\n",
              "    .dataframe tbody tr th:only-of-type {\n",
              "        vertical-align: middle;\n",
              "    }\n",
              "\n",
              "    .dataframe tbody tr th {\n",
              "        vertical-align: top;\n",
              "    }\n",
              "\n",
              "    .dataframe thead th {\n",
              "        text-align: right;\n",
              "    }\n",
              "</style>\n",
              "<table border=\"1\" class=\"dataframe\">\n",
              "  <thead>\n",
              "    <tr style=\"text-align: right;\">\n",
              "      <th></th>\n",
              "      <th>city</th>\n",
              "      <th>latitude</th>\n",
              "      <th>longitude</th>\n",
              "      <th>icono</th>\n",
              "    </tr>\n",
              "  </thead>\n",
              "  <tbody>\n",
              "    <tr>\n",
              "      <th>2357</th>\n",
              "      <td>San Diego</td>\n",
              "      <td>32.815733</td>\n",
              "      <td>-117.139566</td>\n",
              "      <td>bicycle</td>\n",
              "    </tr>\n",
              "    <tr>\n",
              "      <th>936</th>\n",
              "      <td>Broadus</td>\n",
              "      <td>45.433325</td>\n",
              "      <td>-105.417213</td>\n",
              "      <td>car</td>\n",
              "    </tr>\n",
              "    <tr>\n",
              "      <th>1929</th>\n",
              "      <td>New York</td>\n",
              "      <td>40.754546</td>\n",
              "      <td>-74.007084</td>\n",
              "      <td>bus</td>\n",
              "    </tr>\n",
              "    <tr>\n",
              "      <th>2733</th>\n",
              "      <td>Dimmitt</td>\n",
              "      <td>34.566736</td>\n",
              "      <td>-102.322695</td>\n",
              "      <td>truck</td>\n",
              "    </tr>\n",
              "    <tr>\n",
              "      <th>3275</th>\n",
              "      <td>Luray</td>\n",
              "      <td>38.667056</td>\n",
              "      <td>-78.500583</td>\n",
              "      <td>motorcycle</td>\n",
              "    </tr>\n",
              "  </tbody>\n",
              "</table>\n",
              "</div>"
            ],
            "text/plain": [
              "           city   latitude   longitude       icono\n",
              "2357  San Diego  32.815733 -117.139566     bicycle\n",
              "936     Broadus  45.433325 -105.417213         car\n",
              "1929   New York  40.754546  -74.007084         bus\n",
              "2733    Dimmitt  34.566736 -102.322695       truck\n",
              "3275      Luray  38.667056  -78.500583  motorcycle"
            ]
          },
          "metadata": {
            "tags": []
          },
          "execution_count": 46
        }
      ]
    },
    {
      "cell_type": "code",
      "metadata": {
        "colab": {
          "base_uri": "https://localhost:8080/"
        },
        "id": "dLav1ZsnOL81",
        "outputId": "2f47c31c-b593-4845-d914-f953d91be9c1"
      },
      "source": [
        "for i in df.itertuples():\n",
        "  print(i)"
      ],
      "execution_count": null,
      "outputs": [
        {
          "output_type": "stream",
          "text": [
            "Pandas(Index=2357, city='San Diego', latitude=32.81573306, longitude=-117.1395664, icono='bicycle')\n",
            "Pandas(Index=936, city='Broadus', latitude=45.433325, longitude=-105.41721329999999, icono='car')\n",
            "Pandas(Index=1929, city='New York', latitude=40.75454583, longitude=-74.00708389, icono='bus')\n",
            "Pandas(Index=2733, city='Dimmitt', latitude=34.56673556, longitude=-102.3226947, icono='truck')\n",
            "Pandas(Index=3275, city='Luray', latitude=38.66705556, longitude=-78.50058333, icono='motorcycle')\n"
          ],
          "name": "stdout"
        }
      ]
    },
    {
      "cell_type": "code",
      "metadata": {
        "id": "bPq1aqXiN6CL"
      },
      "source": [
        "mapa_imagenes = folium.Map(location=[33,-116], zoom_start = 4)\n",
        "\n",
        "for i in df.itertuples():\n",
        "  folium.Marker(\n",
        "      location = [i.latitude, i.longitude],\n",
        "      popup = i.city,\n",
        "      icon = folium.Icon(icon = i.icono, prefix='fa')\n",
        "  ).add_to(mapa_imagenes)\n",
        "\n",
        "mapa_imagenes"
      ],
      "execution_count": null,
      "outputs": []
    },
    {
      "cell_type": "code",
      "metadata": {
        "colab": {
          "base_uri": "https://localhost:8080/",
          "height": 200
        },
        "id": "9ar6CBj1OzZI",
        "outputId": "2274bba0-facc-4459-ace4-fa0111007325"
      },
      "source": [
        "df_2 = df_aeropuerto.sample(5)\n",
        "df_2 = df_2[['city','latitude','longitude']]\n",
        "df_2['nums']=[1,2,3,4,5]\n",
        "df_2.head()"
      ],
      "execution_count": null,
      "outputs": [
        {
          "output_type": "execute_result",
          "data": {
            "text/html": [
              "<div>\n",
              "<style scoped>\n",
              "    .dataframe tbody tr th:only-of-type {\n",
              "        vertical-align: middle;\n",
              "    }\n",
              "\n",
              "    .dataframe tbody tr th {\n",
              "        vertical-align: top;\n",
              "    }\n",
              "\n",
              "    .dataframe thead th {\n",
              "        text-align: right;\n",
              "    }\n",
              "</style>\n",
              "<table border=\"1\" class=\"dataframe\">\n",
              "  <thead>\n",
              "    <tr style=\"text-align: right;\">\n",
              "      <th></th>\n",
              "      <th>city</th>\n",
              "      <th>latitude</th>\n",
              "      <th>longitude</th>\n",
              "      <th>nums</th>\n",
              "    </tr>\n",
              "  </thead>\n",
              "  <tbody>\n",
              "    <tr>\n",
              "      <th>1925</th>\n",
              "      <td>Juneau</td>\n",
              "      <td>58.354962</td>\n",
              "      <td>-134.576276</td>\n",
              "      <td>1</td>\n",
              "    </tr>\n",
              "    <tr>\n",
              "      <th>2680</th>\n",
              "      <td>Palm Springs</td>\n",
              "      <td>33.829216</td>\n",
              "      <td>-116.506253</td>\n",
              "      <td>2</td>\n",
              "    </tr>\n",
              "    <tr>\n",
              "      <th>484</th>\n",
              "      <td>Timberon</td>\n",
              "      <td>32.633889</td>\n",
              "      <td>-105.686389</td>\n",
              "      <td>3</td>\n",
              "    </tr>\n",
              "    <tr>\n",
              "      <th>2907</th>\n",
              "      <td>De Smet</td>\n",
              "      <td>44.430803</td>\n",
              "      <td>-97.561189</td>\n",
              "      <td>4</td>\n",
              "    </tr>\n",
              "    <tr>\n",
              "      <th>1643</th>\n",
              "      <td>Killeen</td>\n",
              "      <td>31.064898</td>\n",
              "      <td>-97.827798</td>\n",
              "      <td>5</td>\n",
              "    </tr>\n",
              "  </tbody>\n",
              "</table>\n",
              "</div>"
            ],
            "text/plain": [
              "              city   latitude   longitude  nums\n",
              "1925        Juneau  58.354962 -134.576276     1\n",
              "2680  Palm Springs  33.829216 -116.506253     2\n",
              "484       Timberon  32.633889 -105.686389     3\n",
              "2907       De Smet  44.430803  -97.561189     4\n",
              "1643       Killeen  31.064898  -97.827798     5"
            ]
          },
          "metadata": {
            "tags": []
          },
          "execution_count": 51
        }
      ]
    },
    {
      "cell_type": "code",
      "metadata": {
        "id": "9Xo_ayf_PWTw"
      },
      "source": [
        "mapa_personalizado = folium.Map(location=[30,-100],zoom_start = 4, height=500, width=500)\n",
        "\n",
        "for i in df_2.itertuples():\n",
        "  folium.Marker(\n",
        "      location = [i.latitude,i.longitude],\n",
        "      popup = i.city,\n",
        "      icon= plugins.BeautifyIcon(number = i.nums,\n",
        "                                 border_color= \"blue\",\n",
        "                                 border_width=1,\n",
        "                                 text_color = \"red\"\n",
        "                                 )\n",
        "  ).add_to(mapa_personalizado)\n",
        "mapa_personalizado"
      ],
      "execution_count": null,
      "outputs": []
    },
    {
      "cell_type": "code",
      "metadata": {
        "id": "ScxIBBxqQuQa"
      },
      "source": [
        "mapa_markers_circulares = folium.Map(location=[33,-115], zoom_start= 4)\n",
        "folium.Circle(\n",
        "    radius=100,\n",
        "    location = [33,-116],\n",
        "    popup = \"Personalizado\",\n",
        "    color='crimson',\n",
        "    fill=False\n",
        ").add_to(mapa_markers_circulares)\n",
        "\n",
        "folium.CircleMarker(\n",
        "    radius=25,\n",
        "    location = [33,-116],\n",
        "    popup = \"Personalizado\",\n",
        "    color='blue',\n",
        "    fill=\"yellow\"\n",
        ").add_to(mapa_markers_circulares)\n",
        "mapa_markers_circulares"
      ],
      "execution_count": null,
      "outputs": []
    },
    {
      "cell_type": "code",
      "metadata": {
        "colab": {
          "base_uri": "https://localhost:8080/",
          "height": 200
        },
        "id": "_SVM9zbbSGHw",
        "outputId": "a49ebce5-dd2c-4ac7-b505-2b98e6869d45"
      },
      "source": [
        "ciudades = [\"Los Angeles\",\"Las Vegas\", \"Denver\",\"Chicago\",\"Manhattan\"]\n",
        "data = df_aeropuerto[df_aeropuerto.city.isin(ciudades)].drop_duplicates(subset=['city'])\n",
        "data.head(10)"
      ],
      "execution_count": null,
      "outputs": [
        {
          "output_type": "execute_result",
          "data": {
            "text/html": [
              "<div>\n",
              "<style scoped>\n",
              "    .dataframe tbody tr th:only-of-type {\n",
              "        vertical-align: middle;\n",
              "    }\n",
              "\n",
              "    .dataframe tbody tr th {\n",
              "        vertical-align: top;\n",
              "    }\n",
              "\n",
              "    .dataframe thead th {\n",
              "        text-align: right;\n",
              "    }\n",
              "</style>\n",
              "<table border=\"1\" class=\"dataframe\">\n",
              "  <thead>\n",
              "    <tr style=\"text-align: right;\">\n",
              "      <th></th>\n",
              "      <th>iata</th>\n",
              "      <th>name</th>\n",
              "      <th>city</th>\n",
              "      <th>state</th>\n",
              "      <th>country</th>\n",
              "      <th>latitude</th>\n",
              "      <th>longitude</th>\n",
              "    </tr>\n",
              "  </thead>\n",
              "  <tbody>\n",
              "    <tr>\n",
              "      <th>850</th>\n",
              "      <td>APA</td>\n",
              "      <td>Centennial</td>\n",
              "      <td>Denver</td>\n",
              "      <td>CO</td>\n",
              "      <td>USA</td>\n",
              "      <td>39.570128</td>\n",
              "      <td>-104.849294</td>\n",
              "    </tr>\n",
              "    <tr>\n",
              "      <th>1107</th>\n",
              "      <td>CGX</td>\n",
              "      <td>Chicago Meigs</td>\n",
              "      <td>Chicago</td>\n",
              "      <td>IL</td>\n",
              "      <td>USA</td>\n",
              "      <td>41.858844</td>\n",
              "      <td>-87.607912</td>\n",
              "    </tr>\n",
              "    <tr>\n",
              "      <th>2010</th>\n",
              "      <td>L15</td>\n",
              "      <td>Henderson</td>\n",
              "      <td>Las Vegas</td>\n",
              "      <td>NV</td>\n",
              "      <td>USA</td>\n",
              "      <td>35.976364</td>\n",
              "      <td>-115.132771</td>\n",
              "    </tr>\n",
              "    <tr>\n",
              "      <th>2039</th>\n",
              "      <td>LAX</td>\n",
              "      <td>Los Angeles International</td>\n",
              "      <td>Los Angeles</td>\n",
              "      <td>CA</td>\n",
              "      <td>USA</td>\n",
              "      <td>33.942536</td>\n",
              "      <td>-118.408074</td>\n",
              "    </tr>\n",
              "    <tr>\n",
              "      <th>2243</th>\n",
              "      <td>MHK</td>\n",
              "      <td>Manhattan Regional</td>\n",
              "      <td>Manhattan</td>\n",
              "      <td>KS</td>\n",
              "      <td>USA</td>\n",
              "      <td>39.140967</td>\n",
              "      <td>-96.670833</td>\n",
              "    </tr>\n",
              "  </tbody>\n",
              "</table>\n",
              "</div>"
            ],
            "text/plain": [
              "     iata                       name  ...   latitude   longitude\n",
              "850   APA                 Centennial  ...  39.570128 -104.849294\n",
              "1107  CGX              Chicago Meigs  ...  41.858844  -87.607912\n",
              "2010  L15                  Henderson  ...  35.976364 -115.132771\n",
              "2039  LAX  Los Angeles International  ...  33.942536 -118.408074\n",
              "2243  MHK         Manhattan Regional  ...  39.140967  -96.670833\n",
              "\n",
              "[5 rows x 7 columns]"
            ]
          },
          "metadata": {
            "tags": []
          },
          "execution_count": 62
        }
      ]
    },
    {
      "cell_type": "code",
      "metadata": {
        "colab": {
          "base_uri": "https://localhost:8080/"
        },
        "id": "jT8xpvKfTFnU",
        "outputId": "7f9acff0-7949-4ab8-da4d-e6dc714b4f0a"
      },
      "source": [
        "latlong = data[['latitude','longitude']].values\n",
        "latlong"
      ],
      "execution_count": null,
      "outputs": [
        {
          "output_type": "execute_result",
          "data": {
            "text/plain": [
              "array([[  39.57012833, -104.8492942 ],\n",
              "       [  41.85884389,  -87.60791167],\n",
              "       [  35.97636444, -115.1327708 ],\n",
              "       [  33.94253611, -118.4080744 ],\n",
              "       [  39.14096722,  -96.67083278]])"
            ]
          },
          "metadata": {
            "tags": []
          },
          "execution_count": 63
        }
      ]
    },
    {
      "cell_type": "code",
      "metadata": {
        "id": "FfQTkwzbTUyE"
      },
      "source": [
        "mapa_ruta = folium.Map(location = [32,-94],zoom_start=5)\n",
        "folium.PolyLine(latlong).add_to(mapa_ruta)\n",
        "mapa_ruta"
      ],
      "execution_count": null,
      "outputs": []
    },
    {
      "cell_type": "code",
      "metadata": {
        "id": "fAUYRUALT1Cd"
      },
      "source": [
        "mapa_ruta = folium.Map(location = [32,-94],zoom_start=5)\n",
        "plugins.AntPath(latlong).add_to(mapa_ruta)\n",
        "mapa_ruta"
      ],
      "execution_count": null,
      "outputs": []
    },
    {
      "cell_type": "code",
      "metadata": {
        "id": "9pwljVGhUPWV"
      },
      "source": [
        "cdmx = geocoder.osm(\"Mexico City, Mexico\")\n",
        "monterrey = geocoder.osm(\"Monterrey, Nuevo Leon\")\n",
        "guadalajara = geocoder.osm(\"Guadalajara, Jalisco\")\n",
        "\n",
        "cdmx_int = [cdmx.lat, cdmx.lng, 5000]\n",
        "mty_int = [monterrey.lat, monterrey.lng, 1000]\n",
        "gdl_int = [guadalajara.lat, guadalajara.lng, 500]\n",
        "\n",
        "ciudades=[cdmx_int,mty_int,gdl_int]\n",
        "mapa_calor = folium.Map(location=[19,-99], zoom_start=15, tiles = \"Stamen Terrain\")\n",
        "plugins.HeatMap(ciudades).add_to(mapa_calor)\n",
        "mapa_calor"
      ],
      "execution_count": null,
      "outputs": []
    },
    {
      "cell_type": "code",
      "metadata": {
        "id": "I8j1bNaqZHbT"
      },
      "source": [
        "mapa_medicion = folium.Map([19,-99],zoom_start = 6)\n",
        "medidas = plugins.MeasureControl(position = \"topleft\")\n",
        "mapa_medicion.add_child(medidas)\n",
        "mapa_medicion"
      ],
      "execution_count": null,
      "outputs": []
    },
    {
      "cell_type": "code",
      "metadata": {
        "id": "fUEAg_9IZ40B"
      },
      "source": [
        "dibujo = plugins.Draw(export=True)\n",
        "mapa_dibujo = folium.Map([19,-99],zoom_start=6 ) \n",
        "dibujo.add_to(mapa_dibujo)\n",
        "mapa_dibujo"
      ],
      "execution_count": null,
      "outputs": []
    },
    {
      "cell_type": "code",
      "metadata": {
        "id": "bxODyeFjbXY6"
      },
      "source": [
        "mapa_doble = plugins.DualMap(location = [19,-99],zoom_start=5)\n",
        "mapa_doble"
      ],
      "execution_count": null,
      "outputs": []
    },
    {
      "cell_type": "code",
      "metadata": {
        "id": "H-7CB3iscfdH"
      },
      "source": [
        "plugins.DualMap?"
      ],
      "execution_count": null,
      "outputs": []
    },
    {
      "cell_type": "code",
      "metadata": {
        "id": "h2-CD3RZcX2c"
      },
      "source": [
        "#Generamos coordenadas aleatorias\n",
        "# FUNCIONA EN JUPYTER NO EN COLAB\n",
        "\n",
        "# Flotantes aleatorios que se suman a la coordenadas y los pasamos a lsita\n",
        "datos_tiempo = (np.random.random((100,2,2)) + np.array([[19,-99]])).tolist()\n",
        "\n",
        "#fechas\n",
        "# Comparacion de fechas para obtener\n",
        "datos_fechas = [d.strftime(\"%Y-%m-%d\") for d in pd.date_range('20160101', periods=len(datos_tiempo))]\n",
        "\n",
        "#hacemos el mapa\n",
        "mapaCalorTiempo = folium.Map([19, -99], zoom_start=6)\n",
        "\n",
        "#agregamos el layer del mapa de calor\n",
        "heatmap = plugins.HeatMapWithTime(datos_tiempo, index=datos_fechas)\n",
        "heatmap.add_to(mapaCalorTiempo)\n",
        "\n",
        "#visualizamos\n",
        "mapaCalorTiempo"
      ],
      "execution_count": null,
      "outputs": []
    }
  ]
}