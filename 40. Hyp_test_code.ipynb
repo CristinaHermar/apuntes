{
  "nbformat": 4,
  "nbformat_minor": 0,
  "metadata": {
    "colab": {
      "name": "Hyp_test_code.ipynb",
      "provenance": [],
      "collapsed_sections": []
    },
    "kernelspec": {
      "name": "python3",
      "display_name": "Python 3"
    }
  },
  "cells": [
    {
      "cell_type": "code",
      "metadata": {
        "id": "hJSRnoNnXC3V"
      },
      "source": [
        "from statistics import mean\n",
        "import numpy as np\n",
        "import pandas as pd\n",
        "import matplotlib.pyplot as plt\n",
        "import seaborn as sns\n",
        "import scipy.stats as stats"
      ],
      "execution_count": null,
      "outputs": []
    },
    {
      "cell_type": "code",
      "metadata": {
        "colab": {
          "base_uri": "https://localhost:8080/"
        },
        "id": "qGz5xfPorur1",
        "outputId": "74b5c339-7532-4810-bddb-3f952636f540"
      },
      "source": [
        "from google.colab import drive\n",
        "drive.mount('/content/drive')"
      ],
      "execution_count": null,
      "outputs": [
        {
          "output_type": "stream",
          "text": [
            "Mounted at /content/drive\n"
          ],
          "name": "stdout"
        }
      ]
    },
    {
      "cell_type": "code",
      "metadata": {
        "id": "JA0Z8VsajxwK"
      },
      "source": [
        "df_ventas = pd.read_csv('/content/drive/MyDrive/Ironhack/pruebas_hyp/ventas_enero_2020.csv')"
      ],
      "execution_count": null,
      "outputs": []
    },
    {
      "cell_type": "code",
      "metadata": {
        "colab": {
          "base_uri": "https://localhost:8080/",
          "height": 203
        },
        "id": "D08HLupjkCXS",
        "outputId": "58ad8bb2-d5ce-43da-8f1e-fe2734816e94"
      },
      "source": [
        "df_ventas.head()"
      ],
      "execution_count": null,
      "outputs": [
        {
          "output_type": "execute_result",
          "data": {
            "text/html": [
              "<div>\n",
              "<style scoped>\n",
              "    .dataframe tbody tr th:only-of-type {\n",
              "        vertical-align: middle;\n",
              "    }\n",
              "\n",
              "    .dataframe tbody tr th {\n",
              "        vertical-align: top;\n",
              "    }\n",
              "\n",
              "    .dataframe thead th {\n",
              "        text-align: right;\n",
              "    }\n",
              "</style>\n",
              "<table border=\"1\" class=\"dataframe\">\n",
              "  <thead>\n",
              "    <tr style=\"text-align: right;\">\n",
              "      <th></th>\n",
              "      <th>ip</th>\n",
              "      <th>compra</th>\n",
              "      <th>fecha</th>\n",
              "    </tr>\n",
              "  </thead>\n",
              "  <tbody>\n",
              "    <tr>\n",
              "      <th>0</th>\n",
              "      <td>0146.0104.0044.0034</td>\n",
              "      <td>0</td>\n",
              "      <td>2020-01-01</td>\n",
              "    </tr>\n",
              "    <tr>\n",
              "      <th>1</th>\n",
              "      <td>0166.0231.0189.0175</td>\n",
              "      <td>1</td>\n",
              "      <td>2020-01-01</td>\n",
              "    </tr>\n",
              "    <tr>\n",
              "      <th>2</th>\n",
              "      <td>0031.0086.0235.0176</td>\n",
              "      <td>0</td>\n",
              "      <td>2020-01-01</td>\n",
              "    </tr>\n",
              "    <tr>\n",
              "      <th>3</th>\n",
              "      <td>0128.0126.0101.0178</td>\n",
              "      <td>0</td>\n",
              "      <td>2020-01-01</td>\n",
              "    </tr>\n",
              "    <tr>\n",
              "      <th>4</th>\n",
              "      <td>0096.0176.0164.0068</td>\n",
              "      <td>0</td>\n",
              "      <td>2020-01-01</td>\n",
              "    </tr>\n",
              "  </tbody>\n",
              "</table>\n",
              "</div>"
            ],
            "text/plain": [
              "                    ip  compra       fecha\n",
              "0  0146.0104.0044.0034       0  2020-01-01\n",
              "1  0166.0231.0189.0175       1  2020-01-01\n",
              "2  0031.0086.0235.0176       0  2020-01-01\n",
              "3  0128.0126.0101.0178       0  2020-01-01\n",
              "4  0096.0176.0164.0068       0  2020-01-01"
            ]
          },
          "metadata": {
            "tags": []
          },
          "execution_count": 4
        }
      ]
    },
    {
      "cell_type": "code",
      "metadata": {
        "colab": {
          "base_uri": "https://localhost:8080/",
          "height": 203
        },
        "id": "ZrIRHwZ4kHTH",
        "outputId": "75a9cd0b-83f0-4398-acc4-b920ecdba02e"
      },
      "source": [
        "df_ventas.tail()"
      ],
      "execution_count": null,
      "outputs": [
        {
          "output_type": "execute_result",
          "data": {
            "text/html": [
              "<div>\n",
              "<style scoped>\n",
              "    .dataframe tbody tr th:only-of-type {\n",
              "        vertical-align: middle;\n",
              "    }\n",
              "\n",
              "    .dataframe tbody tr th {\n",
              "        vertical-align: top;\n",
              "    }\n",
              "\n",
              "    .dataframe thead th {\n",
              "        text-align: right;\n",
              "    }\n",
              "</style>\n",
              "<table border=\"1\" class=\"dataframe\">\n",
              "  <thead>\n",
              "    <tr style=\"text-align: right;\">\n",
              "      <th></th>\n",
              "      <th>ip</th>\n",
              "      <th>compra</th>\n",
              "      <th>fecha</th>\n",
              "    </tr>\n",
              "  </thead>\n",
              "  <tbody>\n",
              "    <tr>\n",
              "      <th>1495</th>\n",
              "      <td>0203.0217.0139.0057</td>\n",
              "      <td>1</td>\n",
              "      <td>2020-01-31</td>\n",
              "    </tr>\n",
              "    <tr>\n",
              "      <th>1496</th>\n",
              "      <td>0187.0069.0005.0041</td>\n",
              "      <td>0</td>\n",
              "      <td>2020-01-31</td>\n",
              "    </tr>\n",
              "    <tr>\n",
              "      <th>1497</th>\n",
              "      <td>0183.0227.0161.0014</td>\n",
              "      <td>0</td>\n",
              "      <td>2020-01-31</td>\n",
              "    </tr>\n",
              "    <tr>\n",
              "      <th>1498</th>\n",
              "      <td>0104.0051.0191.0088</td>\n",
              "      <td>0</td>\n",
              "      <td>2020-01-31</td>\n",
              "    </tr>\n",
              "    <tr>\n",
              "      <th>1499</th>\n",
              "      <td>0021.0128.0095.0043</td>\n",
              "      <td>0</td>\n",
              "      <td>2020-01-31</td>\n",
              "    </tr>\n",
              "  </tbody>\n",
              "</table>\n",
              "</div>"
            ],
            "text/plain": [
              "                       ip  compra       fecha\n",
              "1495  0203.0217.0139.0057       1  2020-01-31\n",
              "1496  0187.0069.0005.0041       0  2020-01-31\n",
              "1497  0183.0227.0161.0014       0  2020-01-31\n",
              "1498  0104.0051.0191.0088       0  2020-01-31\n",
              "1499  0021.0128.0095.0043       0  2020-01-31"
            ]
          },
          "metadata": {
            "tags": []
          },
          "execution_count": 5
        }
      ]
    },
    {
      "cell_type": "code",
      "metadata": {
        "colab": {
          "base_uri": "https://localhost:8080/"
        },
        "id": "A1_TPS_4kT7X",
        "outputId": "c0703eb6-6e82-403e-d6a0-c43c319c83d1"
      },
      "source": [
        "df_ventas.compra"
      ],
      "execution_count": null,
      "outputs": [
        {
          "output_type": "execute_result",
          "data": {
            "text/plain": [
              "0       0\n",
              "1       1\n",
              "2       0\n",
              "3       0\n",
              "4       0\n",
              "       ..\n",
              "1495    1\n",
              "1496    0\n",
              "1497    0\n",
              "1498    0\n",
              "1499    0\n",
              "Name: compra, Length: 1500, dtype: int64"
            ]
          },
          "metadata": {
            "tags": []
          },
          "execution_count": 6
        }
      ]
    },
    {
      "cell_type": "code",
      "metadata": {
        "colab": {
          "base_uri": "https://localhost:8080/"
        },
        "id": "08MgFrFjkiM2",
        "outputId": "6b907713-b56f-4ba9-a83f-34ec83430175"
      },
      "source": [
        "df_ventas.compra.mean()"
      ],
      "execution_count": null,
      "outputs": [
        {
          "output_type": "execute_result",
          "data": {
            "text/plain": [
              "0.2846666666666667"
            ]
          },
          "metadata": {
            "tags": []
          },
          "execution_count": 7
        }
      ]
    },
    {
      "cell_type": "code",
      "metadata": {
        "id": "cVT26eBcmGR7"
      },
      "source": [
        "from scipy.stats import binom"
      ],
      "execution_count": null,
      "outputs": []
    },
    {
      "cell_type": "code",
      "metadata": {
        "id": "BK9_xghalFRx"
      },
      "source": [
        "estimacionz_ventas = binom(100, df_ventas.compra.mean())"
      ],
      "execution_count": null,
      "outputs": []
    },
    {
      "cell_type": "code",
      "metadata": {
        "id": "-8SbEMmVllV2"
      },
      "source": [
        "y = [x for x in range(101)]"
      ],
      "execution_count": null,
      "outputs": []
    },
    {
      "cell_type": "code",
      "metadata": {
        "colab": {
          "base_uri": "https://localhost:8080/",
          "height": 282
        },
        "id": "3QWZIZPulol_",
        "outputId": "954ffca3-692a-4a68-820c-49c9b86cddf3"
      },
      "source": [
        "plt.scatter(y, estimacionz_ventas.pmf(y))"
      ],
      "execution_count": null,
      "outputs": [
        {
          "output_type": "execute_result",
          "data": {
            "text/plain": [
              "<matplotlib.collections.PathCollection at 0x7fb120550690>"
            ]
          },
          "metadata": {
            "tags": []
          },
          "execution_count": 27
        },
        {
          "output_type": "display_data",
          "data": {
            "image/png": "[encoded data removed]",
            "text/plain": [
              "<Figure size 432x288 with 1 Axes>"
            ]
          },
          "metadata": {
            "tags": [],
            "needs_background": "light"
          }
        }
      ]
    },
    {
      "cell_type": "code",
      "metadata": {
        "colab": {
          "base_uri": "https://localhost:8080/"
        },
        "id": "uzwwnwnVmcSj",
        "outputId": "f57b56d7-194f-479c-c8b1-c154dc4a3288"
      },
      "source": [
        "estimacionz_ventas.interval(0.99)"
      ],
      "execution_count": null,
      "outputs": [
        {
          "output_type": "execute_result",
          "data": {
            "text/plain": [
              "(17.0, 40.0)"
            ]
          },
          "metadata": {
            "tags": []
          },
          "execution_count": 29
        }
      ]
    },
    {
      "cell_type": "code",
      "metadata": {
        "id": "kHT6svqWnMOu"
      },
      "source": [
        "vinos = pd.read_csv('/content/drive/MyDrive/Ironhack/pruebas_hyp/winemag-data-130k-v2.csv')"
      ],
      "execution_count": null,
      "outputs": []
    },
    {
      "cell_type": "code",
      "metadata": {
        "colab": {
          "base_uri": "https://localhost:8080/",
          "height": 184
        },
        "id": "74ZaiZgfnbPq",
        "outputId": "c17fd7ae-f71f-4233-df17-63b7471a77ef"
      },
      "source": [
        "vinos.head(1)"
      ],
      "execution_count": null,
      "outputs": [
        {
          "output_type": "execute_result",
          "data": {
            "text/html": [
              "<div>\n",
              "<style scoped>\n",
              "    .dataframe tbody tr th:only-of-type {\n",
              "        vertical-align: middle;\n",
              "    }\n",
              "\n",
              "    .dataframe tbody tr th {\n",
              "        vertical-align: top;\n",
              "    }\n",
              "\n",
              "    .dataframe thead th {\n",
              "        text-align: right;\n",
              "    }\n",
              "</style>\n",
              "<table border=\"1\" class=\"dataframe\">\n",
              "  <thead>\n",
              "    <tr style=\"text-align: right;\">\n",
              "      <th></th>\n",
              "      <th>Unnamed: 0</th>\n",
              "      <th>country</th>\n",
              "      <th>description</th>\n",
              "      <th>designation</th>\n",
              "      <th>points</th>\n",
              "      <th>price</th>\n",
              "      <th>province</th>\n",
              "      <th>region_1</th>\n",
              "      <th>region_2</th>\n",
              "      <th>taster_name</th>\n",
              "      <th>taster_twitter_handle</th>\n",
              "      <th>title</th>\n",
              "      <th>variety</th>\n",
              "      <th>winery</th>\n",
              "    </tr>\n",
              "  </thead>\n",
              "  <tbody>\n",
              "    <tr>\n",
              "      <th>0</th>\n",
              "      <td>0</td>\n",
              "      <td>Italy</td>\n",
              "      <td>Aromas include tropical fruit, broom, brimston...</td>\n",
              "      <td>Vulkà Bianco</td>\n",
              "      <td>87</td>\n",
              "      <td>NaN</td>\n",
              "      <td>Sicily &amp; Sardinia</td>\n",
              "      <td>Etna</td>\n",
              "      <td>NaN</td>\n",
              "      <td>Kerin O’Keefe</td>\n",
              "      <td>@kerinokeefe</td>\n",
              "      <td>Nicosia 2013 Vulkà Bianco  (Etna)</td>\n",
              "      <td>White Blend</td>\n",
              "      <td>Nicosia</td>\n",
              "    </tr>\n",
              "  </tbody>\n",
              "</table>\n",
              "</div>"
            ],
            "text/plain": [
              "   Unnamed: 0 country  ...      variety   winery\n",
              "0           0   Italy  ...  White Blend  Nicosia\n",
              "\n",
              "[1 rows x 14 columns]"
            ]
          },
          "metadata": {
            "tags": []
          },
          "execution_count": 34
        }
      ]
    },
    {
      "cell_type": "code",
      "metadata": {
        "colab": {
          "base_uri": "https://localhost:8080/"
        },
        "id": "VqvpOe6LnzsU",
        "outputId": "2896267c-6b6b-4ff5-ad36-7ce2be9c947b"
      },
      "source": [
        "vinos.info()"
      ],
      "execution_count": null,
      "outputs": [
        {
          "output_type": "stream",
          "text": [
            "<class 'pandas.core.frame.DataFrame'>\n",
            "RangeIndex: 129971 entries, 0 to 129970\n",
            "Data columns (total 14 columns):\n",
            " #   Column                 Non-Null Count   Dtype  \n",
            "---  ------                 --------------   -----  \n",
            " 0   Unnamed: 0             129971 non-null  int64  \n",
            " 1   country                129908 non-null  object \n",
            " 2   description            129971 non-null  object \n",
            " 3   designation            92506 non-null   object \n",
            " 4   points                 129971 non-null  int64  \n",
            " 5   price                  120975 non-null  float64\n",
            " 6   province               129908 non-null  object \n",
            " 7   region_1               108724 non-null  object \n",
            " 8   region_2               50511 non-null   object \n",
            " 9   taster_name            103727 non-null  object \n",
            " 10  taster_twitter_handle  98758 non-null   object \n",
            " 11  title                  129971 non-null  object \n",
            " 12  variety                129970 non-null  object \n",
            " 13  winery                 129971 non-null  object \n",
            "dtypes: float64(1), int64(2), object(11)\n",
            "memory usage: 13.9+ MB\n"
          ],
          "name": "stdout"
        }
      ]
    },
    {
      "cell_type": "code",
      "metadata": {
        "id": "xb95MJZun5iN"
      },
      "source": [
        "vinos.drop('Unnamed: 0', axis=1, inplace=True)"
      ],
      "execution_count": null,
      "outputs": []
    },
    {
      "cell_type": "code",
      "metadata": {
        "colab": {
          "base_uri": "https://localhost:8080/",
          "height": 626
        },
        "id": "oOARTcpUoDTT",
        "outputId": "cd1537b8-ca63-4e65-afe5-5c89ac9f4d86"
      },
      "source": [
        "vinos.head(5)"
      ],
      "execution_count": null,
      "outputs": [
        {
          "output_type": "execute_result",
          "data": {
            "text/html": [
              "<div>\n",
              "<style scoped>\n",
              "    .dataframe tbody tr th:only-of-type {\n",
              "        vertical-align: middle;\n",
              "    }\n",
              "\n",
              "    .dataframe tbody tr th {\n",
              "        vertical-align: top;\n",
              "    }\n",
              "\n",
              "    .dataframe thead th {\n",
              "        text-align: right;\n",
              "    }\n",
              "</style>\n",
              "<table border=\"1\" class=\"dataframe\">\n",
              "  <thead>\n",
              "    <tr style=\"text-align: right;\">\n",
              "      <th></th>\n",
              "      <th>country</th>\n",
              "      <th>description</th>\n",
              "      <th>designation</th>\n",
              "      <th>points</th>\n",
              "      <th>price</th>\n",
              "      <th>province</th>\n",
              "      <th>region_1</th>\n",
              "      <th>region_2</th>\n",
              "      <th>taster_name</th>\n",
              "      <th>taster_twitter_handle</th>\n",
              "      <th>title</th>\n",
              "      <th>variety</th>\n",
              "      <th>winery</th>\n",
              "    </tr>\n",
              "  </thead>\n",
              "  <tbody>\n",
              "    <tr>\n",
              "      <th>0</th>\n",
              "      <td>Italy</td>\n",
              "      <td>Aromas include tropical fruit, broom, brimston...</td>\n",
              "      <td>Vulkà Bianco</td>\n",
              "      <td>87</td>\n",
              "      <td>NaN</td>\n",
              "      <td>Sicily &amp; Sardinia</td>\n",
              "      <td>Etna</td>\n",
              "      <td>NaN</td>\n",
              "      <td>Kerin O’Keefe</td>\n",
              "      <td>@kerinokeefe</td>\n",
              "      <td>Nicosia 2013 Vulkà Bianco  (Etna)</td>\n",
              "      <td>White Blend</td>\n",
              "      <td>Nicosia</td>\n",
              "    </tr>\n",
              "    <tr>\n",
              "      <th>1</th>\n",
              "      <td>Portugal</td>\n",
              "      <td>This is ripe and fruity, a wine that is smooth...</td>\n",
              "      <td>Avidagos</td>\n",
              "      <td>87</td>\n",
              "      <td>15.0</td>\n",
              "      <td>Douro</td>\n",
              "      <td>NaN</td>\n",
              "      <td>NaN</td>\n",
              "      <td>Roger Voss</td>\n",
              "      <td>@vossroger</td>\n",
              "      <td>Quinta dos Avidagos 2011 Avidagos Red (Douro)</td>\n",
              "      <td>Portuguese Red</td>\n",
              "      <td>Quinta dos Avidagos</td>\n",
              "    </tr>\n",
              "    <tr>\n",
              "      <th>2</th>\n",
              "      <td>US</td>\n",
              "      <td>Tart and snappy, the flavors of lime flesh and...</td>\n",
              "      <td>NaN</td>\n",
              "      <td>87</td>\n",
              "      <td>14.0</td>\n",
              "      <td>Oregon</td>\n",
              "      <td>Willamette Valley</td>\n",
              "      <td>Willamette Valley</td>\n",
              "      <td>Paul Gregutt</td>\n",
              "      <td>@paulgwine</td>\n",
              "      <td>Rainstorm 2013 Pinot Gris (Willamette Valley)</td>\n",
              "      <td>Pinot Gris</td>\n",
              "      <td>Rainstorm</td>\n",
              "    </tr>\n",
              "    <tr>\n",
              "      <th>3</th>\n",
              "      <td>US</td>\n",
              "      <td>Pineapple rind, lemon pith and orange blossom ...</td>\n",
              "      <td>Reserve Late Harvest</td>\n",
              "      <td>87</td>\n",
              "      <td>13.0</td>\n",
              "      <td>Michigan</td>\n",
              "      <td>Lake Michigan Shore</td>\n",
              "      <td>NaN</td>\n",
              "      <td>Alexander Peartree</td>\n",
              "      <td>NaN</td>\n",
              "      <td>St. Julian 2013 Reserve Late Harvest Riesling ...</td>\n",
              "      <td>Riesling</td>\n",
              "      <td>St. Julian</td>\n",
              "    </tr>\n",
              "    <tr>\n",
              "      <th>4</th>\n",
              "      <td>US</td>\n",
              "      <td>Much like the regular bottling from 2012, this...</td>\n",
              "      <td>Vintner's Reserve Wild Child Block</td>\n",
              "      <td>87</td>\n",
              "      <td>65.0</td>\n",
              "      <td>Oregon</td>\n",
              "      <td>Willamette Valley</td>\n",
              "      <td>Willamette Valley</td>\n",
              "      <td>Paul Gregutt</td>\n",
              "      <td>@paulgwine</td>\n",
              "      <td>Sweet Cheeks 2012 Vintner's Reserve Wild Child...</td>\n",
              "      <td>Pinot Noir</td>\n",
              "      <td>Sweet Cheeks</td>\n",
              "    </tr>\n",
              "  </tbody>\n",
              "</table>\n",
              "</div>"
            ],
            "text/plain": [
              "    country  ...               winery\n",
              "0     Italy  ...              Nicosia\n",
              "1  Portugal  ...  Quinta dos Avidagos\n",
              "2        US  ...            Rainstorm\n",
              "3        US  ...           St. Julian\n",
              "4        US  ...         Sweet Cheeks\n",
              "\n",
              "[5 rows x 13 columns]"
            ]
          },
          "metadata": {
            "tags": []
          },
          "execution_count": 42
        }
      ]
    },
    {
      "cell_type": "code",
      "metadata": {
        "colab": {
          "base_uri": "https://localhost:8080/",
          "height": 295
        },
        "id": "bji0vEH2oQbC",
        "outputId": "e99c2e11-1138-466c-de55-230ac26ed582"
      },
      "source": [
        "vinos.describe()"
      ],
      "execution_count": null,
      "outputs": [
        {
          "output_type": "execute_result",
          "data": {
            "text/html": [
              "<div>\n",
              "<style scoped>\n",
              "    .dataframe tbody tr th:only-of-type {\n",
              "        vertical-align: middle;\n",
              "    }\n",
              "\n",
              "    .dataframe tbody tr th {\n",
              "        vertical-align: top;\n",
              "    }\n",
              "\n",
              "    .dataframe thead th {\n",
              "        text-align: right;\n",
              "    }\n",
              "</style>\n",
              "<table border=\"1\" class=\"dataframe\">\n",
              "  <thead>\n",
              "    <tr style=\"text-align: right;\">\n",
              "      <th></th>\n",
              "      <th>points</th>\n",
              "      <th>price</th>\n",
              "    </tr>\n",
              "  </thead>\n",
              "  <tbody>\n",
              "    <tr>\n",
              "      <th>count</th>\n",
              "      <td>129971.000000</td>\n",
              "      <td>120975.000000</td>\n",
              "    </tr>\n",
              "    <tr>\n",
              "      <th>mean</th>\n",
              "      <td>88.447138</td>\n",
              "      <td>35.363389</td>\n",
              "    </tr>\n",
              "    <tr>\n",
              "      <th>std</th>\n",
              "      <td>3.039730</td>\n",
              "      <td>41.022218</td>\n",
              "    </tr>\n",
              "    <tr>\n",
              "      <th>min</th>\n",
              "      <td>80.000000</td>\n",
              "      <td>4.000000</td>\n",
              "    </tr>\n",
              "    <tr>\n",
              "      <th>25%</th>\n",
              "      <td>86.000000</td>\n",
              "      <td>17.000000</td>\n",
              "    </tr>\n",
              "    <tr>\n",
              "      <th>50%</th>\n",
              "      <td>88.000000</td>\n",
              "      <td>25.000000</td>\n",
              "    </tr>\n",
              "    <tr>\n",
              "      <th>75%</th>\n",
              "      <td>91.000000</td>\n",
              "      <td>42.000000</td>\n",
              "    </tr>\n",
              "    <tr>\n",
              "      <th>max</th>\n",
              "      <td>100.000000</td>\n",
              "      <td>3300.000000</td>\n",
              "    </tr>\n",
              "  </tbody>\n",
              "</table>\n",
              "</div>"
            ],
            "text/plain": [
              "              points          price\n",
              "count  129971.000000  120975.000000\n",
              "mean       88.447138      35.363389\n",
              "std         3.039730      41.022218\n",
              "min        80.000000       4.000000\n",
              "25%        86.000000      17.000000\n",
              "50%        88.000000      25.000000\n",
              "75%        91.000000      42.000000\n",
              "max       100.000000    3300.000000"
            ]
          },
          "metadata": {
            "tags": []
          },
          "execution_count": 41
        }
      ]
    },
    {
      "cell_type": "markdown",
      "metadata": {
        "id": "5CuPWGb4tmxY"
      },
      "source": [
        "### Prueba Z\n",
        "\n",
        "Es la manera estadística de probar nuestra hipótesis si:\n",
        "* Conocemos la varianza de la población o\n",
        "* No conocemos la varianza, pero nuestra muestra es $n>=30$ \\\\\n",
        "\n",
        "Tenemos que \\\\\n",
        "\n",
        "$Z =\\frac{\\bar x - \\mu}{\\frac {\\sigma}{\\sqrt n}}$ \\\\\n",
        "donde \\\\\n",
        "$\n",
        "\\bar x $ = Media de la muestra \\\\\n",
        "$\\mu $= media de la población \\\\\n",
        "$\\sigma $ = Desviación estándar de la población \\\\\n",
        "$n $= Tamaño de la muestra\n",
        "\n",
        "Ejemplo:\n",
        "\n",
        "En este dataset de reviews de vinos, vamos a asumir que los datos  de puntaje de los vinos están distribuidos de forma\n",
        "normal.\n",
        "--->Points: The number of points WineEnthusiast rated the wine on a scale of 1-100<---\n",
        "\n",
        "Entonces definimos nuestra media poblacional ($\\mu$) y desviación estándar ($\\sigma$). Estos serán nuestros\n",
        "parámetros. Estamos asumiendo aquí que los datos que tenemos son los datos de la población, sin muestreo."
      ]
    },
    {
      "cell_type": "code",
      "metadata": {
        "colab": {
          "base_uri": "https://localhost:8080/",
          "height": 282
        },
        "id": "Vmy93EjDo9jz",
        "outputId": "a57c827d-436a-4c16-e5d9-f5af34084346"
      },
      "source": [
        "vinos.points.hist()"
      ],
      "execution_count": null,
      "outputs": [
        {
          "output_type": "execute_result",
          "data": {
            "text/plain": [
              "<matplotlib.axes._subplots.AxesSubplot at 0x7fb11cee2f50>"
            ]
          },
          "metadata": {
            "tags": []
          },
          "execution_count": 44
        },
        {
          "output_type": "display_data",
          "data": {
            "image/png": "[encoded data removed]",
            "text/plain": [
              "<Figure size 432x288 with 1 Axes>"
            ]
          },
          "metadata": {
            "tags": [],
            "needs_background": "light"
          }
        }
      ]
    },
    {
      "cell_type": "code",
      "metadata": {
        "id": "M_U2rNKvpzMJ"
      },
      "source": [
        "points = vinos.points\n",
        "mu = vinos.points.mean()\n",
        "sigma = vinos.points.std()"
      ],
      "execution_count": null,
      "outputs": []
    },
    {
      "cell_type": "code",
      "metadata": {
        "colab": {
          "base_uri": "https://localhost:8080/"
        },
        "id": "9zZxB5y4qF5z",
        "outputId": "5e25963c-6b29-41f8-dfb1-b404240bb523"
      },
      "source": [
        "print(f'mu: {mu}, sigma: {sigma}')"
      ],
      "execution_count": null,
      "outputs": [
        {
          "output_type": "stream",
          "text": [
            "mu: 88.44713820775404, sigma: 3.0397302029162336\n"
          ],
          "name": "stdout"
        }
      ]
    },
    {
      "cell_type": "markdown",
      "metadata": {
        "id": "jLpMJiDmgUkr"
      },
      "source": [
        "#Ejemplo\n",
        "Suponiendo que tengo una muestra de n=10 puntajes de vinos con una media muestral de $\\bar{x}$ = 90.2.\n",
        "Esta muestra viene de la misma población que las evaluaciones que tengo aquí?\n",
        "\n",
        "Para probar, vamos a utilizar una prueba z de 1 muestra. Primero, declaramos hipótesis nula e hipótesis alternativa:\n",
        "\n",
        "$H_0$: La muestra es de la misma población de enólogos -> $\\bar{x} = \\mu$\n",
        "\n",
        "$H_A$: La muestra no viene de la misma población de enólogos -> $\\bar{x} \\neq \\mu$\n",
        "\n",
        "Enseguida, específicamos qué nivel de significancia vamos a utilizar. En estadística, un nivel de signficancia común\n",
        "es el de $\\alpha \\leq 0.05$. Vamos a comprobar utilizando un $\\alpha = 0.05$\n",
        "\n",
        "Luego, vamos a nuestra [tabla z] para buscar el valor crítico de z que corresponde con este nivel de significancia.\n",
        "Nuestra prueba tendrá 2 colas porque no nos importa si la media muestral es mayor o menor que la media poblacional.\n",
        "Solamente estamos probando si son iguales o diferentes.\n",
        "\n",
        "[tabla z]: https://www.sjsu.edu/faculty/gerstman/StatPrimer/z-two-tails.pdf\n",
        "\n"
      ]
    },
    {
      "cell_type": "markdown",
      "metadata": {
        "id": "VRxHalYPsfdv"
      },
      "source": [
        "$Z =\\frac{\\bar x - \\mu}{\\frac {\\sigma}{\\sqrt n}}$ \\\\\n",
        "donde \\\\\n",
        "$\n",
        "\\bar x $ = Media de la muestra \\\\\n",
        "$\\mu $= media de la población \\\\\n",
        "$\\sigma $ = Desviación estándar de la población \\\\\n",
        "$n $= Tamaño de la muestra"
      ]
    },
    {
      "cell_type": "code",
      "metadata": {
        "colab": {
          "base_uri": "https://localhost:8080/"
        },
        "id": "iMzWjnq9LYRp",
        "outputId": "00e1c227-7670-4da1-9eab-f509377a99c1"
      },
      "source": [
        "z_test = 1.65\n",
        "x_bar = 90.2\n",
        "print(mu)\n",
        "print(sigma)\n",
        "n = 10"
      ],
      "execution_count": null,
      "outputs": [
        {
          "output_type": "stream",
          "text": [
            "88.44713820775404\n",
            "3.0397302029162336\n"
          ],
          "name": "stdout"
        }
      ]
    },
    {
      "cell_type": "code",
      "metadata": {
        "id": "g3j00rJSstFS"
      },
      "source": [
        "standard_error = sigma/np.sqrt(n)\n",
        "z_stat = (x_bar - mu)/standard_error"
      ],
      "execution_count": null,
      "outputs": []
    },
    {
      "cell_type": "code",
      "metadata": {
        "colab": {
          "base_uri": "https://localhost:8080/"
        },
        "id": "tSCErc1bs__9",
        "outputId": "6fa51442-1466-453e-f3d0-105c0a6c7b72"
      },
      "source": [
        "if z_stat < z_test:\n",
        "  print(f'Valor de z:{z_stat}, menor que {z_test}\\nNo podemos rechazar la hipotesis')\n",
        "else:\n",
        "  print(f'Valor de z:{z_stat}, mayor que {z_test}\\n Podemos rechazar la hipotesis con confianza del 90%')"
      ],
      "execution_count": null,
      "outputs": [
        {
          "output_type": "stream",
          "text": [
            "Valor de z:1.823528838731901, mayor que 1.65\n",
            " Podemos rechazar la hipotesis con confianza del 90%\n"
          ],
          "name": "stdout"
        }
      ]
    },
    {
      "cell_type": "code",
      "metadata": {
        "colab": {
          "base_uri": "https://localhost:8080/"
        },
        "id": "kqp66hrktBo4",
        "outputId": "8284fa88-cada-41f3-c867-8a35a60f4e42"
      },
      "source": [
        "z_test"
      ],
      "execution_count": null,
      "outputs": [
        {
          "output_type": "execute_result",
          "data": {
            "text/plain": [
              "1.65"
            ]
          },
          "metadata": {
            "tags": []
          },
          "execution_count": 61
        }
      ]
    },
    {
      "cell_type": "code",
      "metadata": {
        "colab": {
          "base_uri": "https://localhost:8080/"
        },
        "id": "wSz6tIeOs6hp",
        "outputId": "6d0c7eb4-b520-4593-d005-c687dfbd0213"
      },
      "source": [
        "z_stat"
      ],
      "execution_count": null,
      "outputs": [
        {
          "output_type": "execute_result",
          "data": {
            "text/plain": [
              "1.823528838731901"
            ]
          },
          "metadata": {
            "tags": []
          },
          "execution_count": 62
        }
      ]
    },
    {
      "cell_type": "markdown",
      "metadata": {
        "id": "X_GxbyJsgZzB"
      },
      "source": [
        "Calculamos el valor de z para nuestra media muestral comparada con la media poblacional dividiendo la diferencia\n",
        "entre las dos medias entre la desviación estándar de la muestra, que es el error estándar: $\\frac{\\sigma}{\\sqrt{n}}$.\n",
        "\n",
        "Si este estadístico es menor que nuestro valor crítico de z, entonces no rechazamos la hipótesis nula; de\n",
        "lo contrario, rechazamos la hipótesis nula en favor de la alternativa."
      ]
    },
    {
      "cell_type": "code",
      "metadata": {
        "id": "_J-YmeR1Le4l"
      },
      "source": [
        ""
      ],
      "execution_count": null,
      "outputs": []
    },
    {
      "cell_type": "markdown",
      "metadata": {
        "id": "IU8rL_YHg0Li"
      },
      "source": [
        "### Prueba T\n",
        "\n",
        "En el ejercicio anterior, asumimos que conocemos la media y desviación estándar poblacional, entonces estamos\n",
        "comparando nuestra muestra con esta población. Sin embargo, durante la mayoría de las veces no vamos a conocer estos\n",
        "datos.\n",
        "\n",
        "Nos permite medir nuestra hipótesis cuando:\n",
        "* No conocemos la varianza de la población\n",
        "* Nuestra muestra es pequeña, n < 30 \n",
        "\n",
        "$t$ = $\n",
        "\\frac {\\bar x - \\mu}{\\frac {s}{\\sqrt n}}\n",
        "$ \\\\\n",
        "donde \\\\\n",
        "$\n",
        "\\bar x $ = Media de la muestra \\\\\n",
        "$\\mu $= media de la población \\\\\n",
        "$s $ = Desviación estándar de la muestra \\\\\n",
        "$n $= Tamaño de la muestra\n",
        "\n",
        "\n",
        "\n",
        "![alt text](https://andyjconnelly.files.wordpress.com/2017/05/distributions1.png 'Ejemplo Normal vs T-Student')\n",
        "\n",
        "Entonces, si no conocemos los parámetros de nuestra población, pero sabemos que la distribución de nuestra muestra se\n",
        " asemeja a la normal (simétrica con tendencia a la media), lo más probable es que tengamos una distribución T de\n",
        " Student. En esta distribución, cuanto mayor la muestra, más similar a la normal será.\n",
        "\n",
        " La prueba T es calculada de forma semejante a la prueba z, pero está basada en esta distribución y por lo tanto\n",
        " tiene valores de referencia distintos."
      ]
    },
    {
      "cell_type": "markdown",
      "metadata": {
        "id": "NiTmnE3lg4vT"
      },
      "source": [
        "### Prueba T de 1 Muestra\n",
        "\n",
        "Supongamos que tengo una muestra y quiero comparar con un valor específico. En nuestro ejemplo, vamos a suponer que\n",
        "yo sé que la evaluación promedio de los vinos en Francia es de 88, y quiero saber si los vinos nuevos (\"Nouveau\") tiene\n",
        "una media de evaluación semejante a la población general. Voy a probar lo mismo con los vinos que están designados\n",
        "como \"Prestige\"\n",
        "\n",
        "En este caso, usamos una Prueba T de 1 sola muestra, ya que estamos comparando el valor de esta media con un valor de\n",
        " referencia (benchmark).\n",
        "\n",
        "Nuestras hipótesis:\n",
        "\n",
        "$H_0$: $\\bar{x} - \\mu = 0$ - es decir, no hay diferencia entre la media muestral y $\\mu$.\n",
        "\n",
        "$H_A$: $\\bar{x} - \\mu \\neq 0$ - prueba de dos colas\n",
        "\n",
        "$\\alpha = 0.05$\n",
        "\n",
        "Aquí veo en mi [tabla T]\n",
        "\n",
        "[tabla T]: https://www.sjsu.edu/faculty/gerstman/StatPrimer/t-table.pdf\n"
      ]
    },
    {
      "cell_type": "markdown",
      "metadata": {
        "id": "HRlzYKi0D0C9"
      },
      "source": [
        "---"
      ]
    },
    {
      "cell_type": "code",
      "metadata": {
        "id": "838auZyoLqpX"
      },
      "source": [
        "frances = vinos[vinos.country == \"France\"].points\n",
        "fr_n = vinos[(vinos.country == \"France\")&(vinos.designation == 'Nouveau')].points"
      ],
      "execution_count": null,
      "outputs": []
    },
    {
      "cell_type": "code",
      "metadata": {
        "colab": {
          "base_uri": "https://localhost:8080/",
          "height": 383
        },
        "id": "H1MR3hsUyfdS",
        "outputId": "a86e7e03-49c7-4e6f-b0af-866419a2a54e"
      },
      "source": [
        "plt.figure()\n",
        "sns.distplot(frances, hist=True, color='b')\n",
        "sns.distplot(fr_n, hist=True, color='r')"
      ],
      "execution_count": null,
      "outputs": [
        {
          "output_type": "stream",
          "text": [
            "/usr/local/lib/python3.7/dist-packages/seaborn/distributions.py:2557: FutureWarning: `distplot` is a deprecated function and will be removed in a future version. Please adapt your code to use either `displot` (a figure-level function with similar flexibility) or `histplot` (an axes-level function for histograms).\n",
            "  warnings.warn(msg, FutureWarning)\n",
            "/usr/local/lib/python3.7/dist-packages/seaborn/distributions.py:2557: FutureWarning: `distplot` is a deprecated function and will be removed in a future version. Please adapt your code to use either `displot` (a figure-level function with similar flexibility) or `histplot` (an axes-level function for histograms).\n",
            "  warnings.warn(msg, FutureWarning)\n"
          ],
          "name": "stderr"
        },
        {
          "output_type": "execute_result",
          "data": {
            "text/plain": [
              "<matplotlib.axes._subplots.AxesSubplot at 0x7fb11ccdc750>"
            ]
          },
          "metadata": {
            "tags": []
          },
          "execution_count": 76
        },
        {
          "output_type": "display_data",
          "data": {
            "image/png": "[encoded data removed]",
            "text/plain": [
              "<Figure size 432x288 with 1 Axes>"
            ]
          },
          "metadata": {
            "tags": [],
            "needs_background": "light"
          }
        }
      ]
    },
    {
      "cell_type": "code",
      "metadata": {
        "colab": {
          "base_uri": "https://localhost:8080/"
        },
        "id": "r-LLMvPWza75",
        "outputId": "49550c69-9f4c-4cbe-c545-388991dbfad3"
      },
      "source": [
        "stats.ttest_1samp(fr_n, frances.mean())"
      ],
      "execution_count": null,
      "outputs": [
        {
          "output_type": "execute_result",
          "data": {
            "text/plain": [
              "Ttest_1sampResult(statistic=-19.801986102576723, pvalue=6.082659615924452e-21)"
            ]
          },
          "metadata": {
            "tags": []
          },
          "execution_count": 78
        }
      ]
    },
    {
      "cell_type": "code",
      "metadata": {
        "colab": {
          "base_uri": "https://localhost:8080/"
        },
        "id": "_s2MQv5E1Cnt",
        "outputId": "9cbff190-3660-4c2c-8ff8-b1aa02e3bf97"
      },
      "source": [
        "fr_n.mean()"
      ],
      "execution_count": null,
      "outputs": [
        {
          "output_type": "execute_result",
          "data": {
            "text/plain": [
              "85.32432432432432"
            ]
          },
          "metadata": {
            "tags": []
          },
          "execution_count": 80
        }
      ]
    },
    {
      "cell_type": "code",
      "metadata": {
        "colab": {
          "base_uri": "https://localhost:8080/"
        },
        "id": "dMBXCyMF01Vi",
        "outputId": "0346145d-de83-4130-99fe-a60d885b8901"
      },
      "source": [
        "frances.mean()"
      ],
      "execution_count": null,
      "outputs": [
        {
          "output_type": "execute_result",
          "data": {
            "text/plain": [
              "88.84510931064138"
            ]
          },
          "metadata": {
            "tags": []
          },
          "execution_count": 79
        }
      ]
    },
    {
      "cell_type": "code",
      "metadata": {
        "colab": {
          "base_uri": "https://localhost:8080/"
        },
        "id": "PRJez3my1VGN",
        "outputId": "145f2574-1c05-4a75-dab8-07dc98471cf8"
      },
      "source": [
        "stats.ttest_1samp(fr_n, [frances.mean(),90,84,85])"
      ],
      "execution_count": null,
      "outputs": [
        {
          "output_type": "execute_result",
          "data": {
            "text/plain": [
              "Ttest_1sampResult(statistic=array([-19.8019861 , -26.29744932,   7.4484105 ,   1.82410053]), pvalue=array([6.08265962e-21, 4.27612910e-25, 8.54882059e-09, 7.64465206e-02]))"
            ]
          },
          "metadata": {
            "tags": []
          },
          "execution_count": 83
        }
      ]
    },
    {
      "cell_type": "code",
      "metadata": {
        "id": "KwOVTvSg1x8_"
      },
      "source": [
        ".000764465206"
      ],
      "execution_count": null,
      "outputs": []
    },
    {
      "cell_type": "code",
      "metadata": {
        "id": "-twkTZl-1_1a"
      },
      "source": [
        ""
      ],
      "execution_count": null,
      "outputs": []
    },
    {
      "cell_type": "markdown",
      "metadata": {
        "id": "0f0j9qAgqQQJ"
      },
      "source": [
        "# Two Sample Hypothesis Tests with Scipy"
      ]
    },
    {
      "cell_type": "markdown",
      "metadata": {
        "id": "AeHDoXhCD86F"
      },
      "source": [
        "# Matched Pairs\n",
        "\n",
        "Significa que los datos en las dos muestras son dependientes. (las dos muestras son dependientes, contienen al mismo grupo de personas)\n",
        "\n"
      ]
    },
    {
      "cell_type": "code",
      "metadata": {
        "id": "mjdGOsuyL9yS"
      },
      "source": [
        "pen = pd.read_csv('/content/drive/MyDrive/Ironhack/pruebas_hyp/pinguinos.csv')"
      ],
      "execution_count": null,
      "outputs": []
    },
    {
      "cell_type": "code",
      "metadata": {
        "colab": {
          "base_uri": "https://localhost:8080/",
          "height": 203
        },
        "id": "WDUzedUs28Lj",
        "outputId": "7ed7ca53-f308-4542-d445-9d564d9149b6"
      },
      "source": [
        "pen.head()"
      ],
      "execution_count": null,
      "outputs": [
        {
          "output_type": "execute_result",
          "data": {
            "text/html": [
              "<div>\n",
              "<style scoped>\n",
              "    .dataframe tbody tr th:only-of-type {\n",
              "        vertical-align: middle;\n",
              "    }\n",
              "\n",
              "    .dataframe tbody tr th {\n",
              "        vertical-align: top;\n",
              "    }\n",
              "\n",
              "    .dataframe thead th {\n",
              "        text-align: right;\n",
              "    }\n",
              "</style>\n",
              "<table border=\"1\" class=\"dataframe\">\n",
              "  <thead>\n",
              "    <tr style=\"text-align: right;\">\n",
              "      <th></th>\n",
              "      <th>huevo_chico</th>\n",
              "      <th>huevo_grande</th>\n",
              "    </tr>\n",
              "  </thead>\n",
              "  <tbody>\n",
              "    <tr>\n",
              "      <th>0</th>\n",
              "      <td>79</td>\n",
              "      <td>133</td>\n",
              "    </tr>\n",
              "    <tr>\n",
              "      <th>1</th>\n",
              "      <td>93</td>\n",
              "      <td>143</td>\n",
              "    </tr>\n",
              "    <tr>\n",
              "      <th>2</th>\n",
              "      <td>100</td>\n",
              "      <td>164</td>\n",
              "    </tr>\n",
              "    <tr>\n",
              "      <th>3</th>\n",
              "      <td>105</td>\n",
              "      <td>171</td>\n",
              "    </tr>\n",
              "    <tr>\n",
              "      <th>4</th>\n",
              "      <td>101</td>\n",
              "      <td>165</td>\n",
              "    </tr>\n",
              "  </tbody>\n",
              "</table>\n",
              "</div>"
            ],
            "text/plain": [
              "   huevo_chico  huevo_grande\n",
              "0           79           133\n",
              "1           93           143\n",
              "2          100           164\n",
              "3          105           171\n",
              "4          101           165"
            ]
          },
          "metadata": {
            "tags": []
          },
          "execution_count": 85
        }
      ]
    },
    {
      "cell_type": "code",
      "metadata": {
        "id": "iu_lCLB-3I-S"
      },
      "source": [
        "from scipy.stats import ttest_rel, ttest_1samp"
      ],
      "execution_count": null,
      "outputs": []
    },
    {
      "cell_type": "code",
      "metadata": {
        "colab": {
          "base_uri": "https://localhost:8080/"
        },
        "id": "9-tt8hHv3ud_",
        "outputId": "2d440901-aa19-4004-9092-999640994552"
      },
      "source": [
        "ttest_rel(pen.huevo_chico, pen.huevo_grande)"
      ],
      "execution_count": null,
      "outputs": [
        {
          "output_type": "execute_result",
          "data": {
            "text/plain": [
              "Ttest_relResult(statistic=-39.6385073836747, pvalue=2.4963107834499585e-12)"
            ]
          },
          "metadata": {
            "tags": []
          },
          "execution_count": 87
        }
      ]
    },
    {
      "cell_type": "code",
      "metadata": {
        "colab": {
          "base_uri": "https://localhost:8080/"
        },
        "id": "8RKQml7R4T-M",
        "outputId": "82e5af52-07f3-4788-ad49-046f1141e01c"
      },
      "source": [
        "ttest_1samp(pen.huevo_chico-pen.huevo_grande, 0)"
      ],
      "execution_count": null,
      "outputs": [
        {
          "output_type": "execute_result",
          "data": {
            "text/plain": [
              "Ttest_1sampResult(statistic=-39.6385073836747, pvalue=2.4963107834499585e-12)"
            ]
          },
          "metadata": {
            "tags": []
          },
          "execution_count": 88
        }
      ]
    },
    {
      "cell_type": "markdown",
      "metadata": {
        "id": "yFx4cT0FEkUv"
      },
      "source": [
        "---\n",
        "# Independent Samples\n",
        "\n",
        "---\n",
        "\n",
        "\n",
        "\n",
        "**Independent Samples**\n",
        "\n",
        "Consideramos aquellos casos  en los que tenemos dos o más ejemplos que no hacen match entre ellos. Por ejemplo A/B test en páginas web dado que un usuario ve una interfaz diferente a los otros. \n",
        "\n",
        "Se deben cumplir ciertos estatutos:\n",
        "\n",
        "\n",
        "1.   Independencia de los datos: Que un dato no afecte al otro\n",
        "2.   Las muestras fueron tomadas aleatoriamente de una población que se distribuye normalmente\n",
        "\n",
        "Podemos tener dos casos:\n",
        "\n",
        "\n",
        "1.   Varianzas iguales \n",
        "2.   Varianzas diferentes\n",
        "\n",
        "Nuesta hipótesis aquí son:\n",
        "\n",
        "$\n",
        "H_0 = \\mu_1 = \\mu_2 \\\\\n",
        "H_1 = \\mu_1 \\neq \\mu_2\n",
        "$\n"
      ]
    },
    {
      "cell_type": "code",
      "metadata": {
        "id": "WpVJtahZKtxt"
      },
      "source": [
        "from scipy.stats import ttest_ind"
      ],
      "execution_count": null,
      "outputs": []
    },
    {
      "cell_type": "code",
      "metadata": {
        "id": "PmEA_M-t5Brh"
      },
      "source": [
        "df_medi = pd.read_csv(\"/content/drive/MyDrive/Ironhack/pruebas_hyp/medicamentos.csv\")"
      ],
      "execution_count": null,
      "outputs": []
    },
    {
      "cell_type": "code",
      "metadata": {
        "id": "JQZcpNaSMP6w",
        "colab": {
          "base_uri": "https://localhost:8080/",
          "height": 203
        },
        "outputId": "078628c1-27aa-429e-cabb-70616a66ee9d"
      },
      "source": [
        "df_medi.head()"
      ],
      "execution_count": null,
      "outputs": [
        {
          "output_type": "execute_result",
          "data": {
            "text/html": [
              "<div>\n",
              "<style scoped>\n",
              "    .dataframe tbody tr th:only-of-type {\n",
              "        vertical-align: middle;\n",
              "    }\n",
              "\n",
              "    .dataframe tbody tr th {\n",
              "        vertical-align: top;\n",
              "    }\n",
              "\n",
              "    .dataframe thead th {\n",
              "        text-align: right;\n",
              "    }\n",
              "</style>\n",
              "<table border=\"1\" class=\"dataframe\">\n",
              "  <thead>\n",
              "    <tr style=\"text-align: right;\">\n",
              "      <th></th>\n",
              "      <th>Sexo</th>\n",
              "      <th>Trat</th>\n",
              "      <th>Puntaje</th>\n",
              "    </tr>\n",
              "  </thead>\n",
              "  <tbody>\n",
              "    <tr>\n",
              "      <th>0</th>\n",
              "      <td>Hombre</td>\n",
              "      <td>Control</td>\n",
              "      <td>10.155054</td>\n",
              "    </tr>\n",
              "    <tr>\n",
              "      <th>1</th>\n",
              "      <td>Hombre</td>\n",
              "      <td>Control</td>\n",
              "      <td>11.194200</td>\n",
              "    </tr>\n",
              "    <tr>\n",
              "      <th>2</th>\n",
              "      <td>Hombre</td>\n",
              "      <td>Control</td>\n",
              "      <td>11.759109</td>\n",
              "    </tr>\n",
              "    <tr>\n",
              "      <th>3</th>\n",
              "      <td>Hombre</td>\n",
              "      <td>Control</td>\n",
              "      <td>9.358012</td>\n",
              "    </tr>\n",
              "    <tr>\n",
              "      <th>4</th>\n",
              "      <td>Hombre</td>\n",
              "      <td>Control</td>\n",
              "      <td>11.300387</td>\n",
              "    </tr>\n",
              "  </tbody>\n",
              "</table>\n",
              "</div>"
            ],
            "text/plain": [
              "     Sexo     Trat    Puntaje\n",
              "0  Hombre  Control  10.155054\n",
              "1  Hombre  Control  11.194200\n",
              "2  Hombre  Control  11.759109\n",
              "3  Hombre  Control   9.358012\n",
              "4  Hombre  Control  11.300387"
            ]
          },
          "metadata": {
            "tags": []
          },
          "execution_count": 5
        }
      ]
    },
    {
      "cell_type": "code",
      "metadata": {
        "colab": {
          "base_uri": "https://localhost:8080/"
        },
        "id": "H_qdN_jvJChu",
        "outputId": "228b579c-6b7b-4ac0-9d21-35c74c486da1"
      },
      "source": [
        "df_medi.Trat.unique()"
      ],
      "execution_count": null,
      "outputs": [
        {
          "output_type": "execute_result",
          "data": {
            "text/plain": [
              "array(['Control', 'Trat1', 'Trat2'], dtype=object)"
            ]
          },
          "metadata": {
            "tags": []
          },
          "execution_count": 8
        }
      ]
    },
    {
      "cell_type": "code",
      "metadata": {
        "colab": {
          "base_uri": "https://localhost:8080/",
          "height": 172
        },
        "id": "JixDzp_cJKyC",
        "outputId": "527b18b2-4ebb-4bac-825e-3e5c384a1285"
      },
      "source": [
        "df_medi.pivot_table(values = 'Puntaje', index='Trat', columns='Sexo')"
      ],
      "execution_count": null,
      "outputs": [
        {
          "output_type": "execute_result",
          "data": {
            "text/html": [
              "<div>\n",
              "<style scoped>\n",
              "    .dataframe tbody tr th:only-of-type {\n",
              "        vertical-align: middle;\n",
              "    }\n",
              "\n",
              "    .dataframe tbody tr th {\n",
              "        vertical-align: top;\n",
              "    }\n",
              "\n",
              "    .dataframe thead th {\n",
              "        text-align: right;\n",
              "    }\n",
              "</style>\n",
              "<table border=\"1\" class=\"dataframe\">\n",
              "  <thead>\n",
              "    <tr style=\"text-align: right;\">\n",
              "      <th>Sexo</th>\n",
              "      <th>Hombre</th>\n",
              "      <th>Mujer</th>\n",
              "    </tr>\n",
              "    <tr>\n",
              "      <th>Trat</th>\n",
              "      <th></th>\n",
              "      <th></th>\n",
              "    </tr>\n",
              "  </thead>\n",
              "  <tbody>\n",
              "    <tr>\n",
              "      <th>Control</th>\n",
              "      <td>10.824535</td>\n",
              "      <td>11.201002</td>\n",
              "    </tr>\n",
              "    <tr>\n",
              "      <th>Trat1</th>\n",
              "      <td>6.596051</td>\n",
              "      <td>5.140778</td>\n",
              "    </tr>\n",
              "    <tr>\n",
              "      <th>Trat2</th>\n",
              "      <td>7.688968</td>\n",
              "      <td>7.920856</td>\n",
              "    </tr>\n",
              "  </tbody>\n",
              "</table>\n",
              "</div>"
            ],
            "text/plain": [
              "Sexo        Hombre      Mujer\n",
              "Trat                         \n",
              "Control  10.824535  11.201002\n",
              "Trat1     6.596051   5.140778\n",
              "Trat2     7.688968   7.920856"
            ]
          },
          "metadata": {
            "tags": []
          },
          "execution_count": 9
        }
      ]
    },
    {
      "cell_type": "code",
      "metadata": {
        "id": "j8yUhSfnJ-e1"
      },
      "source": [
        "import seaborn as sns"
      ],
      "execution_count": null,
      "outputs": []
    },
    {
      "cell_type": "code",
      "metadata": {
        "colab": {
          "base_uri": "https://localhost:8080/",
          "height": 296
        },
        "id": "kbKSlBjKJtsl",
        "outputId": "ae496113-93bc-4859-d68d-3bf8143bdd55"
      },
      "source": [
        "sns.boxplot(x='Trat', y='Puntaje', hue='Sexo', data=df_medi)"
      ],
      "execution_count": null,
      "outputs": [
        {
          "output_type": "execute_result",
          "data": {
            "text/plain": [
              "<matplotlib.axes._subplots.AxesSubplot at 0x7fd186ea7150>"
            ]
          },
          "metadata": {
            "tags": []
          },
          "execution_count": 11
        },
        {
          "output_type": "display_data",
          "data": {
            "image/png": "[encoded data removed]",
            "text/plain": [
              "<Figure size 432x288 with 1 Axes>"
            ]
          },
          "metadata": {
            "tags": [],
            "needs_background": "light"
          }
        }
      ]
    },
    {
      "cell_type": "code",
      "metadata": {
        "colab": {
          "base_uri": "https://localhost:8080/",
          "height": 296
        },
        "id": "6YveEOMRKLq_",
        "outputId": "94d0145c-1ede-4f10-ecad-23da3586b904"
      },
      "source": [
        "sns.boxplot(x='Trat', y='Puntaje', data=df_medi)"
      ],
      "execution_count": null,
      "outputs": [
        {
          "output_type": "execute_result",
          "data": {
            "text/plain": [
              "<matplotlib.axes._subplots.AxesSubplot at 0x7fd18590a390>"
            ]
          },
          "metadata": {
            "tags": []
          },
          "execution_count": 12
        },
        {
          "output_type": "display_data",
          "data": {
            "image/png": "[encoded data removed]",
            "text/plain": [
              "<Figure size 432x288 with 1 Axes>"
            ]
          },
          "metadata": {
            "tags": [],
            "needs_background": "light"
          }
        }
      ]
    },
    {
      "cell_type": "code",
      "metadata": {
        "colab": {
          "base_uri": "https://localhost:8080/",
          "height": 296
        },
        "id": "WTwLWMdAKRKI",
        "outputId": "e41018af-11ef-4695-fbba-c98a4f8cf91b"
      },
      "source": [
        "sns.boxplot(x='Sexo', y='Puntaje', data=df_medi)"
      ],
      "execution_count": null,
      "outputs": [
        {
          "output_type": "execute_result",
          "data": {
            "text/plain": [
              "<matplotlib.axes._subplots.AxesSubplot at 0x7fd185464b50>"
            ]
          },
          "metadata": {
            "tags": []
          },
          "execution_count": 13
        },
        {
          "output_type": "display_data",
          "data": {
            "image/png": "[encoded data removed]",
            "text/plain": [
              "<Figure size 432x288 with 1 Axes>"
            ]
          },
          "metadata": {
            "tags": [],
            "needs_background": "light"
          }
        }
      ]
    },
    {
      "cell_type": "code",
      "metadata": {
        "id": "rM0GfyF-LMZL"
      },
      "source": [
        "a = df_medi[df_medi.Trat == 'Control'].Puntaje\n",
        "b = df_medi[df_medi.Trat == 'Trat1'].Puntaje\n",
        "c = df_medi[df_medi.Trat == 'Trat2'].Puntaje"
      ],
      "execution_count": null,
      "outputs": []
    },
    {
      "cell_type": "code",
      "metadata": {
        "colab": {
          "base_uri": "https://localhost:8080/"
        },
        "id": "lT7rGDOBKiKt",
        "outputId": "3018bb84-22ee-4c56-8759-bd6867428f15"
      },
      "source": [
        "ttest_ind(c, a, equal_var = True)"
      ],
      "execution_count": null,
      "outputs": [
        {
          "output_type": "execute_result",
          "data": {
            "text/plain": [
              "Ttest_indResult(statistic=-21.460179196778043, pvalue=1.8271430334190028e-34)"
            ]
          },
          "metadata": {
            "tags": []
          },
          "execution_count": 19
        }
      ]
    },
    {
      "cell_type": "code",
      "metadata": {
        "colab": {
          "base_uri": "https://localhost:8080/"
        },
        "id": "AVYuw4ZpNpfx",
        "outputId": "ac529381-1e45-435e-8aaf-a463fd31cab3"
      },
      "source": [
        "ttest_ind(c, a, equal_var = False)"
      ],
      "execution_count": null,
      "outputs": [
        {
          "output_type": "execute_result",
          "data": {
            "text/plain": [
              "Ttest_indResult(statistic=-21.460179196778043, pvalue=1.872769882605201e-33)"
            ]
          },
          "metadata": {
            "tags": []
          },
          "execution_count": 22
        }
      ]
    },
    {
      "cell_type": "code",
      "metadata": {
        "colab": {
          "base_uri": "https://localhost:8080/"
        },
        "id": "jk6dhotIMNL5",
        "outputId": "b34256c2-0b89-4f7e-c2d2-08d29e2cc5f4"
      },
      "source": [
        "ttest_ind(c, b, equal_var = False)"
      ],
      "execution_count": null,
      "outputs": [
        {
          "output_type": "execute_result",
          "data": {
            "text/plain": [
              "Ttest_indResult(statistic=11.01669065089112, pvalue=1.6805785065497578e-16)"
            ]
          },
          "metadata": {
            "tags": []
          },
          "execution_count": 20
        }
      ]
    },
    {
      "cell_type": "code",
      "metadata": {
        "id": "x1ctvRMPM61V"
      },
      "source": [
        ""
      ],
      "execution_count": null,
      "outputs": []
    }
  ]
}