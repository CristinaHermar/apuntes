{
 "cells": [
  {
   "cell_type": "markdown",
   "metadata": {},
   "source": [
    "# List Comprehensions"
   ]
  },
  {
   "cell_type": "markdown",
   "metadata": {},
   "source": [
    "**Unpacking**"
   ]
  },
  {
   "cell_type": "code",
   "execution_count": 4,
   "metadata": {},
   "outputs": [
    {
     "name": "stdout",
     "output_type": "stream",
     "text": [
      "esto es a: 1\n",
      "esto es b: 2\n"
     ]
    }
   ],
   "source": [
    "a,b = 1,2\n",
    "\n",
    "print (\"esto es a:\", a)\n",
    "print (\"esto es b:\", b)"
   ]
  },
  {
   "cell_type": "code",
   "execution_count": 6,
   "metadata": {},
   "outputs": [
    {
     "data": {
      "text/plain": [
       "'hola'"
      ]
     },
     "execution_count": 6,
     "metadata": {},
     "output_type": "execute_result"
    }
   ],
   "source": [
    "a,b =['hola',2]\n",
    " \n",
    "a\n",
    "\n",
    "#tengo variable a y b y desempaca cada elemento y lo asigna a las variables"
   ]
  },
  {
   "cell_type": "code",
   "execution_count": 7,
   "metadata": {},
   "outputs": [
    {
     "name": "stdout",
     "output_type": "stream",
     "text": [
      "(1, 2)\n"
     ]
    }
   ],
   "source": [
    "s =1, 2\n",
    "print (s)\n",
    "\n",
    "#si lo ponemos así lo pone como tupla"
   ]
  },
  {
   "cell_type": "code",
   "execution_count": 12,
   "metadata": {},
   "outputs": [
    {
     "name": "stdout",
     "output_type": "stream",
     "text": [
      "uno\n",
      "dos\n",
      "tres\n"
     ]
    }
   ],
   "source": [
    "num_dict = {'uno':1, 'dos':1, 'tres':1}\n",
    "#a,b,c = num_dict.items()\n",
    "a,b,c = num_dict.values()\n",
    "a,b,c = num_dict.keys()\n",
    "\n",
    "print(a)\n",
    "print(b)\n",
    "print(c)"
   ]
  },
  {
   "cell_type": "code",
   "execution_count": 17,
   "metadata": {},
   "outputs": [
    {
     "name": "stdout",
     "output_type": "stream",
     "text": [
      "(10, 'cdmx') tabasco\n",
      "(11, 'edomex') tabasco\n",
      "(12, 'tabasco') tabasco\n"
     ]
    }
   ],
   "source": [
    "edos= ['cdmx', 'edomex','tabasco']\n",
    "\n",
    "#for indice, estado in enumerate (edos):\n",
    " #   print (indice, estado)\n",
    "\n",
    "for indice in enumerate (edos, start=10):\n",
    "    print (indice, estado)"
   ]
  },
  {
   "cell_type": "code",
   "execution_count": 28,
   "metadata": {},
   "outputs": [
    {
     "name": "stdout",
     "output_type": "stream",
     "text": [
      "[('cdmx', 5)]\n",
      "[('edomex', 10)]\n",
      "[('tabasco', 15)]\n"
     ]
    }
   ],
   "source": [
    "edos= ['cdmx', 'edomex','tabasco']\n",
    "poblacion = [5,10,15]\n",
    "\n",
    "for edo, pob  in zip (edos, poblacion):\n",
    "    edo_pob= [(edo,pob)]\n",
    "    print (edo_pob)\n",
    "#en este caso aunque imprime todo, sólo guarda lo último"
   ]
  },
  {
   "cell_type": "code",
   "execution_count": null,
   "metadata": {},
   "outputs": [],
   "source": []
  }
 ],
 "metadata": {
  "kernelspec": {
   "display_name": "Python 3",
   "language": "python",
   "name": "python3"
  },
  "language_info": {
   "codemirror_mode": {
    "name": "ipython",
    "version": 3
   },
   "file_extension": ".py",
   "mimetype": "text/x-python",
   "name": "python",
   "nbconvert_exporter": "python",
   "pygments_lexer": "ipython3",
   "version": "3.8.5"
  }
 },
 "nbformat": 4,
 "nbformat_minor": 4
}
